{
    "metadata": {
        "kernelspec": {
            "name": "SQL",
            "display_name": "SQL",
            "language": "sql"
        },
        "language_info": {
            "name": "sql",
            "version": ""
        }
    },
    "nbformat_minor": 2,
    "nbformat": 4,
    "cells": [
        {
            "cell_type": "markdown",
            "source": "# ETL - Extract, Transform, Load\r\nОбщий термин для всех процессов миграции данных из одного источника в другой (экспорт, импорт, конвертация данных; парсинг файлов, web-scrapping и пр.)\r\n\r\nТипичные этапы ETL процесса:\r\n- извлечение из источника данных\r\n- очистка (приведение разнородных данных к единому формату, удаление лишнего и пр)\r\n- обогащение \r\n- трансформирование \r\n- загрузка (интеграция в единую модель)\r\n\r\nСложные ETL процессы разбиваются на цепочку более простых.\r\n",
            "metadata": {}
        },
        {
            "cell_type": "markdown",
            "source": "Рассмотрим частный случай импорта данных из внешнего файла. Например, из Excel или csv.\r\n",
            "metadata": {}
        },
        {
            "cell_type": "markdown",
            "source": "### Образец файла с исходными данными:\r\n<img src=\"https://github.com/timoti1/T-SQL/blob/master/SQL/img/etl/source.png?raw=1\" />",
            "metadata": {}
        },
        {
            "cell_type": "markdown",
            "source": "### Модель данных в целевой БД:\r\n<img src=\"https://github.com/timoti1/T-SQL/blob/master/SQL/img/SwimmingСompetitionsDB.png?raw=1\" />",
            "metadata": {}
        },
        {
            "cell_type": "markdown",
            "source": "Проведем первичный _data profiling_, определив:\r\n- метрики данных (список атрибутов, их типы, длину строковых полей, null/not null, потенциальный ключ, степень соответствия целевым атрибутам и пр)\r\n- аномалии (грязные или отсутствующие данные, множественные значения и пр)\r\n- возможный способ осуществления парсинга ",
            "metadata": {}
        },
        {
            "cell_type": "markdown",
            "source": "### Требования к Staging-ETL (v1.0):\r\n<img src=\"https://github.com/timoti1/T-SQL/blob/master/SQL/img/etl/requrements - stg_Competitions.png?raw=1\" />",
            "metadata": {}
        },
        {
            "cell_type": "markdown",
            "source": "В атрибутах все еще присутствуют множественнные значения, мы не будем готовы загрузить такие данные в целевые таблицы (например, Фамилия+Имя, Клуб+Город, Группа+Длина дистанции+Стиль плавания).\r\n\r\nНужно детальное сравнение с целевыми атрибутами и уточнение требований.",
            "metadata": {}
        },
        {
            "cell_type": "markdown",
            "source": "### Уточненные требования:\r\n<img src=\"https://github.com/timoti1/T-SQL/blob/master/SQL/img/etl/requrements_upd - stg_Competitions.png?raw=1\" />",
            "metadata": {}
        },
        {
            "cell_type": "markdown",
            "source": "Создадим стейджинговую таблицу для загрузки исходных исходных данных в сыром виде (фактически, мы будем создавать ELT а не ETL код):",
            "metadata": {}
        },
        {
            "cell_type": "code",
            "source": "use tempdb\r\ngo\r\n\r\ndrop table if exists dbo.stg_competitions\r\ngo\r\n\r\ncreate table dbo.stg_competitions\r\n(\r\n\tid int\t\t\t not null identity,\r\n\r\n\tF1 nvarchar(255) null,\r\n\tF2 nvarchar(255) null,\r\n\tF3 nvarchar(255) null,\r\n\tF4 nvarchar(255) null,\r\n\tF5 nvarchar(255) null,\r\n\tF6 nvarchar(255) null,\r\n\tF7 nvarchar(255) null,\r\n\tF8 nvarchar(255) null,\r\n\tF9 nvarchar(255) null,\r\n\r\n\tconstraint PK_stg_Competitions primary key\r\n\t(\r\n\t\tid\r\n\t)\r\n) \r\ngo",
            "metadata": {},
            "outputs": [],
            "execution_count": 0
        },
        {
            "cell_type": "markdown",
            "source": "Будем полагать исходные данные находятся в текстовом файле формата csv.<br/>\r\nЕсли, к примеру, изначально данные находятся в Excel, конверсию в csv можно сделать программно или средствами самого Excel.\r\n\r\nГрузим данные в staging-таблицу:",
            "metadata": {}
        },
        {
            "cell_type": "code",
            "source": "truncate table dbo.stg_Competitions\r\n\r\nbulk insert dbo.stg_competitions \r\nfrom 'c:/temp/итоговый протокол.csv'\r\n   with (\r\n      format = 'csv',\r\n\t  codepage = 65001,\t \r\n\t  formatfile = 'c:/temp/stg_competitions.fmt',\r\n\t  --firstrow = 1,\r\n      fieldterminator = ',' \r\n)\r\ngo\r\n\r\nselect top 5 * from dbo.stg_Competitions",
            "metadata": {},
            "outputs": [
                {
                    "output_type": "display_data",
                    "data": {
                        "text/html": "Commands completed successfully."
                    },
                    "metadata": {}
                },
                {
                    "output_type": "display_data",
                    "data": {
                        "text/html": "Total execution time: 00:00:00.0429511"
                    },
                    "metadata": {}
                },
                {
                    "output_type": "display_data",
                    "data": {
                        "text/html": "(1470 rows affected)"
                    },
                    "metadata": {}
                },
                {
                    "output_type": "display_data",
                    "data": {
                        "text/html": "Total execution time: 00:00:00.0366606"
                    },
                    "metadata": {}
                },
                {
                    "output_type": "display_data",
                    "data": {
                        "text/html": "(5 rows affected)"
                    },
                    "metadata": {}
                },
                {
                    "output_type": "display_data",
                    "data": {
                        "text/html": "Total execution time: 00:00:00.0711107"
                    },
                    "metadata": {}
                },
                {
                    "output_type": "execute_result",
                    "execution_count": 1,
                    "data": {
                        "application/vnd.dataresource+json": {
                            "schema": {
                                "fields": [
                                    {
                                        "name": "id"
                                    },
                                    {
                                        "name": "F1"
                                    },
                                    {
                                        "name": "F2"
                                    },
                                    {
                                        "name": "F3"
                                    },
                                    {
                                        "name": "F4"
                                    },
                                    {
                                        "name": "F5"
                                    },
                                    {
                                        "name": "F6"
                                    },
                                    {
                                        "name": "F7"
                                    },
                                    {
                                        "name": "F8"
                                    },
                                    {
                                        "name": "F9"
                                    }
                                ]
                            },
                            "data": [
                                {
                                    "0": "1",
                                    "1": "NULL",
                                    "2": "ПРОТОКОЛ  ",
                                    "3": "NULL",
                                    "4": "NULL",
                                    "5": "NULL",
                                    "6": "NULL",
                                    "7": "NULL",
                                    "8": "NULL",
                                    "9": "NULL"
                                },
                                {
                                    "0": "2",
                                    "1": "NULL",
                                    "2": "Международного турнира по плаванию \"Весенние старты\", ",
                                    "3": "NULL",
                                    "4": "NULL",
                                    "5": "NULL",
                                    "6": "NULL",
                                    "7": "NULL",
                                    "8": "NULL",
                                    "9": "NULL"
                                },
                                {
                                    "0": "3",
                                    "1": "NULL",
                                    "2": "по программе, \"Кубок \"Надежды-2019\"",
                                    "3": "NULL",
                                    "4": "NULL",
                                    "5": "NULL",
                                    "6": "NULL",
                                    "7": "NULL",
                                    "8": "NULL",
                                    "9": "NULL"
                                },
                                {
                                    "0": "4",
                                    "1": "NULL",
                                    "2": "г.Жлобин, Беларусь,22-24.04.2019, бассейн 50м.",
                                    "3": "NULL",
                                    "4": "NULL",
                                    "5": "NULL",
                                    "6": "NULL",
                                    "7": "NULL",
                                    "8": "NULL",
                                    "9": "NULL"
                                },
                                {
                                    "0": "5",
                                    "1": "NULL",
                                    "2": "1 день - 22.04.2019",
                                    "3": "NULL",
                                    "4": "NULL",
                                    "5": "NULL",
                                    "6": "NULL",
                                    "7": "NULL",
                                    "8": "NULL",
                                    "9": "NULL"
                                }
                            ]
                        },
                        "text/html": "<table><tr><th>id</th><th>F1</th><th>F2</th><th>F3</th><th>F4</th><th>F5</th><th>F6</th><th>F7</th><th>F8</th><th>F9</th></tr><tr><td>1</td><td>NULL</td><td>ПРОТОКОЛ  </td><td>NULL</td><td>NULL</td><td>NULL</td><td>NULL</td><td>NULL</td><td>NULL</td><td>NULL</td></tr><tr><td>2</td><td>NULL</td><td>Международного турнира по плаванию &quot;Весенние старты&quot;, </td><td>NULL</td><td>NULL</td><td>NULL</td><td>NULL</td><td>NULL</td><td>NULL</td><td>NULL</td></tr><tr><td>3</td><td>NULL</td><td>по программе, &quot;Кубок &quot;Надежды-2019&quot;</td><td>NULL</td><td>NULL</td><td>NULL</td><td>NULL</td><td>NULL</td><td>NULL</td><td>NULL</td></tr><tr><td>4</td><td>NULL</td><td>г.Жлобин, Беларусь,22-24.04.2019, бассейн 50м.</td><td>NULL</td><td>NULL</td><td>NULL</td><td>NULL</td><td>NULL</td><td>NULL</td><td>NULL</td></tr><tr><td>5</td><td>NULL</td><td>1 день - 22.04.2019</td><td>NULL</td><td>NULL</td><td>NULL</td><td>NULL</td><td>NULL</td><td>NULL</td><td>NULL</td></tr></table>"
                    },
                    "metadata": {}
                }
            ],
            "execution_count": 1
        },
        {
            "cell_type": "markdown",
            "source": "Альтернативно, ту же задачу можно было сделать с помощью мастера импорта данных или с помощью \r\n- ```openrowset```:\r\n\r\n```sql\r\n        select *\r\n        from openrowset(\r\n            bulk 'c:/temp/итоговый протокол.csv', \r\n            formatfile = 'c:/temp/stg_competitions.fmt', \r\n            format='csv', \r\n            codepage='65001'\r\n        ) a  \r\n```\r\n\r\n- bcp:\r\n```bash\r\n        bcp testdb.dbo.stg_Competitions format nul -f ./stg_Competitions.fmt -S 127.0.0.1 -U SA -P \"password\"\r\n\r\n        bcp stg_Competitions in /home/gavrilenkotimofey/Соревнования.csv -f ./stg_Competitions.fmt -S localhost -U sa -P \"password\" -d testdb \r\n```",
            "metadata": {}
        },
        {
            "cell_type": "markdown",
            "source": "### Попробуем решить задачу одним запросом ``` SELECT ```, разбив его на ряд CTE-модулей",
            "metadata": {}
        },
        {
            "cell_type": "code",
            "source": "--Шаг 1. Попытка разбить данные на группы (одна группа на одну соревновательную дисциплину): \r\n\r\n;with cte_list_of_group_discipline\r\nas\r\n(\r\n    select c.id, \r\n         c.F2 as group_discipline\r\n    from dbo.stg_Competitions c   \r\n    join dbo.stg_Competitions c2 on c.id+2 = c2.id\r\n    where c2.F1 = '1' \r\n)\r\nselect * from cte_list_of_group_discipline",
            "metadata": {},
            "outputs": [
                {
                    "output_type": "display_data",
                    "data": {
                        "text/html": "Commands completed successfully."
                    },
                    "metadata": {}
                },
                {
                    "output_type": "display_data",
                    "data": {
                        "text/html": "Total execution time: 00:00:00.0017419"
                    },
                    "metadata": {}
                },
                {
                    "output_type": "display_data",
                    "data": {
                        "text/html": "(30 rows affected)"
                    },
                    "metadata": {}
                },
                {
                    "output_type": "display_data",
                    "data": {
                        "text/html": "Total execution time: 00:00:00.0119894"
                    },
                    "metadata": {}
                },
                {
                    "output_type": "execute_result",
                    "execution_count": 4,
                    "data": {
                        "application/vnd.dataresource+json": {
                            "schema": {
                                "fields": [
                                    {
                                        "name": "id"
                                    },
                                    {
                                        "name": "group_discipline"
                                    }
                                ]
                            },
                            "data": [
                                {
                                    "0": "6",
                                    "1": "Девочки 2007г.р. и моложе - 50 баттерфляй"
                                },
                                {
                                    "0": "60",
                                    "1": "Мальчики 2007г.р. и моложе - 50 баттерфляй"
                                },
                                {
                                    "0": "150",
                                    "1": "Девочки 2006 г.р. - 100 на спине"
                                },
                                {
                                    "0": "187",
                                    "1": "Мальчики 2006 г.р. - 100 на спине"
                                },
                                {
                                    "0": "251",
                                    "1": "Девушки 2004-2005 г.р. - 400 вольный стиль"
                                },
                                {
                                    "0": "275",
                                    "1": "Юноши 2004-2005 г.р. - 400 вольный стиль"
                                },
                                {
                                    "0": "345",
                                    "1": "Девочки 2007г.р. и моложе -50 вольный стиль"
                                },
                                {
                                    "0": "400",
                                    "1": "Мальчики 2007г.р. и моложе -50 вольный стиль"
                                },
                                {
                                    "0": "492",
                                    "1": "Девочки 2006г.р. - 100 вольный стиль"
                                },
                                {
                                    "0": "531",
                                    "1": "Мальчики 2006г.р. - 100 вольный стиль"
                                },
                                {
                                    "0": "598",
                                    "1": "Девочки 2007г.р. и моложе - 50 брасс"
                                },
                                {
                                    "0": "652",
                                    "1": "Мальчики 2007г.р. и моложе- 50 брасс"
                                },
                                {
                                    "0": "744",
                                    "1": "Девочки 2006 г.р. - 100 брасс"
                                },
                                {
                                    "0": "782",
                                    "1": "Мальчики 2006 г.р. - 100 брасс"
                                },
                                {
                                    "0": "848",
                                    "1": "Девушки 2004-2005 г.р. - 100 баттерфляй"
                                },
                                {
                                    "0": "856",
                                    "1": "Юноши 2004-2005 г.р. 100 баттерфляй"
                                },
                                {
                                    "0": "868",
                                    "1": "Девушки 2004-2005 г.р. - 100 на спине"
                                },
                                {
                                    "0": "876",
                                    "1": "Юноши 2004-2005 г.р. - 100 на спине"
                                },
                                {
                                    "0": "891",
                                    "1": "Девушки 2004-2005 г.р - 100 брасс"
                                },
                                {
                                    "0": "899",
                                    "1": "Юноши 2004-2005 г.р. - 100 брасс "
                                },
                                {
                                    "0": "916",
                                    "1": "Девушки 2004-2005 г.р. - 100 вольный стиль"
                                },
                                {
                                    "0": "927",
                                    "1": "Девушки 2004-2005 г.р. - 100 вольный стиль"
                                },
                                {
                                    "0": "965",
                                    "1": "Девочки 2007г.р. и моложе - 50 на спине"
                                },
                                {
                                    "0": "1018",
                                    "1": "Будник Виктория"
                                },
                                {
                                    "0": "1111",
                                    "1": "Девочки 2007г.р. и моложе - 100 комплексное плавание"
                                },
                                {
                                    "0": "1168",
                                    "1": "Мальчики 2007г.р. и моложе - 100 комплексное плавание"
                                },
                                {
                                    "0": "1269",
                                    "1": "Девочки 2006г.р. - 200 комплексное плавание"
                                },
                                {
                                    "0": "1305",
                                    "1": "Мальчики 2006г.р. - 200 комплексное плавание"
                                },
                                {
                                    "0": "1374",
                                    "1": "Девушки 2004-2005г.р. - 200 комплексное плавание"
                                },
                                {
                                    "0": "1398",
                                    "1": "Юноши 2004-2005г.р. - 200 комплексное плавание"
                                }
                            ]
                        },
                        "text/html": "<table><tr><th>id</th><th>group_discipline</th></tr><tr><td>6</td><td>Девочки 2007г.р. и моложе - 50 баттерфляй</td></tr><tr><td>60</td><td>Мальчики 2007г.р. и моложе - 50 баттерфляй</td></tr><tr><td>150</td><td>Девочки 2006 г.р. - 100 на спине</td></tr><tr><td>187</td><td>Мальчики 2006 г.р. - 100 на спине</td></tr><tr><td>251</td><td>Девушки 2004-2005 г.р. - 400 вольный стиль</td></tr><tr><td>275</td><td>Юноши 2004-2005 г.р. - 400 вольный стиль</td></tr><tr><td>345</td><td>Девочки 2007г.р. и моложе -50 вольный стиль</td></tr><tr><td>400</td><td>Мальчики 2007г.р. и моложе -50 вольный стиль</td></tr><tr><td>492</td><td>Девочки 2006г.р. - 100 вольный стиль</td></tr><tr><td>531</td><td>Мальчики 2006г.р. - 100 вольный стиль</td></tr><tr><td>598</td><td>Девочки 2007г.р. и моложе - 50 брасс</td></tr><tr><td>652</td><td>Мальчики 2007г.р. и моложе- 50 брасс</td></tr><tr><td>744</td><td>Девочки 2006 г.р. - 100 брасс</td></tr><tr><td>782</td><td>Мальчики 2006 г.р. - 100 брасс</td></tr><tr><td>848</td><td>Девушки 2004-2005 г.р. - 100 баттерфляй</td></tr><tr><td>856</td><td>Юноши 2004-2005 г.р. 100 баттерфляй</td></tr><tr><td>868</td><td>Девушки 2004-2005 г.р. - 100 на спине</td></tr><tr><td>876</td><td>Юноши 2004-2005 г.р. - 100 на спине</td></tr><tr><td>891</td><td>Девушки 2004-2005 г.р - 100 брасс</td></tr><tr><td>899</td><td>Юноши 2004-2005 г.р. - 100 брасс </td></tr><tr><td>916</td><td>Девушки 2004-2005 г.р. - 100 вольный стиль</td></tr><tr><td>927</td><td>Девушки 2004-2005 г.р. - 100 вольный стиль</td></tr><tr><td>965</td><td>Девочки 2007г.р. и моложе - 50 на спине</td></tr><tr><td>1018</td><td>Будник Виктория</td></tr><tr><td>1111</td><td>Девочки 2007г.р. и моложе - 100 комплексное плавание</td></tr><tr><td>1168</td><td>Мальчики 2007г.р. и моложе - 100 комплексное плавание</td></tr><tr><td>1269</td><td>Девочки 2006г.р. - 200 комплексное плавание</td></tr><tr><td>1305</td><td>Мальчики 2006г.р. - 200 комплексное плавание</td></tr><tr><td>1374</td><td>Девушки 2004-2005г.р. - 200 комплексное плавание</td></tr><tr><td>1398</td><td>Юноши 2004-2005г.р. - 200 комплексное плавание</td></tr></table>"
                    },
                    "metadata": {}
                }
            ],
            "execution_count": 4
        },
        {
            "cell_type": "markdown",
            "source": "Внимательно проанализировав полученный результат, мы находим признак грязных данных (Будник Виктория в названии группы).\r\nПосле выяснения причины, оказывается, в исходных данных нарушен общий порядок Название группы-Строка заголовка-Данные.\r\n\r\nНужна доработка кода выше под эту особенность.",
            "metadata": {}
        },
        {
            "cell_type": "markdown",
            "source": "### Предварительный анализ \"сырых\" данных\r\n<img src=\"https://github.com/timoti1/T-SQL/blob/master/SQL/img/etl/source-analysis.png?raw=1\" />",
            "metadata": {}
        },
        {
            "cell_type": "markdown",
            "source": "Определение соревновательных групп:",
            "metadata": {}
        },
        {
            "cell_type": "code",
            "source": ";with cte_list_of_group_discipline\r\nas\r\n(\r\n    select c.id, \r\n         c.F2 as group_discipline\r\n    from dbo.stg_Competitions c\r\n    join dbo.stg_Competitions c1 on c.id+1 = c1.id\r\n    join dbo.stg_Competitions c2 on c.id+2 = c2.id\r\n    where (c1.F1 = '1' and /*(charindex('-', c.F2)<>0))*/ c.F3 is null) or \r\n          (c2.F1 = '1' and /*(charindex('-', c.F2)<>0))*/ c.F3 is null)\r\n)\r\nselect * from cte_list_of_group_discipline",
            "metadata": {},
            "outputs": [
                {
                    "output_type": "display_data",
                    "data": {
                        "text/html": "(30 rows affected)"
                    },
                    "metadata": {}
                },
                {
                    "output_type": "display_data",
                    "data": {
                        "text/html": "Total execution time: 00:00:00.0191846"
                    },
                    "metadata": {}
                },
                {
                    "output_type": "execute_result",
                    "metadata": {},
                    "execution_count": 5,
                    "data": {
                        "application/vnd.dataresource+json": {
                            "schema": {
                                "fields": [
                                    {
                                        "name": "id"
                                    },
                                    {
                                        "name": "group_discipline"
                                    }
                                ]
                            },
                            "data": [
                                {
                                    "0": "6",
                                    "1": "Девочки 2007г.р. и моложе - 50 баттерфляй"
                                },
                                {
                                    "0": "60",
                                    "1": "Мальчики 2007г.р. и моложе - 50 баттерфляй"
                                },
                                {
                                    "0": "150",
                                    "1": "Девочки 2006 г.р. - 100 на спине"
                                },
                                {
                                    "0": "187",
                                    "1": "Мальчики 2006 г.р. - 100 на спине"
                                },
                                {
                                    "0": "251",
                                    "1": "Девушки 2004-2005 г.р. - 400 вольный стиль"
                                },
                                {
                                    "0": "275",
                                    "1": "Юноши 2004-2005 г.р. - 400 вольный стиль"
                                },
                                {
                                    "0": "345",
                                    "1": "Девочки 2007г.р. и моложе -50 вольный стиль"
                                },
                                {
                                    "0": "400",
                                    "1": "Мальчики 2007г.р. и моложе -50 вольный стиль"
                                },
                                {
                                    "0": "492",
                                    "1": "Девочки 2006г.р. - 100 вольный стиль"
                                },
                                {
                                    "0": "531",
                                    "1": "Мальчики 2006г.р. - 100 вольный стиль"
                                },
                                {
                                    "0": "598",
                                    "1": "Девочки 2007г.р. и моложе - 50 брасс"
                                },
                                {
                                    "0": "652",
                                    "1": "Мальчики 2007г.р. и моложе- 50 брасс"
                                },
                                {
                                    "0": "699",
                                    "1": "Девушки 2004-2005г.р. - 200 комплексное плавание"
                                },
                                {
                                    "0": "723",
                                    "1": "Юноши 2004-2005г.р. - 200 комплексное плавание"
                                },
                                {
                                    "0": "865",
                                    "1": "Девочки 2006 г.р. - 100 брасс"
                                },
                                {
                                    "0": "903",
                                    "1": "Мальчики 2006 г.р. - 100 брасс"
                                },
                                {
                                    "0": "969",
                                    "1": "Девушки 2004-2005 г.р. - 100 баттерфляй"
                                },
                                {
                                    "0": "977",
                                    "1": "Юноши 2004-2005 г.р. 100 баттерфляй"
                                },
                                {
                                    "0": "989",
                                    "1": "Девушки 2004-2005 г.р. - 100 на спине"
                                },
                                {
                                    "0": "997",
                                    "1": "Юноши 2004-2005 г.р. - 100 на спине"
                                },
                                {
                                    "0": "1012",
                                    "1": "Девушки 2004-2005 г.р - 100 брасс"
                                },
                                {
                                    "0": "1020",
                                    "1": "Юноши 2004-2005 г.р. - 100 брасс "
                                },
                                {
                                    "0": "1037",
                                    "1": "Девушки 2004-2005 г.р. - 100 вольный стиль"
                                },
                                {
                                    "0": "1048",
                                    "1": "Девушки 2004-2005 г.р. - 100 вольный стиль"
                                },
                                {
                                    "0": "1086",
                                    "1": "Девочки 2007г.р. и моложе - 50 на спине"
                                },
                                {
                                    "0": "1140",
                                    "1": "Мальчики 2007г.р. и моложе - 50 на спине"
                                },
                                {
                                    "0": "1232",
                                    "1": "Девочки 2007г.р. и моложе - 100 комплексное плавание"
                                },
                                {
                                    "0": "1289",
                                    "1": "Мальчики 2007г.р. и моложе - 100 комплексное плавание"
                                },
                                {
                                    "0": "1390",
                                    "1": "Девочки 2006г.р. - 200 комплексное плавание"
                                },
                                {
                                    "0": "1426",
                                    "1": "Мальчики 2006г.р. - 200 комплексное плавание"
                                }
                            ]
                        },
                        "text/html": "<table><tr><th>id</th><th>group_discipline</th></tr><tr><td>6</td><td>Девочки 2007г.р. и моложе - 50 баттерфляй</td></tr><tr><td>60</td><td>Мальчики 2007г.р. и моложе - 50 баттерфляй</td></tr><tr><td>150</td><td>Девочки 2006 г.р. - 100 на спине</td></tr><tr><td>187</td><td>Мальчики 2006 г.р. - 100 на спине</td></tr><tr><td>251</td><td>Девушки 2004-2005 г.р. - 400 вольный стиль</td></tr><tr><td>275</td><td>Юноши 2004-2005 г.р. - 400 вольный стиль</td></tr><tr><td>345</td><td>Девочки 2007г.р. и моложе -50 вольный стиль</td></tr><tr><td>400</td><td>Мальчики 2007г.р. и моложе -50 вольный стиль</td></tr><tr><td>492</td><td>Девочки 2006г.р. - 100 вольный стиль</td></tr><tr><td>531</td><td>Мальчики 2006г.р. - 100 вольный стиль</td></tr><tr><td>598</td><td>Девочки 2007г.р. и моложе - 50 брасс</td></tr><tr><td>652</td><td>Мальчики 2007г.р. и моложе- 50 брасс</td></tr><tr><td>699</td><td>Девушки 2004-2005г.р. - 200 комплексное плавание</td></tr><tr><td>723</td><td>Юноши 2004-2005г.р. - 200 комплексное плавание</td></tr><tr><td>865</td><td>Девочки 2006 г.р. - 100 брасс</td></tr><tr><td>903</td><td>Мальчики 2006 г.р. - 100 брасс</td></tr><tr><td>969</td><td>Девушки 2004-2005 г.р. - 100 баттерфляй</td></tr><tr><td>977</td><td>Юноши 2004-2005 г.р. 100 баттерфляй</td></tr><tr><td>989</td><td>Девушки 2004-2005 г.р. - 100 на спине</td></tr><tr><td>997</td><td>Юноши 2004-2005 г.р. - 100 на спине</td></tr><tr><td>1012</td><td>Девушки 2004-2005 г.р - 100 брасс</td></tr><tr><td>1020</td><td>Юноши 2004-2005 г.р. - 100 брасс </td></tr><tr><td>1037</td><td>Девушки 2004-2005 г.р. - 100 вольный стиль</td></tr><tr><td>1048</td><td>Девушки 2004-2005 г.р. - 100 вольный стиль</td></tr><tr><td>1086</td><td>Девочки 2007г.р. и моложе - 50 на спине</td></tr><tr><td>1140</td><td>Мальчики 2007г.р. и моложе - 50 на спине</td></tr><tr><td>1232</td><td>Девочки 2007г.р. и моложе - 100 комплексное плавание</td></tr><tr><td>1289</td><td>Мальчики 2007г.р. и моложе - 100 комплексное плавание</td></tr><tr><td>1390</td><td>Девочки 2006г.р. - 200 комплексное плавание</td></tr><tr><td>1426</td><td>Мальчики 2006г.р. - 200 комплексное плавание</td></tr></table>"
                    }
                }
            ],
            "execution_count": 5
        },
        {
            "cell_type": "markdown",
            "source": "Определение места и времени проведения соревнования:",
            "metadata": {}
        },
        {
            "cell_type": "code",
            "source": ";with cte_list_of_competition_days\r\nas\r\n(\r\n    select c.id, \r\n         c.F2 as group_discipline\r\n    from dbo.stg_Competitions c    \r\n    join dbo.stg_Competitions c3 on c.id+3 = c3.id\r\n    where c3.F1 = '1' and (charindex('-', c.F2)<>0)\r\n)\r\nselect * from cte_list_of_competition_days",
            "metadata": {},
            "outputs": [
                {
                    "output_type": "display_data",
                    "data": {
                        "text/html": "(2 rows affected)"
                    },
                    "metadata": {}
                },
                {
                    "output_type": "display_data",
                    "data": {
                        "text/html": "Total execution time: 00:00:00.0163952"
                    },
                    "metadata": {}
                },
                {
                    "output_type": "execute_result",
                    "metadata": {},
                    "execution_count": 9,
                    "data": {
                        "application/vnd.dataresource+json": {
                            "schema": {
                                "fields": [
                                    {
                                        "name": "id"
                                    },
                                    {
                                        "name": "group_discipline"
                                    }
                                ]
                            },
                            "data": [
                                {
                                    "0": "5",
                                    "1": "1 день - 22.04.2019"
                                },
                                {
                                    "0": "597",
                                    "1": "2 день - 23.04.2019"
                                }
                            ]
                        },
                        "text/html": "<table><tr><th>id</th><th>group_discipline</th></tr><tr><td>5</td><td>1 день - 22.04.2019</td></tr><tr><td>597</td><td>2 день - 23.04.2019</td></tr></table>"
                    }
                }
            ],
            "execution_count": 9
        },
        {
            "cell_type": "markdown",
            "source": "\"Разворот\" извлеченных атрибутов в столбцы:",
            "metadata": {}
        },
        {
            "cell_type": "code",
            "source": ";with cte_trim_fields\r\nas\r\n(\r\n    select ltrim(rtrim(F1)) as F1,\r\n\t       ltrim(rtrim(F2)) as F2,\r\n\t\t   ltrim(rtrim(F3)) as F3,\r\n\t\t   ltrim(rtrim(F4)) as F4,\r\n\t\t   ltrim(rtrim(F5)) as F5,\r\n\t\t   ltrim(rtrim(F6)) as F6,\r\n\t\t   ltrim(rtrim(F7)) as F7,\r\n\t\t   id\r\n\tfrom stg_Competitions\r\n),\r\ncte_list_of_group_discipline\r\nas\r\n(\r\n    select c.id, \r\n         c.F2 as group_discipline\r\n    from cte_trim_fields c\r\n    join cte_trim_fields c1 on c.id+1 = c1.id\r\n    join cte_trim_fields c2 on c.id+2 = c2.id\r\n    where (c1.F1 = '1' and (charindex('-', c.F2)<>0)) or \r\n          (c2.F1 = '1' and (charindex('-', c.F2)<>0))\r\n),\r\ncte_list_of_ranges\r\nas\r\n(\r\n    select id start_id, \r\n\t       lead(id) over(order by id) end_id\r\n    from cte_list_of_group_discipline\r\n),\r\ncte_pivot\r\nas\r\n(\r\n\tselect c.*, gd.group_discipline\r\n\tfrom cte_trim_fields c\r\n\tjoin cte_list_of_ranges rr on c.id between rr.start_id and case when rr.end_id-1 is not null then rr.end_id-1 else (select count(1) from stg_Competitions) end\r\n\tjoin cte_list_of_group_discipline gd on gd.id = rr.start_id\r\n)\r\nselect top 100 * from cte_pivot",
            "metadata": {},
            "outputs": [
                {
                    "output_type": "display_data",
                    "data": {
                        "text/html": "(100 rows affected)"
                    },
                    "metadata": {}
                },
                {
                    "output_type": "display_data",
                    "data": {
                        "text/html": "Total execution time: 00:00:00.0398516"
                    },
                    "metadata": {}
                },
                {
                    "output_type": "execute_result",
                    "metadata": {},
                    "execution_count": 2,
                    "data": {
                        "application/vnd.dataresource+json": {
                            "schema": {
                                "fields": [
                                    {
                                        "name": "F1"
                                    },
                                    {
                                        "name": "F2"
                                    },
                                    {
                                        "name": "F3"
                                    },
                                    {
                                        "name": "F4"
                                    },
                                    {
                                        "name": "F5"
                                    },
                                    {
                                        "name": "F6"
                                    },
                                    {
                                        "name": "F7"
                                    },
                                    {
                                        "name": "id"
                                    },
                                    {
                                        "name": "group_discipline"
                                    }
                                ]
                            },
                            "data": [
                                {
                                    "0": "NULL",
                                    "1": "Девочки 2007г.р. и моложе - 50 баттерфляй",
                                    "2": "NULL",
                                    "3": "NULL",
                                    "4": "NULL",
                                    "5": "NULL",
                                    "6": "NULL",
                                    "7": "6",
                                    "8": "Девочки 2007г.р. и моложе - 50 баттерфляй"
                                },
                                {
                                    "0": "NULL",
                                    "1": "Ф.И. спортсмена",
                                    "2": "Год рожд.",
                                    "3": "Город, ДЮСШ",
                                    "4": "Страна",
                                    "5": "Результат",
                                    "6": "Очки",
                                    "7": "7",
                                    "8": "Девочки 2007г.р. и моложе - 50 баттерфляй"
                                },
                                {
                                    "0": "1",
                                    "1": "Евмененко София",
                                    "2": "07",
                                    "3": "Долгопрудный,ДЮСШ",
                                    "4": "RUS",
                                    "5": "33.5",
                                    "6": "387",
                                    "7": "8",
                                    "8": "Девочки 2007г.р. и моложе - 50 баттерфляй"
                                },
                                {
                                    "0": "2",
                                    "1": "Редюк Алина",
                                    "2": "07",
                                    "3": "Гомель-1,ГОЦОР ввс",
                                    "4": "BLR",
                                    "5": "35.44",
                                    "6": "327",
                                    "7": "9",
                                    "8": "Девочки 2007г.р. и моложе - 50 баттерфляй"
                                },
                                {
                                    "0": "3",
                                    "1": "Козловская Кристина",
                                    "2": "07",
                                    "3": "Минск,\"Волна\"",
                                    "4": "BLR",
                                    "5": "36.1",
                                    "6": "309",
                                    "7": "10",
                                    "8": "Девочки 2007г.р. и моложе - 50 баттерфляй"
                                },
                                {
                                    "0": "4",
                                    "1": "Карпочева Екатерина",
                                    "2": "07",
                                    "3": "Речица,Олимп",
                                    "4": "BLR",
                                    "5": "36.62",
                                    "6": "296",
                                    "7": "11",
                                    "8": "Девочки 2007г.р. и моложе - 50 баттерфляй"
                                },
                                {
                                    "0": "5",
                                    "1": "Гисак Анна",
                                    "2": "07",
                                    "3": "Могилев,СДЮШОР",
                                    "4": "BLR",
                                    "5": "36.96",
                                    "6": "288",
                                    "7": "12",
                                    "8": "Девочки 2007г.р. и моложе - 50 баттерфляй"
                                },
                                {
                                    "0": "6",
                                    "1": "Козлова Александра",
                                    "2": "08",
                                    "3": "Речица,Олимп",
                                    "4": "BLR",
                                    "5": "36.96",
                                    "6": "288",
                                    "7": "13",
                                    "8": "Девочки 2007г.р. и моложе - 50 баттерфляй"
                                },
                                {
                                    "0": "7",
                                    "1": "Кондратович Вероника",
                                    "2": "07",
                                    "3": "Минск,\"Волна\"",
                                    "4": "BLR",
                                    "5": "38.22",
                                    "6": "261",
                                    "7": "14",
                                    "8": "Девочки 2007г.р. и моложе - 50 баттерфляй"
                                },
                                {
                                    "0": "8",
                                    "1": "Оргиш Ксения",
                                    "2": "07",
                                    "3": "Бобруйск,СДЮШОР",
                                    "4": "BLR",
                                    "5": "38.25",
                                    "6": "260",
                                    "7": "15",
                                    "8": "Девочки 2007г.р. и моложе - 50 баттерфляй"
                                },
                                {
                                    "0": "9",
                                    "1": "Серикова Валерия",
                                    "2": "07",
                                    "3": "Гомель-2,ГОЦОР ввс",
                                    "4": "BLR",
                                    "5": "39.66",
                                    "6": "233",
                                    "7": "16",
                                    "8": "Девочки 2007г.р. и моложе - 50 баттерфляй"
                                },
                                {
                                    "0": "10",
                                    "1": "Горшунова Амина",
                                    "2": "08",
                                    "3": "Гомель-2,ГОЦОР ввс",
                                    "4": "BLR",
                                    "5": "39.7",
                                    "6": "233",
                                    "7": "17",
                                    "8": "Девочки 2007г.р. и моложе - 50 баттерфляй"
                                },
                                {
                                    "0": "11",
                                    "1": "Яцук Александра",
                                    "2": "07",
                                    "3": "Гомель-2,ГОЦОР ввс",
                                    "4": "BLR",
                                    "5": "39.9",
                                    "6": "229",
                                    "7": "18",
                                    "8": "Девочки 2007г.р. и моложе - 50 баттерфляй"
                                },
                                {
                                    "0": "12",
                                    "1": "Пырх Мария",
                                    "2": "07",
                                    "3": "Калинковичи,ДЮСШ",
                                    "4": "BLR",
                                    "5": "40,00",
                                    "6": "227",
                                    "7": "19",
                                    "8": "Девочки 2007г.р. и моложе - 50 баттерфляй"
                                },
                                {
                                    "0": "13",
                                    "1": "Пашко Дарья",
                                    "2": "07",
                                    "3": "Гомель-2,ГОЦОР ввс",
                                    "4": "BLR",
                                    "5": "40.28",
                                    "6": "223",
                                    "7": "20",
                                    "8": "Девочки 2007г.р. и моложе - 50 баттерфляй"
                                },
                                {
                                    "0": "14",
                                    "1": "Вайницкая Ульяна",
                                    "2": "07",
                                    "3": "Минск,Янтарь",
                                    "4": "BLR",
                                    "5": "40,38",
                                    "6": "221",
                                    "7": "21",
                                    "8": "Девочки 2007г.р. и моложе - 50 баттерфляй"
                                },
                                {
                                    "0": "15",
                                    "1": "Суслова Валерия",
                                    "2": "08",
                                    "3": "Гомель-2,ГОЦОР ввс",
                                    "4": "BLR",
                                    "5": "40.41",
                                    "6": "220",
                                    "7": "22",
                                    "8": "Девочки 2007г.р. и моложе - 50 баттерфляй"
                                },
                                {
                                    "0": "16",
                                    "1": "Лопатина Виталина",
                                    "2": "07",
                                    "3": "Гомель-2,ГОЦОР ввс",
                                    "4": "BLR",
                                    "5": "40.64",
                                    "6": "217",
                                    "7": "23",
                                    "8": "Девочки 2007г.р. и моложе - 50 баттерфляй"
                                },
                                {
                                    "0": "17",
                                    "1": "Михолап Дарья",
                                    "2": "08",
                                    "3": "Бобруйск,СДЮШОР",
                                    "4": "BLR",
                                    "5": "40.68",
                                    "6": "216",
                                    "7": "24",
                                    "8": "Девочки 2007г.р. и моложе - 50 баттерфляй"
                                },
                                {
                                    "0": "18",
                                    "1": "Щербин Анна",
                                    "2": "07",
                                    "3": "Бобруйск,СДЮШОР",
                                    "4": "BLR",
                                    "5": "40.75",
                                    "6": "215",
                                    "7": "25",
                                    "8": "Девочки 2007г.р. и моложе - 50 баттерфляй"
                                },
                                {
                                    "0": "19",
                                    "1": "Марченко Дарья",
                                    "2": "07",
                                    "3": "Гомель-2,ГОЦОР ввс",
                                    "4": "BLR",
                                    "5": "41.29",
                                    "6": "207",
                                    "7": "26",
                                    "8": "Девочки 2007г.р. и моложе - 50 баттерфляй"
                                },
                                {
                                    "0": "20",
                                    "1": "Борисенкова Кира",
                                    "2": "08",
                                    "3": "Минск,Янтарь",
                                    "4": "BLR",
                                    "5": "41,74",
                                    "6": "200",
                                    "7": "27",
                                    "8": "Девочки 2007г.р. и моложе - 50 баттерфляй"
                                },
                                {
                                    "0": "21",
                                    "1": "Случак Елизавета",
                                    "2": "07",
                                    "3": "Минск,\"Волна\"",
                                    "4": "BLR",
                                    "5": "41.77",
                                    "6": "200",
                                    "7": "28",
                                    "8": "Девочки 2007г.р. и моложе - 50 баттерфляй"
                                },
                                {
                                    "0": "22",
                                    "1": "Гарист Дарья",
                                    "2": "08",
                                    "3": "Калинковичи,ДЮСШ",
                                    "4": "BLR",
                                    "5": "42,35",
                                    "6": "191",
                                    "7": "29",
                                    "8": "Девочки 2007г.р. и моложе - 50 баттерфляй"
                                },
                                {
                                    "0": "23",
                                    "1": "Кужелко Милания",
                                    "2": "07",
                                    "3": "Калинковичи,ДЮСШ",
                                    "4": "BLR",
                                    "5": "43,06",
                                    "6": "182",
                                    "7": "30",
                                    "8": "Девочки 2007г.р. и моложе - 50 баттерфляй"
                                },
                                {
                                    "0": "24",
                                    "1": "Дмитриева Диана",
                                    "2": "08",
                                    "3": "Гомель-2,ГОЦОР ввс",
                                    "4": "BLR",
                                    "5": "43.12",
                                    "6": "181",
                                    "7": "31",
                                    "8": "Девочки 2007г.р. и моложе - 50 баттерфляй"
                                },
                                {
                                    "0": "25",
                                    "1": "Макарочкина Кира",
                                    "2": "07",
                                    "3": "Речица,СДЮШОР",
                                    "4": "BLR",
                                    "5": "43.26",
                                    "6": "180",
                                    "7": "32",
                                    "8": "Девочки 2007г.р. и моложе - 50 баттерфляй"
                                },
                                {
                                    "0": "26",
                                    "1": "Марьевская Виктория",
                                    "2": "07",
                                    "3": "Гомель,\"Гомсельмаш\"",
                                    "4": "BLR",
                                    "5": "43.72",
                                    "6": "174",
                                    "7": "33",
                                    "8": "Девочки 2007г.р. и моложе - 50 баттерфляй"
                                },
                                {
                                    "0": "27",
                                    "1": "Кремачёва Виктория",
                                    "2": "08",
                                    "3": "Калинковичи,ДЮСШ",
                                    "4": "BLR",
                                    "5": "43,77",
                                    "6": "173",
                                    "7": "34",
                                    "8": "Девочки 2007г.р. и моложе - 50 баттерфляй"
                                },
                                {
                                    "0": "28",
                                    "1": "Кацуба Диана",
                                    "2": "07",
                                    "3": "Речица,СДЮШОР",
                                    "4": "BLR",
                                    "5": "43.81",
                                    "6": "173",
                                    "7": "35",
                                    "8": "Девочки 2007г.р. и моложе - 50 баттерфляй"
                                },
                                {
                                    "0": "29",
                                    "1": "Куликова Варвара",
                                    "2": "07",
                                    "3": "Гомель-2,ГОЦОР ввс",
                                    "4": "BLR",
                                    "5": "44.1",
                                    "6": "170",
                                    "7": "36",
                                    "8": "Девочки 2007г.р. и моложе - 50 баттерфляй"
                                },
                                {
                                    "0": "30",
                                    "1": "Ананченко Василина",
                                    "2": "08",
                                    "3": "Гомель-2,ГОЦОР ввс",
                                    "4": "BLR",
                                    "5": "44.69",
                                    "6": "163",
                                    "7": "37",
                                    "8": "Девочки 2007г.р. и моложе - 50 баттерфляй"
                                },
                                {
                                    "0": "31",
                                    "1": "Зырко Влада",
                                    "2": "09",
                                    "3": "Гомель,\"Гомсельмаш\"",
                                    "4": "BLR",
                                    "5": "44.76",
                                    "6": "162",
                                    "7": "38",
                                    "8": "Девочки 2007г.р. и моложе - 50 баттерфляй"
                                },
                                {
                                    "0": "32",
                                    "1": "Тесленко Анастасия",
                                    "2": "07",
                                    "3": "Калинковичи,ДЮСШ",
                                    "4": "BLR",
                                    "5": "45,08",
                                    "6": "159",
                                    "7": "39",
                                    "8": "Девочки 2007г.р. и моложе - 50 баттерфляй"
                                },
                                {
                                    "0": "33",
                                    "1": "Парис  Дарья",
                                    "2": "07",
                                    "3": "Речица,СДЮШОР",
                                    "4": "BLR",
                                    "5": "45.85",
                                    "6": "151",
                                    "7": "40",
                                    "8": "Девочки 2007г.р. и моложе - 50 баттерфляй"
                                },
                                {
                                    "0": "34",
                                    "1": "Гендрикова Елизавета",
                                    "2": "07",
                                    "3": "Гомель,СДЮШОР 7",
                                    "4": "BLR",
                                    "5": "46.25",
                                    "6": "147",
                                    "7": "41",
                                    "8": "Девочки 2007г.р. и моложе - 50 баттерфляй"
                                },
                                {
                                    "0": "35",
                                    "1": "Абрамцева Анастасия",
                                    "2": "08",
                                    "3": "Гомель-2,ГОЦОР ввс",
                                    "4": "BLR",
                                    "5": "46.23",
                                    "6": "147",
                                    "7": "42",
                                    "8": "Девочки 2007г.р. и моложе - 50 баттерфляй"
                                },
                                {
                                    "0": "36",
                                    "1": "Тычкова Ангелина",
                                    "2": "08",
                                    "3": "Гомель-1,ГОЦОР ввс",
                                    "4": "BLR",
                                    "5": "46.52",
                                    "6": "144",
                                    "7": "43",
                                    "8": "Девочки 2007г.р. и моложе - 50 баттерфляй"
                                },
                                {
                                    "0": "37",
                                    "1": "Черношей Валерия",
                                    "2": "08",
                                    "3": "Гомель-2,ГОЦОР ввс",
                                    "4": "BLR",
                                    "5": "46.64",
                                    "6": "143",
                                    "7": "44",
                                    "8": "Девочки 2007г.р. и моложе - 50 баттерфляй"
                                },
                                {
                                    "0": "38",
                                    "1": "Гаева Карина",
                                    "2": "08",
                                    "3": "Гомель-2,ГОЦОР ввс",
                                    "4": "BLR",
                                    "5": "47.87",
                                    "6": "132",
                                    "7": "45",
                                    "8": "Девочки 2007г.р. и моложе - 50 баттерфляй"
                                },
                                {
                                    "0": "39",
                                    "1": "Будник Виктория",
                                    "2": "07",
                                    "3": "Калинковичи,ДЮСШ",
                                    "4": "BLR",
                                    "5": "48,13",
                                    "6": "130",
                                    "7": "46",
                                    "8": "Девочки 2007г.р. и моложе - 50 баттерфляй"
                                },
                                {
                                    "0": "40",
                                    "1": "Беляй Алина",
                                    "2": "07",
                                    "3": "Речица,СДЮШОР",
                                    "4": "BLR",
                                    "5": "50.57",
                                    "6": "112",
                                    "7": "47",
                                    "8": "Девочки 2007г.р. и моложе - 50 баттерфляй"
                                },
                                {
                                    "0": "41",
                                    "1": "Близнец Анастасия",
                                    "2": "08",
                                    "3": "Речица,СДЮШОР",
                                    "4": "BLR",
                                    "5": "50.93",
                                    "6": "110",
                                    "7": "48",
                                    "8": "Девочки 2007г.р. и моложе - 50 баттерфляй"
                                },
                                {
                                    "0": "42",
                                    "1": "Лозовая Татьяна",
                                    "2": "08",
                                    "3": "Речица,СДЮШОР",
                                    "4": "BLR",
                                    "5": "51.09",
                                    "6": "109",
                                    "7": "49",
                                    "8": "Девочки 2007г.р. и моложе - 50 баттерфляй"
                                },
                                {
                                    "0": "43",
                                    "1": "Шода Мария",
                                    "2": "08",
                                    "3": "Минск,\"Волна\"",
                                    "4": "BLR",
                                    "5": "51.43",
                                    "6": "107",
                                    "7": "50",
                                    "8": "Девочки 2007г.р. и моложе - 50 баттерфляй"
                                },
                                {
                                    "0": "44",
                                    "1": "Шибеко Виктория",
                                    "2": "07",
                                    "3": "Минск,\"Волна\"",
                                    "4": "BLR",
                                    "5": "52.07",
                                    "6": "103",
                                    "7": "51",
                                    "8": "Девочки 2007г.р. и моложе - 50 баттерфляй"
                                },
                                {
                                    "0": "45",
                                    "1": "Тартынская Ксения",
                                    "2": "07",
                                    "3": "Речица,СДЮШОР",
                                    "4": "BLR",
                                    "5": "53.77",
                                    "6": "93",
                                    "7": "52",
                                    "8": "Девочки 2007г.р. и моложе - 50 баттерфляй"
                                },
                                {
                                    "0": "46",
                                    "1": "Акудович Евгения",
                                    "2": "07",
                                    "3": "Минск,\"Волна\"",
                                    "4": "BLR",
                                    "5": "54.25",
                                    "6": "91",
                                    "7": "53",
                                    "8": "Девочки 2007г.р. и моложе - 50 баттерфляй"
                                },
                                {
                                    "0": "47",
                                    "1": "Хурошвили Мария",
                                    "2": "07",
                                    "3": "Могилев,СДЮШОР",
                                    "4": "BLR",
                                    "5": "54.97",
                                    "6": "87",
                                    "7": "54",
                                    "8": "Девочки 2007г.р. и моложе - 50 баттерфляй"
                                },
                                {
                                    "0": "48",
                                    "1": "Корниенко Елизавета",
                                    "2": "08",
                                    "3": "Речица,СДЮШОР",
                                    "4": "BLR",
                                    "5": "55.38",
                                    "6": "85",
                                    "7": "55",
                                    "8": "Девочки 2007г.р. и моложе - 50 баттерфляй"
                                },
                                {
                                    "0": "49",
                                    "1": "Сусло Анна",
                                    "2": "09",
                                    "3": "Гомель,\"Гомсельмаш\"",
                                    "4": "BLR",
                                    "5": "1.00,46",
                                    "6": "65",
                                    "7": "56",
                                    "8": "Девочки 2007г.р. и моложе - 50 баттерфляй"
                                },
                                {
                                    "0": "50",
                                    "1": "Кашина Кира",
                                    "2": "07",
                                    "3": "Минск,\"Волна\"",
                                    "4": "BLR",
                                    "5": "1.01,93",
                                    "6": "61",
                                    "7": "57",
                                    "8": "Девочки 2007г.р. и моложе - 50 баттерфляй"
                                },
                                {
                                    "0": "51",
                                    "1": "Бондаренко Мария",
                                    "2": "08",
                                    "3": "Минск,\"Волна\"",
                                    "4": "BLR",
                                    "5": "1.09,98",
                                    "6": "42",
                                    "7": "58",
                                    "8": "Девочки 2007г.р. и моложе - 50 баттерфляй"
                                },
                                {
                                    "0": "52",
                                    "1": "Штурма Марианна",
                                    "2": "08",
                                    "3": "Минск,\"Волна\"",
                                    "4": "BLR",
                                    "5": "DSQ",
                                    "6": "NULL",
                                    "7": "59",
                                    "8": "Девочки 2007г.р. и моложе - 50 баттерфляй"
                                },
                                {
                                    "0": "NULL",
                                    "1": "Мальчики 2007г.р. и моложе - 50 баттерфляй",
                                    "2": "NULL",
                                    "3": "NULL",
                                    "4": "NULL",
                                    "5": "NULL",
                                    "6": "NULL",
                                    "7": "60",
                                    "8": "Мальчики 2007г.р. и моложе - 50 баттерфляй"
                                },
                                {
                                    "0": "NULL",
                                    "1": "Ф.И. спортсмена",
                                    "2": "Год рожд.",
                                    "3": "Город, ДЮСШ",
                                    "4": "Страна",
                                    "5": "Результат",
                                    "6": "Очки",
                                    "7": "61",
                                    "8": "Мальчики 2007г.р. и моложе - 50 баттерфляй"
                                },
                                {
                                    "0": "1",
                                    "1": "Якимчук Арсений",
                                    "2": "07",
                                    "3": "Могилев,СДЮШОР",
                                    "4": "BLR",
                                    "5": "30.77",
                                    "6": "387",
                                    "7": "62",
                                    "8": "Мальчики 2007г.р. и моложе - 50 баттерфляй"
                                },
                                {
                                    "0": "2",
                                    "1": "Свяховский Владислав",
                                    "2": "07",
                                    "3": "Могилев,СДЮШОР",
                                    "4": "BLR",
                                    "5": "32.34",
                                    "6": "333",
                                    "7": "63",
                                    "8": "Мальчики 2007г.р. и моложе - 50 баттерфляй"
                                },
                                {
                                    "0": "3",
                                    "1": "Седаков Илья",
                                    "2": "07",
                                    "3": "Гомель-2,ГОЦОР ввс",
                                    "4": "BLR",
                                    "5": "32.89",
                                    "6": "317",
                                    "7": "64",
                                    "8": "Мальчики 2007г.р. и моложе - 50 баттерфляй"
                                },
                                {
                                    "0": "4",
                                    "1": "Булич Савелий",
                                    "2": "07",
                                    "3": "Минск,Янтарь",
                                    "4": "BLR",
                                    "5": "33,07",
                                    "6": "312",
                                    "7": "65",
                                    "8": "Мальчики 2007г.р. и моложе - 50 баттерфляй"
                                },
                                {
                                    "0": "5",
                                    "1": "Семенов Максим",
                                    "2": "07",
                                    "3": "Минск,\"Волна\"",
                                    "4": "BLR",
                                    "5": "35.39",
                                    "6": "254",
                                    "7": "66",
                                    "8": "Мальчики 2007г.р. и моложе - 50 баттерфляй"
                                },
                                {
                                    "0": "6",
                                    "1": "Гончаренко Артем",
                                    "2": "07",
                                    "3": "Минск,\"Волна\"",
                                    "4": "BLR",
                                    "5": "35.47",
                                    "6": "252",
                                    "7": "67",
                                    "8": "Мальчики 2007г.р. и моложе - 50 баттерфляй"
                                },
                                {
                                    "0": "7",
                                    "1": "Горбач Матвей",
                                    "2": "07",
                                    "3": "Бобруйск,СДЮШОР",
                                    "4": "BLR",
                                    "5": "35.64",
                                    "6": "249",
                                    "7": "68",
                                    "8": "Мальчики 2007г.р. и моложе - 50 баттерфляй"
                                },
                                {
                                    "0": "8",
                                    "1": "Чигилейчик Артем",
                                    "2": "07",
                                    "3": "Минск,\"Волна\"",
                                    "4": "BLR",
                                    "5": "35.63",
                                    "6": "249",
                                    "7": "69",
                                    "8": "Мальчики 2007г.р. и моложе - 50 баттерфляй"
                                },
                                {
                                    "0": "9",
                                    "1": "Козловский Вадим",
                                    "2": "07",
                                    "3": "Речица,Олимп",
                                    "4": "BLR",
                                    "5": "35.96",
                                    "6": "242",
                                    "7": "70",
                                    "8": "Мальчики 2007г.р. и моложе - 50 баттерфляй"
                                },
                                {
                                    "0": "10",
                                    "1": "Каплунов Захар",
                                    "2": "07",
                                    "3": "Могилев,СДЮШОР",
                                    "4": "BLR",
                                    "5": "35.96",
                                    "6": "242",
                                    "7": "71",
                                    "8": "Мальчики 2007г.р. и моложе - 50 баттерфляй"
                                },
                                {
                                    "0": "11",
                                    "1": "Лунин Алексей",
                                    "2": "07",
                                    "3": "Минск,\"Волна\"",
                                    "4": "BLR",
                                    "5": "35.98",
                                    "6": "242",
                                    "7": "72",
                                    "8": "Мальчики 2007г.р. и моложе - 50 баттерфляй"
                                },
                                {
                                    "0": "12",
                                    "1": "Лазько Станислав",
                                    "2": "07",
                                    "3": "Гомель-2,ГОЦОР ввс",
                                    "4": "BLR",
                                    "5": "36.2",
                                    "6": "237",
                                    "7": "73",
                                    "8": "Мальчики 2007г.р. и моложе - 50 баттерфляй"
                                },
                                {
                                    "0": "13",
                                    "1": "Котиков Артем",
                                    "2": "07",
                                    "3": "Могилев,СДЮШОР",
                                    "4": "BLR",
                                    "5": "36.52",
                                    "6": "231",
                                    "7": "74",
                                    "8": "Мальчики 2007г.р. и моложе - 50 баттерфляй"
                                },
                                {
                                    "0": "14",
                                    "1": "Купрейчик Егор",
                                    "2": "07",
                                    "3": "Бобруйск,СДЮШОР",
                                    "4": "BLR",
                                    "5": "36.81",
                                    "6": "226",
                                    "7": "75",
                                    "8": "Мальчики 2007г.р. и моложе - 50 баттерфляй"
                                },
                                {
                                    "0": "15",
                                    "1": "Шарий Даниил",
                                    "2": "07",
                                    "3": "Минск,\"Волна\"",
                                    "4": "BLR",
                                    "5": "37.14",
                                    "6": "220",
                                    "7": "76",
                                    "8": "Мальчики 2007г.р. и моложе - 50 баттерфляй"
                                },
                                {
                                    "0": "16",
                                    "1": "Тарасенко Алексей",
                                    "2": "09",
                                    "3": "Речица,Олимп",
                                    "4": "BLR",
                                    "5": "37.17",
                                    "6": "219",
                                    "7": "77",
                                    "8": "Мальчики 2007г.р. и моложе - 50 баттерфляй"
                                },
                                {
                                    "0": "17",
                                    "1": "Матусевич Никита",
                                    "2": "07",
                                    "3": "Минск,\"Волна\"",
                                    "4": "BLR",
                                    "5": "37.19",
                                    "6": "219",
                                    "7": "78",
                                    "8": "Мальчики 2007г.р. и моложе - 50 баттерфляй"
                                },
                                {
                                    "0": "18",
                                    "1": "Гринцевич Иван",
                                    "2": "07",
                                    "3": "Долгопрудный,ДЮСШ",
                                    "4": "RUS",
                                    "5": "37.37",
                                    "6": "216",
                                    "7": "79",
                                    "8": "Мальчики 2007г.р. и моложе - 50 баттерфляй"
                                },
                                {
                                    "0": "19",
                                    "1": "Шпарага Даниил",
                                    "2": "07",
                                    "3": "Минск,\"Волна\"",
                                    "4": "BLR",
                                    "5": "37.56",
                                    "6": "212",
                                    "7": "80",
                                    "8": "Мальчики 2007г.р. и моложе - 50 баттерфляй"
                                },
                                {
                                    "0": "20",
                                    "1": "Кузьмичев Ян",
                                    "2": "07",
                                    "3": "Минск,\"Волна\"",
                                    "4": "BLR",
                                    "5": "37.68",
                                    "6": "210",
                                    "7": "81",
                                    "8": "Мальчики 2007г.р. и моложе - 50 баттерфляй"
                                },
                                {
                                    "0": "21",
                                    "1": "Авраменко Артем",
                                    "2": "08",
                                    "3": "Минск,Янтарь",
                                    "4": "BLR",
                                    "5": "37,84",
                                    "6": "208",
                                    "7": "82",
                                    "8": "Мальчики 2007г.р. и моложе - 50 баттерфляй"
                                },
                                {
                                    "0": "22",
                                    "1": "Самусев Антон",
                                    "2": "07",
                                    "3": "Гомель-2,ГОЦОР ввс",
                                    "4": "BLR",
                                    "5": "37.87",
                                    "6": "207",
                                    "7": "83",
                                    "8": "Мальчики 2007г.р. и моложе - 50 баттерфляй"
                                },
                                {
                                    "0": "23",
                                    "1": "Проняев Кирилл",
                                    "2": "07",
                                    "3": "Долгопрудный,ДЮСШ",
                                    "4": "RUS",
                                    "5": "37.9",
                                    "6": "207",
                                    "7": "84",
                                    "8": "Мальчики 2007г.р. и моложе - 50 баттерфляй"
                                },
                                {
                                    "0": "24",
                                    "1": "Белов Артем",
                                    "2": "07",
                                    "3": "Гомель-1,ГОЦОР ввс",
                                    "4": "BLR",
                                    "5": "38.56",
                                    "6": "196",
                                    "7": "85",
                                    "8": "Мальчики 2007г.р. и моложе - 50 баттерфляй"
                                },
                                {
                                    "0": "25",
                                    "1": "Дроздов Роман",
                                    "2": "07",
                                    "3": "Гомель-2,ГОЦОР ввс",
                                    "4": "BLR",
                                    "5": "38.64",
                                    "6": "195",
                                    "7": "86",
                                    "8": "Мальчики 2007г.р. и моложе - 50 баттерфляй"
                                },
                                {
                                    "0": "26",
                                    "1": "Юрлов Дмитрий",
                                    "2": "09",
                                    "3": "Бобруйск,СДЮШОР",
                                    "4": "BLR",
                                    "5": "38.68",
                                    "6": "194",
                                    "7": "87",
                                    "8": "Мальчики 2007г.р. и моложе - 50 баттерфляй"
                                },
                                {
                                    "0": "27",
                                    "1": "Боровский Иван",
                                    "2": "07",
                                    "3": "Бобруйск,СДЮШОР",
                                    "4": "BLR",
                                    "5": "39.06",
                                    "6": "189",
                                    "7": "88",
                                    "8": "Мальчики 2007г.р. и моложе - 50 баттерфляй"
                                },
                                {
                                    "0": "28",
                                    "1": "Коханец Богдан",
                                    "2": "09",
                                    "3": "Бобруйск,СДЮШОР",
                                    "4": "BLR",
                                    "5": "39.29",
                                    "6": "186",
                                    "7": "89",
                                    "8": "Мальчики 2007г.р. и моложе - 50 баттерфляй"
                                },
                                {
                                    "0": "29",
                                    "1": "Терещенко Евгений",
                                    "2": "07",
                                    "3": "Гомель-2,ГОЦОР ввс",
                                    "4": "BLR",
                                    "5": "39.31",
                                    "6": "185",
                                    "7": "90",
                                    "8": "Мальчики 2007г.р. и моложе - 50 баттерфляй"
                                },
                                {
                                    "0": "30",
                                    "1": "Дергай Максим",
                                    "2": "07",
                                    "3": "Минск,\"Волна\"",
                                    "4": "BLR",
                                    "5": "39.41",
                                    "6": "184",
                                    "7": "91",
                                    "8": "Мальчики 2007г.р. и моложе - 50 баттерфляй"
                                },
                                {
                                    "0": "31",
                                    "1": "Пригодский Максим",
                                    "2": "08",
                                    "3": "Бобруйск,СДЮШОР",
                                    "4": "BLR",
                                    "5": "39.46",
                                    "6": "183",
                                    "7": "92",
                                    "8": "Мальчики 2007г.р. и моложе - 50 баттерфляй"
                                },
                                {
                                    "0": "32",
                                    "1": "Чуриков Дмитрий",
                                    "2": "07",
                                    "3": "Долгопрудный,ДЮСШ",
                                    "4": "RUS",
                                    "5": "39.45",
                                    "6": "183",
                                    "7": "93",
                                    "8": "Мальчики 2007г.р. и моложе - 50 баттерфляй"
                                },
                                {
                                    "0": "33",
                                    "1": "Филюта Артем",
                                    "2": "07",
                                    "3": "Гомель-1,ГОЦОР ввс",
                                    "4": "BLR",
                                    "5": "39.56",
                                    "6": "182",
                                    "7": "94",
                                    "8": "Мальчики 2007г.р. и моложе - 50 баттерфляй"
                                },
                                {
                                    "0": "34",
                                    "1": "Неезжалый Максим",
                                    "2": "07",
                                    "3": "Гомель-1,ГОЦОР ввс",
                                    "4": "BLR",
                                    "5": "39.67",
                                    "6": "180",
                                    "7": "95",
                                    "8": "Мальчики 2007г.р. и моложе - 50 баттерфляй"
                                },
                                {
                                    "0": "35",
                                    "1": "Журавков Иван",
                                    "2": "08",
                                    "3": "Речица,Олимп",
                                    "4": "BLR",
                                    "5": "40.37",
                                    "6": "171",
                                    "7": "96",
                                    "8": "Мальчики 2007г.р. и моложе - 50 баттерфляй"
                                },
                                {
                                    "0": "36",
                                    "1": "Войтехович Даниил",
                                    "2": "08",
                                    "3": "Минск,\"Волна\"",
                                    "4": "BLR",
                                    "5": "40.66",
                                    "6": "167",
                                    "7": "97",
                                    "8": "Мальчики 2007г.р. и моложе - 50 баттерфляй"
                                },
                                {
                                    "0": "37",
                                    "1": "Лосев Дмитрий",
                                    "2": "09",
                                    "3": "Бобруйск,СДЮШОР",
                                    "4": "BLR",
                                    "5": "40.85",
                                    "6": "165",
                                    "7": "98",
                                    "8": "Мальчики 2007г.р. и моложе - 50 баттерфляй"
                                },
                                {
                                    "0": "38",
                                    "1": "Киринский Алексей",
                                    "2": "07",
                                    "3": "Калинковичи,ДЮСШ",
                                    "4": "BLR",
                                    "5": "40.86",
                                    "6": "165",
                                    "7": "99",
                                    "8": "Мальчики 2007г.р. и моложе - 50 баттерфляй"
                                },
                                {
                                    "0": "39",
                                    "1": "Капариха Вадим",
                                    "2": "07",
                                    "3": "Минск,\"Волна\"",
                                    "4": "BLR",
                                    "5": "41.04",
                                    "6": "163",
                                    "7": "100",
                                    "8": "Мальчики 2007г.р. и моложе - 50 баттерфляй"
                                },
                                {
                                    "0": "40",
                                    "1": "Саенок Никита",
                                    "2": "07",
                                    "3": "Гомель,ДЮСШ-6",
                                    "4": "BLR",
                                    "5": "40.99",
                                    "6": "163",
                                    "7": "101",
                                    "8": "Мальчики 2007г.р. и моложе - 50 баттерфляй"
                                },
                                {
                                    "0": "41",
                                    "1": "Тюленков Егор",
                                    "2": "07",
                                    "3": "Гомель-1,ГОЦОР ввс",
                                    "4": "BLR",
                                    "5": "41.13",
                                    "6": "162",
                                    "7": "102",
                                    "8": "Мальчики 2007г.р. и моложе - 50 баттерфляй"
                                },
                                {
                                    "0": "42",
                                    "1": "Юнох Денис",
                                    "2": "07",
                                    "3": "Речица,СДЮШОР",
                                    "4": "BLR",
                                    "5": "41.25",
                                    "6": "160",
                                    "7": "103",
                                    "8": "Мальчики 2007г.р. и моложе - 50 баттерфляй"
                                },
                                {
                                    "0": "43",
                                    "1": "Янченко Артем",
                                    "2": "07",
                                    "3": "Калинковичи,ДЮСШ",
                                    "4": "BLR",
                                    "5": "41,39",
                                    "6": "159",
                                    "7": "104",
                                    "8": "Мальчики 2007г.р. и моложе - 50 баттерфляй"
                                },
                                {
                                    "0": "44",
                                    "1": "Мельников Атрем",
                                    "2": "07",
                                    "3": "Минск,\"Волна\"",
                                    "4": "BLR",
                                    "5": "41.34",
                                    "6": "159",
                                    "7": "105",
                                    "8": "Мальчики 2007г.р. и моложе - 50 баттерфляй"
                                }
                            ]
                        },
                        "text/html": "<table><tr><th>F1</th><th>F2</th><th>F3</th><th>F4</th><th>F5</th><th>F6</th><th>F7</th><th>id</th><th>group_discipline</th></tr><tr><td>NULL</td><td>Девочки 2007г.р. и моложе - 50 баттерфляй</td><td>NULL</td><td>NULL</td><td>NULL</td><td>NULL</td><td>NULL</td><td>6</td><td>Девочки 2007г.р. и моложе - 50 баттерфляй</td></tr><tr><td>NULL</td><td>Ф.И. спортсмена</td><td>Год рожд.</td><td>Город, ДЮСШ</td><td>Страна</td><td>Результат</td><td>Очки</td><td>7</td><td>Девочки 2007г.р. и моложе - 50 баттерфляй</td></tr><tr><td>1</td><td>Евмененко София</td><td>07</td><td>Долгопрудный,ДЮСШ</td><td>RUS</td><td>33.5</td><td>387</td><td>8</td><td>Девочки 2007г.р. и моложе - 50 баттерфляй</td></tr><tr><td>2</td><td>Редюк Алина</td><td>07</td><td>Гомель-1,ГОЦОР ввс</td><td>BLR</td><td>35.44</td><td>327</td><td>9</td><td>Девочки 2007г.р. и моложе - 50 баттерфляй</td></tr><tr><td>3</td><td>Козловская Кристина</td><td>07</td><td>Минск,&quot;Волна&quot;</td><td>BLR</td><td>36.1</td><td>309</td><td>10</td><td>Девочки 2007г.р. и моложе - 50 баттерфляй</td></tr><tr><td>4</td><td>Карпочева Екатерина</td><td>07</td><td>Речица,Олимп</td><td>BLR</td><td>36.62</td><td>296</td><td>11</td><td>Девочки 2007г.р. и моложе - 50 баттерфляй</td></tr><tr><td>5</td><td>Гисак Анна</td><td>07</td><td>Могилев,СДЮШОР</td><td>BLR</td><td>36.96</td><td>288</td><td>12</td><td>Девочки 2007г.р. и моложе - 50 баттерфляй</td></tr><tr><td>6</td><td>Козлова Александра</td><td>08</td><td>Речица,Олимп</td><td>BLR</td><td>36.96</td><td>288</td><td>13</td><td>Девочки 2007г.р. и моложе - 50 баттерфляй</td></tr><tr><td>7</td><td>Кондратович Вероника</td><td>07</td><td>Минск,&quot;Волна&quot;</td><td>BLR</td><td>38.22</td><td>261</td><td>14</td><td>Девочки 2007г.р. и моложе - 50 баттерфляй</td></tr><tr><td>8</td><td>Оргиш Ксения</td><td>07</td><td>Бобруйск,СДЮШОР</td><td>BLR</td><td>38.25</td><td>260</td><td>15</td><td>Девочки 2007г.р. и моложе - 50 баттерфляй</td></tr><tr><td>9</td><td>Серикова Валерия</td><td>07</td><td>Гомель-2,ГОЦОР ввс</td><td>BLR</td><td>39.66</td><td>233</td><td>16</td><td>Девочки 2007г.р. и моложе - 50 баттерфляй</td></tr><tr><td>10</td><td>Горшунова Амина</td><td>08</td><td>Гомель-2,ГОЦОР ввс</td><td>BLR</td><td>39.7</td><td>233</td><td>17</td><td>Девочки 2007г.р. и моложе - 50 баттерфляй</td></tr><tr><td>11</td><td>Яцук Александра</td><td>07</td><td>Гомель-2,ГОЦОР ввс</td><td>BLR</td><td>39.9</td><td>229</td><td>18</td><td>Девочки 2007г.р. и моложе - 50 баттерфляй</td></tr><tr><td>12</td><td>Пырх Мария</td><td>07</td><td>Калинковичи,ДЮСШ</td><td>BLR</td><td>40,00</td><td>227</td><td>19</td><td>Девочки 2007г.р. и моложе - 50 баттерфляй</td></tr><tr><td>13</td><td>Пашко Дарья</td><td>07</td><td>Гомель-2,ГОЦОР ввс</td><td>BLR</td><td>40.28</td><td>223</td><td>20</td><td>Девочки 2007г.р. и моложе - 50 баттерфляй</td></tr><tr><td>14</td><td>Вайницкая Ульяна</td><td>07</td><td>Минск,Янтарь</td><td>BLR</td><td>40,38</td><td>221</td><td>21</td><td>Девочки 2007г.р. и моложе - 50 баттерфляй</td></tr><tr><td>15</td><td>Суслова Валерия</td><td>08</td><td>Гомель-2,ГОЦОР ввс</td><td>BLR</td><td>40.41</td><td>220</td><td>22</td><td>Девочки 2007г.р. и моложе - 50 баттерфляй</td></tr><tr><td>16</td><td>Лопатина Виталина</td><td>07</td><td>Гомель-2,ГОЦОР ввс</td><td>BLR</td><td>40.64</td><td>217</td><td>23</td><td>Девочки 2007г.р. и моложе - 50 баттерфляй</td></tr><tr><td>17</td><td>Михолап Дарья</td><td>08</td><td>Бобруйск,СДЮШОР</td><td>BLR</td><td>40.68</td><td>216</td><td>24</td><td>Девочки 2007г.р. и моложе - 50 баттерфляй</td></tr><tr><td>18</td><td>Щербин Анна</td><td>07</td><td>Бобруйск,СДЮШОР</td><td>BLR</td><td>40.75</td><td>215</td><td>25</td><td>Девочки 2007г.р. и моложе - 50 баттерфляй</td></tr><tr><td>19</td><td>Марченко Дарья</td><td>07</td><td>Гомель-2,ГОЦОР ввс</td><td>BLR</td><td>41.29</td><td>207</td><td>26</td><td>Девочки 2007г.р. и моложе - 50 баттерфляй</td></tr><tr><td>20</td><td>Борисенкова Кира</td><td>08</td><td>Минск,Янтарь</td><td>BLR</td><td>41,74</td><td>200</td><td>27</td><td>Девочки 2007г.р. и моложе - 50 баттерфляй</td></tr><tr><td>21</td><td>Случак Елизавета</td><td>07</td><td>Минск,&quot;Волна&quot;</td><td>BLR</td><td>41.77</td><td>200</td><td>28</td><td>Девочки 2007г.р. и моложе - 50 баттерфляй</td></tr><tr><td>22</td><td>Гарист Дарья</td><td>08</td><td>Калинковичи,ДЮСШ</td><td>BLR</td><td>42,35</td><td>191</td><td>29</td><td>Девочки 2007г.р. и моложе - 50 баттерфляй</td></tr><tr><td>23</td><td>Кужелко Милания</td><td>07</td><td>Калинковичи,ДЮСШ</td><td>BLR</td><td>43,06</td><td>182</td><td>30</td><td>Девочки 2007г.р. и моложе - 50 баттерфляй</td></tr><tr><td>24</td><td>Дмитриева Диана</td><td>08</td><td>Гомель-2,ГОЦОР ввс</td><td>BLR</td><td>43.12</td><td>181</td><td>31</td><td>Девочки 2007г.р. и моложе - 50 баттерфляй</td></tr><tr><td>25</td><td>Макарочкина Кира</td><td>07</td><td>Речица,СДЮШОР</td><td>BLR</td><td>43.26</td><td>180</td><td>32</td><td>Девочки 2007г.р. и моложе - 50 баттерфляй</td></tr><tr><td>26</td><td>Марьевская Виктория</td><td>07</td><td>Гомель,&quot;Гомсельмаш&quot;</td><td>BLR</td><td>43.72</td><td>174</td><td>33</td><td>Девочки 2007г.р. и моложе - 50 баттерфляй</td></tr><tr><td>27</td><td>Кремачёва Виктория</td><td>08</td><td>Калинковичи,ДЮСШ</td><td>BLR</td><td>43,77</td><td>173</td><td>34</td><td>Девочки 2007г.р. и моложе - 50 баттерфляй</td></tr><tr><td>28</td><td>Кацуба Диана</td><td>07</td><td>Речица,СДЮШОР</td><td>BLR</td><td>43.81</td><td>173</td><td>35</td><td>Девочки 2007г.р. и моложе - 50 баттерфляй</td></tr><tr><td>29</td><td>Куликова Варвара</td><td>07</td><td>Гомель-2,ГОЦОР ввс</td><td>BLR</td><td>44.1</td><td>170</td><td>36</td><td>Девочки 2007г.р. и моложе - 50 баттерфляй</td></tr><tr><td>30</td><td>Ананченко Василина</td><td>08</td><td>Гомель-2,ГОЦОР ввс</td><td>BLR</td><td>44.69</td><td>163</td><td>37</td><td>Девочки 2007г.р. и моложе - 50 баттерфляй</td></tr><tr><td>31</td><td>Зырко Влада</td><td>09</td><td>Гомель,&quot;Гомсельмаш&quot;</td><td>BLR</td><td>44.76</td><td>162</td><td>38</td><td>Девочки 2007г.р. и моложе - 50 баттерфляй</td></tr><tr><td>32</td><td>Тесленко Анастасия</td><td>07</td><td>Калинковичи,ДЮСШ</td><td>BLR</td><td>45,08</td><td>159</td><td>39</td><td>Девочки 2007г.р. и моложе - 50 баттерфляй</td></tr><tr><td>33</td><td>Парис  Дарья</td><td>07</td><td>Речица,СДЮШОР</td><td>BLR</td><td>45.85</td><td>151</td><td>40</td><td>Девочки 2007г.р. и моложе - 50 баттерфляй</td></tr><tr><td>34</td><td>Гендрикова Елизавета</td><td>07</td><td>Гомель,СДЮШОР 7</td><td>BLR</td><td>46.25</td><td>147</td><td>41</td><td>Девочки 2007г.р. и моложе - 50 баттерфляй</td></tr><tr><td>35</td><td>Абрамцева Анастасия</td><td>08</td><td>Гомель-2,ГОЦОР ввс</td><td>BLR</td><td>46.23</td><td>147</td><td>42</td><td>Девочки 2007г.р. и моложе - 50 баттерфляй</td></tr><tr><td>36</td><td>Тычкова Ангелина</td><td>08</td><td>Гомель-1,ГОЦОР ввс</td><td>BLR</td><td>46.52</td><td>144</td><td>43</td><td>Девочки 2007г.р. и моложе - 50 баттерфляй</td></tr><tr><td>37</td><td>Черношей Валерия</td><td>08</td><td>Гомель-2,ГОЦОР ввс</td><td>BLR</td><td>46.64</td><td>143</td><td>44</td><td>Девочки 2007г.р. и моложе - 50 баттерфляй</td></tr><tr><td>38</td><td>Гаева Карина</td><td>08</td><td>Гомель-2,ГОЦОР ввс</td><td>BLR</td><td>47.87</td><td>132</td><td>45</td><td>Девочки 2007г.р. и моложе - 50 баттерфляй</td></tr><tr><td>39</td><td>Будник Виктория</td><td>07</td><td>Калинковичи,ДЮСШ</td><td>BLR</td><td>48,13</td><td>130</td><td>46</td><td>Девочки 2007г.р. и моложе - 50 баттерфляй</td></tr><tr><td>40</td><td>Беляй Алина</td><td>07</td><td>Речица,СДЮШОР</td><td>BLR</td><td>50.57</td><td>112</td><td>47</td><td>Девочки 2007г.р. и моложе - 50 баттерфляй</td></tr><tr><td>41</td><td>Близнец Анастасия</td><td>08</td><td>Речица,СДЮШОР</td><td>BLR</td><td>50.93</td><td>110</td><td>48</td><td>Девочки 2007г.р. и моложе - 50 баттерфляй</td></tr><tr><td>42</td><td>Лозовая Татьяна</td><td>08</td><td>Речица,СДЮШОР</td><td>BLR</td><td>51.09</td><td>109</td><td>49</td><td>Девочки 2007г.р. и моложе - 50 баттерфляй</td></tr><tr><td>43</td><td>Шода Мария</td><td>08</td><td>Минск,&quot;Волна&quot;</td><td>BLR</td><td>51.43</td><td>107</td><td>50</td><td>Девочки 2007г.р. и моложе - 50 баттерфляй</td></tr><tr><td>44</td><td>Шибеко Виктория</td><td>07</td><td>Минск,&quot;Волна&quot;</td><td>BLR</td><td>52.07</td><td>103</td><td>51</td><td>Девочки 2007г.р. и моложе - 50 баттерфляй</td></tr><tr><td>45</td><td>Тартынская Ксения</td><td>07</td><td>Речица,СДЮШОР</td><td>BLR</td><td>53.77</td><td>93</td><td>52</td><td>Девочки 2007г.р. и моложе - 50 баттерфляй</td></tr><tr><td>46</td><td>Акудович Евгения</td><td>07</td><td>Минск,&quot;Волна&quot;</td><td>BLR</td><td>54.25</td><td>91</td><td>53</td><td>Девочки 2007г.р. и моложе - 50 баттерфляй</td></tr><tr><td>47</td><td>Хурошвили Мария</td><td>07</td><td>Могилев,СДЮШОР</td><td>BLR</td><td>54.97</td><td>87</td><td>54</td><td>Девочки 2007г.р. и моложе - 50 баттерфляй</td></tr><tr><td>48</td><td>Корниенко Елизавета</td><td>08</td><td>Речица,СДЮШОР</td><td>BLR</td><td>55.38</td><td>85</td><td>55</td><td>Девочки 2007г.р. и моложе - 50 баттерфляй</td></tr><tr><td>49</td><td>Сусло Анна</td><td>09</td><td>Гомель,&quot;Гомсельмаш&quot;</td><td>BLR</td><td>1.00,46</td><td>65</td><td>56</td><td>Девочки 2007г.р. и моложе - 50 баттерфляй</td></tr><tr><td>50</td><td>Кашина Кира</td><td>07</td><td>Минск,&quot;Волна&quot;</td><td>BLR</td><td>1.01,93</td><td>61</td><td>57</td><td>Девочки 2007г.р. и моложе - 50 баттерфляй</td></tr><tr><td>51</td><td>Бондаренко Мария</td><td>08</td><td>Минск,&quot;Волна&quot;</td><td>BLR</td><td>1.09,98</td><td>42</td><td>58</td><td>Девочки 2007г.р. и моложе - 50 баттерфляй</td></tr><tr><td>52</td><td>Штурма Марианна</td><td>08</td><td>Минск,&quot;Волна&quot;</td><td>BLR</td><td>DSQ</td><td>NULL</td><td>59</td><td>Девочки 2007г.р. и моложе - 50 баттерфляй</td></tr><tr><td>NULL</td><td>Мальчики 2007г.р. и моложе - 50 баттерфляй</td><td>NULL</td><td>NULL</td><td>NULL</td><td>NULL</td><td>NULL</td><td>60</td><td>Мальчики 2007г.р. и моложе - 50 баттерфляй</td></tr><tr><td>NULL</td><td>Ф.И. спортсмена</td><td>Год рожд.</td><td>Город, ДЮСШ</td><td>Страна</td><td>Результат</td><td>Очки</td><td>61</td><td>Мальчики 2007г.р. и моложе - 50 баттерфляй</td></tr><tr><td>1</td><td>Якимчук Арсений</td><td>07</td><td>Могилев,СДЮШОР</td><td>BLR</td><td>30.77</td><td>387</td><td>62</td><td>Мальчики 2007г.р. и моложе - 50 баттерфляй</td></tr><tr><td>2</td><td>Свяховский Владислав</td><td>07</td><td>Могилев,СДЮШОР</td><td>BLR</td><td>32.34</td><td>333</td><td>63</td><td>Мальчики 2007г.р. и моложе - 50 баттерфляй</td></tr><tr><td>3</td><td>Седаков Илья</td><td>07</td><td>Гомель-2,ГОЦОР ввс</td><td>BLR</td><td>32.89</td><td>317</td><td>64</td><td>Мальчики 2007г.р. и моложе - 50 баттерфляй</td></tr><tr><td>4</td><td>Булич Савелий</td><td>07</td><td>Минск,Янтарь</td><td>BLR</td><td>33,07</td><td>312</td><td>65</td><td>Мальчики 2007г.р. и моложе - 50 баттерфляй</td></tr><tr><td>5</td><td>Семенов Максим</td><td>07</td><td>Минск,&quot;Волна&quot;</td><td>BLR</td><td>35.39</td><td>254</td><td>66</td><td>Мальчики 2007г.р. и моложе - 50 баттерфляй</td></tr><tr><td>6</td><td>Гончаренко Артем</td><td>07</td><td>Минск,&quot;Волна&quot;</td><td>BLR</td><td>35.47</td><td>252</td><td>67</td><td>Мальчики 2007г.р. и моложе - 50 баттерфляй</td></tr><tr><td>7</td><td>Горбач Матвей</td><td>07</td><td>Бобруйск,СДЮШОР</td><td>BLR</td><td>35.64</td><td>249</td><td>68</td><td>Мальчики 2007г.р. и моложе - 50 баттерфляй</td></tr><tr><td>8</td><td>Чигилейчик Артем</td><td>07</td><td>Минск,&quot;Волна&quot;</td><td>BLR</td><td>35.63</td><td>249</td><td>69</td><td>Мальчики 2007г.р. и моложе - 50 баттерфляй</td></tr><tr><td>9</td><td>Козловский Вадим</td><td>07</td><td>Речица,Олимп</td><td>BLR</td><td>35.96</td><td>242</td><td>70</td><td>Мальчики 2007г.р. и моложе - 50 баттерфляй</td></tr><tr><td>10</td><td>Каплунов Захар</td><td>07</td><td>Могилев,СДЮШОР</td><td>BLR</td><td>35.96</td><td>242</td><td>71</td><td>Мальчики 2007г.р. и моложе - 50 баттерфляй</td></tr><tr><td>11</td><td>Лунин Алексей</td><td>07</td><td>Минск,&quot;Волна&quot;</td><td>BLR</td><td>35.98</td><td>242</td><td>72</td><td>Мальчики 2007г.р. и моложе - 50 баттерфляй</td></tr><tr><td>12</td><td>Лазько Станислав</td><td>07</td><td>Гомель-2,ГОЦОР ввс</td><td>BLR</td><td>36.2</td><td>237</td><td>73</td><td>Мальчики 2007г.р. и моложе - 50 баттерфляй</td></tr><tr><td>13</td><td>Котиков Артем</td><td>07</td><td>Могилев,СДЮШОР</td><td>BLR</td><td>36.52</td><td>231</td><td>74</td><td>Мальчики 2007г.р. и моложе - 50 баттерфляй</td></tr><tr><td>14</td><td>Купрейчик Егор</td><td>07</td><td>Бобруйск,СДЮШОР</td><td>BLR</td><td>36.81</td><td>226</td><td>75</td><td>Мальчики 2007г.р. и моложе - 50 баттерфляй</td></tr><tr><td>15</td><td>Шарий Даниил</td><td>07</td><td>Минск,&quot;Волна&quot;</td><td>BLR</td><td>37.14</td><td>220</td><td>76</td><td>Мальчики 2007г.р. и моложе - 50 баттерфляй</td></tr><tr><td>16</td><td>Тарасенко Алексей</td><td>09</td><td>Речица,Олимп</td><td>BLR</td><td>37.17</td><td>219</td><td>77</td><td>Мальчики 2007г.р. и моложе - 50 баттерфляй</td></tr><tr><td>17</td><td>Матусевич Никита</td><td>07</td><td>Минск,&quot;Волна&quot;</td><td>BLR</td><td>37.19</td><td>219</td><td>78</td><td>Мальчики 2007г.р. и моложе - 50 баттерфляй</td></tr><tr><td>18</td><td>Гринцевич Иван</td><td>07</td><td>Долгопрудный,ДЮСШ</td><td>RUS</td><td>37.37</td><td>216</td><td>79</td><td>Мальчики 2007г.р. и моложе - 50 баттерфляй</td></tr><tr><td>19</td><td>Шпарага Даниил</td><td>07</td><td>Минск,&quot;Волна&quot;</td><td>BLR</td><td>37.56</td><td>212</td><td>80</td><td>Мальчики 2007г.р. и моложе - 50 баттерфляй</td></tr><tr><td>20</td><td>Кузьмичев Ян</td><td>07</td><td>Минск,&quot;Волна&quot;</td><td>BLR</td><td>37.68</td><td>210</td><td>81</td><td>Мальчики 2007г.р. и моложе - 50 баттерфляй</td></tr><tr><td>21</td><td>Авраменко Артем</td><td>08</td><td>Минск,Янтарь</td><td>BLR</td><td>37,84</td><td>208</td><td>82</td><td>Мальчики 2007г.р. и моложе - 50 баттерфляй</td></tr><tr><td>22</td><td>Самусев Антон</td><td>07</td><td>Гомель-2,ГОЦОР ввс</td><td>BLR</td><td>37.87</td><td>207</td><td>83</td><td>Мальчики 2007г.р. и моложе - 50 баттерфляй</td></tr><tr><td>23</td><td>Проняев Кирилл</td><td>07</td><td>Долгопрудный,ДЮСШ</td><td>RUS</td><td>37.9</td><td>207</td><td>84</td><td>Мальчики 2007г.р. и моложе - 50 баттерфляй</td></tr><tr><td>24</td><td>Белов Артем</td><td>07</td><td>Гомель-1,ГОЦОР ввс</td><td>BLR</td><td>38.56</td><td>196</td><td>85</td><td>Мальчики 2007г.р. и моложе - 50 баттерфляй</td></tr><tr><td>25</td><td>Дроздов Роман</td><td>07</td><td>Гомель-2,ГОЦОР ввс</td><td>BLR</td><td>38.64</td><td>195</td><td>86</td><td>Мальчики 2007г.р. и моложе - 50 баттерфляй</td></tr><tr><td>26</td><td>Юрлов Дмитрий</td><td>09</td><td>Бобруйск,СДЮШОР</td><td>BLR</td><td>38.68</td><td>194</td><td>87</td><td>Мальчики 2007г.р. и моложе - 50 баттерфляй</td></tr><tr><td>27</td><td>Боровский Иван</td><td>07</td><td>Бобруйск,СДЮШОР</td><td>BLR</td><td>39.06</td><td>189</td><td>88</td><td>Мальчики 2007г.р. и моложе - 50 баттерфляй</td></tr><tr><td>28</td><td>Коханец Богдан</td><td>09</td><td>Бобруйск,СДЮШОР</td><td>BLR</td><td>39.29</td><td>186</td><td>89</td><td>Мальчики 2007г.р. и моложе - 50 баттерфляй</td></tr><tr><td>29</td><td>Терещенко Евгений</td><td>07</td><td>Гомель-2,ГОЦОР ввс</td><td>BLR</td><td>39.31</td><td>185</td><td>90</td><td>Мальчики 2007г.р. и моложе - 50 баттерфляй</td></tr><tr><td>30</td><td>Дергай Максим</td><td>07</td><td>Минск,&quot;Волна&quot;</td><td>BLR</td><td>39.41</td><td>184</td><td>91</td><td>Мальчики 2007г.р. и моложе - 50 баттерфляй</td></tr><tr><td>31</td><td>Пригодский Максим</td><td>08</td><td>Бобруйск,СДЮШОР</td><td>BLR</td><td>39.46</td><td>183</td><td>92</td><td>Мальчики 2007г.р. и моложе - 50 баттерфляй</td></tr><tr><td>32</td><td>Чуриков Дмитрий</td><td>07</td><td>Долгопрудный,ДЮСШ</td><td>RUS</td><td>39.45</td><td>183</td><td>93</td><td>Мальчики 2007г.р. и моложе - 50 баттерфляй</td></tr><tr><td>33</td><td>Филюта Артем</td><td>07</td><td>Гомель-1,ГОЦОР ввс</td><td>BLR</td><td>39.56</td><td>182</td><td>94</td><td>Мальчики 2007г.р. и моложе - 50 баттерфляй</td></tr><tr><td>34</td><td>Неезжалый Максим</td><td>07</td><td>Гомель-1,ГОЦОР ввс</td><td>BLR</td><td>39.67</td><td>180</td><td>95</td><td>Мальчики 2007г.р. и моложе - 50 баттерфляй</td></tr><tr><td>35</td><td>Журавков Иван</td><td>08</td><td>Речица,Олимп</td><td>BLR</td><td>40.37</td><td>171</td><td>96</td><td>Мальчики 2007г.р. и моложе - 50 баттерфляй</td></tr><tr><td>36</td><td>Войтехович Даниил</td><td>08</td><td>Минск,&quot;Волна&quot;</td><td>BLR</td><td>40.66</td><td>167</td><td>97</td><td>Мальчики 2007г.р. и моложе - 50 баттерфляй</td></tr><tr><td>37</td><td>Лосев Дмитрий</td><td>09</td><td>Бобруйск,СДЮШОР</td><td>BLR</td><td>40.85</td><td>165</td><td>98</td><td>Мальчики 2007г.р. и моложе - 50 баттерфляй</td></tr><tr><td>38</td><td>Киринский Алексей</td><td>07</td><td>Калинковичи,ДЮСШ</td><td>BLR</td><td>40.86</td><td>165</td><td>99</td><td>Мальчики 2007г.р. и моложе - 50 баттерфляй</td></tr><tr><td>39</td><td>Капариха Вадим</td><td>07</td><td>Минск,&quot;Волна&quot;</td><td>BLR</td><td>41.04</td><td>163</td><td>100</td><td>Мальчики 2007г.р. и моложе - 50 баттерфляй</td></tr><tr><td>40</td><td>Саенок Никита</td><td>07</td><td>Гомель,ДЮСШ-6</td><td>BLR</td><td>40.99</td><td>163</td><td>101</td><td>Мальчики 2007г.р. и моложе - 50 баттерфляй</td></tr><tr><td>41</td><td>Тюленков Егор</td><td>07</td><td>Гомель-1,ГОЦОР ввс</td><td>BLR</td><td>41.13</td><td>162</td><td>102</td><td>Мальчики 2007г.р. и моложе - 50 баттерфляй</td></tr><tr><td>42</td><td>Юнох Денис</td><td>07</td><td>Речица,СДЮШОР</td><td>BLR</td><td>41.25</td><td>160</td><td>103</td><td>Мальчики 2007г.р. и моложе - 50 баттерфляй</td></tr><tr><td>43</td><td>Янченко Артем</td><td>07</td><td>Калинковичи,ДЮСШ</td><td>BLR</td><td>41,39</td><td>159</td><td>104</td><td>Мальчики 2007г.р. и моложе - 50 баттерфляй</td></tr><tr><td>44</td><td>Мельников Атрем</td><td>07</td><td>Минск,&quot;Волна&quot;</td><td>BLR</td><td>41.34</td><td>159</td><td>105</td><td>Мальчики 2007г.р. и моложе - 50 баттерфляй</td></tr></table>"
                    }
                }
            ],
            "execution_count": 2
        },
        {
            "cell_type": "markdown",
            "source": "Мы приблизились к выполнению требований, теперь сконцентрируемся на разбиении множественных атрибутов на атомарные значения.\r\n\r\nПопробуем разбить Фамилию Имя:",
            "metadata": {}
        },
        {
            "cell_type": "code",
            "source": "declare @name varchar(100) = N'Евмененко София'\r\n\r\nselect @name as full_name,\r\n       iif(charindex(' ', @name)<>0, left(@name, charindex(' ', @name) - 1), @name) as last_name,\r\n       iif(charindex(' ', @name)<>0, right(@name, len(@name) - charindex(' ', @name)), null) as first_name",
            "metadata": {},
            "outputs": [
                {
                    "output_type": "display_data",
                    "data": {
                        "text/html": "(1 row affected)"
                    },
                    "metadata": {}
                },
                {
                    "output_type": "display_data",
                    "data": {
                        "text/html": "Total execution time: 00:00:00.0097392"
                    },
                    "metadata": {}
                },
                {
                    "output_type": "execute_result",
                    "execution_count": 3,
                    "data": {
                        "application/vnd.dataresource+json": {
                            "schema": {
                                "fields": [
                                    {
                                        "name": "full_name"
                                    },
                                    {
                                        "name": "last_name"
                                    },
                                    {
                                        "name": "first_name"
                                    }
                                ]
                            },
                            "data": [
                                {
                                    "0": "Евмененко София",
                                    "1": "Евмененко",
                                    "2": "София"
                                }
                            ]
                        },
                        "text/html": "<table><tr><th>full_name</th><th>last_name</th><th>first_name</th></tr><tr><td>Евмененко София</td><td>Евмененко</td><td>София</td></tr></table>"
                    },
                    "metadata": {}
                }
            ],
            "execution_count": 3
        },
        {
            "cell_type": "markdown",
            "source": "Проверим корректно ли происходит разбиение на всем множестве записей (у всех таких записей значение в колонке F1 не пусто):",
            "metadata": {}
        },
        {
            "cell_type": "code",
            "source": "-- результаты на первый взгляд положительны. \r\n--select     F2,\r\n--           iif(charindex(' ', F2)<>0, left(F2, charindex(' ', F2) - 1), F2) as last_name,\r\n--           iif(charindex(' ', F2)<>0, right(F2, len(F2) - charindex(' ', F2)), null) as first_name\r\n--from dbo.stg_Competitions   \r\n--where F1 is not null        \r\n\r\n-- но лучше убедиться убедиться лишний раз, потратив немного больше времени...\r\nselect distinct iif(charindex(' ', F2)<>0, left(F2, charindex(' ', F2) - 1), F2) as last_name\t\t   \r\nfrom dbo.stg_Competitions   \r\nwhere F1 is not null        \r\n\r\nselect distinct iif(charindex(' ', F2)<>0, right(F2, len(F2) - charindex(' ', F2)), null) as first_name\r\nfrom dbo.stg_Competitions   \r\nwhere F1 is not null        \r\n",
            "metadata": {},
            "outputs": [
                {
                    "output_type": "display_data",
                    "data": {
                        "text/html": "(324 rows affected)"
                    },
                    "metadata": {}
                },
                {
                    "output_type": "display_data",
                    "data": {
                        "text/html": "(106 rows affected)"
                    },
                    "metadata": {}
                },
                {
                    "output_type": "display_data",
                    "data": {
                        "text/html": "Total execution time: 00:00:00.0392608"
                    },
                    "metadata": {}
                },
                {
                    "output_type": "execute_result",
                    "execution_count": 7,
                    "data": {
                        "application/vnd.dataresource+json": {
                            "schema": {
                                "fields": [
                                    {
                                        "name": "last_name"
                                    }
                                ]
                            },
                            "data": [
                                {
                                    "0": "Абрамцева"
                                },
                                {
                                    "0": "Авдей"
                                },
                                {
                                    "0": "Авдейчик"
                                },
                                {
                                    "0": "Авраменко"
                                },
                                {
                                    "0": "Акудович"
                                },
                                {
                                    "0": "Акульков"
                                },
                                {
                                    "0": "Алексеев"
                                },
                                {
                                    "0": "Алесенко"
                                },
                                {
                                    "0": "Алещенко"
                                },
                                {
                                    "0": "Ананченко"
                                },
                                {
                                    "0": "Андрусевич"
                                },
                                {
                                    "0": "Астапенко"
                                },
                                {
                                    "0": "Бабенко"
                                },
                                {
                                    "0": "Багаев"
                                },
                                {
                                    "0": "Байкачев"
                                },
                                {
                                    "0": "Балахонов"
                                },
                                {
                                    "0": "Бальков"
                                },
                                {
                                    "0": "Басков"
                                },
                                {
                                    "0": "Бахметов"
                                },
                                {
                                    "0": "Безбородько"
                                },
                                {
                                    "0": "Белов"
                                },
                                {
                                    "0": "Бельцов"
                                },
                                {
                                    "0": "Беляй"
                                },
                                {
                                    "0": "Белянцев"
                                },
                                {
                                    "0": "Беспалова"
                                },
                                {
                                    "0": "Близнец"
                                },
                                {
                                    "0": "Богданович"
                                },
                                {
                                    "0": "Болдырева"
                                },
                                {
                                    "0": "Бондаренко"
                                },
                                {
                                    "0": "Борисенкова"
                                },
                                {
                                    "0": "Бориславский"
                                },
                                {
                                    "0": "Боровский"
                                },
                                {
                                    "0": "Бочкова"
                                },
                                {
                                    "0": "Бугдусевич"
                                },
                                {
                                    "0": "Бугримов"
                                },
                                {
                                    "0": "Будник"
                                },
                                {
                                    "0": "Буйвидович"
                                },
                                {
                                    "0": "Буканов"
                                },
                                {
                                    "0": "Булич"
                                },
                                {
                                    "0": "Бурлаков"
                                },
                                {
                                    "0": "Быхавцов"
                                },
                                {
                                    "0": "Вайницкая"
                                },
                                {
                                    "0": "Василевский"
                                },
                                {
                                    "0": "Васильев"
                                },
                                {
                                    "0": "Васильева"
                                },
                                {
                                    "0": "Вашуров"
                                },
                                {
                                    "0": "Вергей"
                                },
                                {
                                    "0": "Винникова"
                                },
                                {
                                    "0": "Войтехович"
                                },
                                {
                                    "0": "Володченко"
                                },
                                {
                                    "0": "Воронович"
                                },
                                {
                                    "0": "Гаева"
                                },
                                {
                                    "0": "Гак"
                                },
                                {
                                    "0": "Галай"
                                },
                                {
                                    "0": "Гарист"
                                },
                                {
                                    "0": "Гендрикова"
                                },
                                {
                                    "0": "Гисак"
                                },
                                {
                                    "0": "Гончаренко"
                                },
                                {
                                    "0": "Горбач"
                                },
                                {
                                    "0": "Горбачева"
                                },
                                {
                                    "0": "Горовая"
                                },
                                {
                                    "0": "Горшунова"
                                },
                                {
                                    "0": "Грань"
                                },
                                {
                                    "0": "Грачёв"
                                },
                                {
                                    "0": "Гриб"
                                },
                                {
                                    "0": "Гринцевич"
                                },
                                {
                                    "0": "Громыко"
                                },
                                {
                                    "0": "Гуцев"
                                },
                                {
                                    "0": "Гущин"
                                },
                                {
                                    "0": "Данильченко"
                                },
                                {
                                    "0": "Дедушкевич"
                                },
                                {
                                    "0": "Дергай"
                                },
                                {
                                    "0": "Диченков"
                                },
                                {
                                    "0": "Дмитриева"
                                },
                                {
                                    "0": "Долгий"
                                },
                                {
                                    "0": "Доличев"
                                },
                                {
                                    "0": "Дроздов"
                                },
                                {
                                    "0": "Дугина"
                                },
                                {
                                    "0": "Дурнева"
                                },
                                {
                                    "0": "Дядюченко"
                                },
                                {
                                    "0": "Евланов"
                                },
                                {
                                    "0": "Евмененко"
                                },
                                {
                                    "0": "Евминенко"
                                },
                                {
                                    "0": "Емчук"
                                },
                                {
                                    "0": "Ерашко"
                                },
                                {
                                    "0": "Ермолович"
                                },
                                {
                                    "0": "Жуков"
                                },
                                {
                                    "0": "Жуковец"
                                },
                                {
                                    "0": "Журавков"
                                },
                                {
                                    "0": "Зайцев"
                                },
                                {
                                    "0": "Зайцева"
                                },
                                {
                                    "0": "Заруцкий"
                                },
                                {
                                    "0": "Зезюля"
                                },
                                {
                                    "0": "Зиновенко"
                                },
                                {
                                    "0": "Зуб"
                                },
                                {
                                    "0": "Зырко"
                                },
                                {
                                    "0": "Иванов"
                                },
                                {
                                    "0": "Иванова"
                                },
                                {
                                    "0": "Казак"
                                },
                                {
                                    "0": "Калоцей"
                                },
                                {
                                    "0": "Калугин"
                                },
                                {
                                    "0": "Капариха"
                                },
                                {
                                    "0": "Каплунов"
                                },
                                {
                                    "0": "Карковский"
                                },
                                {
                                    "0": "Карпеко"
                                },
                                {
                                    "0": "Карпочева"
                                },
                                {
                                    "0": "Катиленец"
                                },
                                {
                                    "0": "Кацуба"
                                },
                                {
                                    "0": "Кашин"
                                },
                                {
                                    "0": "Кашина"
                                },
                                {
                                    "0": "Кизицкая"
                                },
                                {
                                    "0": "Кипень"
                                },
                                {
                                    "0": "Киринский"
                                },
                                {
                                    "0": "Киринюк"
                                },
                                {
                                    "0": "Клименок"
                                },
                                {
                                    "0": "Климов"
                                },
                                {
                                    "0": "Климова"
                                },
                                {
                                    "0": "Климович"
                                },
                                {
                                    "0": "Клысь"
                                },
                                {
                                    "0": "Клюй"
                                },
                                {
                                    "0": "Кныш"
                                },
                                {
                                    "0": "Кобец"
                                },
                                {
                                    "0": "Ковалев"
                                },
                                {
                                    "0": "Коваленок"
                                },
                                {
                                    "0": "Ковальский"
                                },
                                {
                                    "0": "Козлов"
                                },
                                {
                                    "0": "Козлова"
                                },
                                {
                                    "0": "Козловская"
                                },
                                {
                                    "0": "Козловский"
                                },
                                {
                                    "0": "Колоцей"
                                },
                                {
                                    "0": "Кондратович"
                                },
                                {
                                    "0": "Коржавина"
                                },
                                {
                                    "0": "Коржуев"
                                },
                                {
                                    "0": "Корниенко"
                                },
                                {
                                    "0": "Коростелёв"
                                },
                                {
                                    "0": "Коршак"
                                },
                                {
                                    "0": "Косилкин"
                                },
                                {
                                    "0": "Костюрин"
                                },
                                {
                                    "0": "Котиков"
                                },
                                {
                                    "0": "Котягова"
                                },
                                {
                                    "0": "Коханец"
                                },
                                {
                                    "0": "Коцепалова"
                                },
                                {
                                    "0": "Коцур"
                                },
                                {
                                    "0": "Кравченко"
                                },
                                {
                                    "0": "Кремачёва"
                                },
                                {
                                    "0": "Крот"
                                },
                                {
                                    "0": "Круковский"
                                },
                                {
                                    "0": "Кубин"
                                },
                                {
                                    "0": "Куда"
                                },
                                {
                                    "0": "Кужелко"
                                },
                                {
                                    "0": "Кузьмичев"
                                },
                                {
                                    "0": "Куликова"
                                },
                                {
                                    "0": "Купрейчик"
                                },
                                {
                                    "0": "Курленко"
                                },
                                {
                                    "0": "Лагуновский"
                                },
                                {
                                    "0": "Лазько"
                                },
                                {
                                    "0": "Лалаян"
                                },
                                {
                                    "0": "Лаппо"
                                },
                                {
                                    "0": "Лашкевич"
                                },
                                {
                                    "0": "Лебенков"
                                },
                                {
                                    "0": "Левченя"
                                },
                                {
                                    "0": "Левчук"
                                },
                                {
                                    "0": "Леденев"
                                },
                                {
                                    "0": "Лещенко"
                                },
                                {
                                    "0": "Литвяков"
                                },
                                {
                                    "0": "Лиходиевский"
                                },
                                {
                                    "0": "Лозовая"
                                },
                                {
                                    "0": "Лопатина"
                                },
                                {
                                    "0": "Лоренц"
                                },
                                {
                                    "0": "Лосев"
                                },
                                {
                                    "0": "Лунин"
                                },
                                {
                                    "0": "Лупеева"
                                },
                                {
                                    "0": "Луц"
                                },
                                {
                                    "0": "Лютик"
                                },
                                {
                                    "0": "Ляльков"
                                },
                                {
                                    "0": "Макарочкина"
                                },
                                {
                                    "0": "Максимов"
                                },
                                {
                                    "0": "Малинин"
                                },
                                {
                                    "0": "Малишевский"
                                },
                                {
                                    "0": "Мамекин"
                                },
                                {
                                    "0": "Мамонтов"
                                },
                                {
                                    "0": "Мандровский"
                                },
                                {
                                    "0": "Марченко"
                                },
                                {
                                    "0": "Марьевская"
                                },
                                {
                                    "0": "Масюкевич"
                                },
                                {
                                    "0": "Матвеенко"
                                },
                                {
                                    "0": "Матусевич"
                                },
                                {
                                    "0": "Машедо"
                                },
                                {
                                    "0": "Медведев"
                                },
                                {
                                    "0": "Мельников"
                                },
                                {
                                    "0": "Миланович"
                                },
                                {
                                    "0": "Минчук"
                                },
                                {
                                    "0": "Михасев"
                                },
                                {
                                    "0": "Михолап"
                                },
                                {
                                    "0": "Мозжерин"
                                },
                                {
                                    "0": "Мороз"
                                },
                                {
                                    "0": "Мохорев"
                                },
                                {
                                    "0": "Мудриченко"
                                },
                                {
                                    "0": "Назаренко"
                                },
                                {
                                    "0": "Наумова"
                                },
                                {
                                    "0": "Неезжалый"
                                },
                                {
                                    "0": "Никитенко"
                                },
                                {
                                    "0": "Новик"
                                },
                                {
                                    "0": "Новиков"
                                },
                                {
                                    "0": "Оленников"
                                },
                                {
                                    "0": "Омарошвили"
                                },
                                {
                                    "0": "Оргиш"
                                },
                                {
                                    "0": "Орловский"
                                },
                                {
                                    "0": "Осадчева"
                                },
                                {
                                    "0": "Осипенко"
                                },
                                {
                                    "0": "Паньков"
                                },
                                {
                                    "0": "Парванова"
                                },
                                {
                                    "0": "Парис"
                                },
                                {
                                    "0": "Пашко"
                                },
                                {
                                    "0": "Петров"
                                },
                                {
                                    "0": "Петрович"
                                },
                                {
                                    "0": "Пехота"
                                },
                                {
                                    "0": "Плевако"
                                },
                                {
                                    "0": "Поволоцкий"
                                },
                                {
                                    "0": "Подвязнова"
                                },
                                {
                                    "0": "Поздняков"
                                },
                                {
                                    "0": "Покаместов"
                                },
                                {
                                    "0": "Половинкин"
                                },
                                {
                                    "0": "Поляк"
                                },
                                {
                                    "0": "Пригодский"
                                },
                                {
                                    "0": "Проняев"
                                },
                                {
                                    "0": "Прус"
                                },
                                {
                                    "0": "Пырх"
                                },
                                {
                                    "0": "Пышник"
                                },
                                {
                                    "0": "Пятницкий"
                                },
                                {
                                    "0": "Радькова"
                                },
                                {
                                    "0": "Ракомский"
                                },
                                {
                                    "0": "Раманюга"
                                },
                                {
                                    "0": "Редюк"
                                },
                                {
                                    "0": "Римша"
                                },
                                {
                                    "0": "Рогачев"
                                },
                                {
                                    "0": "Рублевский"
                                },
                                {
                                    "0": "Руденок"
                                },
                                {
                                    "0": "Русанов"
                                },
                                {
                                    "0": "Рыбак"
                                },
                                {
                                    "0": "Рылько"
                                },
                                {
                                    "0": "Рябикова"
                                },
                                {
                                    "0": "Савицкий"
                                },
                                {
                                    "0": "Савкин"
                                },
                                {
                                    "0": "Савулева"
                                },
                                {
                                    "0": "Саенок"
                                },
                                {
                                    "0": "Самусев"
                                },
                                {
                                    "0": "Свяховский"
                                },
                                {
                                    "0": "Седаков"
                                },
                                {
                                    "0": "Семашко"
                                },
                                {
                                    "0": "Семенко"
                                },
                                {
                                    "0": "Семенов"
                                },
                                {
                                    "0": "Серикова"
                                },
                                {
                                    "0": "Сидоренко"
                                },
                                {
                                    "0": "Синькевич"
                                },
                                {
                                    "0": "Случак"
                                },
                                {
                                    "0": "Соколенко"
                                },
                                {
                                    "0": "Соколов"
                                },
                                {
                                    "0": "Соловьян"
                                },
                                {
                                    "0": "Страленя"
                                },
                                {
                                    "0": "Сурначев"
                                },
                                {
                                    "0": "Сусло"
                                },
                                {
                                    "0": "Суслова"
                                },
                                {
                                    "0": "Талюк"
                                },
                                {
                                    "0": "Тарасенко"
                                },
                                {
                                    "0": "Тартынская"
                                },
                                {
                                    "0": "Терешкин"
                                },
                                {
                                    "0": "Терещенко"
                                },
                                {
                                    "0": "Тесленко"
                                },
                                {
                                    "0": "Тимошенко"
                                },
                                {
                                    "0": "Тихонова"
                                },
                                {
                                    "0": "Тишкевич"
                                },
                                {
                                    "0": "Третьяк"
                                },
                                {
                                    "0": "Тычкова"
                                },
                                {
                                    "0": "Тюленков"
                                },
                                {
                                    "0": "Тюрло"
                                },
                                {
                                    "0": "Тябут"
                                },
                                {
                                    "0": "Утёмов"
                                },
                                {
                                    "0": "Федосенко"
                                },
                                {
                                    "0": "Филюта"
                                },
                                {
                                    "0": "Фрошин"
                                },
                                {
                                    "0": "Харитончик"
                                },
                                {
                                    "0": "Хлистунова"
                                },
                                {
                                    "0": "Хоухлянцев"
                                },
                                {
                                    "0": "Хурошвили"
                                },
                                {
                                    "0": "Чварков"
                                },
                                {
                                    "0": "Чвыров"
                                },
                                {
                                    "0": "Ченская"
                                },
                                {
                                    "0": "Ченский"
                                },
                                {
                                    "0": "Черношей"
                                },
                                {
                                    "0": "Чигилейчик"
                                },
                                {
                                    "0": "Чижевский"
                                },
                                {
                                    "0": "Чирейко"
                                },
                                {
                                    "0": "Чичкан"
                                },
                                {
                                    "0": "Чугуй"
                                },
                                {
                                    "0": "Чуриков"
                                },
                                {
                                    "0": "Шарий"
                                },
                                {
                                    "0": "Шашков"
                                },
                                {
                                    "0": "Шашолко"
                                },
                                {
                                    "0": "Шевченко"
                                },
                                {
                                    "0": "Шевчук"
                                },
                                {
                                    "0": "Шибеко"
                                },
                                {
                                    "0": "Шидловский"
                                },
                                {
                                    "0": "Шипуля"
                                },
                                {
                                    "0": "Ширко"
                                },
                                {
                                    "0": "Шкирьятов"
                                },
                                {
                                    "0": "Шкода"
                                },
                                {
                                    "0": "Шлег"
                                },
                                {
                                    "0": "Шнитко"
                                },
                                {
                                    "0": "Шода"
                                },
                                {
                                    "0": "Шпарага"
                                },
                                {
                                    "0": "Штурма"
                                },
                                {
                                    "0": "Щербаков"
                                },
                                {
                                    "0": "Щербин"
                                },
                                {
                                    "0": "Щиглевский"
                                },
                                {
                                    "0": "Юнох"
                                },
                                {
                                    "0": "Юрлов"
                                },
                                {
                                    "0": "Якимчук"
                                },
                                {
                                    "0": "Янков"
                                },
                                {
                                    "0": "Янченко"
                                },
                                {
                                    "0": "Ярош"
                                },
                                {
                                    "0": "Яцкевич"
                                },
                                {
                                    "0": "Яцук"
                                },
                                {
                                    "0": "Яцухно"
                                }
                            ]
                        },
                        "text/html": "<table><tr><th>last_name</th></tr><tr><td>Абрамцева</td></tr><tr><td>Авдей</td></tr><tr><td>Авдейчик</td></tr><tr><td>Авраменко</td></tr><tr><td>Акудович</td></tr><tr><td>Акульков</td></tr><tr><td>Алексеев</td></tr><tr><td>Алесенко</td></tr><tr><td>Алещенко</td></tr><tr><td>Ананченко</td></tr><tr><td>Андрусевич</td></tr><tr><td>Астапенко</td></tr><tr><td>Бабенко</td></tr><tr><td>Багаев</td></tr><tr><td>Байкачев</td></tr><tr><td>Балахонов</td></tr><tr><td>Бальков</td></tr><tr><td>Басков</td></tr><tr><td>Бахметов</td></tr><tr><td>Безбородько</td></tr><tr><td>Белов</td></tr><tr><td>Бельцов</td></tr><tr><td>Беляй</td></tr><tr><td>Белянцев</td></tr><tr><td>Беспалова</td></tr><tr><td>Близнец</td></tr><tr><td>Богданович</td></tr><tr><td>Болдырева</td></tr><tr><td>Бондаренко</td></tr><tr><td>Борисенкова</td></tr><tr><td>Бориславский</td></tr><tr><td>Боровский</td></tr><tr><td>Бочкова</td></tr><tr><td>Бугдусевич</td></tr><tr><td>Бугримов</td></tr><tr><td>Будник</td></tr><tr><td>Буйвидович</td></tr><tr><td>Буканов</td></tr><tr><td>Булич</td></tr><tr><td>Бурлаков</td></tr><tr><td>Быхавцов</td></tr><tr><td>Вайницкая</td></tr><tr><td>Василевский</td></tr><tr><td>Васильев</td></tr><tr><td>Васильева</td></tr><tr><td>Вашуров</td></tr><tr><td>Вергей</td></tr><tr><td>Винникова</td></tr><tr><td>Войтехович</td></tr><tr><td>Володченко</td></tr><tr><td>Воронович</td></tr><tr><td>Гаева</td></tr><tr><td>Гак</td></tr><tr><td>Галай</td></tr><tr><td>Гарист</td></tr><tr><td>Гендрикова</td></tr><tr><td>Гисак</td></tr><tr><td>Гончаренко</td></tr><tr><td>Горбач</td></tr><tr><td>Горбачева</td></tr><tr><td>Горовая</td></tr><tr><td>Горшунова</td></tr><tr><td>Грань</td></tr><tr><td>Грачёв</td></tr><tr><td>Гриб</td></tr><tr><td>Гринцевич</td></tr><tr><td>Громыко</td></tr><tr><td>Гуцев</td></tr><tr><td>Гущин</td></tr><tr><td>Данильченко</td></tr><tr><td>Дедушкевич</td></tr><tr><td>Дергай</td></tr><tr><td>Диченков</td></tr><tr><td>Дмитриева</td></tr><tr><td>Долгий</td></tr><tr><td>Доличев</td></tr><tr><td>Дроздов</td></tr><tr><td>Дугина</td></tr><tr><td>Дурнева</td></tr><tr><td>Дядюченко</td></tr><tr><td>Евланов</td></tr><tr><td>Евмененко</td></tr><tr><td>Евминенко</td></tr><tr><td>Емчук</td></tr><tr><td>Ерашко</td></tr><tr><td>Ермолович</td></tr><tr><td>Жуков</td></tr><tr><td>Жуковец</td></tr><tr><td>Журавков</td></tr><tr><td>Зайцев</td></tr><tr><td>Зайцева</td></tr><tr><td>Заруцкий</td></tr><tr><td>Зезюля</td></tr><tr><td>Зиновенко</td></tr><tr><td>Зуб</td></tr><tr><td>Зырко</td></tr><tr><td>Иванов</td></tr><tr><td>Иванова</td></tr><tr><td>Казак</td></tr><tr><td>Калоцей</td></tr><tr><td>Калугин</td></tr><tr><td>Капариха</td></tr><tr><td>Каплунов</td></tr><tr><td>Карковский</td></tr><tr><td>Карпеко</td></tr><tr><td>Карпочева</td></tr><tr><td>Катиленец</td></tr><tr><td>Кацуба</td></tr><tr><td>Кашин</td></tr><tr><td>Кашина</td></tr><tr><td>Кизицкая</td></tr><tr><td>Кипень</td></tr><tr><td>Киринский</td></tr><tr><td>Киринюк</td></tr><tr><td>Клименок</td></tr><tr><td>Климов</td></tr><tr><td>Климова</td></tr><tr><td>Климович</td></tr><tr><td>Клысь</td></tr><tr><td>Клюй</td></tr><tr><td>Кныш</td></tr><tr><td>Кобец</td></tr><tr><td>Ковалев</td></tr><tr><td>Коваленок</td></tr><tr><td>Ковальский</td></tr><tr><td>Козлов</td></tr><tr><td>Козлова</td></tr><tr><td>Козловская</td></tr><tr><td>Козловский</td></tr><tr><td>Колоцей</td></tr><tr><td>Кондратович</td></tr><tr><td>Коржавина</td></tr><tr><td>Коржуев</td></tr><tr><td>Корниенко</td></tr><tr><td>Коростелёв</td></tr><tr><td>Коршак</td></tr><tr><td>Косилкин</td></tr><tr><td>Костюрин</td></tr><tr><td>Котиков</td></tr><tr><td>Котягова</td></tr><tr><td>Коханец</td></tr><tr><td>Коцепалова</td></tr><tr><td>Коцур</td></tr><tr><td>Кравченко</td></tr><tr><td>Кремачёва</td></tr><tr><td>Крот</td></tr><tr><td>Круковский</td></tr><tr><td>Кубин</td></tr><tr><td>Куда</td></tr><tr><td>Кужелко</td></tr><tr><td>Кузьмичев</td></tr><tr><td>Куликова</td></tr><tr><td>Купрейчик</td></tr><tr><td>Курленко</td></tr><tr><td>Лагуновский</td></tr><tr><td>Лазько</td></tr><tr><td>Лалаян</td></tr><tr><td>Лаппо</td></tr><tr><td>Лашкевич</td></tr><tr><td>Лебенков</td></tr><tr><td>Левченя</td></tr><tr><td>Левчук</td></tr><tr><td>Леденев</td></tr><tr><td>Лещенко</td></tr><tr><td>Литвяков</td></tr><tr><td>Лиходиевский</td></tr><tr><td>Лозовая</td></tr><tr><td>Лопатина</td></tr><tr><td>Лоренц</td></tr><tr><td>Лосев</td></tr><tr><td>Лунин</td></tr><tr><td>Лупеева</td></tr><tr><td>Луц</td></tr><tr><td>Лютик</td></tr><tr><td>Ляльков</td></tr><tr><td>Макарочкина</td></tr><tr><td>Максимов</td></tr><tr><td>Малинин</td></tr><tr><td>Малишевский</td></tr><tr><td>Мамекин</td></tr><tr><td>Мамонтов</td></tr><tr><td>Мандровский</td></tr><tr><td>Марченко</td></tr><tr><td>Марьевская</td></tr><tr><td>Масюкевич</td></tr><tr><td>Матвеенко</td></tr><tr><td>Матусевич</td></tr><tr><td>Машедо</td></tr><tr><td>Медведев</td></tr><tr><td>Мельников</td></tr><tr><td>Миланович</td></tr><tr><td>Минчук</td></tr><tr><td>Михасев</td></tr><tr><td>Михолап</td></tr><tr><td>Мозжерин</td></tr><tr><td>Мороз</td></tr><tr><td>Мохорев</td></tr><tr><td>Мудриченко</td></tr><tr><td>Назаренко</td></tr><tr><td>Наумова</td></tr><tr><td>Неезжалый</td></tr><tr><td>Никитенко</td></tr><tr><td>Новик</td></tr><tr><td>Новиков</td></tr><tr><td>Оленников</td></tr><tr><td>Омарошвили</td></tr><tr><td>Оргиш</td></tr><tr><td>Орловский</td></tr><tr><td>Осадчева</td></tr><tr><td>Осипенко</td></tr><tr><td>Паньков</td></tr><tr><td>Парванова</td></tr><tr><td>Парис</td></tr><tr><td>Пашко</td></tr><tr><td>Петров</td></tr><tr><td>Петрович</td></tr><tr><td>Пехота</td></tr><tr><td>Плевако</td></tr><tr><td>Поволоцкий</td></tr><tr><td>Подвязнова</td></tr><tr><td>Поздняков</td></tr><tr><td>Покаместов</td></tr><tr><td>Половинкин</td></tr><tr><td>Поляк</td></tr><tr><td>Пригодский</td></tr><tr><td>Проняев</td></tr><tr><td>Прус</td></tr><tr><td>Пырх</td></tr><tr><td>Пышник</td></tr><tr><td>Пятницкий</td></tr><tr><td>Радькова</td></tr><tr><td>Ракомский</td></tr><tr><td>Раманюга</td></tr><tr><td>Редюк</td></tr><tr><td>Римша</td></tr><tr><td>Рогачев</td></tr><tr><td>Рублевский</td></tr><tr><td>Руденок</td></tr><tr><td>Русанов</td></tr><tr><td>Рыбак</td></tr><tr><td>Рылько</td></tr><tr><td>Рябикова</td></tr><tr><td>Савицкий</td></tr><tr><td>Савкин</td></tr><tr><td>Савулева</td></tr><tr><td>Саенок</td></tr><tr><td>Самусев</td></tr><tr><td>Свяховский</td></tr><tr><td>Седаков</td></tr><tr><td>Семашко</td></tr><tr><td>Семенко</td></tr><tr><td>Семенов</td></tr><tr><td>Серикова</td></tr><tr><td>Сидоренко</td></tr><tr><td>Синькевич</td></tr><tr><td>Случак</td></tr><tr><td>Соколенко</td></tr><tr><td>Соколов</td></tr><tr><td>Соловьян</td></tr><tr><td>Страленя</td></tr><tr><td>Сурначев</td></tr><tr><td>Сусло</td></tr><tr><td>Суслова</td></tr><tr><td>Талюк</td></tr><tr><td>Тарасенко</td></tr><tr><td>Тартынская</td></tr><tr><td>Терешкин</td></tr><tr><td>Терещенко</td></tr><tr><td>Тесленко</td></tr><tr><td>Тимошенко</td></tr><tr><td>Тихонова</td></tr><tr><td>Тишкевич</td></tr><tr><td>Третьяк</td></tr><tr><td>Тычкова</td></tr><tr><td>Тюленков</td></tr><tr><td>Тюрло</td></tr><tr><td>Тябут</td></tr><tr><td>Утёмов</td></tr><tr><td>Федосенко</td></tr><tr><td>Филюта</td></tr><tr><td>Фрошин</td></tr><tr><td>Харитончик</td></tr><tr><td>Хлистунова</td></tr><tr><td>Хоухлянцев</td></tr><tr><td>Хурошвили</td></tr><tr><td>Чварков</td></tr><tr><td>Чвыров</td></tr><tr><td>Ченская</td></tr><tr><td>Ченский</td></tr><tr><td>Черношей</td></tr><tr><td>Чигилейчик</td></tr><tr><td>Чижевский</td></tr><tr><td>Чирейко</td></tr><tr><td>Чичкан</td></tr><tr><td>Чугуй</td></tr><tr><td>Чуриков</td></tr><tr><td>Шарий</td></tr><tr><td>Шашков</td></tr><tr><td>Шашолко</td></tr><tr><td>Шевченко</td></tr><tr><td>Шевчук</td></tr><tr><td>Шибеко</td></tr><tr><td>Шидловский</td></tr><tr><td>Шипуля</td></tr><tr><td>Ширко</td></tr><tr><td>Шкирьятов</td></tr><tr><td>Шкода</td></tr><tr><td>Шлег</td></tr><tr><td>Шнитко</td></tr><tr><td>Шода</td></tr><tr><td>Шпарага</td></tr><tr><td>Штурма</td></tr><tr><td>Щербаков</td></tr><tr><td>Щербин</td></tr><tr><td>Щиглевский</td></tr><tr><td>Юнох</td></tr><tr><td>Юрлов</td></tr><tr><td>Якимчук</td></tr><tr><td>Янков</td></tr><tr><td>Янченко</td></tr><tr><td>Ярош</td></tr><tr><td>Яцкевич</td></tr><tr><td>Яцук</td></tr><tr><td>Яцухно</td></tr></table>"
                    },
                    "metadata": {}
                },
                {
                    "output_type": "execute_result",
                    "execution_count": 7,
                    "data": {
                        "application/vnd.dataresource+json": {
                            "schema": {
                                "fields": [
                                    {
                                        "name": "first_name"
                                    }
                                ]
                            },
                            "data": [
                                {
                                    "0": " Антон"
                                },
                                {
                                    "0": " Дарья"
                                },
                                {
                                    "0": " Иван"
                                },
                                {
                                    "0": "Александр"
                                },
                                {
                                    "0": "Александра"
                                },
                                {
                                    "0": "Алексей"
                                },
                                {
                                    "0": "Алеся"
                                },
                                {
                                    "0": "Алина"
                                },
                                {
                                    "0": "Амина"
                                },
                                {
                                    "0": "Анастасия"
                                },
                                {
                                    "0": "Ангелина"
                                },
                                {
                                    "0": "Ангелина  (в/к)"
                                },
                                {
                                    "0": "Андрей"
                                },
                                {
                                    "0": "Анна"
                                },
                                {
                                    "0": "Антон"
                                },
                                {
                                    "0": "Арина"
                                },
                                {
                                    "0": "Арсений"
                                },
                                {
                                    "0": "Артем"
                                },
                                {
                                    "0": "Атрем"
                                },
                                {
                                    "0": "Богдан"
                                },
                                {
                                    "0": "Вадим"
                                },
                                {
                                    "0": "Валдислав"
                                },
                                {
                                    "0": "Валерия"
                                },
                                {
                                    "0": "Варвара"
                                },
                                {
                                    "0": "Василина"
                                },
                                {
                                    "0": "Вера"
                                },
                                {
                                    "0": "Вероника"
                                },
                                {
                                    "0": "Виктория"
                                },
                                {
                                    "0": "Виталина"
                                },
                                {
                                    "0": "Влад"
                                },
                                {
                                    "0": "Влада"
                                },
                                {
                                    "0": "Владимир"
                                },
                                {
                                    "0": "Владислав"
                                },
                                {
                                    "0": "Владислава"
                                },
                                {
                                    "0": "Вячеслав"
                                },
                                {
                                    "0": "Георгий"
                                },
                                {
                                    "0": "Григорий"
                                },
                                {
                                    "0": "Даниил"
                                },
                                {
                                    "0": "Данила"
                                },
                                {
                                    "0": "Дарья"
                                },
                                {
                                    "0": "Денис"
                                },
                                {
                                    "0": "Диана"
                                },
                                {
                                    "0": "Дмитрий"
                                },
                                {
                                    "0": "Дмитрий (в/к)"
                                },
                                {
                                    "0": "Евгений"
                                },
                                {
                                    "0": "Евгения"
                                },
                                {
                                    "0": "Егор"
                                },
                                {
                                    "0": "Екатерина"
                                },
                                {
                                    "0": "Елизавета"
                                },
                                {
                                    "0": "Захар"
                                },
                                {
                                    "0": "Иван"
                                },
                                {
                                    "0": "Иван (в/к)"
                                },
                                {
                                    "0": "Игнат"
                                },
                                {
                                    "0": "икита "
                                },
                                {
                                    "0": "Илья"
                                },
                                {
                                    "0": "Инна"
                                },
                                {
                                    "0": "Карина"
                                },
                                {
                                    "0": "Кира"
                                },
                                {
                                    "0": "Кирилл"
                                },
                                {
                                    "0": "Клим"
                                },
                                {
                                    "0": "Константин"
                                },
                                {
                                    "0": "Кристина"
                                },
                                {
                                    "0": "Ксения"
                                },
                                {
                                    "0": "Леонид"
                                },
                                {
                                    "0": "Максим"
                                },
                                {
                                    "0": "Марианна"
                                },
                                {
                                    "0": "Марина"
                                },
                                {
                                    "0": "Мария"
                                },
                                {
                                    "0": "Марк"
                                },
                                {
                                    "0": "Матвей"
                                },
                                {
                                    "0": "Матвей (в/к)"
                                },
                                {
                                    "0": "Милания"
                                },
                                {
                                    "0": "Михаил"
                                },
                                {
                                    "0": "Надежда"
                                },
                                {
                                    "0": "Назар"
                                },
                                {
                                    "0": "Никита"
                                },
                                {
                                    "0": "Николай"
                                },
                                {
                                    "0": "Оксана"
                                },
                                {
                                    "0": "Олег"
                                },
                                {
                                    "0": "Ольга"
                                },
                                {
                                    "0": "Павел"
                                },
                                {
                                    "0": "Петр"
                                },
                                {
                                    "0": "Платон"
                                },
                                {
                                    "0": "Полина"
                                },
                                {
                                    "0": "Родион"
                                },
                                {
                                    "0": "Рома"
                                },
                                {
                                    "0": "Роман"
                                },
                                {
                                    "0": "Ростислав"
                                },
                                {
                                    "0": "Руслан"
                                },
                                {
                                    "0": "Савелий"
                                },
                                {
                                    "0": "Сергей"
                                },
                                {
                                    "0": "София"
                                },
                                {
                                    "0": "София (в/к)"
                                },
                                {
                                    "0": "Станислав"
                                },
                                {
                                    "0": "Стас"
                                },
                                {
                                    "0": "Степан"
                                },
                                {
                                    "0": "Татьяна"
                                },
                                {
                                    "0": "Тимофей"
                                },
                                {
                                    "0": "Ульяна"
                                },
                                {
                                    "0": "Филат"
                                },
                                {
                                    "0": "Филипп"
                                },
                                {
                                    "0": "Юлия"
                                },
                                {
                                    "0": "Яков"
                                },
                                {
                                    "0": "Ян"
                                },
                                {
                                    "0": "Яна"
                                },
                                {
                                    "0": "Ярослав"
                                }
                            ]
                        },
                        "text/html": "<table><tr><th>first_name</th></tr><tr><td> Антон</td></tr><tr><td> Дарья</td></tr><tr><td> Иван</td></tr><tr><td>Александр</td></tr><tr><td>Александра</td></tr><tr><td>Алексей</td></tr><tr><td>Алеся</td></tr><tr><td>Алина</td></tr><tr><td>Амина</td></tr><tr><td>Анастасия</td></tr><tr><td>Ангелина</td></tr><tr><td>Ангелина  (в/к)</td></tr><tr><td>Андрей</td></tr><tr><td>Анна</td></tr><tr><td>Антон</td></tr><tr><td>Арина</td></tr><tr><td>Арсений</td></tr><tr><td>Артем</td></tr><tr><td>Атрем</td></tr><tr><td>Богдан</td></tr><tr><td>Вадим</td></tr><tr><td>Валдислав</td></tr><tr><td>Валерия</td></tr><tr><td>Варвара</td></tr><tr><td>Василина</td></tr><tr><td>Вера</td></tr><tr><td>Вероника</td></tr><tr><td>Виктория</td></tr><tr><td>Виталина</td></tr><tr><td>Влад</td></tr><tr><td>Влада</td></tr><tr><td>Владимир</td></tr><tr><td>Владислав</td></tr><tr><td>Владислава</td></tr><tr><td>Вячеслав</td></tr><tr><td>Георгий</td></tr><tr><td>Григорий</td></tr><tr><td>Даниил</td></tr><tr><td>Данила</td></tr><tr><td>Дарья</td></tr><tr><td>Денис</td></tr><tr><td>Диана</td></tr><tr><td>Дмитрий</td></tr><tr><td>Дмитрий (в/к)</td></tr><tr><td>Евгений</td></tr><tr><td>Евгения</td></tr><tr><td>Егор</td></tr><tr><td>Екатерина</td></tr><tr><td>Елизавета</td></tr><tr><td>Захар</td></tr><tr><td>Иван</td></tr><tr><td>Иван (в/к)</td></tr><tr><td>Игнат</td></tr><tr><td>икита </td></tr><tr><td>Илья</td></tr><tr><td>Инна</td></tr><tr><td>Карина</td></tr><tr><td>Кира</td></tr><tr><td>Кирилл</td></tr><tr><td>Клим</td></tr><tr><td>Константин</td></tr><tr><td>Кристина</td></tr><tr><td>Ксения</td></tr><tr><td>Леонид</td></tr><tr><td>Максим</td></tr><tr><td>Марианна</td></tr><tr><td>Марина</td></tr><tr><td>Мария</td></tr><tr><td>Марк</td></tr><tr><td>Матвей</td></tr><tr><td>Матвей (в/к)</td></tr><tr><td>Милания</td></tr><tr><td>Михаил</td></tr><tr><td>Надежда</td></tr><tr><td>Назар</td></tr><tr><td>Никита</td></tr><tr><td>Николай</td></tr><tr><td>Оксана</td></tr><tr><td>Олег</td></tr><tr><td>Ольга</td></tr><tr><td>Павел</td></tr><tr><td>Петр</td></tr><tr><td>Платон</td></tr><tr><td>Полина</td></tr><tr><td>Родион</td></tr><tr><td>Рома</td></tr><tr><td>Роман</td></tr><tr><td>Ростислав</td></tr><tr><td>Руслан</td></tr><tr><td>Савелий</td></tr><tr><td>Сергей</td></tr><tr><td>София</td></tr><tr><td>София (в/к)</td></tr><tr><td>Станислав</td></tr><tr><td>Стас</td></tr><tr><td>Степан</td></tr><tr><td>Татьяна</td></tr><tr><td>Тимофей</td></tr><tr><td>Ульяна</td></tr><tr><td>Филат</td></tr><tr><td>Филипп</td></tr><tr><td>Юлия</td></tr><tr><td>Яков</td></tr><tr><td>Ян</td></tr><tr><td>Яна</td></tr><tr><td>Ярослав</td></tr></table>"
                    },
                    "metadata": {}
                }
            ],
            "execution_count": 7
        },
        {
            "cell_type": "markdown",
            "source": "Время на data profiling было потрачено не зря!\r\n\r\n<img src=\"https://github.com/timoti1/T-SQL/blob/master/SQL/img/etl/baddata-firstname.png?raw=1\" />\r\n\r\nВ поле ```first_name``` нужно взять лишь первое слово (если их несколько):\r\n",
            "metadata": {}
        },
        {
            "cell_type": "code",
            "source": "select  left(first_name, len(first_name) - charindex(' ', reverse(first_name))) first_name\r\nfrom (\r\n    select distinct iif(charindex(' ', F2)<>0, right(F2, len(F2) - charindex(' ', F2)), null) as first_name\r\n    from dbo.stg_Competitions   \r\n    where F1 is not null   \r\n) q",
            "metadata": {},
            "outputs": [
                {
                    "output_type": "display_data",
                    "data": {
                        "text/html": "(106 rows affected)"
                    },
                    "metadata": {}
                },
                {
                    "output_type": "display_data",
                    "data": {
                        "text/html": "Total execution time: 00:00:00.0142753"
                    },
                    "metadata": {}
                },
                {
                    "output_type": "execute_result",
                    "execution_count": 8,
                    "data": {
                        "application/vnd.dataresource+json": {
                            "schema": {
                                "fields": [
                                    {
                                        "name": "first_name"
                                    }
                                ]
                            },
                            "data": [
                                {
                                    "0": ""
                                },
                                {
                                    "0": ""
                                },
                                {
                                    "0": ""
                                },
                                {
                                    "0": "Александр"
                                },
                                {
                                    "0": "Александра"
                                },
                                {
                                    "0": "Алексей"
                                },
                                {
                                    "0": "Алеся"
                                },
                                {
                                    "0": "Алина"
                                },
                                {
                                    "0": "Амина"
                                },
                                {
                                    "0": "Анастасия"
                                },
                                {
                                    "0": "Ангелина"
                                },
                                {
                                    "0": "Ангелина "
                                },
                                {
                                    "0": "Андрей"
                                },
                                {
                                    "0": "Анна"
                                },
                                {
                                    "0": "Антон"
                                },
                                {
                                    "0": "Арина"
                                },
                                {
                                    "0": "Арсений"
                                },
                                {
                                    "0": "Артем"
                                },
                                {
                                    "0": "Атрем"
                                },
                                {
                                    "0": "Богдан"
                                },
                                {
                                    "0": "Вадим"
                                },
                                {
                                    "0": "Валдислав"
                                },
                                {
                                    "0": "Валерия"
                                },
                                {
                                    "0": "Варвара"
                                },
                                {
                                    "0": "Василина"
                                },
                                {
                                    "0": "Вера"
                                },
                                {
                                    "0": "Вероника"
                                },
                                {
                                    "0": "Виктория"
                                },
                                {
                                    "0": "Виталина"
                                },
                                {
                                    "0": "Влад"
                                },
                                {
                                    "0": "Влада"
                                },
                                {
                                    "0": "Владимир"
                                },
                                {
                                    "0": "Владислав"
                                },
                                {
                                    "0": "Владислава"
                                },
                                {
                                    "0": "Вячеслав"
                                },
                                {
                                    "0": "Георгий"
                                },
                                {
                                    "0": "Григорий"
                                },
                                {
                                    "0": "Даниил"
                                },
                                {
                                    "0": "Данила"
                                },
                                {
                                    "0": "Дарья"
                                },
                                {
                                    "0": "Денис"
                                },
                                {
                                    "0": "Диана"
                                },
                                {
                                    "0": "Дмитрий"
                                },
                                {
                                    "0": "Дмитрий"
                                },
                                {
                                    "0": "Евгений"
                                },
                                {
                                    "0": "Евгения"
                                },
                                {
                                    "0": "Егор"
                                },
                                {
                                    "0": "Екатерина"
                                },
                                {
                                    "0": "Елизавета"
                                },
                                {
                                    "0": "Захар"
                                },
                                {
                                    "0": "Иван"
                                },
                                {
                                    "0": "Иван"
                                },
                                {
                                    "0": "Игнат"
                                },
                                {
                                    "0": "икит"
                                },
                                {
                                    "0": "Илья"
                                },
                                {
                                    "0": "Инна"
                                },
                                {
                                    "0": "Карина"
                                },
                                {
                                    "0": "Кира"
                                },
                                {
                                    "0": "Кирилл"
                                },
                                {
                                    "0": "Клим"
                                },
                                {
                                    "0": "Константин"
                                },
                                {
                                    "0": "Кристина"
                                },
                                {
                                    "0": "Ксения"
                                },
                                {
                                    "0": "Леонид"
                                },
                                {
                                    "0": "Максим"
                                },
                                {
                                    "0": "Марианна"
                                },
                                {
                                    "0": "Марина"
                                },
                                {
                                    "0": "Мария"
                                },
                                {
                                    "0": "Марк"
                                },
                                {
                                    "0": "Матвей"
                                },
                                {
                                    "0": "Матвей"
                                },
                                {
                                    "0": "Милания"
                                },
                                {
                                    "0": "Михаил"
                                },
                                {
                                    "0": "Надежда"
                                },
                                {
                                    "0": "Назар"
                                },
                                {
                                    "0": "Никита"
                                },
                                {
                                    "0": "Николай"
                                },
                                {
                                    "0": "Оксана"
                                },
                                {
                                    "0": "Олег"
                                },
                                {
                                    "0": "Ольга"
                                },
                                {
                                    "0": "Павел"
                                },
                                {
                                    "0": "Петр"
                                },
                                {
                                    "0": "Платон"
                                },
                                {
                                    "0": "Полина"
                                },
                                {
                                    "0": "Родион"
                                },
                                {
                                    "0": "Рома"
                                },
                                {
                                    "0": "Роман"
                                },
                                {
                                    "0": "Ростислав"
                                },
                                {
                                    "0": "Руслан"
                                },
                                {
                                    "0": "Савелий"
                                },
                                {
                                    "0": "Сергей"
                                },
                                {
                                    "0": "София"
                                },
                                {
                                    "0": "София"
                                },
                                {
                                    "0": "Станислав"
                                },
                                {
                                    "0": "Стас"
                                },
                                {
                                    "0": "Степан"
                                },
                                {
                                    "0": "Татьяна"
                                },
                                {
                                    "0": "Тимофей"
                                },
                                {
                                    "0": "Ульяна"
                                },
                                {
                                    "0": "Филат"
                                },
                                {
                                    "0": "Филипп"
                                },
                                {
                                    "0": "Юлия"
                                },
                                {
                                    "0": "Яков"
                                },
                                {
                                    "0": "Ян"
                                },
                                {
                                    "0": "Яна"
                                },
                                {
                                    "0": "Ярослав"
                                }
                            ]
                        },
                        "text/html": "<table><tr><th>first_name</th></tr><tr><td></td></tr><tr><td></td></tr><tr><td></td></tr><tr><td>Александр</td></tr><tr><td>Александра</td></tr><tr><td>Алексей</td></tr><tr><td>Алеся</td></tr><tr><td>Алина</td></tr><tr><td>Амина</td></tr><tr><td>Анастасия</td></tr><tr><td>Ангелина</td></tr><tr><td>Ангелина </td></tr><tr><td>Андрей</td></tr><tr><td>Анна</td></tr><tr><td>Антон</td></tr><tr><td>Арина</td></tr><tr><td>Арсений</td></tr><tr><td>Артем</td></tr><tr><td>Атрем</td></tr><tr><td>Богдан</td></tr><tr><td>Вадим</td></tr><tr><td>Валдислав</td></tr><tr><td>Валерия</td></tr><tr><td>Варвара</td></tr><tr><td>Василина</td></tr><tr><td>Вера</td></tr><tr><td>Вероника</td></tr><tr><td>Виктория</td></tr><tr><td>Виталина</td></tr><tr><td>Влад</td></tr><tr><td>Влада</td></tr><tr><td>Владимир</td></tr><tr><td>Владислав</td></tr><tr><td>Владислава</td></tr><tr><td>Вячеслав</td></tr><tr><td>Георгий</td></tr><tr><td>Григорий</td></tr><tr><td>Даниил</td></tr><tr><td>Данила</td></tr><tr><td>Дарья</td></tr><tr><td>Денис</td></tr><tr><td>Диана</td></tr><tr><td>Дмитрий</td></tr><tr><td>Дмитрий</td></tr><tr><td>Евгений</td></tr><tr><td>Евгения</td></tr><tr><td>Егор</td></tr><tr><td>Екатерина</td></tr><tr><td>Елизавета</td></tr><tr><td>Захар</td></tr><tr><td>Иван</td></tr><tr><td>Иван</td></tr><tr><td>Игнат</td></tr><tr><td>икит</td></tr><tr><td>Илья</td></tr><tr><td>Инна</td></tr><tr><td>Карина</td></tr><tr><td>Кира</td></tr><tr><td>Кирилл</td></tr><tr><td>Клим</td></tr><tr><td>Константин</td></tr><tr><td>Кристина</td></tr><tr><td>Ксения</td></tr><tr><td>Леонид</td></tr><tr><td>Максим</td></tr><tr><td>Марианна</td></tr><tr><td>Марина</td></tr><tr><td>Мария</td></tr><tr><td>Марк</td></tr><tr><td>Матвей</td></tr><tr><td>Матвей</td></tr><tr><td>Милания</td></tr><tr><td>Михаил</td></tr><tr><td>Надежда</td></tr><tr><td>Назар</td></tr><tr><td>Никита</td></tr><tr><td>Николай</td></tr><tr><td>Оксана</td></tr><tr><td>Олег</td></tr><tr><td>Ольга</td></tr><tr><td>Павел</td></tr><tr><td>Петр</td></tr><tr><td>Платон</td></tr><tr><td>Полина</td></tr><tr><td>Родион</td></tr><tr><td>Рома</td></tr><tr><td>Роман</td></tr><tr><td>Ростислав</td></tr><tr><td>Руслан</td></tr><tr><td>Савелий</td></tr><tr><td>Сергей</td></tr><tr><td>София</td></tr><tr><td>София</td></tr><tr><td>Станислав</td></tr><tr><td>Стас</td></tr><tr><td>Степан</td></tr><tr><td>Татьяна</td></tr><tr><td>Тимофей</td></tr><tr><td>Ульяна</td></tr><tr><td>Филат</td></tr><tr><td>Филипп</td></tr><tr><td>Юлия</td></tr><tr><td>Яков</td></tr><tr><td>Ян</td></tr><tr><td>Яна</td></tr><tr><td>Ярослав</td></tr></table>"
                    },
                    "metadata": {}
                }
            ],
            "execution_count": 8
        },
        {
            "cell_type": "markdown",
            "source": "Сделаем подобные проверки для каждого поля. Подкорректируем формулы извлечения атрибутов для всех имеющихся issue.\r\n\r\nЗаметим, помимо прочего, что у всех атрибутов могут быть пробелы как До, так и После их значения. Будем применять ```ltrim(rtrim(value))```.\r\n\r\n### Все это - data profiling и меры по очистке данных!\r\nОчевидно, мы не можем исправить все возможные проблемы. В таком случае, часть данных будет загружена с ошибками.\r\n\r\n### Высокий процент ошибок парсера говорит как о плохом качестве исходных данных, так и о плохой работе ETL-специалиста в части его подготовительной(исследовательской) работы перед написанием ETL.\r\n",
            "metadata": {}
        },
        {
            "cell_type": "markdown",
            "source": "Еще одна проблема - результаты заплывов (время). Строки не находятся в едином формате и не конвертируются в тип ```time(2)```.\r\n\r\nПримеры значений: ```'44.1'; '42,35'; 'DSQ'; '1.09,98', '59'```. Среди значений времени присутствуют строки.\r\n\r\nБудем разбивать значения этого поля на результаты-время и результаты-признак дисквалификации. При этом само результаты-время разложим на компоненты hh-mm-ss-ms с намерением впоследствии применить функцию ```timefromparts(hh, mm, ss, ms, precision)```",
            "metadata": {}
        },
        {
            "cell_type": "code",
            "source": "declare @result varchar(100) = ''\r\n\r\n--рекурсивная cte для разбиения строки-времени на отдельные составляющие-\"тоукены\"\r\n;with cte_parse_time\r\nas\r\n(\r\n    select left(result, len(result) - patindex('%[:,.]%', reverse(result))) left_to_parse, \r\n\t       try_parse(right(result, patindex('%[:,.]%', reverse(result)) - 1) as int) token,\r\n\t\t   it = 1,\r\n\t\t   id\r\n    from (values(1, '44.1'), (2, '42,35'), (3, '1.09,98')) query(id, result)\r\n    union all\r\n    select iif(patindex('%[:,.]%', reverse(left_to_parse)) <> 0, left(left_to_parse, len(left_to_parse) - patindex('%[:,.]%', reverse(left_to_parse))), '0') left_to_parse, \r\n\t       try_parse(iif(patindex('%[:,.]%', reverse(left_to_parse)) <> 0, right(left_to_parse, patindex('%[:,.]%', reverse(left_to_parse)) - 1), left_to_parse) as int) token,\r\n\t\t   it = it + 1,\r\n\t\t   id\t   \r\n    from cte_parse_time\r\n\twhere it < 4 \t\r\n)\r\nselect * from cte_parse_time order by id, it",
            "metadata": {},
            "outputs": [
                {
                    "output_type": "display_data",
                    "data": {
                        "text/html": "(12 rows affected)"
                    },
                    "metadata": {}
                },
                {
                    "output_type": "display_data",
                    "data": {
                        "text/html": "Total execution time: 00:00:00.1411529"
                    },
                    "metadata": {}
                },
                {
                    "output_type": "execute_result",
                    "metadata": {},
                    "execution_count": 1,
                    "data": {
                        "application/vnd.dataresource+json": {
                            "schema": {
                                "fields": [
                                    {
                                        "name": "left_to_parse"
                                    },
                                    {
                                        "name": "token"
                                    },
                                    {
                                        "name": "it"
                                    },
                                    {
                                        "name": "id"
                                    }
                                ]
                            },
                            "data": [
                                {
                                    "0": "44",
                                    "1": "1",
                                    "2": "1",
                                    "3": "1"
                                },
                                {
                                    "0": "0",
                                    "1": "44",
                                    "2": "2",
                                    "3": "1"
                                },
                                {
                                    "0": "0",
                                    "1": "0",
                                    "2": "3",
                                    "3": "1"
                                },
                                {
                                    "0": "0",
                                    "1": "0",
                                    "2": "4",
                                    "3": "1"
                                },
                                {
                                    "0": "42",
                                    "1": "35",
                                    "2": "1",
                                    "3": "2"
                                },
                                {
                                    "0": "0",
                                    "1": "42",
                                    "2": "2",
                                    "3": "2"
                                },
                                {
                                    "0": "0",
                                    "1": "0",
                                    "2": "3",
                                    "3": "2"
                                },
                                {
                                    "0": "0",
                                    "1": "0",
                                    "2": "4",
                                    "3": "2"
                                },
                                {
                                    "0": "1.09",
                                    "1": "98",
                                    "2": "1",
                                    "3": "3"
                                },
                                {
                                    "0": "1",
                                    "1": "9",
                                    "2": "2",
                                    "3": "3"
                                },
                                {
                                    "0": "0",
                                    "1": "1",
                                    "2": "3",
                                    "3": "3"
                                },
                                {
                                    "0": "0",
                                    "1": "0",
                                    "2": "4",
                                    "3": "3"
                                }
                            ]
                        },
                        "text/html": "<table><tr><th>left_to_parse</th><th>token</th><th>it</th><th>id</th></tr><tr><td>44</td><td>1</td><td>1</td><td>1</td></tr><tr><td>0</td><td>44</td><td>2</td><td>1</td></tr><tr><td>0</td><td>0</td><td>3</td><td>1</td></tr><tr><td>0</td><td>0</td><td>4</td><td>1</td></tr><tr><td>42</td><td>35</td><td>1</td><td>2</td></tr><tr><td>0</td><td>42</td><td>2</td><td>2</td></tr><tr><td>0</td><td>0</td><td>3</td><td>2</td></tr><tr><td>0</td><td>0</td><td>4</td><td>2</td></tr><tr><td>1.09</td><td>98</td><td>1</td><td>3</td></tr><tr><td>1</td><td>9</td><td>2</td><td>3</td></tr><tr><td>0</td><td>1</td><td>3</td><td>3</td></tr><tr><td>0</td><td>0</td><td>4</td><td>3</td></tr></table>"
                    }
                }
            ],
            "execution_count": 1
        },
        {
            "cell_type": "markdown",
            "source": "Теперь соберем все вместе.\r\n\r\n### Окончательный вариант:",
            "metadata": {}
        },
        {
            "cell_type": "code",
            "source": ";with cte_trim_fields\r\nas\r\n(\r\n    select ltrim(rtrim(F1)) as F1,\r\n\t       ltrim(rtrim(F2)) as F2,\r\n\t\t   ltrim(rtrim(F3)) as F3,\r\n\t\t   ltrim(rtrim(F4)) as F4,\r\n\t\t   ltrim(rtrim(F5)) as F5,\r\n\t\t   ltrim(rtrim(F6)) as F6,\r\n\t\t   ltrim(rtrim(F7)) as F7,\r\n\t\t   id\r\n\tfrom stg_Competitions\r\n),\r\ncte_list_of_competition_days\r\nas\r\n(\r\n    select c.id, \r\n           c.F2 as competition_day\r\n    from dbo.stg_Competitions c    \r\n    join dbo.stg_Competitions c3 on c.id+3 = c3.id\r\n    where c3.F1 = '1' and (charindex('-', c.F2)<>0)\r\n),\r\ncte_list_of_group_discipline\r\nas\r\n(\r\n    select c.id, \r\n           c.F2 as group_discipline\r\n    from cte_trim_fields c\r\n    join cte_trim_fields c1 on c.id+1 = c1.id\r\n    join cte_trim_fields c2 on c.id+2 = c2.id\r\n    where (c1.F1 = '1' and (charindex('-', c.F2)<>0)) or \r\n          (c2.F1 = '1' and (charindex('-', c.F2)<>0))\r\n),\r\ncte_list_of_ranges_competition_days\r\nas\r\n(\r\n    select id start_id, \r\n\t       lead(id) over(order by id) end_id\r\n    from cte_list_of_competition_days\r\n),\r\ncte_list_of_ranges_discipline\r\nas\r\n(\r\n    select id start_id, \r\n\t       lead(id) over(order by id) end_id\r\n    from cte_list_of_group_discipline\r\n),\r\ncte_pivot\r\nas\r\n(\r\n\tselect c.*, gd.group_discipline, cd.competition_day\r\n\tfrom cte_trim_fields c\r\n\tjoin cte_list_of_ranges_discipline rd        on c.id between rd.start_id and case when rd.end_id-1 is not null then rd.end_id-1 else (select count(1) from dbo.stg_Competitions) end\r\n\tjoin cte_list_of_group_discipline gd         on gd.id = rd.start_id\r\n\tjoin cte_list_of_ranges_competition_days rcd on c.id between rcd.start_id and case when rcd.end_id-1 is not null then rcd.end_id-1 else (select count(1) from dbo.stg_Competitions) end\r\n\tjoin cte_list_of_competition_days cd         on cd.id = rcd.start_id \r\n),\r\ncte_transform\r\nas\r\n(\r\n\tselect \r\n\t       F1 as place,\r\n\r\n\t\t   iif(charindex(' ', F2)<>0, left(F2, charindex(' ', F2) - 1), F2) as last_name,\r\n\t\t   iif(charindex(' ', F2)<>0, right(F2, len(F2) - charindex(' ', F2)), null) as first_name,\r\n\r\n\t\t   iif(len(F3)=2, iif(left(F3, 1) in ('8','9'), '19'+F3,'20'+F3), F3) as birth_year,\r\n\r\n\t\t   iif(charindex(',', F4)<>0, left(F4, charindex(',', F4) - 1), F4) as city,\r\n\t\t   iif(charindex(',', F4)<>0, right(F4, len(F4) - charindex(',', F4)), null) as team,\r\n\t\t   \r\n\t\t   F5 as country,\t \r\n\t\t  \r\n\t\t   iif(charindex('D', F6)=0, iif(len(F6)=2, F6+'.00', F6), null) as result,\r\n\t\t   iif(charindex('D', F6)<>0, F6, null) as disc,\r\n\t\t   \r\n\t\t   F7 as points,\r\n   \t\t   \r\n\t\t   rtrim(left(group_discipline, len(group_discipline) - charindex('-', reverse(group_discipline)))) as athlete_group,\r\n\t\t   ltrim(right(group_discipline, charindex('-', reverse(group_discipline)) - 1)) as discipline,\r\n\t\t   \r\n\t\t   ltrim(right(competition_day, len(competition_day) - charindex('-', competition_day))) as [date],\r\n\r\n\t\t   id\r\n\tfrom cte_pivot\r\n\twhere F1 is not null\r\n),\r\ncte_parse_time\r\nas\r\n(\r\n    select left(result, len(result) - patindex('%[:,.]%', reverse(result))) left_to_parse, \r\n\t       try_parse(right(result, patindex('%[:,.]%', reverse(result)) - 1) as int) token,\r\n\t\t   it = 1,\r\n\t\t   id\r\n    from cte_transform\r\n    union all\r\n    select iif(patindex('%[:,.]%', reverse(left_to_parse)) <> 0, left(left_to_parse, len(left_to_parse) - patindex('%[:,.]%', reverse(left_to_parse))), '0') left_to_parse, \r\n\t       try_parse(iif(patindex('%[:,.]%', reverse(left_to_parse)) <> 0, right(left_to_parse, patindex('%[:,.]%', reverse(left_to_parse)) - 1), left_to_parse) as int) token,\r\n\t\t   it = it + 1,\r\n\t\t   id\r\n    from cte_parse_time\r\n\twhere it < 4 \t\r\n), \r\ncte_clean_and_format\r\nas\r\n(\r\n    select try_parse(place as int) place,\r\n\t\t   left(last_name, len(last_name) - charindex(' ', reverse(last_name))) last_name,\r\n\t       left(first_name, len(first_name) - charindex(' ', reverse(first_name))) first_name,\r\n\t\t   try_parse(birth_year as int) birth_year,\r\n\t\t   city,\r\n\t\t   replace(team, '\"', '') team,\r\n\t\t   country,\r\n\t\t   timefromparts(h.token, m.token, s.token, ms.token, 2) result,\r\n\t\t   disc,\r\n\t\t   try_parse(points as int) points,\t\t   \r\n\t\t   athlete_group,\t\t\t   \r\n\t\t   try_parse(left(discipline, charindex(' ', discipline)) as int) distance,\r\n\t       right(discipline, len(discipline) - charindex(' ', discipline) ) as style,\r\n\t\t   try_convert(date, [date], 104) [date],\r\n\t\t   t.id\r\n\tfrom cte_transform t\r\n\tjoin cte_parse_time h on t.id = h.id and h.it = 4\r\n\tjoin cte_parse_time m on t.id = m.id and m.it = 3\r\n\tjoin cte_parse_time s on t.id = s.id and s.it = 2\r\n\tjoin cte_parse_time ms on t.id = ms.id and ms.it = 1\r\n)\r\nselect top 50 * from cte_clean_and_format\r\n",
            "metadata": {},
            "outputs": [
                {
                    "output_type": "display_data",
                    "data": {
                        "text/html": "(50 rows affected)"
                    },
                    "metadata": {}
                },
                {
                    "output_type": "display_data",
                    "data": {
                        "text/html": "Total execution time: 00:00:03.2461838"
                    },
                    "metadata": {}
                },
                {
                    "output_type": "execute_result",
                    "metadata": {},
                    "execution_count": 10,
                    "data": {
                        "application/vnd.dataresource+json": {
                            "schema": {
                                "fields": [
                                    {
                                        "name": "place"
                                    },
                                    {
                                        "name": "last_name"
                                    },
                                    {
                                        "name": "first_name"
                                    },
                                    {
                                        "name": "birth_year"
                                    },
                                    {
                                        "name": "city"
                                    },
                                    {
                                        "name": "team"
                                    },
                                    {
                                        "name": "country"
                                    },
                                    {
                                        "name": "result"
                                    },
                                    {
                                        "name": "disc"
                                    },
                                    {
                                        "name": "points"
                                    },
                                    {
                                        "name": "athlete_group"
                                    },
                                    {
                                        "name": "distance"
                                    },
                                    {
                                        "name": "style"
                                    },
                                    {
                                        "name": "date"
                                    },
                                    {
                                        "name": "id"
                                    }
                                ]
                            },
                            "data": [
                                {
                                    "0": "41",
                                    "1": "Диченков",
                                    "2": "Сергей",
                                    "3": "2006",
                                    "4": "Гомель",
                                    "5": "Гомсельмаш",
                                    "6": "BLR",
                                    "7": "00:03:06.0900000",
                                    "8": "NULL",
                                    "9": "229",
                                    "10": "Мальчики 2006г.р.",
                                    "11": "200",
                                    "12": "комплексное плавание",
                                    "13": "2019-04-23",
                                    "14": "1468"
                                },
                                {
                                    "0": "37",
                                    "1": "Буканов",
                                    "2": "Артем",
                                    "3": "2006",
                                    "4": "Гомель",
                                    "5": "СДЮШОР 7",
                                    "6": "BLR",
                                    "7": "00:03:03.9200000",
                                    "8": "NULL",
                                    "9": "238",
                                    "10": "Мальчики 2006г.р.",
                                    "11": "200",
                                    "12": "комплексное плавание",
                                    "13": "2019-04-23",
                                    "14": "1464"
                                },
                                {
                                    "0": "33",
                                    "1": "Осипенко",
                                    "2": "Георгий",
                                    "3": "2006",
                                    "4": "Гомель-1",
                                    "5": "ГОЦОР ввс",
                                    "6": "BLR",
                                    "7": "00:03:01.8100000",
                                    "8": "NULL",
                                    "9": "246",
                                    "10": "Мальчики 2006г.р.",
                                    "11": "200",
                                    "12": "комплексное плавание",
                                    "13": "2019-04-23",
                                    "14": "1460"
                                },
                                {
                                    "0": "29",
                                    "1": "Чирейко",
                                    "2": "Кирилл",
                                    "3": "2006",
                                    "4": "Речица",
                                    "5": "СДЮШОР",
                                    "6": "BLR",
                                    "7": "00:03:00.3900000",
                                    "8": "NULL",
                                    "9": "252",
                                    "10": "Мальчики 2006г.р.",
                                    "11": "200",
                                    "12": "комплексное плавание",
                                    "13": "2019-04-23",
                                    "14": "1456"
                                },
                                {
                                    "0": "25",
                                    "1": "Карпеко",
                                    "2": "Константин",
                                    "3": "2006",
                                    "4": "Речица",
                                    "5": "Олимп",
                                    "6": "BLR",
                                    "7": "00:02:57.1300000",
                                    "8": "NULL",
                                    "9": "266",
                                    "10": "Мальчики 2006г.р.",
                                    "11": "200",
                                    "12": "комплексное плавание",
                                    "13": "2019-04-23",
                                    "14": "1452"
                                },
                                {
                                    "0": "21",
                                    "1": "Чичкан",
                                    "2": "Александр",
                                    "3": "2006",
                                    "4": "Минск",
                                    "5": "Янтарь",
                                    "6": "BLR",
                                    "7": "00:02:53.2500000",
                                    "8": "NULL",
                                    "9": "284",
                                    "10": "Мальчики 2006г.р.",
                                    "11": "200",
                                    "12": "комплексное плавание",
                                    "13": "2019-04-23",
                                    "14": "1448"
                                },
                                {
                                    "0": "42",
                                    "1": "Лагуновский",
                                    "2": "Стас",
                                    "3": "2006",
                                    "4": "Минск",
                                    "5": "Волна",
                                    "6": "BLR",
                                    "7": "00:03:06.5100000",
                                    "8": "NULL",
                                    "9": "228",
                                    "10": "Мальчики 2006г.р.",
                                    "11": "200",
                                    "12": "комплексное плавание",
                                    "13": "2019-04-23",
                                    "14": "1469"
                                },
                                {
                                    "0": "43",
                                    "1": "Марченко",
                                    "2": "Руслан",
                                    "3": "2006",
                                    "4": "Гомель",
                                    "5": "ДЮСШ-6",
                                    "6": "BLR",
                                    "7": "00:03:07.1000000",
                                    "8": "NULL",
                                    "9": "226",
                                    "10": "Мальчики 2006г.р.",
                                    "11": "200",
                                    "12": "комплексное плавание",
                                    "13": "2019-04-23",
                                    "14": "1470"
                                },
                                {
                                    "0": "39",
                                    "1": "Шидловский",
                                    "2": "Никита",
                                    "3": "2006",
                                    "4": "Минск",
                                    "5": "Волна",
                                    "6": "BLR",
                                    "7": "00:03:04.4600000",
                                    "8": "NULL",
                                    "9": "236",
                                    "10": "Мальчики 2006г.р.",
                                    "11": "200",
                                    "12": "комплексное плавание",
                                    "13": "2019-04-23",
                                    "14": "1466"
                                },
                                {
                                    "0": "35",
                                    "1": "Утёмов",
                                    "2": "Станислав",
                                    "3": "2006",
                                    "4": "Гомель-1",
                                    "5": "ГОЦОР ввс",
                                    "6": "BLR",
                                    "7": "00:03:02.2200000",
                                    "8": "NULL",
                                    "9": "244",
                                    "10": "Мальчики 2006г.р.",
                                    "11": "200",
                                    "12": "комплексное плавание",
                                    "13": "2019-04-23",
                                    "14": "1462"
                                },
                                {
                                    "0": "31",
                                    "1": "Астапенко",
                                    "2": "Евгений",
                                    "3": "2006",
                                    "4": "Гомель-1",
                                    "5": "ГОЦОР ввс",
                                    "6": "BLR",
                                    "7": "00:03:01.1100000",
                                    "8": "NULL",
                                    "9": "249",
                                    "10": "Мальчики 2006г.р.",
                                    "11": "200",
                                    "12": "комплексное плавание",
                                    "13": "2019-04-23",
                                    "14": "1458"
                                },
                                {
                                    "0": "38",
                                    "1": "Михасев",
                                    "2": "Никита",
                                    "3": "2006",
                                    "4": "Гомель",
                                    "5": "СДЮШОР 7",
                                    "6": "BLR",
                                    "7": "00:03:04.3300000",
                                    "8": "NULL",
                                    "9": "236",
                                    "10": "Мальчики 2006г.р.",
                                    "11": "200",
                                    "12": "комплексное плавание",
                                    "13": "2019-04-23",
                                    "14": "1465"
                                },
                                {
                                    "0": "27",
                                    "1": "Ширко",
                                    "2": "Илья",
                                    "3": "2006",
                                    "4": "Гомель-2",
                                    "5": "ГОЦОР ввс",
                                    "6": "BLR",
                                    "7": "00:02:58.6400000",
                                    "8": "NULL",
                                    "9": "259",
                                    "10": "Мальчики 2006г.р.",
                                    "11": "200",
                                    "12": "комплексное плавание",
                                    "13": "2019-04-23",
                                    "14": "1454"
                                },
                                {
                                    "0": "23",
                                    "1": "Мандровский",
                                    "2": "Матвей",
                                    "3": "2006",
                                    "4": "Минск",
                                    "5": "Волна",
                                    "6": "BLR",
                                    "7": "00:02:56.1100000",
                                    "8": "NULL",
                                    "9": "271",
                                    "10": "Мальчики 2006г.р.",
                                    "11": "200",
                                    "12": "комплексное плавание",
                                    "13": "2019-04-23",
                                    "14": "1450"
                                },
                                {
                                    "0": "34",
                                    "1": "Раманюга",
                                    "2": "Александр",
                                    "3": "2006",
                                    "4": "Гомель",
                                    "5": "ДЮСШ-6",
                                    "6": "BLR",
                                    "7": "00:03:02.2200000",
                                    "8": "NULL",
                                    "9": "244",
                                    "10": "Мальчики 2006г.р.",
                                    "11": "200",
                                    "12": "комплексное плавание",
                                    "13": "2019-04-23",
                                    "14": "1461"
                                },
                                {
                                    "0": "19",
                                    "1": "Зайцев",
                                    "2": "Никита",
                                    "3": "2006",
                                    "4": "Гомель-2",
                                    "5": "ГОЦОР ввс",
                                    "6": "BLR",
                                    "7": "00:02:51.5900000",
                                    "8": "NULL",
                                    "9": "293",
                                    "10": "Мальчики 2006г.р.",
                                    "11": "200",
                                    "12": "комплексное плавание",
                                    "13": "2019-04-23",
                                    "14": "1446"
                                },
                                {
                                    "0": "15",
                                    "1": "Колоцей",
                                    "2": "Егор",
                                    "3": "2006",
                                    "4": "Речица",
                                    "5": "Олимп",
                                    "6": "BLR",
                                    "7": "00:02:49.3400000",
                                    "8": "NULL",
                                    "9": "305",
                                    "10": "Мальчики 2006г.р.",
                                    "11": "200",
                                    "12": "комплексное плавание",
                                    "13": "2019-04-23",
                                    "14": "1442"
                                },
                                {
                                    "0": "11",
                                    "1": "Шевчук",
                                    "2": "Никита",
                                    "3": "2006",
                                    "4": "Гомель-1",
                                    "5": "ГОЦОР ввс",
                                    "6": "BLR",
                                    "7": "00:02:45.9600000",
                                    "8": "NULL",
                                    "9": "324",
                                    "10": "Мальчики 2006г.р.",
                                    "11": "200",
                                    "12": "комплексное плавание",
                                    "13": "2019-04-23",
                                    "14": "1438"
                                },
                                {
                                    "0": "7",
                                    "1": "Алексеев",
                                    "2": "Александр",
                                    "3": "2006",
                                    "4": "Бобруйск",
                                    "5": "СДЮШОР",
                                    "6": "BLR",
                                    "7": "00:02:42.9900000",
                                    "8": "NULL",
                                    "9": "342",
                                    "10": "Мальчики 2006г.р.",
                                    "11": "200",
                                    "12": "комплексное плавание",
                                    "13": "2019-04-23",
                                    "14": "1434"
                                },
                                {
                                    "0": "30",
                                    "1": "Ченский",
                                    "2": "Григорий",
                                    "3": "2006",
                                    "4": "Узловая",
                                    "5": "ДООЦ",
                                    "6": "RUS",
                                    "7": "00:03:00.9600000",
                                    "8": "NULL",
                                    "9": "250",
                                    "10": "Мальчики 2006г.р.",
                                    "11": "200",
                                    "12": "комплексное плавание",
                                    "13": "2019-04-23",
                                    "14": "1457"
                                },
                                {
                                    "0": "3",
                                    "1": "Литвяков",
                                    "2": "Егор",
                                    "3": "2006",
                                    "4": "Гомель-2",
                                    "5": "ГОЦОР ввс",
                                    "6": "BLR",
                                    "7": "00:02:35.5600000",
                                    "8": "NULL",
                                    "9": "393",
                                    "10": "Мальчики 2006г.р.",
                                    "11": "200",
                                    "12": "комплексное плавание",
                                    "13": "2019-04-23",
                                    "14": "1430"
                                },
                                {
                                    "0": "32",
                                    "1": "Харитончик",
                                    "2": "Мария",
                                    "3": "2006",
                                    "4": "Минск",
                                    "5": "Волна",
                                    "6": "BLR",
                                    "7": "00:03:52.6500000",
                                    "8": "NULL",
                                    "9": "159",
                                    "10": "Девочки 2006г.р.",
                                    "11": "200",
                                    "12": "комплексное плавание",
                                    "13": "2019-04-23",
                                    "14": "1423"
                                },
                                {
                                    "0": "26",
                                    "1": "Римша",
                                    "2": "",
                                    "3": "2006",
                                    "4": "Речица",
                                    "5": "СДЮШОР",
                                    "6": "BLR",
                                    "7": "00:02:58.5400000",
                                    "8": "NULL",
                                    "9": "260",
                                    "10": "Мальчики 2006г.р.",
                                    "11": "200",
                                    "12": "комплексное плавание",
                                    "13": "2019-04-23",
                                    "14": "1453"
                                },
                                {
                                    "0": "28",
                                    "1": "Горбачева",
                                    "2": "Полина",
                                    "3": "2006",
                                    "4": "Гомель",
                                    "5": "СДЮШОР 7",
                                    "6": "BLR",
                                    "7": "00:03:26.8400000",
                                    "8": "NULL",
                                    "9": "226",
                                    "10": "Девочки 2006г.р.",
                                    "11": "200",
                                    "12": "комплексное плавание",
                                    "13": "2019-04-23",
                                    "14": "1419"
                                },
                                {
                                    "0": "22",
                                    "1": "Вашуров",
                                    "2": "Илья",
                                    "3": "2006",
                                    "4": "Бобруйск",
                                    "5": "СДЮШОР",
                                    "6": "BLR",
                                    "7": "00:02:53.7300000",
                                    "8": "NULL",
                                    "9": "282",
                                    "10": "Мальчики 2006г.р.",
                                    "11": "200",
                                    "12": "комплексное плавание",
                                    "13": "2019-04-23",
                                    "14": "1449"
                                },
                                {
                                    "0": "24",
                                    "1": "Соколенко",
                                    "2": "Вероника",
                                    "3": "2006",
                                    "4": "Гомель",
                                    "5": "ДЮСШ-6",
                                    "6": "BLR",
                                    "7": "00:03:17.6900000",
                                    "8": "NULL",
                                    "9": "259",
                                    "10": "Девочки 2006г.р.",
                                    "11": "200",
                                    "12": "комплексное плавание",
                                    "13": "2019-04-23",
                                    "14": "1415"
                                },
                                {
                                    "0": "17",
                                    "1": "Пышник",
                                    "2": "Руслан",
                                    "3": "2006",
                                    "4": "Гомель-2",
                                    "5": "ГОЦОР ввс",
                                    "6": "BLR",
                                    "7": "00:02:49.3700000",
                                    "8": "NULL",
                                    "9": "304",
                                    "10": "Мальчики 2006г.р.",
                                    "11": "200",
                                    "12": "комплексное плавание",
                                    "13": "2019-04-23",
                                    "14": "1444"
                                },
                                {
                                    "0": "18",
                                    "1": "Кашин",
                                    "2": "Владислав",
                                    "3": "2006",
                                    "4": "Гомель-2",
                                    "5": "ГОЦОР ввс",
                                    "6": "BLR",
                                    "7": "00:02:50.8200000",
                                    "8": "NULL",
                                    "9": "297",
                                    "10": "Мальчики 2006г.р.",
                                    "11": "200",
                                    "12": "комплексное плавание",
                                    "13": "2019-04-23",
                                    "14": "1445"
                                },
                                {
                                    "0": "20",
                                    "1": "Зиновенко",
                                    "2": "Елизавета",
                                    "3": "2006",
                                    "4": "Гомель-1",
                                    "5": "ГОЦОР ввс",
                                    "6": "BLR",
                                    "7": "00:03:12.0300000",
                                    "8": "NULL",
                                    "9": "283",
                                    "10": "Девочки 2006г.р.",
                                    "11": "200",
                                    "12": "комплексное плавание",
                                    "13": "2019-04-23",
                                    "14": "1411"
                                },
                                {
                                    "0": "16",
                                    "1": "Тихонова",
                                    "2": "Мария",
                                    "3": "2006",
                                    "4": "Гомель-1",
                                    "5": "ГОЦОР ввс",
                                    "6": "BLR",
                                    "7": "00:03:07.9100000",
                                    "8": "NULL",
                                    "9": "302",
                                    "10": "Девочки 2006г.р.",
                                    "11": "200",
                                    "12": "комплексное плавание",
                                    "13": "2019-04-23",
                                    "14": "1407"
                                },
                                {
                                    "0": "12",
                                    "1": "Тихонова",
                                    "2": "Арина",
                                    "3": "2006",
                                    "4": "Узловая",
                                    "5": "ДООЦ",
                                    "6": "RUS",
                                    "7": "00:03:01.3000000",
                                    "8": "NULL",
                                    "9": "336",
                                    "10": "Девочки 2006г.р.",
                                    "11": "200",
                                    "12": "комплексное плавание",
                                    "13": "2019-04-23",
                                    "14": "1403"
                                },
                                {
                                    "0": "8",
                                    "1": "Беспалова",
                                    "2": "Алина",
                                    "3": "2006",
                                    "4": "Речица",
                                    "5": "СДЮШОР",
                                    "6": "BLR",
                                    "7": "00:02:56.3500000",
                                    "8": "NULL",
                                    "9": "365",
                                    "10": "Девочки 2006г.р.",
                                    "11": "200",
                                    "12": "комплексное плавание",
                                    "13": "2019-04-23",
                                    "14": "1399"
                                },
                                {
                                    "0": "14",
                                    "1": "Лосев",
                                    "2": "Михаил",
                                    "3": "2006",
                                    "4": "Бобруйск",
                                    "5": "СДЮШОР",
                                    "6": "BLR",
                                    "7": "00:02:48.3400000",
                                    "8": "NULL",
                                    "9": "310",
                                    "10": "Мальчики 2006г.р.",
                                    "11": "200",
                                    "12": "комплексное плавание",
                                    "13": "2019-04-23",
                                    "14": "1441"
                                },
                                {
                                    "0": "4",
                                    "1": "Зайцева",
                                    "2": "Яна",
                                    "3": "2006",
                                    "4": "Могилев",
                                    "5": "СДЮШОР",
                                    "6": "BLR",
                                    "7": "00:02:47.8500000",
                                    "8": "NULL",
                                    "9": "424",
                                    "10": "Девочки 2006г.р.",
                                    "11": "200",
                                    "12": "комплексное плавание",
                                    "13": "2019-04-23",
                                    "14": "1395"
                                },
                                {
                                    "0": "10",
                                    "1": "Лашкевич",
                                    "2": "Алексей",
                                    "3": "2006",
                                    "4": "Гомель-2",
                                    "5": "ГОЦОР ввс",
                                    "6": "BLR",
                                    "7": "00:02:45.9500000",
                                    "8": "NULL",
                                    "9": "324",
                                    "10": "Мальчики 2006г.р.",
                                    "11": "200",
                                    "12": "комплексное плавание",
                                    "13": "2019-04-23",
                                    "14": "1437"
                                },
                                {
                                    "0": "95",
                                    "1": "Заруцкий",
                                    "2": "Максим",
                                    "3": "2009",
                                    "4": "Гомель",
                                    "5": "Гомсельмаш",
                                    "6": "BLR",
                                    "7": "00:02:09.6300000",
                                    "8": "NULL",
                                    "9": "58",
                                    "10": "Мальчики 2007г.р. и моложе",
                                    "11": "100",
                                    "12": "комплексное плавание",
                                    "13": "2019-04-23",
                                    "14": "1385"
                                },
                                {
                                    "0": "6",
                                    "1": "Авдей",
                                    "2": "Ростислав",
                                    "3": "2006",
                                    "4": "Бобруйск",
                                    "5": "СДЮШОР",
                                    "6": "BLR",
                                    "7": "00:02:42.5300000",
                                    "8": "NULL",
                                    "9": "345",
                                    "10": "Мальчики 2006г.р.",
                                    "11": "200",
                                    "12": "комплексное плавание",
                                    "13": "2019-04-23",
                                    "14": "1433"
                                },
                                {
                                    "0": "91",
                                    "1": "Грань",
                                    "2": "Кирилл",
                                    "3": "2007",
                                    "4": "Речица",
                                    "5": "СДЮШОР",
                                    "6": "BLR",
                                    "7": "00:01:44.4200000",
                                    "8": "NULL",
                                    "9": "111",
                                    "10": "Мальчики 2007г.р. и моложе",
                                    "11": "100",
                                    "12": "комплексное плавание",
                                    "13": "2019-04-23",
                                    "14": "1381"
                                },
                                {
                                    "0": "2",
                                    "1": "Коваленок",
                                    "2": "Евгений",
                                    "3": "2006",
                                    "4": "Бобруйск",
                                    "5": "СДЮШОР",
                                    "6": "BLR",
                                    "7": "00:02:34.2900000",
                                    "8": "NULL",
                                    "9": "403",
                                    "10": "Мальчики 2006г.р.",
                                    "11": "200",
                                    "12": "комплексное плавание",
                                    "13": "2019-04-23",
                                    "14": "1429"
                                },
                                {
                                    "0": "87",
                                    "1": "Кравченко",
                                    "2": "Ярослав",
                                    "3": "2008",
                                    "4": "Речица",
                                    "5": "СДЮШОР",
                                    "6": "BLR",
                                    "7": "00:01:39.7200000",
                                    "8": "NULL",
                                    "9": "128",
                                    "10": "Мальчики 2007г.р. и моложе",
                                    "11": "100",
                                    "12": "комплексное плавание",
                                    "13": "2019-04-23",
                                    "14": "1377"
                                },
                                {
                                    "0": "83",
                                    "1": "Рублевский",
                                    "2": "Денис",
                                    "3": "2009",
                                    "4": "Мозырь",
                                    "5": "СДЮШОР",
                                    "6": "BLR",
                                    "7": "00:01:36.6900000",
                                    "8": "NULL",
                                    "9": "140",
                                    "10": "Мальчики 2007г.р. и моложе",
                                    "11": "100",
                                    "12": "комплексное плавание",
                                    "13": "2019-04-23",
                                    "14": "1373"
                                },
                                {
                                    "0": "31",
                                    "1": "Шипуля",
                                    "2": "Арина",
                                    "3": "2006",
                                    "4": "Речица",
                                    "5": "СДЮШОР",
                                    "6": "BLR",
                                    "7": "00:03:49.7800000",
                                    "8": "NULL",
                                    "9": "165",
                                    "10": "Девочки 2006г.р.",
                                    "11": "200",
                                    "12": "комплексное плавание",
                                    "13": "2019-04-23",
                                    "14": "1422"
                                },
                                {
                                    "0": "79",
                                    "1": "Марченко",
                                    "2": "Артем",
                                    "3": "2008",
                                    "4": "Гомель-2",
                                    "5": "ГОЦОР ввс",
                                    "6": "BLR",
                                    "7": "00:01:35.7900000",
                                    "8": "NULL",
                                    "9": "144",
                                    "10": "Мальчики 2007г.р. и моложе",
                                    "11": "100",
                                    "12": "комплексное плавание",
                                    "13": "2019-04-23",
                                    "14": "1369"
                                },
                                {
                                    "0": "27",
                                    "1": "Парванова",
                                    "2": "Алина",
                                    "3": "2006",
                                    "4": "Гомель",
                                    "5": "Гомсельмаш",
                                    "6": "BLR",
                                    "7": "00:03:21.2500000",
                                    "8": "NULL",
                                    "9": "246",
                                    "10": "Девочки 2006г.р.",
                                    "11": "200",
                                    "12": "комплексное плавание",
                                    "13": "2019-04-23",
                                    "14": "1418"
                                },
                                {
                                    "0": "75",
                                    "1": "Яцкевич",
                                    "2": "Кирилл",
                                    "3": "2009",
                                    "4": "Бобруйск",
                                    "5": "СДЮШОР",
                                    "6": "BLR",
                                    "7": "00:01:34.9600000",
                                    "8": "NULL",
                                    "9": "148",
                                    "10": "Мальчики 2007г.р. и моложе",
                                    "11": "100",
                                    "12": "комплексное плавание",
                                    "13": "2019-04-23",
                                    "14": "1365"
                                },
                                {
                                    "0": "23",
                                    "1": "Васильева",
                                    "2": "Ангелина",
                                    "3": "2006",
                                    "4": "Гомель",
                                    "5": "ДЮСШ-6",
                                    "6": "BLR",
                                    "7": "00:03:16.7800000",
                                    "8": "NULL",
                                    "9": "263",
                                    "10": "Девочки 2006г.р.",
                                    "11": "200",
                                    "12": "комплексное плавание",
                                    "13": "2019-04-23",
                                    "14": "1414"
                                },
                                {
                                    "0": "71",
                                    "1": "Багаев",
                                    "2": "Стас",
                                    "3": "2008",
                                    "4": "Гомель",
                                    "5": "СДЮШОР 7",
                                    "6": "BLR",
                                    "7": "00:01:34.6300000",
                                    "8": "NULL",
                                    "9": "150",
                                    "10": "Мальчики 2007г.р. и моложе",
                                    "11": "100",
                                    "12": "комплексное плавание",
                                    "13": "2019-04-23",
                                    "14": "1361"
                                },
                                {
                                    "0": "67",
                                    "1": "Гуцев",
                                    "2": "Роман",
                                    "3": "2007",
                                    "4": "Гомель-2",
                                    "5": "ГОЦОР ввс",
                                    "6": "BLR",
                                    "7": "00:01:34.0500000",
                                    "8": "NULL",
                                    "9": "152",
                                    "10": "Мальчики 2007г.р. и моложе",
                                    "11": "100",
                                    "12": "комплексное плавание",
                                    "13": "2019-04-23",
                                    "14": "1357"
                                },
                                {
                                    "0": "19",
                                    "1": "Шкода",
                                    "2": "Екатерина",
                                    "3": "2006",
                                    "4": "Гомель",
                                    "5": "ДЮСШ-6",
                                    "6": "BLR",
                                    "7": "00:03:11.7100000",
                                    "8": "NULL",
                                    "9": "284",
                                    "10": "Девочки 2006г.р.",
                                    "11": "200",
                                    "12": "комплексное плавание",
                                    "13": "2019-04-23",
                                    "14": "1410"
                                },
                                {
                                    "0": "63",
                                    "1": "Матусевич",
                                    "2": "Никита",
                                    "3": "2007",
                                    "4": "Минск",
                                    "5": "Волна",
                                    "6": "BLR",
                                    "7": "00:01:33.7300000",
                                    "8": "NULL",
                                    "9": "154",
                                    "10": "Мальчики 2007г.р. и моложе",
                                    "11": "100",
                                    "12": "комплексное плавание",
                                    "13": "2019-04-23",
                                    "14": "1353"
                                }
                            ]
                        },
                        "text/html": "<table><tr><th>place</th><th>last_name</th><th>first_name</th><th>birth_year</th><th>city</th><th>team</th><th>country</th><th>result</th><th>disc</th><th>points</th><th>athlete_group</th><th>distance</th><th>style</th><th>date</th><th>id</th></tr><tr><td>41</td><td>Диченков</td><td>Сергей</td><td>2006</td><td>Гомель</td><td>Гомсельмаш</td><td>BLR</td><td>00:03:06.0900000</td><td>NULL</td><td>229</td><td>Мальчики 2006г.р.</td><td>200</td><td>комплексное плавание</td><td>2019-04-23</td><td>1468</td></tr><tr><td>37</td><td>Буканов</td><td>Артем</td><td>2006</td><td>Гомель</td><td>СДЮШОР 7</td><td>BLR</td><td>00:03:03.9200000</td><td>NULL</td><td>238</td><td>Мальчики 2006г.р.</td><td>200</td><td>комплексное плавание</td><td>2019-04-23</td><td>1464</td></tr><tr><td>33</td><td>Осипенко</td><td>Георгий</td><td>2006</td><td>Гомель-1</td><td>ГОЦОР ввс</td><td>BLR</td><td>00:03:01.8100000</td><td>NULL</td><td>246</td><td>Мальчики 2006г.р.</td><td>200</td><td>комплексное плавание</td><td>2019-04-23</td><td>1460</td></tr><tr><td>29</td><td>Чирейко</td><td>Кирилл</td><td>2006</td><td>Речица</td><td>СДЮШОР</td><td>BLR</td><td>00:03:00.3900000</td><td>NULL</td><td>252</td><td>Мальчики 2006г.р.</td><td>200</td><td>комплексное плавание</td><td>2019-04-23</td><td>1456</td></tr><tr><td>25</td><td>Карпеко</td><td>Константин</td><td>2006</td><td>Речица</td><td>Олимп</td><td>BLR</td><td>00:02:57.1300000</td><td>NULL</td><td>266</td><td>Мальчики 2006г.р.</td><td>200</td><td>комплексное плавание</td><td>2019-04-23</td><td>1452</td></tr><tr><td>21</td><td>Чичкан</td><td>Александр</td><td>2006</td><td>Минск</td><td>Янтарь</td><td>BLR</td><td>00:02:53.2500000</td><td>NULL</td><td>284</td><td>Мальчики 2006г.р.</td><td>200</td><td>комплексное плавание</td><td>2019-04-23</td><td>1448</td></tr><tr><td>42</td><td>Лагуновский</td><td>Стас</td><td>2006</td><td>Минск</td><td>Волна</td><td>BLR</td><td>00:03:06.5100000</td><td>NULL</td><td>228</td><td>Мальчики 2006г.р.</td><td>200</td><td>комплексное плавание</td><td>2019-04-23</td><td>1469</td></tr><tr><td>43</td><td>Марченко</td><td>Руслан</td><td>2006</td><td>Гомель</td><td>ДЮСШ-6</td><td>BLR</td><td>00:03:07.1000000</td><td>NULL</td><td>226</td><td>Мальчики 2006г.р.</td><td>200</td><td>комплексное плавание</td><td>2019-04-23</td><td>1470</td></tr><tr><td>39</td><td>Шидловский</td><td>Никита</td><td>2006</td><td>Минск</td><td>Волна</td><td>BLR</td><td>00:03:04.4600000</td><td>NULL</td><td>236</td><td>Мальчики 2006г.р.</td><td>200</td><td>комплексное плавание</td><td>2019-04-23</td><td>1466</td></tr><tr><td>35</td><td>Утёмов</td><td>Станислав</td><td>2006</td><td>Гомель-1</td><td>ГОЦОР ввс</td><td>BLR</td><td>00:03:02.2200000</td><td>NULL</td><td>244</td><td>Мальчики 2006г.р.</td><td>200</td><td>комплексное плавание</td><td>2019-04-23</td><td>1462</td></tr><tr><td>31</td><td>Астапенко</td><td>Евгений</td><td>2006</td><td>Гомель-1</td><td>ГОЦОР ввс</td><td>BLR</td><td>00:03:01.1100000</td><td>NULL</td><td>249</td><td>Мальчики 2006г.р.</td><td>200</td><td>комплексное плавание</td><td>2019-04-23</td><td>1458</td></tr><tr><td>38</td><td>Михасев</td><td>Никита</td><td>2006</td><td>Гомель</td><td>СДЮШОР 7</td><td>BLR</td><td>00:03:04.3300000</td><td>NULL</td><td>236</td><td>Мальчики 2006г.р.</td><td>200</td><td>комплексное плавание</td><td>2019-04-23</td><td>1465</td></tr><tr><td>27</td><td>Ширко</td><td>Илья</td><td>2006</td><td>Гомель-2</td><td>ГОЦОР ввс</td><td>BLR</td><td>00:02:58.6400000</td><td>NULL</td><td>259</td><td>Мальчики 2006г.р.</td><td>200</td><td>комплексное плавание</td><td>2019-04-23</td><td>1454</td></tr><tr><td>23</td><td>Мандровский</td><td>Матвей</td><td>2006</td><td>Минск</td><td>Волна</td><td>BLR</td><td>00:02:56.1100000</td><td>NULL</td><td>271</td><td>Мальчики 2006г.р.</td><td>200</td><td>комплексное плавание</td><td>2019-04-23</td><td>1450</td></tr><tr><td>34</td><td>Раманюга</td><td>Александр</td><td>2006</td><td>Гомель</td><td>ДЮСШ-6</td><td>BLR</td><td>00:03:02.2200000</td><td>NULL</td><td>244</td><td>Мальчики 2006г.р.</td><td>200</td><td>комплексное плавание</td><td>2019-04-23</td><td>1461</td></tr><tr><td>19</td><td>Зайцев</td><td>Никита</td><td>2006</td><td>Гомель-2</td><td>ГОЦОР ввс</td><td>BLR</td><td>00:02:51.5900000</td><td>NULL</td><td>293</td><td>Мальчики 2006г.р.</td><td>200</td><td>комплексное плавание</td><td>2019-04-23</td><td>1446</td></tr><tr><td>15</td><td>Колоцей</td><td>Егор</td><td>2006</td><td>Речица</td><td>Олимп</td><td>BLR</td><td>00:02:49.3400000</td><td>NULL</td><td>305</td><td>Мальчики 2006г.р.</td><td>200</td><td>комплексное плавание</td><td>2019-04-23</td><td>1442</td></tr><tr><td>11</td><td>Шевчук</td><td>Никита</td><td>2006</td><td>Гомель-1</td><td>ГОЦОР ввс</td><td>BLR</td><td>00:02:45.9600000</td><td>NULL</td><td>324</td><td>Мальчики 2006г.р.</td><td>200</td><td>комплексное плавание</td><td>2019-04-23</td><td>1438</td></tr><tr><td>7</td><td>Алексеев</td><td>Александр</td><td>2006</td><td>Бобруйск</td><td>СДЮШОР</td><td>BLR</td><td>00:02:42.9900000</td><td>NULL</td><td>342</td><td>Мальчики 2006г.р.</td><td>200</td><td>комплексное плавание</td><td>2019-04-23</td><td>1434</td></tr><tr><td>30</td><td>Ченский</td><td>Григорий</td><td>2006</td><td>Узловая</td><td>ДООЦ</td><td>RUS</td><td>00:03:00.9600000</td><td>NULL</td><td>250</td><td>Мальчики 2006г.р.</td><td>200</td><td>комплексное плавание</td><td>2019-04-23</td><td>1457</td></tr><tr><td>3</td><td>Литвяков</td><td>Егор</td><td>2006</td><td>Гомель-2</td><td>ГОЦОР ввс</td><td>BLR</td><td>00:02:35.5600000</td><td>NULL</td><td>393</td><td>Мальчики 2006г.р.</td><td>200</td><td>комплексное плавание</td><td>2019-04-23</td><td>1430</td></tr><tr><td>32</td><td>Харитончик</td><td>Мария</td><td>2006</td><td>Минск</td><td>Волна</td><td>BLR</td><td>00:03:52.6500000</td><td>NULL</td><td>159</td><td>Девочки 2006г.р.</td><td>200</td><td>комплексное плавание</td><td>2019-04-23</td><td>1423</td></tr><tr><td>26</td><td>Римша</td><td></td><td>2006</td><td>Речица</td><td>СДЮШОР</td><td>BLR</td><td>00:02:58.5400000</td><td>NULL</td><td>260</td><td>Мальчики 2006г.р.</td><td>200</td><td>комплексное плавание</td><td>2019-04-23</td><td>1453</td></tr><tr><td>28</td><td>Горбачева</td><td>Полина</td><td>2006</td><td>Гомель</td><td>СДЮШОР 7</td><td>BLR</td><td>00:03:26.8400000</td><td>NULL</td><td>226</td><td>Девочки 2006г.р.</td><td>200</td><td>комплексное плавание</td><td>2019-04-23</td><td>1419</td></tr><tr><td>22</td><td>Вашуров</td><td>Илья</td><td>2006</td><td>Бобруйск</td><td>СДЮШОР</td><td>BLR</td><td>00:02:53.7300000</td><td>NULL</td><td>282</td><td>Мальчики 2006г.р.</td><td>200</td><td>комплексное плавание</td><td>2019-04-23</td><td>1449</td></tr><tr><td>24</td><td>Соколенко</td><td>Вероника</td><td>2006</td><td>Гомель</td><td>ДЮСШ-6</td><td>BLR</td><td>00:03:17.6900000</td><td>NULL</td><td>259</td><td>Девочки 2006г.р.</td><td>200</td><td>комплексное плавание</td><td>2019-04-23</td><td>1415</td></tr><tr><td>17</td><td>Пышник</td><td>Руслан</td><td>2006</td><td>Гомель-2</td><td>ГОЦОР ввс</td><td>BLR</td><td>00:02:49.3700000</td><td>NULL</td><td>304</td><td>Мальчики 2006г.р.</td><td>200</td><td>комплексное плавание</td><td>2019-04-23</td><td>1444</td></tr><tr><td>18</td><td>Кашин</td><td>Владислав</td><td>2006</td><td>Гомель-2</td><td>ГОЦОР ввс</td><td>BLR</td><td>00:02:50.8200000</td><td>NULL</td><td>297</td><td>Мальчики 2006г.р.</td><td>200</td><td>комплексное плавание</td><td>2019-04-23</td><td>1445</td></tr><tr><td>20</td><td>Зиновенко</td><td>Елизавета</td><td>2006</td><td>Гомель-1</td><td>ГОЦОР ввс</td><td>BLR</td><td>00:03:12.0300000</td><td>NULL</td><td>283</td><td>Девочки 2006г.р.</td><td>200</td><td>комплексное плавание</td><td>2019-04-23</td><td>1411</td></tr><tr><td>16</td><td>Тихонова</td><td>Мария</td><td>2006</td><td>Гомель-1</td><td>ГОЦОР ввс</td><td>BLR</td><td>00:03:07.9100000</td><td>NULL</td><td>302</td><td>Девочки 2006г.р.</td><td>200</td><td>комплексное плавание</td><td>2019-04-23</td><td>1407</td></tr><tr><td>12</td><td>Тихонова</td><td>Арина</td><td>2006</td><td>Узловая</td><td>ДООЦ</td><td>RUS</td><td>00:03:01.3000000</td><td>NULL</td><td>336</td><td>Девочки 2006г.р.</td><td>200</td><td>комплексное плавание</td><td>2019-04-23</td><td>1403</td></tr><tr><td>8</td><td>Беспалова</td><td>Алина</td><td>2006</td><td>Речица</td><td>СДЮШОР</td><td>BLR</td><td>00:02:56.3500000</td><td>NULL</td><td>365</td><td>Девочки 2006г.р.</td><td>200</td><td>комплексное плавание</td><td>2019-04-23</td><td>1399</td></tr><tr><td>14</td><td>Лосев</td><td>Михаил</td><td>2006</td><td>Бобруйск</td><td>СДЮШОР</td><td>BLR</td><td>00:02:48.3400000</td><td>NULL</td><td>310</td><td>Мальчики 2006г.р.</td><td>200</td><td>комплексное плавание</td><td>2019-04-23</td><td>1441</td></tr><tr><td>4</td><td>Зайцева</td><td>Яна</td><td>2006</td><td>Могилев</td><td>СДЮШОР</td><td>BLR</td><td>00:02:47.8500000</td><td>NULL</td><td>424</td><td>Девочки 2006г.р.</td><td>200</td><td>комплексное плавание</td><td>2019-04-23</td><td>1395</td></tr><tr><td>10</td><td>Лашкевич</td><td>Алексей</td><td>2006</td><td>Гомель-2</td><td>ГОЦОР ввс</td><td>BLR</td><td>00:02:45.9500000</td><td>NULL</td><td>324</td><td>Мальчики 2006г.р.</td><td>200</td><td>комплексное плавание</td><td>2019-04-23</td><td>1437</td></tr><tr><td>95</td><td>Заруцкий</td><td>Максим</td><td>2009</td><td>Гомель</td><td>Гомсельмаш</td><td>BLR</td><td>00:02:09.6300000</td><td>NULL</td><td>58</td><td>Мальчики 2007г.р. и моложе</td><td>100</td><td>комплексное плавание</td><td>2019-04-23</td><td>1385</td></tr><tr><td>6</td><td>Авдей</td><td>Ростислав</td><td>2006</td><td>Бобруйск</td><td>СДЮШОР</td><td>BLR</td><td>00:02:42.5300000</td><td>NULL</td><td>345</td><td>Мальчики 2006г.р.</td><td>200</td><td>комплексное плавание</td><td>2019-04-23</td><td>1433</td></tr><tr><td>91</td><td>Грань</td><td>Кирилл</td><td>2007</td><td>Речица</td><td>СДЮШОР</td><td>BLR</td><td>00:01:44.4200000</td><td>NULL</td><td>111</td><td>Мальчики 2007г.р. и моложе</td><td>100</td><td>комплексное плавание</td><td>2019-04-23</td><td>1381</td></tr><tr><td>2</td><td>Коваленок</td><td>Евгений</td><td>2006</td><td>Бобруйск</td><td>СДЮШОР</td><td>BLR</td><td>00:02:34.2900000</td><td>NULL</td><td>403</td><td>Мальчики 2006г.р.</td><td>200</td><td>комплексное плавание</td><td>2019-04-23</td><td>1429</td></tr><tr><td>87</td><td>Кравченко</td><td>Ярослав</td><td>2008</td><td>Речица</td><td>СДЮШОР</td><td>BLR</td><td>00:01:39.7200000</td><td>NULL</td><td>128</td><td>Мальчики 2007г.р. и моложе</td><td>100</td><td>комплексное плавание</td><td>2019-04-23</td><td>1377</td></tr><tr><td>83</td><td>Рублевский</td><td>Денис</td><td>2009</td><td>Мозырь</td><td>СДЮШОР</td><td>BLR</td><td>00:01:36.6900000</td><td>NULL</td><td>140</td><td>Мальчики 2007г.р. и моложе</td><td>100</td><td>комплексное плавание</td><td>2019-04-23</td><td>1373</td></tr><tr><td>31</td><td>Шипуля</td><td>Арина</td><td>2006</td><td>Речица</td><td>СДЮШОР</td><td>BLR</td><td>00:03:49.7800000</td><td>NULL</td><td>165</td><td>Девочки 2006г.р.</td><td>200</td><td>комплексное плавание</td><td>2019-04-23</td><td>1422</td></tr><tr><td>79</td><td>Марченко</td><td>Артем</td><td>2008</td><td>Гомель-2</td><td>ГОЦОР ввс</td><td>BLR</td><td>00:01:35.7900000</td><td>NULL</td><td>144</td><td>Мальчики 2007г.р. и моложе</td><td>100</td><td>комплексное плавание</td><td>2019-04-23</td><td>1369</td></tr><tr><td>27</td><td>Парванова</td><td>Алина</td><td>2006</td><td>Гомель</td><td>Гомсельмаш</td><td>BLR</td><td>00:03:21.2500000</td><td>NULL</td><td>246</td><td>Девочки 2006г.р.</td><td>200</td><td>комплексное плавание</td><td>2019-04-23</td><td>1418</td></tr><tr><td>75</td><td>Яцкевич</td><td>Кирилл</td><td>2009</td><td>Бобруйск</td><td>СДЮШОР</td><td>BLR</td><td>00:01:34.9600000</td><td>NULL</td><td>148</td><td>Мальчики 2007г.р. и моложе</td><td>100</td><td>комплексное плавание</td><td>2019-04-23</td><td>1365</td></tr><tr><td>23</td><td>Васильева</td><td>Ангелина</td><td>2006</td><td>Гомель</td><td>ДЮСШ-6</td><td>BLR</td><td>00:03:16.7800000</td><td>NULL</td><td>263</td><td>Девочки 2006г.р.</td><td>200</td><td>комплексное плавание</td><td>2019-04-23</td><td>1414</td></tr><tr><td>71</td><td>Багаев</td><td>Стас</td><td>2008</td><td>Гомель</td><td>СДЮШОР 7</td><td>BLR</td><td>00:01:34.6300000</td><td>NULL</td><td>150</td><td>Мальчики 2007г.р. и моложе</td><td>100</td><td>комплексное плавание</td><td>2019-04-23</td><td>1361</td></tr><tr><td>67</td><td>Гуцев</td><td>Роман</td><td>2007</td><td>Гомель-2</td><td>ГОЦОР ввс</td><td>BLR</td><td>00:01:34.0500000</td><td>NULL</td><td>152</td><td>Мальчики 2007г.р. и моложе</td><td>100</td><td>комплексное плавание</td><td>2019-04-23</td><td>1357</td></tr><tr><td>19</td><td>Шкода</td><td>Екатерина</td><td>2006</td><td>Гомель</td><td>ДЮСШ-6</td><td>BLR</td><td>00:03:11.7100000</td><td>NULL</td><td>284</td><td>Девочки 2006г.р.</td><td>200</td><td>комплексное плавание</td><td>2019-04-23</td><td>1410</td></tr><tr><td>63</td><td>Матусевич</td><td>Никита</td><td>2007</td><td>Минск</td><td>Волна</td><td>BLR</td><td>00:01:33.7300000</td><td>NULL</td><td>154</td><td>Мальчики 2007г.р. и моложе</td><td>100</td><td>комплексное плавание</td><td>2019-04-23</td><td>1353</td></tr></table>"
                    }
                }
            ],
            "execution_count": 10
        },
        {
            "cell_type": "markdown",
            "source": "### Используя язык SQL, мы создали основу ELT-процесса парсинга полуструктурированных данных.\r\n\r\nВ будущем, этот код можно оформить как хранимую процедуру или табличную функцию и использовать как отдельный компонент в \"большом\" ETL-процессе",
            "metadata": {}
        }
    ]
}