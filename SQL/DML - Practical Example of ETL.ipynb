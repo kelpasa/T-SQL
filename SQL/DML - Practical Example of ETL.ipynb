{
    "metadata": {
        "kernelspec": {
            "name": "SQL",
            "display_name": "SQL",
            "language": "sql"
        },
        "language_info": {
            "name": "sql",
            "version": ""
        }
    },
    "nbformat_minor": 2,
    "nbformat": 4,
    "cells": [
        {
            "cell_type": "markdown",
            "source": "# ETL - Extract, Transform, Load\r\nОбщий термин для всех процессов миграции данных из одного источника в другой (экспорт, импорт, конвертация данных; парсинг файлов, web-scrapping и пр.)\r\n\r\nТипичные этапы ETL процесса:\r\n- извлечение из источника данных\r\n- очистка (приведение разнородных данных к единому формату, удаление лишнего и пр)\r\n- обогащение \r\n- трансформирование \r\n- загрузка (интеграция в единую модель)\r\n\r\nСложные ETL процессы разбиваются на цепочку более простых.\r\n",
            "metadata": {}
        },
        {
            "cell_type": "markdown",
            "source": "Рассмотрим частный случай импорта данных из внешнего файла. Например, из Excel или csv.\r\n",
            "metadata": {}
        },
        {
            "cell_type": "markdown",
            "source": "### Образец файла с исходными данными:\r\n<img src=\"https://github.com/timoti1/T-SQL/blob/master/SQL/img/etl/source.png?raw=1\" />",
            "metadata": {}
        },
        {
            "cell_type": "markdown",
            "source": "### Модель данных в целевой БД:\r\n<img src=\"https://github.com/timoti1/T-SQL/blob/master/SQL/img/SwimmingСompetitionsDB.png?raw=1\" />",
            "metadata": {}
        },
        {
            "cell_type": "markdown",
            "source": "Проведем первичный _data profiling_, определив:\r\n- метрики данных (список атрибутов, их типы, длину строковых полей, null/not null, потенциальный ключ, степень соответствия целевым атрибутам и пр)\r\n- аномалии (грязные или отсутствующие данные, множественные значения и пр)\r\n- возможный способ осуществления парсинга ",
            "metadata": {}
        },
        {
            "cell_type": "markdown",
            "source": "### Требования к Staging-ETL (v1.0):\r\n<img src=\"https://github.com/timoti1/T-SQL/blob/master/SQL/img/etl/requrements - stg_Competitions.png?raw=1\" />",
            "metadata": {}
        },
        {
            "cell_type": "markdown",
            "source": "В атрибутах все еще присутствуют множественнные значения, мы не будем готовы загрузить такие данные в целевые таблицы (например, Фамилия+Имя, Клуб+Город, Группа+Длина дистанции+Стиль плавания).\r\n\r\nНужно детальное сравнение с целевыми атрибутами и уточнение требований.",
            "metadata": {}
        },
        {
            "cell_type": "markdown",
            "source": "### Уточненные требования:\r\n<img src=\"https://github.com/timoti1/T-SQL/blob/master/SQL/img/etl/requrements_upd - stg_Competitions.png?raw=1\" />",
            "metadata": {}
        },
        {
            "cell_type": "markdown",
            "source": "Создадим стейджинговую таблицу для загрузки исходных исходных данных в сыром виде (фактически, мы будем создавать ELT а не ETL код):",
            "metadata": {}
        },
        {
            "cell_type": "code",
            "source": "use tempdb\r\ngo\r\n\r\ndrop table if exists dbo.stg_competitions\r\ngo\r\n\r\ncreate table dbo.stg_competitions\r\n(\r\n\tid int\t\t\t not null identity,\r\n\r\n\tF1 nvarchar(255) null,\r\n\tF2 nvarchar(255) null,\r\n\tF3 nvarchar(255) null,\r\n\tF4 nvarchar(255) null,\r\n\tF5 nvarchar(255) null,\r\n\tF6 nvarchar(255) null,\r\n\tF7 nvarchar(255) null,\r\n\tF8 nvarchar(255) null,\r\n\tF9 nvarchar(255) null,\r\n\r\n\tconstraint PK_stg_Competitions primary key\r\n\t(\r\n\t\tid\r\n\t)\r\n) \r\ngo",
            "metadata": {},
            "outputs": [],
            "execution_count": 0
        },
        {
            "cell_type": "markdown",
            "source": "Будем полагать исходные данные находятся в текстовом файле формата csv.<br/>\r\nЕсли, к примеру, изначально данные находятся в Excel, конверсию в csv можно сделать программно или средствами самого Excel.\r\n\r\nГрузим данные в staging-таблицу:",
            "metadata": {}
        },
        {
            "cell_type": "code",
            "source": "use tempdb\r\ngo\r\n\r\ntruncate table dbo.stg_Competitions\r\n\r\nbulk insert dbo.stg_competitions \r\nfrom 'c:/temp/итоговый протокол.csv'\r\n   with (\r\n      format = 'csv',\r\n\t  codepage = 65001,\t \r\n\t  formatfile = 'c:/temp/stg_competitions.fmt',\r\n\t  --firstrow = 1,\r\n      fieldterminator = ',' \r\n)\r\ngo\r\n\r\nselect top 5 * from dbo.stg_Competitions",
            "metadata": {},
            "outputs": [
                {
                    "output_type": "display_data",
                    "data": {
                        "text/html": "Commands completed successfully."
                    },
                    "metadata": {}
                },
                {
                    "output_type": "display_data",
                    "data": {
                        "text/html": "Total execution time: 00:00:00.0429511"
                    },
                    "metadata": {}
                },
                {
                    "output_type": "display_data",
                    "data": {
                        "text/html": "(1470 rows affected)"
                    },
                    "metadata": {}
                },
                {
                    "output_type": "display_data",
                    "data": {
                        "text/html": "Total execution time: 00:00:00.0366606"
                    },
                    "metadata": {}
                },
                {
                    "output_type": "display_data",
                    "data": {
                        "text/html": "(5 rows affected)"
                    },
                    "metadata": {}
                },
                {
                    "output_type": "display_data",
                    "data": {
                        "text/html": "Total execution time: 00:00:00.0711107"
                    },
                    "metadata": {}
                },
                {
                    "output_type": "execute_result",
                    "execution_count": 1,
                    "data": {
                        "application/vnd.dataresource+json": {
                            "schema": {
                                "fields": [
                                    {
                                        "name": "id"
                                    },
                                    {
                                        "name": "F1"
                                    },
                                    {
                                        "name": "F2"
                                    },
                                    {
                                        "name": "F3"
                                    },
                                    {
                                        "name": "F4"
                                    },
                                    {
                                        "name": "F5"
                                    },
                                    {
                                        "name": "F6"
                                    },
                                    {
                                        "name": "F7"
                                    },
                                    {
                                        "name": "F8"
                                    },
                                    {
                                        "name": "F9"
                                    }
                                ]
                            },
                            "data": [
                                {
                                    "0": "1",
                                    "1": "NULL",
                                    "2": "ПРОТОКОЛ  ",
                                    "3": "NULL",
                                    "4": "NULL",
                                    "5": "NULL",
                                    "6": "NULL",
                                    "7": "NULL",
                                    "8": "NULL",
                                    "9": "NULL"
                                },
                                {
                                    "0": "2",
                                    "1": "NULL",
                                    "2": "Международного турнира по плаванию \"Весенние старты\", ",
                                    "3": "NULL",
                                    "4": "NULL",
                                    "5": "NULL",
                                    "6": "NULL",
                                    "7": "NULL",
                                    "8": "NULL",
                                    "9": "NULL"
                                },
                                {
                                    "0": "3",
                                    "1": "NULL",
                                    "2": "по программе, \"Кубок \"Надежды-2019\"",
                                    "3": "NULL",
                                    "4": "NULL",
                                    "5": "NULL",
                                    "6": "NULL",
                                    "7": "NULL",
                                    "8": "NULL",
                                    "9": "NULL"
                                },
                                {
                                    "0": "4",
                                    "1": "NULL",
                                    "2": "г.Жлобин, Беларусь,22-24.04.2019, бассейн 50м.",
                                    "3": "NULL",
                                    "4": "NULL",
                                    "5": "NULL",
                                    "6": "NULL",
                                    "7": "NULL",
                                    "8": "NULL",
                                    "9": "NULL"
                                },
                                {
                                    "0": "5",
                                    "1": "NULL",
                                    "2": "1 день - 22.04.2019",
                                    "3": "NULL",
                                    "4": "NULL",
                                    "5": "NULL",
                                    "6": "NULL",
                                    "7": "NULL",
                                    "8": "NULL",
                                    "9": "NULL"
                                }
                            ]
                        },
                        "text/html": "<table><tr><th>id</th><th>F1</th><th>F2</th><th>F3</th><th>F4</th><th>F5</th><th>F6</th><th>F7</th><th>F8</th><th>F9</th></tr><tr><td>1</td><td>NULL</td><td>ПРОТОКОЛ  </td><td>NULL</td><td>NULL</td><td>NULL</td><td>NULL</td><td>NULL</td><td>NULL</td><td>NULL</td></tr><tr><td>2</td><td>NULL</td><td>Международного турнира по плаванию &quot;Весенние старты&quot;, </td><td>NULL</td><td>NULL</td><td>NULL</td><td>NULL</td><td>NULL</td><td>NULL</td><td>NULL</td></tr><tr><td>3</td><td>NULL</td><td>по программе, &quot;Кубок &quot;Надежды-2019&quot;</td><td>NULL</td><td>NULL</td><td>NULL</td><td>NULL</td><td>NULL</td><td>NULL</td><td>NULL</td></tr><tr><td>4</td><td>NULL</td><td>г.Жлобин, Беларусь,22-24.04.2019, бассейн 50м.</td><td>NULL</td><td>NULL</td><td>NULL</td><td>NULL</td><td>NULL</td><td>NULL</td><td>NULL</td></tr><tr><td>5</td><td>NULL</td><td>1 день - 22.04.2019</td><td>NULL</td><td>NULL</td><td>NULL</td><td>NULL</td><td>NULL</td><td>NULL</td><td>NULL</td></tr></table>"
                    },
                    "metadata": {}
                }
            ],
            "execution_count": 1
        },
        {
            "cell_type": "markdown",
            "source": "Альтернативно, ту же задачу можно было сделать с помощью мастера импорта данных или с помощью \r\n- ```openrowset```:\r\n\r\n```sql\r\n        select *\r\n        from openrowset(\r\n            bulk 'c:/temp/итоговый протокол.csv', \r\n            formatfile = 'c:/temp/stg_competitions.fmt', \r\n            format='csv', \r\n            codepage='65001'\r\n        ) a  \r\n```\r\n\r\n- bcp:\r\n```bash\r\n        bcp testdb.dbo.stg_Competitions format nul -f ./stg_Competitions.fmt -S 127.0.0.1 -U SA -P \"password\"\r\n\r\n        bcp stg_Competitions in /home/gavrilenkotimofey/Соревнования.csv -f ./stg_Competitions.fmt -S localhost -U sa -P \"password\" -d testdb \r\n```",
            "metadata": {}
        },
        {
            "cell_type": "markdown",
            "source": "### Попробуем решить задачу одним запросом ``` SELECT ```, разбив его на ряд CTE-модулей",
            "metadata": {}
        },
        {
            "cell_type": "code",
            "source": "use tempdb\r\ngo\r\n\r\n--Шаг 1. Попытка разбить данные на группы (одна группа на одну соревновательную дисциплину): \r\n\r\n;with cte_list_of_group_discipline\r\nas\r\n(\r\n    select c.id, \r\n         c.F2 as group_discipline\r\n    from stg_Competitions c   \r\n    join stg_Competitions c2 on c.id+2 = c2.id\r\n    where c2.F1 = '1' \r\n)\r\nselect * from cte_list_of_group_discipline",
            "metadata": {},
            "outputs": [
                {
                    "output_type": "display_data",
                    "data": {
                        "text/html": "Commands completed successfully."
                    },
                    "metadata": {}
                },
                {
                    "output_type": "display_data",
                    "data": {
                        "text/html": "Total execution time: 00:00:00.0017419"
                    },
                    "metadata": {}
                },
                {
                    "output_type": "display_data",
                    "data": {
                        "text/html": "(30 rows affected)"
                    },
                    "metadata": {}
                },
                {
                    "output_type": "display_data",
                    "data": {
                        "text/html": "Total execution time: 00:00:00.0119894"
                    },
                    "metadata": {}
                },
                {
                    "output_type": "execute_result",
                    "execution_count": 4,
                    "data": {
                        "application/vnd.dataresource+json": {
                            "schema": {
                                "fields": [
                                    {
                                        "name": "id"
                                    },
                                    {
                                        "name": "group_discipline"
                                    }
                                ]
                            },
                            "data": [
                                {
                                    "0": "6",
                                    "1": "Девочки 2007г.р. и моложе - 50 баттерфляй"
                                },
                                {
                                    "0": "60",
                                    "1": "Мальчики 2007г.р. и моложе - 50 баттерфляй"
                                },
                                {
                                    "0": "150",
                                    "1": "Девочки 2006 г.р. - 100 на спине"
                                },
                                {
                                    "0": "187",
                                    "1": "Мальчики 2006 г.р. - 100 на спине"
                                },
                                {
                                    "0": "251",
                                    "1": "Девушки 2004-2005 г.р. - 400 вольный стиль"
                                },
                                {
                                    "0": "275",
                                    "1": "Юноши 2004-2005 г.р. - 400 вольный стиль"
                                },
                                {
                                    "0": "345",
                                    "1": "Девочки 2007г.р. и моложе -50 вольный стиль"
                                },
                                {
                                    "0": "400",
                                    "1": "Мальчики 2007г.р. и моложе -50 вольный стиль"
                                },
                                {
                                    "0": "492",
                                    "1": "Девочки 2006г.р. - 100 вольный стиль"
                                },
                                {
                                    "0": "531",
                                    "1": "Мальчики 2006г.р. - 100 вольный стиль"
                                },
                                {
                                    "0": "598",
                                    "1": "Девочки 2007г.р. и моложе - 50 брасс"
                                },
                                {
                                    "0": "652",
                                    "1": "Мальчики 2007г.р. и моложе- 50 брасс"
                                },
                                {
                                    "0": "744",
                                    "1": "Девочки 2006 г.р. - 100 брасс"
                                },
                                {
                                    "0": "782",
                                    "1": "Мальчики 2006 г.р. - 100 брасс"
                                },
                                {
                                    "0": "848",
                                    "1": "Девушки 2004-2005 г.р. - 100 баттерфляй"
                                },
                                {
                                    "0": "856",
                                    "1": "Юноши 2004-2005 г.р. 100 баттерфляй"
                                },
                                {
                                    "0": "868",
                                    "1": "Девушки 2004-2005 г.р. - 100 на спине"
                                },
                                {
                                    "0": "876",
                                    "1": "Юноши 2004-2005 г.р. - 100 на спине"
                                },
                                {
                                    "0": "891",
                                    "1": "Девушки 2004-2005 г.р - 100 брасс"
                                },
                                {
                                    "0": "899",
                                    "1": "Юноши 2004-2005 г.р. - 100 брасс "
                                },
                                {
                                    "0": "916",
                                    "1": "Девушки 2004-2005 г.р. - 100 вольный стиль"
                                },
                                {
                                    "0": "927",
                                    "1": "Девушки 2004-2005 г.р. - 100 вольный стиль"
                                },
                                {
                                    "0": "965",
                                    "1": "Девочки 2007г.р. и моложе - 50 на спине"
                                },
                                {
                                    "0": "1018",
                                    "1": "Будник Виктория"
                                },
                                {
                                    "0": "1111",
                                    "1": "Девочки 2007г.р. и моложе - 100 комплексное плавание"
                                },
                                {
                                    "0": "1168",
                                    "1": "Мальчики 2007г.р. и моложе - 100 комплексное плавание"
                                },
                                {
                                    "0": "1269",
                                    "1": "Девочки 2006г.р. - 200 комплексное плавание"
                                },
                                {
                                    "0": "1305",
                                    "1": "Мальчики 2006г.р. - 200 комплексное плавание"
                                },
                                {
                                    "0": "1374",
                                    "1": "Девушки 2004-2005г.р. - 200 комплексное плавание"
                                },
                                {
                                    "0": "1398",
                                    "1": "Юноши 2004-2005г.р. - 200 комплексное плавание"
                                }
                            ]
                        },
                        "text/html": "<table><tr><th>id</th><th>group_discipline</th></tr><tr><td>6</td><td>Девочки 2007г.р. и моложе - 50 баттерфляй</td></tr><tr><td>60</td><td>Мальчики 2007г.р. и моложе - 50 баттерфляй</td></tr><tr><td>150</td><td>Девочки 2006 г.р. - 100 на спине</td></tr><tr><td>187</td><td>Мальчики 2006 г.р. - 100 на спине</td></tr><tr><td>251</td><td>Девушки 2004-2005 г.р. - 400 вольный стиль</td></tr><tr><td>275</td><td>Юноши 2004-2005 г.р. - 400 вольный стиль</td></tr><tr><td>345</td><td>Девочки 2007г.р. и моложе -50 вольный стиль</td></tr><tr><td>400</td><td>Мальчики 2007г.р. и моложе -50 вольный стиль</td></tr><tr><td>492</td><td>Девочки 2006г.р. - 100 вольный стиль</td></tr><tr><td>531</td><td>Мальчики 2006г.р. - 100 вольный стиль</td></tr><tr><td>598</td><td>Девочки 2007г.р. и моложе - 50 брасс</td></tr><tr><td>652</td><td>Мальчики 2007г.р. и моложе- 50 брасс</td></tr><tr><td>744</td><td>Девочки 2006 г.р. - 100 брасс</td></tr><tr><td>782</td><td>Мальчики 2006 г.р. - 100 брасс</td></tr><tr><td>848</td><td>Девушки 2004-2005 г.р. - 100 баттерфляй</td></tr><tr><td>856</td><td>Юноши 2004-2005 г.р. 100 баттерфляй</td></tr><tr><td>868</td><td>Девушки 2004-2005 г.р. - 100 на спине</td></tr><tr><td>876</td><td>Юноши 2004-2005 г.р. - 100 на спине</td></tr><tr><td>891</td><td>Девушки 2004-2005 г.р - 100 брасс</td></tr><tr><td>899</td><td>Юноши 2004-2005 г.р. - 100 брасс </td></tr><tr><td>916</td><td>Девушки 2004-2005 г.р. - 100 вольный стиль</td></tr><tr><td>927</td><td>Девушки 2004-2005 г.р. - 100 вольный стиль</td></tr><tr><td>965</td><td>Девочки 2007г.р. и моложе - 50 на спине</td></tr><tr><td>1018</td><td>Будник Виктория</td></tr><tr><td>1111</td><td>Девочки 2007г.р. и моложе - 100 комплексное плавание</td></tr><tr><td>1168</td><td>Мальчики 2007г.р. и моложе - 100 комплексное плавание</td></tr><tr><td>1269</td><td>Девочки 2006г.р. - 200 комплексное плавание</td></tr><tr><td>1305</td><td>Мальчики 2006г.р. - 200 комплексное плавание</td></tr><tr><td>1374</td><td>Девушки 2004-2005г.р. - 200 комплексное плавание</td></tr><tr><td>1398</td><td>Юноши 2004-2005г.р. - 200 комплексное плавание</td></tr></table>"
                    },
                    "metadata": {}
                }
            ],
            "execution_count": 4
        },
        {
            "cell_type": "markdown",
            "source": "Внимательно проанализировав полученный результат, мы находим признак грязных данных (Будник Виктория в названии группы).\r\nПосле выяснения причины, оказывается, в исходных данных нарушен общий порядок Название группы-Строка заголовка-Данные.\r\n\r\nНужна доработка кода выше под эту особенность.",
            "metadata": {}
        },
        {
            "cell_type": "markdown",
            "source": "### Предварительный анализ \"сырых\" данных\r\n<img src=\"https://github.com/timoti1/T-SQL/blob/master/SQL/img/etl/source-analysis.png?raw=1\" />",
            "metadata": {}
        },
        {
            "cell_type": "markdown",
            "source": "Определение соревновательных групп:",
            "metadata": {}
        },
        {
            "cell_type": "code",
            "source": "use tempdb\r\ngo\r\n\r\n;with cte_list_of_group_discipline\r\nas\r\n(\r\n    select c.id, \r\n         c.F2 as group_discipline\r\n    from stg_Competitions c\r\n    join stg_Competitions c1 on c.id+1 = c1.id\r\n    join stg_Competitions c2 on c.id+2 = c2.id\r\n    where (c1.F1 = '1' and (charindex('-', c.F2)<>0)) or \r\n          (c2.F1 = '1' and (charindex('-', c.F2)<>0))\r\n)\r\nselect * from cte_list_of_group_discipline",
            "metadata": {},
            "outputs": [],
            "execution_count": 0
        },
        {
            "cell_type": "markdown",
            "source": "Определение места и времени проведения соревнования:",
            "metadata": {}
        },
        {
            "cell_type": "code",
            "source": "",
            "metadata": {},
            "outputs": [],
            "execution_count": 0
        },
        {
            "cell_type": "markdown",
            "source": "\"Разворот\" извлеченных атрибутов в столбцы:",
            "metadata": {}
        },
        {
            "cell_type": "code",
            "source": "",
            "metadata": {},
            "outputs": [],
            "execution_count": 0
        },
        {
            "cell_type": "markdown",
            "source": "Мы приблизились к выполнению требований, теперь сконцентрируемся на разбиении множественных атрибутов на атомарные значения.\r\n\r\nПопробуем разбить Фамилию Имя:",
            "metadata": {}
        },
        {
            "cell_type": "code",
            "source": "",
            "metadata": {},
            "outputs": [],
            "execution_count": 0
        },
        {
            "cell_type": "markdown",
            "source": "### Окончательный вариант:",
            "metadata": {}
        },
        {
            "cell_type": "code",
            "source": "use tempdb\r\ngo\r\n\r\n;with cte_trim_fields\r\nas\r\n(\r\n    select ltrim(rtrim(F1)) as F1,\r\n\t       ltrim(rtrim(F2)) as F2,\r\n\t\t   ltrim(rtrim(F3)) as F3,\r\n\t\t   ltrim(rtrim(F4)) as F4,\r\n\t\t   ltrim(rtrim(F5)) as F5,\r\n\t\t   ltrim(rtrim(F6)) as F6,\r\n\t\t   ltrim(rtrim(F7)) as F7,\r\n\t\t   id\r\n\tfrom stg_Competitions\r\n),\r\ncte_list_of_group_discipline\r\nas\r\n(\r\n    select c.id, \r\n         c.F2 as group_discipline\r\n    from cte_trim_fields c\r\n    join cte_trim_fields c1 on c.id+1 = c1.id\r\n    join cte_trim_fields c2 on c.id+2 = c2.id\r\n    where (c1.F1 = '1' and (charindex('-', c.F2)<>0)) or \r\n          (c2.F1 = '1' and (charindex('-', c.F2)<>0))\r\n),\r\ncte_list_of_ranges\r\nas\r\n(\r\n    select id start_id, \r\n\t       lead(id) over(order by id) end_id\r\n    from cte_list_of_group_discipline\r\n),\r\ncte_pivot\r\nas\r\n(\r\n\tselect c.*, gd.group_discipline\r\n\tfrom stg_Competitions c\r\n\tjoin cte_list_of_ranges rr on c.id between rr.start_id and case when rr.end_id-1 is not null then rr.end_id-1 else (select count(1) from stg_Competitions) end\r\n\tjoin cte_list_of_group_discipline gd on gd.id = rr.start_id\r\n),\r\ncte_transform\r\nas\r\n(\r\n\tselect \r\n\t       F1 as place,\r\n\r\n\t\t   iif(charindex(' ', F2)<>0, left(F2, charindex(' ', F2) - 1), F2) as last_name,\r\n\t\t   iif(charindex(' ', F2)<>0, right(F2, len(F2) - charindex(' ', F2)), null) as first_name,\r\n\r\n\t\t   iif(len(F3)=2, iif(left(F3, 1) in ('8','9'), '19'+F3,'20'+F3), F3) as birth_year,\r\n\r\n\t\t   iif(charindex(',', F4)<>0, left(F4, charindex(',', F4) - 1), F4) as city,\r\n\t\t   iif(charindex(',', F4)<>0, right(F4, len(F4) - charindex(',', F4)), null) as team,\r\n\t\t   \r\n\t\t   F5 as country,\t \r\n\t\t  \r\n\t\t   iif(charindex('D', F6)=0, iif(len(F6)=2, F6+'.00', F6), null) as result,\r\n\t\t   iif(charindex('D', F6)<>0, F6, null) as disc,\r\n\t\t   \r\n\t\t   F7 as points,\r\n   \t\t   \r\n\t\t   rtrim(left(group_discipline, len(group_discipline) - charindex('-', reverse(group_discipline)))) as athlete_group,\r\n\t\t   ltrim(right(group_discipline, charindex('-', reverse(group_discipline)) - 1)) as discipline,\r\n\r\n\t\t   id\r\n\tfrom cte_pivot\r\n\twhere F1 is not null\r\n),\r\ncte_parse_time\r\nas\r\n(\r\n    select left(result, len(result) - patindex('%[:,.]%', reverse(result))) left_to_parse, \r\n\t       try_parse(right(result, patindex('%[:,.]%', reverse(result)) - 1) as int) token,\r\n\t\t   it = 1,\r\n\t\t   id\r\n    from cte_transform\r\n    union all\r\n    select iif(patindex('%[:,.]%', reverse(left_to_parse)) <> 0, left(left_to_parse, len(left_to_parse) - patindex('%[:,.]%', reverse(left_to_parse))), '0') left_to_parse, \r\n\t       try_parse(iif(patindex('%[:,.]%', reverse(left_to_parse)) <> 0, right(left_to_parse, patindex('%[:,.]%', reverse(left_to_parse)) - 1), left_to_parse) as int) token,\r\n\t\t   it = it + 1,\r\n\t\t   id\r\n    from cte_parse_time\r\n\twhere it < 4 \t\r\n), \r\ncte_clean_and_format\r\nas\r\n(\r\n    select try_parse(place as int) place,\r\n\t\t   left(last_name, len(last_name) - charindex(' ', reverse(last_name))) last_name,\r\n\t       left(first_name, len(first_name) - charindex(' ', reverse(first_name))) first_name,\r\n\t\t   try_parse(birth_year as int) birth_year,\r\n\t\t   city,\r\n\t\t   replace(team, '\"', '') team,\r\n\t\t   country,\r\n\t\t   timefromparts(h.token, m.token, s.token, ms.token, 2) result,\r\n\t\t   disc,\r\n\t\t   try_parse(points as int) points,\t\t   \r\n\t\t   athlete_group,\t\t\t   \r\n\t\t   try_parse(left(discipline, charindex(' ', discipline)) as int) distance,\r\n\t       right(discipline, len(discipline) - charindex(' ', discipline) ) as style,\r\n\t\t   t.id\r\n\tfrom cte_transform t\r\n\tjoin cte_parse_time h on t.id = h.id and h.it = 4\r\n\tjoin cte_parse_time m on t.id = m.id and m.it = 3\r\n\tjoin cte_parse_time s on t.id = s.id and s.it = 2\r\n\tjoin cte_parse_time ms on t.id = ms.id and ms.it = 1\r\n)\r\nselect top 10 * from cte_clean_and_format\r\n",
            "metadata": {},
            "outputs": [
                {
                    "output_type": "display_data",
                    "data": {
                        "text/html": "Commands completed successfully."
                    },
                    "metadata": {}
                },
                {
                    "output_type": "display_data",
                    "data": {
                        "text/html": "Total execution time: 00:00:00.0011956"
                    },
                    "metadata": {}
                },
                {
                    "output_type": "display_data",
                    "data": {
                        "text/html": "(10 rows affected)"
                    },
                    "metadata": {}
                },
                {
                    "output_type": "display_data",
                    "data": {
                        "text/html": "Total execution time: 00:00:02.7883567"
                    },
                    "metadata": {}
                },
                {
                    "output_type": "execute_result",
                    "execution_count": 2,
                    "data": {
                        "application/vnd.dataresource+json": {
                            "schema": {
                                "fields": [
                                    {
                                        "name": "place"
                                    },
                                    {
                                        "name": "last_name"
                                    },
                                    {
                                        "name": "first_name"
                                    },
                                    {
                                        "name": "birth_year"
                                    },
                                    {
                                        "name": "city"
                                    },
                                    {
                                        "name": "team"
                                    },
                                    {
                                        "name": "country"
                                    },
                                    {
                                        "name": "result"
                                    },
                                    {
                                        "name": "disc"
                                    },
                                    {
                                        "name": "points"
                                    },
                                    {
                                        "name": "athlete_group"
                                    },
                                    {
                                        "name": "distance"
                                    },
                                    {
                                        "name": "style"
                                    },
                                    {
                                        "name": "id"
                                    }
                                ]
                            },
                            "data": [
                                {
                                    "0": "65",
                                    "1": "Калугин",
                                    "2": "Георгий",
                                    "3": "2004",
                                    "4": "Долгопрудный",
                                    "5": "ДЮСШ",
                                    "6": "RUS",
                                    "7": "NULL",
                                    "8": "DSQ",
                                    "9": "NULL",
                                    "10": "Юноши 2004-2005г.р.",
                                    "11": "200",
                                    "12": "комплексное плавание",
                                    "13": "1464"
                                },
                                {
                                    "0": "64",
                                    "1": "Бурлаков",
                                    "2": "Андрей",
                                    "3": "2005",
                                    "4": "Гомель",
                                    "5": "СДЮШОР 7",
                                    "6": "BLR",
                                    "7": "00:03:14.4600000",
                                    "8": "NULL",
                                    "9": "201",
                                    "10": "Юноши 2004-2005г.р.",
                                    "11": "200",
                                    "12": "комплексное плавание",
                                    "13": "1463"
                                },
                                {
                                    "0": "63",
                                    "1": "Терешкин",
                                    "2": "Егор",
                                    "3": "2005",
                                    "4": "Гомель-2",
                                    "5": "ГОЦОР ввс",
                                    "6": "BLR",
                                    "7": "00:03:10.5600000",
                                    "8": "NULL",
                                    "9": "214",
                                    "10": "Юноши 2004-2005г.р.",
                                    "11": "200",
                                    "12": "комплексное плавание",
                                    "13": "1462"
                                },
                                {
                                    "0": "62",
                                    "1": "Мельников",
                                    "2": "Данила",
                                    "3": "2005",
                                    "4": "Гомель",
                                    "5": "ДЮСШ-6",
                                    "6": "BLR",
                                    "7": "00:03:05.7000000",
                                    "8": "NULL",
                                    "9": "231",
                                    "10": "Юноши 2004-2005г.р.",
                                    "11": "200",
                                    "12": "комплексное плавание",
                                    "13": "1461"
                                },
                                {
                                    "0": "61",
                                    "1": "Паньков",
                                    "2": "Сергей",
                                    "3": "2005",
                                    "4": "Гомель-1",
                                    "5": "ГОЦОР ввс",
                                    "6": "BLR",
                                    "7": "00:03:02.5100000",
                                    "8": "NULL",
                                    "9": "243",
                                    "10": "Юноши 2004-2005г.р.",
                                    "11": "200",
                                    "12": "комплексное плавание",
                                    "13": "1460"
                                },
                                {
                                    "0": "60",
                                    "1": "Мохорев",
                                    "2": "Денис",
                                    "3": "2004",
                                    "4": "Жлобин",
                                    "5": "ЦОР",
                                    "6": "BLR",
                                    "7": "00:03:01.7600000",
                                    "8": "NULL",
                                    "9": "246",
                                    "10": "Юноши 2004-2005г.р.",
                                    "11": "200",
                                    "12": "комплексное плавание",
                                    "13": "1459"
                                },
                                {
                                    "0": "59",
                                    "1": "Круковский",
                                    "2": "Владислав",
                                    "3": "2005",
                                    "4": "Гомель-1",
                                    "5": "ГОЦОР ввс",
                                    "6": "BLR",
                                    "7": "00:02:59.3700000",
                                    "8": "NULL",
                                    "9": "256",
                                    "10": "Юноши 2004-2005г.р.",
                                    "11": "200",
                                    "12": "комплексное плавание",
                                    "13": "1458"
                                },
                                {
                                    "0": "58",
                                    "1": "Воронович",
                                    "2": "Кирилл",
                                    "3": "2004",
                                    "4": "Гомель",
                                    "5": "СДЮШОР 7",
                                    "6": "BLR",
                                    "7": "00:02:57.0900000",
                                    "8": "NULL",
                                    "9": "266",
                                    "10": "Юноши 2004-2005г.р.",
                                    "11": "200",
                                    "12": "комплексное плавание",
                                    "13": "1457"
                                },
                                {
                                    "0": "57",
                                    "1": "Савкин",
                                    "2": "Евгений",
                                    "3": "2004",
                                    "4": "Гомель",
                                    "5": "СДЮШОР 7",
                                    "6": "BLR",
                                    "7": "00:02:56.6300000",
                                    "8": "NULL",
                                    "9": "268",
                                    "10": "Юноши 2004-2005г.р.",
                                    "11": "200",
                                    "12": "комплексное плавание",
                                    "13": "1456"
                                },
                                {
                                    "0": "56",
                                    "1": "Зуб",
                                    "2": "Владислав",
                                    "3": "2005",
                                    "4": "Гомель-2",
                                    "5": "ГОЦОР ввс",
                                    "6": "BLR",
                                    "7": "00:02:54.8100000",
                                    "8": "NULL",
                                    "9": "277",
                                    "10": "Юноши 2004-2005г.р.",
                                    "11": "200",
                                    "12": "комплексное плавание",
                                    "13": "1455"
                                }
                            ]
                        },
                        "text/html": "<table><tr><th>place</th><th>last_name</th><th>first_name</th><th>birth_year</th><th>city</th><th>team</th><th>country</th><th>result</th><th>disc</th><th>points</th><th>athlete_group</th><th>distance</th><th>style</th><th>id</th></tr><tr><td>65</td><td>Калугин</td><td>Георгий</td><td>2004</td><td>Долгопрудный</td><td>ДЮСШ</td><td>RUS</td><td>NULL</td><td>DSQ</td><td>NULL</td><td>Юноши 2004-2005г.р.</td><td>200</td><td>комплексное плавание</td><td>1464</td></tr><tr><td>64</td><td>Бурлаков</td><td>Андрей</td><td>2005</td><td>Гомель</td><td>СДЮШОР 7</td><td>BLR</td><td>00:03:14.4600000</td><td>NULL</td><td>201</td><td>Юноши 2004-2005г.р.</td><td>200</td><td>комплексное плавание</td><td>1463</td></tr><tr><td>63</td><td>Терешкин</td><td>Егор</td><td>2005</td><td>Гомель-2</td><td>ГОЦОР ввс</td><td>BLR</td><td>00:03:10.5600000</td><td>NULL</td><td>214</td><td>Юноши 2004-2005г.р.</td><td>200</td><td>комплексное плавание</td><td>1462</td></tr><tr><td>62</td><td>Мельников</td><td>Данила</td><td>2005</td><td>Гомель</td><td>ДЮСШ-6</td><td>BLR</td><td>00:03:05.7000000</td><td>NULL</td><td>231</td><td>Юноши 2004-2005г.р.</td><td>200</td><td>комплексное плавание</td><td>1461</td></tr><tr><td>61</td><td>Паньков</td><td>Сергей</td><td>2005</td><td>Гомель-1</td><td>ГОЦОР ввс</td><td>BLR</td><td>00:03:02.5100000</td><td>NULL</td><td>243</td><td>Юноши 2004-2005г.р.</td><td>200</td><td>комплексное плавание</td><td>1460</td></tr><tr><td>60</td><td>Мохорев</td><td>Денис</td><td>2004</td><td>Жлобин</td><td>ЦОР</td><td>BLR</td><td>00:03:01.7600000</td><td>NULL</td><td>246</td><td>Юноши 2004-2005г.р.</td><td>200</td><td>комплексное плавание</td><td>1459</td></tr><tr><td>59</td><td>Круковский</td><td>Владислав</td><td>2005</td><td>Гомель-1</td><td>ГОЦОР ввс</td><td>BLR</td><td>00:02:59.3700000</td><td>NULL</td><td>256</td><td>Юноши 2004-2005г.р.</td><td>200</td><td>комплексное плавание</td><td>1458</td></tr><tr><td>58</td><td>Воронович</td><td>Кирилл</td><td>2004</td><td>Гомель</td><td>СДЮШОР 7</td><td>BLR</td><td>00:02:57.0900000</td><td>NULL</td><td>266</td><td>Юноши 2004-2005г.р.</td><td>200</td><td>комплексное плавание</td><td>1457</td></tr><tr><td>57</td><td>Савкин</td><td>Евгений</td><td>2004</td><td>Гомель</td><td>СДЮШОР 7</td><td>BLR</td><td>00:02:56.6300000</td><td>NULL</td><td>268</td><td>Юноши 2004-2005г.р.</td><td>200</td><td>комплексное плавание</td><td>1456</td></tr><tr><td>56</td><td>Зуб</td><td>Владислав</td><td>2005</td><td>Гомель-2</td><td>ГОЦОР ввс</td><td>BLR</td><td>00:02:54.8100000</td><td>NULL</td><td>277</td><td>Юноши 2004-2005г.р.</td><td>200</td><td>комплексное плавание</td><td>1455</td></tr></table>"
                    },
                    "metadata": {}
                }
            ],
            "execution_count": 2
        },
        {
            "cell_type": "markdown",
            "source": "### Используя язык SQL, мы создали основу ELT-процесса парсинга полуструктурированных данных.\r\n\r\nВ будущем, этот код можно оформить как хранимую процедуру или табличную функцию и использовать как отдельный компонент в \"большом\" ETL-процессе",
            "metadata": {}
        }
    ]
}