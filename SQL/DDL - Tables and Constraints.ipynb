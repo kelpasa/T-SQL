{
    "metadata": {
        "kernelspec": {
            "name": "SQL",
            "display_name": "SQL",
            "language": "sql"
        },
        "language_info": {
            "name": "sql",
            "version": ""
        }
    },
    "nbformat_minor": 2,
    "nbformat": 4,
    "cells": [
        {
            "cell_type": "markdown",
            "source": "## Логическая модель данных:\r\n\r\n<img src=\"https://github.com/timoti1/T-SQL/blob/master/SQL/img/SwimmersDB.png?raw=1\" />",
            "metadata": {}
        },
        {
            "cell_type": "markdown",
            "source": "<b>Пример \"плохого\" DDL-кода:</b>",
            "metadata": {}
        },
        {
            "cell_type": "code",
            "source": "create table Category (\r\nCategoryID int identity primary key,\r\nName nvarchar(20) not null UNIQUE, \r\nModifiedDate date not null\r\n)\r\n\r\ncreate table SwimmingClub (\r\nSwimmingClubID int identity primary key,\r\nName varchar(50) not null,\r\nCity varchar(50) not null,\r\nAddress varchar(50) not NULL,\r\nPhone  varchar(50) not null,\r\nYearEstablished int not null,\r\nModifiedDate date not NULL\r\n)\r\n\r\ncreate table Swimmer (\r\nSwimmerID int identity primary key,\r\nSwimmingClubID int not null, \r\nCategoryId int not null references Category(CategoryId),\r\nFirstName varchar(50) not null,\r\nLastName varchar(50) not null,\r\nYearOfBirth int not NULL,\r\nGender int not null,\r\nModifiedDate date not NULL\r\n)\r\n\r\ncreate table Coach (\r\nCoachID int identity primary key,\r\nFirstName varchar(50) not null,\r\nLastName varchar(50) not null,\r\nDateOfBirth date not NULL,\r\nCategoryID int not null references Category(CategoryID),\r\nModifiedDate date not NULL\r\n)\r\n\r\ncreate table SwimmerCoach (\r\nSwimmerID int not null references Swimmer(SwimmerID),\r\nCoachID int not null references Coach(CoachID), \r\nModifiedDate date not NULL\r\n)\r\ngo",
            "metadata": {},
            "outputs": [],
            "execution_count": 0
        },
        {
            "cell_type": "markdown",
            "source": "<b>\"Хороший\" DDL-код подразумевает:</b>\r\n- следование определенным naming conventions и code style\r\n- готовность к последущему рефакторингу\r\n- готовность к миграции на другие СУБД или downgrade текущей\r\n- воспроизводимость результатов при перезапуске\r\n- читаемость\r\n- ...\r\n",
            "metadata": {}
        },
        {
            "cell_type": "markdown",
            "source": "Файл <b>\"SQL\\code\\DDL\\tempdb - DDL - table - dbo.Category.sql\"</b>:",
            "metadata": {}
        },
        {
            "cell_type": "code",
            "source": "--выбираем активную БД\r\nuse tempdb\r\ngo\r\n\r\n--создаем объект, предварительно проверяя был ли он создан ранее\r\n--стараемся использовать \"классический\" подход\r\n\r\n--drop table if exists #Category\r\nif OBJECT_ID('dbo.Category', 'U') is not null\r\n   drop table dbo.Category\r\ngo\r\n\r\ncreate table dbo.Category \r\n(\r\n    CategoryID      tinyint         not null    identity,\r\n    [Name]          nvarchar(20)    not null, \r\n    ModifiedDate    datetime        not null,\r\n\r\n    constraint PK_Category primary key (\r\n        CategoryID\r\n    )\r\n)\r\ngo",
            "metadata": {},
            "outputs": [],
            "execution_count": 2
        },
        {
            "cell_type": "markdown",
            "source": "Файл <b>\"SQL\\code\\DDL\\tempdb - DDL - constraint - dbo.Category.sql\"</b>:",
            "metadata": {}
        },
        {
            "cell_type": "code",
            "source": "--выбираем активную БД\r\nuse tempdb\r\ngo\r\n\r\n--удаляем констрейнт если он был создан ранее\r\n--AK_Category_Name\r\nif exists(select 1 from INFORMATION_SCHEMA.TABLE_CONSTRAINTS where CONSTRAINT_NAME = 'AK_Category_Name')\r\n   alter table dbo.Category drop constraint AK_Category_Name\r\ngo\r\n\r\nalter table dbo.Category add constraint AK_Category_Name unique \r\n(\r\n    [Name]\r\n)\r\ngo\r\n\r\n--DF_Category_ModifiedDate. Внимание, подход меняется!\r\n--if exists(select 1 from INFORMATION_SCHEMA.TABLE_CONSTRAINTS where CONSTRAINT_NAME = 'DF_Category_ModifiedDate')\r\nif OBJECT_ID('DF_Category_ModifiedDate', 'D') is not null\r\n   alter table dbo.Category drop constraint DF_Category_ModifiedDate\r\ngo\r\n\r\nalter table dbo.Category add constraint DF_Category_ModifiedDate default GETDATE() for ModifiedDate\r\ngo",
            "metadata": {},
            "outputs": [],
            "execution_count": 2
        },
        {
            "cell_type": "markdown",
            "source": "Остальные скрипты DDL находятся в директории\r\n<b>SQL\\code\\DDL\\ </b>",
            "metadata": {}
        },
        {
            "cell_type": "markdown",
            "source": "<img src =\"img/SwimmersDB-LogicalModel.svg\" />",
            "metadata": {}
        }
    ]
}