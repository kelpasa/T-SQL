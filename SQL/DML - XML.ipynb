{
    "metadata": {
        "kernelspec": {
            "name": "SQL",
            "display_name": "SQL",
            "language": "sql"
        },
        "language_info": {
            "name": "sql",
            "version": ""
        }
    },
    "nbformat_minor": 2,
    "nbformat": 4,
    "cells": [
        {
            "cell_type": "markdown",
            "source": "# XML\r\n\r\n",
            "metadata": {}
        },
        {
            "cell_type": "markdown",
            "source": "Тип данных <b>```xml```</b>.\r\n",
            "metadata": {}
        },
        {
            "cell_type": "code",
            "source": "declare @xml xml\r\nset @xml = '<root/>'\r\nselect @xml\r\ngo\r\n\r\nset nocount on\r\n\r\ndeclare @xml xml\r\nset @xml = '<root> </root>'\r\nselect @xml\r\ngo\r\n\r\ndeclare @xml xml\r\nset @xml = 'Text'\r\nselect @xml\r\ngo\r\n\r\ndeclare @xml xml\r\nset @xml = '<root><element Attr=\"Text\" /></root>'\r\nselect @xml\r\ngo\r\n\r\ndeclare @xml xml\r\nset @xml = '<root><element Attr=''Text'' /></root>'\r\nselect @xml\r\ngo\r\n\r\ndeclare @xml xml\r\nset @xml = '\r\n<root>\r\n\t<element Attr=''Text1'' />\r\n\t<element Attr=''Text2''>\r\n\t\t<subelement>\r\n\t\t\tText3\r\n\t\t</subelement>\r\n\t</element>\r\n</root>\r\n'\r\nselect @xml\r\ngo",
            "metadata": {},
            "outputs": [
                {
                    "output_type": "display_data",
                    "data": {
                        "text/html": "(1 row affected)"
                    },
                    "metadata": {}
                },
                {
                    "output_type": "display_data",
                    "data": {
                        "text/html": "Total execution time: 00:00:00.0062984"
                    },
                    "metadata": {}
                },
                {
                    "output_type": "display_data",
                    "data": {
                        "text/html": "Commands completed successfully."
                    },
                    "metadata": {}
                },
                {
                    "output_type": "display_data",
                    "data": {
                        "text/html": "Total execution time: 00:00:00.0037364"
                    },
                    "metadata": {}
                },
                {
                    "output_type": "display_data",
                    "data": {
                        "text/html": "Commands completed successfully."
                    },
                    "metadata": {}
                },
                {
                    "output_type": "display_data",
                    "data": {
                        "text/html": "Total execution time: 00:00:00.0039592"
                    },
                    "metadata": {}
                },
                {
                    "output_type": "display_data",
                    "data": {
                        "text/html": "Commands completed successfully."
                    },
                    "metadata": {}
                },
                {
                    "output_type": "display_data",
                    "data": {
                        "text/html": "Total execution time: 00:00:00.0050339"
                    },
                    "metadata": {}
                },
                {
                    "output_type": "display_data",
                    "data": {
                        "text/html": "Commands completed successfully."
                    },
                    "metadata": {}
                },
                {
                    "output_type": "display_data",
                    "data": {
                        "text/html": "Total execution time: 00:00:00.0041879"
                    },
                    "metadata": {}
                },
                {
                    "output_type": "display_data",
                    "data": {
                        "text/html": "Commands completed successfully."
                    },
                    "metadata": {}
                },
                {
                    "output_type": "display_data",
                    "data": {
                        "text/html": "Total execution time: 00:00:00.0043191"
                    },
                    "metadata": {}
                },
                {
                    "output_type": "execute_result",
                    "execution_count": 1,
                    "data": {
                        "application/vnd.dataresource+json": {
                            "schema": {
                                "fields": [
                                    {
                                        "name": "(No column name)"
                                    }
                                ]
                            },
                            "data": [
                                {
                                    "0": "<root />"
                                }
                            ]
                        },
                        "text/html": "<table><tr><th>(No column name)</th></tr><tr><td>&lt;root /&gt;</td></tr></table>"
                    },
                    "metadata": {}
                },
                {
                    "output_type": "execute_result",
                    "execution_count": 1,
                    "data": {
                        "application/vnd.dataresource+json": {
                            "schema": {
                                "fields": [
                                    {
                                        "name": "(No column name)"
                                    }
                                ]
                            },
                            "data": [
                                {
                                    "0": "<root />"
                                }
                            ]
                        },
                        "text/html": "<table><tr><th>(No column name)</th></tr><tr><td>&lt;root /&gt;</td></tr></table>"
                    },
                    "metadata": {}
                },
                {
                    "output_type": "execute_result",
                    "execution_count": 1,
                    "data": {
                        "application/vnd.dataresource+json": {
                            "schema": {
                                "fields": [
                                    {
                                        "name": "(No column name)"
                                    }
                                ]
                            },
                            "data": [
                                {
                                    "0": "Text"
                                }
                            ]
                        },
                        "text/html": "<table><tr><th>(No column name)</th></tr><tr><td>Text</td></tr></table>"
                    },
                    "metadata": {}
                },
                {
                    "output_type": "execute_result",
                    "execution_count": 1,
                    "data": {
                        "application/vnd.dataresource+json": {
                            "schema": {
                                "fields": [
                                    {
                                        "name": "(No column name)"
                                    }
                                ]
                            },
                            "data": [
                                {
                                    "0": "<root><element Attr=\"Text\" /></root>"
                                }
                            ]
                        },
                        "text/html": "<table><tr><th>(No column name)</th></tr><tr><td>&lt;root&gt;&lt;element Attr=&quot;Text&quot; /&gt;&lt;/root&gt;</td></tr></table>"
                    },
                    "metadata": {}
                },
                {
                    "output_type": "execute_result",
                    "execution_count": 1,
                    "data": {
                        "application/vnd.dataresource+json": {
                            "schema": {
                                "fields": [
                                    {
                                        "name": "(No column name)"
                                    }
                                ]
                            },
                            "data": [
                                {
                                    "0": "<root><element Attr=\"Text\" /></root>"
                                }
                            ]
                        },
                        "text/html": "<table><tr><th>(No column name)</th></tr><tr><td>&lt;root&gt;&lt;element Attr=&quot;Text&quot; /&gt;&lt;/root&gt;</td></tr></table>"
                    },
                    "metadata": {}
                },
                {
                    "output_type": "execute_result",
                    "execution_count": 1,
                    "data": {
                        "application/vnd.dataresource+json": {
                            "schema": {
                                "fields": [
                                    {
                                        "name": "(No column name)"
                                    }
                                ]
                            },
                            "data": [
                                {
                                    "0": "<root><element Attr=\"Text1\" /><element Attr=\"Text2\"><subelement>\r\n\t\t\tText3\r\n\t\t</subelement></element></root>"
                                }
                            ]
                        },
                        "text/html": "<table><tr><th>(No column name)</th></tr><tr><td>&lt;root&gt;&lt;element Attr=&quot;Text1&quot; /&gt;&lt;element Attr=&quot;Text2&quot;&gt;&lt;subelement&gt;\r\n\t\t\tText3\r\n\t\t&lt;/subelement&gt;&lt;/element&gt;&lt;/root&gt;</td></tr></table>"
                    },
                    "metadata": {}
                }
            ],
            "execution_count": 1
        },
        {
            "cell_type": "markdown",
            "source": "Метод query() (XPath как подмножество XQuery):\r\n",
            "metadata": {}
        },
        {
            "cell_type": "code",
            "source": "declare @xml xml\r\nset @xml = '\r\n<root>\r\n\t<element Attr=''Text1'' />\r\n\t<element Attr=''Text2''>\r\n\t\t<subelement>\r\n\t\t\tText3\r\n\t\t</subelement>\r\n\t</element>\r\n</root>\r\n'\r\nselect @xml.query('//root/element[@Attr=\"Text1\"]') with_attr1, \r\n       @xml.query('//element/subelement')          with_subelement,\r\n       @xml.query('//element/subelement/text()')   subelement_text\r\ngo",
            "metadata": {},
            "outputs": [
                {
                    "output_type": "display_data",
                    "data": {
                        "text/html": "(1 row affected)"
                    },
                    "metadata": {}
                },
                {
                    "output_type": "display_data",
                    "data": {
                        "text/html": "Total execution time: 00:00:00.0233780"
                    },
                    "metadata": {}
                },
                {
                    "output_type": "execute_result",
                    "metadata": {},
                    "execution_count": 3,
                    "data": {
                        "application/vnd.dataresource+json": {
                            "schema": {
                                "fields": [
                                    {
                                        "name": "with_attr1"
                                    },
                                    {
                                        "name": "with_subelement"
                                    },
                                    {
                                        "name": "subelement_text"
                                    }
                                ]
                            },
                            "data": [
                                {
                                    "0": "<element Attr=\"Text1\" />",
                                    "1": "<subelement>\r\n\t\t\tText3\r\n\t\t</subelement>",
                                    "2": "\r\n\t\t\tText3\r\n\t\t"
                                }
                            ]
                        },
                        "text/html": "<table><tr><th>with_attr1</th><th>with_subelement</th><th>subelement_text</th></tr><tr><td>&lt;element Attr=&quot;Text1&quot; /&gt;</td><td>&lt;subelement&gt;\r\n\t\t\tText3\r\n\t\t&lt;/subelement&gt;</td><td>\r\n\t\t\tText3\r\n\t\t</td></tr></table>"
                    }
                }
            ],
            "execution_count": 3
        },
        {
            "cell_type": "markdown",
            "source": "Метод exist():",
            "metadata": {}
        },
        {
            "cell_type": "code",
            "source": "declare @xml xml\r\nset @xml = '\r\n<root>\r\n\t<element Attr=''Text1'' />\r\n\t<element Attr=''Text2''>\r\n\t\t<subelement>\r\n\t\t\tText3\r\n\t\t</subelement>\r\n\t</element>\r\n</root>\r\n'\r\nselect @xml, @xml.exist('subelement'), @xml.exist('//root/*/subelement'), @xml.exist('//root/element[@Attr]')\r\ngo\r\n",
            "metadata": {},
            "outputs": [
                {
                    "output_type": "display_data",
                    "data": {
                        "text/html": "(1 row affected)"
                    },
                    "metadata": {}
                },
                {
                    "output_type": "display_data",
                    "data": {
                        "text/html": "Total execution time: 00:00:00.0047927"
                    },
                    "metadata": {}
                },
                {
                    "output_type": "execute_result",
                    "metadata": {},
                    "execution_count": 6,
                    "data": {
                        "application/vnd.dataresource+json": {
                            "schema": {
                                "fields": [
                                    {
                                        "name": "(No column name)"
                                    },
                                    {
                                        "name": "(No column name)"
                                    },
                                    {
                                        "name": "(No column name)"
                                    },
                                    {
                                        "name": "(No column name)"
                                    }
                                ]
                            },
                            "data": [
                                {
                                    "0": "<root><element Attr=\"Text1\" /><element Attr=\"Text2\"><subelement>\r\n\t\t\tText3\r\n\t\t</subelement></element></root>",
                                    "1": "0",
                                    "2": "1",
                                    "3": "1"
                                }
                            ]
                        },
                        "text/html": "<table><tr><th>(No column name)</th><th>(No column name)</th><th>(No column name)</th><th>(No column name)</th></tr><tr><td>&lt;root&gt;&lt;element Attr=&quot;Text1&quot; /&gt;&lt;element Attr=&quot;Text2&quot;&gt;&lt;subelement&gt;\r\n\t\t\tText3\r\n\t\t&lt;/subelement&gt;&lt;/element&gt;&lt;/root&gt;</td><td>0</td><td>1</td><td>1</td></tr></table>"
                    }
                }
            ],
            "execution_count": 6
        },
        {
            "cell_type": "markdown",
            "source": "Метод value():",
            "metadata": {}
        },
        {
            "cell_type": "code",
            "source": "declare @xml xml\r\nset @xml = '\r\n<root>\r\n\t<element Attr=''Text1'' />\r\n\t<element Attr=''Text2''>\r\n\t\t<subelement>\r\n\t\t\tText3\r\n\t\t</subelement>\r\n\t</element>\r\n</root>\r\n'\r\n\r\nselect @xml.value('(//competitions/row/result/athlete_name)[1]','nvarchar(100)') \r\n\r\nselect cast(@xml.query('(//competitions/row/result/athlete_name)[1]/text()') as nvarchar(100))\r\n",
            "metadata": {},
            "outputs": [],
            "execution_count": 0
        },
        {
            "cell_type": "markdown",
            "source": "Загрузка данных (требуются права на выполнение openrowset):",
            "metadata": {}
        },
        {
            "cell_type": "code",
            "source": "declare @xml    xml\r\n\r\nselect @xml = BulkColumn    \r\nfrom openrowset (bulk N'c:/temp/SwimmingCompetition.xml', single_blob)  q\r\n\r\n\r\nselect cast(@xml.query('(//competitions/row/result/athlete_name)[1]/text()') as nvarchar(100))\r\n\r\nselect @xml.value('(//competitions/row/result/athlete_name)[1]','nvarchar(100)') \r\ngo",
            "metadata": {},
            "outputs": [
                {
                    "output_type": "display_data",
                    "data": {
                        "text/html": "(1 row affected)"
                    },
                    "metadata": {}
                },
                {
                    "output_type": "display_data",
                    "data": {
                        "text/html": "(1 row affected)"
                    },
                    "metadata": {}
                },
                {
                    "output_type": "display_data",
                    "data": {
                        "text/html": "Total execution time: 00:00:00.4238847"
                    },
                    "metadata": {}
                },
                {
                    "output_type": "execute_result",
                    "execution_count": 6,
                    "data": {
                        "application/vnd.dataresource+json": {
                            "schema": {
                                "fields": [
                                    {
                                        "name": "(No column name)"
                                    }
                                ]
                            },
                            "data": [
                                {
                                    "0": "САФОНОВА Анастасия"
                                }
                            ]
                        },
                        "text/html": "<table><tr><th>(No column name)</th></tr><tr><td>САФОНОВА Анастасия</td></tr></table>"
                    },
                    "metadata": {}
                },
                {
                    "output_type": "execute_result",
                    "execution_count": 6,
                    "data": {
                        "application/vnd.dataresource+json": {
                            "schema": {
                                "fields": [
                                    {
                                        "name": "(No column name)"
                                    }
                                ]
                            },
                            "data": [
                                {
                                    "0": "САФОНОВА Анастасия"
                                }
                            ]
                        },
                        "text/html": "<table><tr><th>(No column name)</th></tr><tr><td>САФОНОВА Анастасия</td></tr></table>"
                    },
                    "metadata": {}
                }
            ],
            "execution_count": 6
        },
        {
            "cell_type": "markdown",
            "source": "Использование FLOWR для трансформации XML документа (еще одно подмножество языка XQuery):",
            "metadata": {}
        },
        {
            "cell_type": "code",
            "source": "declare @xml xml\r\nset @xml = (select * from openrowset (bulk 'samples/SwimmingCompetition.xml', single_blob)  q)\r\n\r\nselect @xml.query(\r\n'\r\n<doc>\r\n{\r\n\tfor $Person in /root/Person\r\n\twhere $Person/@City = \"Seattle\"\r\n\treturn\r\n\t<Person FirstName=\"{$Person/Name/FirstName}\">\r\n\t<City>{ $Person/@City }</City>\r\n\t<Address>{ $Person/@Address }</Address>\r\n\t</Person>\r\n}\r\n</doc>\r\n'\r\n)\r\ngo",
            "metadata": {},
            "outputs": [],
            "execution_count": 0
        },
        {
            "cell_type": "markdown",
            "source": "Тот же код, но используя внешний параметр/переменную:",
            "metadata": {}
        },
        {
            "cell_type": "code",
            "source": "",
            "metadata": {},
            "outputs": [],
            "execution_count": 0
        }
    ]
}