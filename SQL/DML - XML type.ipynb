{
    "metadata": {
        "kernelspec": {
            "name": "SQL",
            "display_name": "SQL",
            "language": "sql"
        },
        "language_info": {
            "name": "sql",
            "version": ""
        }
    },
    "nbformat_minor": 2,
    "nbformat": 4,
    "cells": [
        {
            "cell_type": "markdown",
            "source": "# XML\r\n\r\n",
            "metadata": {}
        },
        {
            "cell_type": "markdown",
            "source": "Из документации к SQL Server:\r\n### Модель данных: реляционная или XML\r\n\r\nЕсли данные хорошо структурированы и известна их схема, то для их хранения лучше всего подойдет реляционная модель. \r\n\r\nС другой стороны, если данные структурированы частично, не структурированы или если их структура неизвестна, следует подумать о моделировании таких данных.\r\n\r\nXML является удачным выбором, если \r\n- нужна не зависящая от платформы модель, позволяющая гарантировать совместимость данных;\r\n- данные разрежены, их структура неизвестна или их структура может значительно измениться в будущем;\r\n- данные представляют иерархию контейнеров, а не ссылки между сущностями, и могут быть рекурсивными;\r\n- требуется запрашивать данные или обновлять их фрагменты на основе их структуры.\r\n",
            "metadata": {}
        },
        {
            "cell_type": "markdown",
            "source": "### XML-тип",
            "metadata": {}
        },
        {
            "cell_type": "code",
            "source": "declare @xml xml\r\nset @xml = '<root/>'\r\nselect @xml\r\ngo\r\n\r\nset nocount on\r\n\r\ndeclare @xml xml\r\nset @xml = '<root> </root>'\r\nselect @xml\r\ngo\r\n\r\ndeclare @xml xml\r\nset @xml = 'Text'\r\nselect @xml\r\ngo\r\n\r\ndeclare @xml xml\r\nset @xml = '<root><element Attr=\"Text\" /></root>'\r\nselect @xml\r\ngo\r\n\r\ndeclare @xml xml\r\nset @xml = '<root><element Attr=''Text'' /></root>'\r\nselect @xml\r\ngo\r\n\r\ndeclare @xml xml\r\nset @xml = '\r\n<root>\r\n    <element Attr=''Text1'' />\r\n    <element Attr=''Text2''>\r\n        <subelement>\r\n            Text3\r\n        </subelement>\r\n    </element>\r\n</root>\r\n'\r\nselect @xml\r\ngo",
            "metadata": {},
            "outputs": [
                {
                    "output_type": "display_data",
                    "data": {
                        "text/html": "(1 row affected)"
                    },
                    "metadata": {}
                },
                {
                    "output_type": "display_data",
                    "data": {
                        "text/html": "Total execution time: 00:00:00.0062984"
                    },
                    "metadata": {}
                },
                {
                    "output_type": "display_data",
                    "data": {
                        "text/html": "Commands completed successfully."
                    },
                    "metadata": {}
                },
                {
                    "output_type": "display_data",
                    "data": {
                        "text/html": "Total execution time: 00:00:00.0037364"
                    },
                    "metadata": {}
                },
                {
                    "output_type": "display_data",
                    "data": {
                        "text/html": "Commands completed successfully."
                    },
                    "metadata": {}
                },
                {
                    "output_type": "display_data",
                    "data": {
                        "text/html": "Total execution time: 00:00:00.0039592"
                    },
                    "metadata": {}
                },
                {
                    "output_type": "display_data",
                    "data": {
                        "text/html": "Commands completed successfully."
                    },
                    "metadata": {}
                },
                {
                    "output_type": "display_data",
                    "data": {
                        "text/html": "Total execution time: 00:00:00.0050339"
                    },
                    "metadata": {}
                },
                {
                    "output_type": "display_data",
                    "data": {
                        "text/html": "Commands completed successfully."
                    },
                    "metadata": {}
                },
                {
                    "output_type": "display_data",
                    "data": {
                        "text/html": "Total execution time: 00:00:00.0041879"
                    },
                    "metadata": {}
                },
                {
                    "output_type": "display_data",
                    "data": {
                        "text/html": "Commands completed successfully."
                    },
                    "metadata": {}
                },
                {
                    "output_type": "display_data",
                    "data": {
                        "text/html": "Total execution time: 00:00:00.0043191"
                    },
                    "metadata": {}
                },
                {
                    "output_type": "execute_result",
                    "execution_count": 1,
                    "data": {
                        "application/vnd.dataresource+json": {
                            "schema": {
                                "fields": [
                                    {
                                        "name": "(No column name)"
                                    }
                                ]
                            },
                            "data": [
                                {
                                    "0": "<root />"
                                }
                            ]
                        },
                        "text/html": "<table><tr><th>(No column name)</th></tr><tr><td>&lt;root /&gt;</td></tr></table>"
                    },
                    "metadata": {}
                },
                {
                    "output_type": "execute_result",
                    "execution_count": 1,
                    "data": {
                        "application/vnd.dataresource+json": {
                            "schema": {
                                "fields": [
                                    {
                                        "name": "(No column name)"
                                    }
                                ]
                            },
                            "data": [
                                {
                                    "0": "<root />"
                                }
                            ]
                        },
                        "text/html": "<table><tr><th>(No column name)</th></tr><tr><td>&lt;root /&gt;</td></tr></table>"
                    },
                    "metadata": {}
                },
                {
                    "output_type": "execute_result",
                    "execution_count": 1,
                    "data": {
                        "application/vnd.dataresource+json": {
                            "schema": {
                                "fields": [
                                    {
                                        "name": "(No column name)"
                                    }
                                ]
                            },
                            "data": [
                                {
                                    "0": "Text"
                                }
                            ]
                        },
                        "text/html": "<table><tr><th>(No column name)</th></tr><tr><td>Text</td></tr></table>"
                    },
                    "metadata": {}
                },
                {
                    "output_type": "execute_result",
                    "execution_count": 1,
                    "data": {
                        "application/vnd.dataresource+json": {
                            "schema": {
                                "fields": [
                                    {
                                        "name": "(No column name)"
                                    }
                                ]
                            },
                            "data": [
                                {
                                    "0": "<root><element Attr=\"Text\" /></root>"
                                }
                            ]
                        },
                        "text/html": "<table><tr><th>(No column name)</th></tr><tr><td>&lt;root&gt;&lt;element Attr=&quot;Text&quot; /&gt;&lt;/root&gt;</td></tr></table>"
                    },
                    "metadata": {}
                },
                {
                    "output_type": "execute_result",
                    "execution_count": 1,
                    "data": {
                        "application/vnd.dataresource+json": {
                            "schema": {
                                "fields": [
                                    {
                                        "name": "(No column name)"
                                    }
                                ]
                            },
                            "data": [
                                {
                                    "0": "<root><element Attr=\"Text\" /></root>"
                                }
                            ]
                        },
                        "text/html": "<table><tr><th>(No column name)</th></tr><tr><td>&lt;root&gt;&lt;element Attr=&quot;Text&quot; /&gt;&lt;/root&gt;</td></tr></table>"
                    },
                    "metadata": {}
                },
                {
                    "output_type": "execute_result",
                    "execution_count": 1,
                    "data": {
                        "application/vnd.dataresource+json": {
                            "schema": {
                                "fields": [
                                    {
                                        "name": "(No column name)"
                                    }
                                ]
                            },
                            "data": [
                                {
                                    "0": "<root><element Attr=\"Text1\" /><element Attr=\"Text2\"><subelement>\r\n\t\t\tText3\r\n\t\t</subelement></element></root>"
                                }
                            ]
                        },
                        "text/html": "<table><tr><th>(No column name)</th></tr><tr><td>&lt;root&gt;&lt;element Attr=&quot;Text1&quot; /&gt;&lt;element Attr=&quot;Text2&quot;&gt;&lt;subelement&gt;\r\n\t\t\tText3\r\n\t\t&lt;/subelement&gt;&lt;/element&gt;&lt;/root&gt;</td></tr></table>"
                    },
                    "metadata": {}
                }
            ],
            "execution_count": 1
        },
        {
            "cell_type": "markdown",
            "source": "<b>Метод query()</b> (XPath как подмножество XQuery):\r\n",
            "metadata": {}
        },
        {
            "cell_type": "code",
            "source": "declare @xml xml\r\nset @xml = '\r\n<root>\r\n    <element Attr=''Text1'' />\r\n    <element Attr=''Text2''>\r\n        <subelement>\r\n            Text3\r\n        </subelement>\r\n    </element>\r\n</root>\r\n'\r\nselect @xml.query('//root/element[@Attr=\"Text1\"]') with_attr1, \r\n       @xml.query('//element/subelement')          with_subelement,\r\n       @xml.query('//element/subelement/text()')   subelement_text\r\n\r\n",
            "metadata": {},
            "outputs": [
                {
                    "output_type": "display_data",
                    "data": {
                        "text/html": "(1 row affected)"
                    },
                    "metadata": {}
                },
                {
                    "output_type": "display_data",
                    "data": {
                        "text/html": "Total execution time: 00:00:00.0233780"
                    },
                    "metadata": {}
                },
                {
                    "output_type": "execute_result",
                    "execution_count": 3,
                    "data": {
                        "application/vnd.dataresource+json": {
                            "schema": {
                                "fields": [
                                    {
                                        "name": "with_attr1"
                                    },
                                    {
                                        "name": "with_subelement"
                                    },
                                    {
                                        "name": "subelement_text"
                                    }
                                ]
                            },
                            "data": [
                                {
                                    "0": "<element Attr=\"Text1\" />",
                                    "1": "<subelement>\r\n\t\t\tText3\r\n\t\t</subelement>",
                                    "2": "\r\n\t\t\tText3\r\n\t\t"
                                }
                            ]
                        },
                        "text/html": "<table><tr><th>with_attr1</th><th>with_subelement</th><th>subelement_text</th></tr><tr><td>&lt;element Attr=&quot;Text1&quot; /&gt;</td><td>&lt;subelement&gt;\r\n\t\t\tText3\r\n\t\t&lt;/subelement&gt;</td><td>\r\n\t\t\tText3\r\n\t\t</td></tr></table>"
                    },
                    "metadata": {}
                }
            ],
            "execution_count": 3
        },
        {
            "cell_type": "markdown",
            "source": "<b>Метод exist():</b>",
            "metadata": {}
        },
        {
            "cell_type": "code",
            "source": "declare @xml xml\r\nset @xml = '\r\n<root>\r\n    <element Attr=''Text1'' />\r\n    <element Attr=''Text2''>\r\n        <subelement>\r\n            Text3\r\n        </subelement>\r\n    </element>\r\n</root>\r\n'\r\nselect @xml, @xml.exist('subelement'), @xml.exist('//root/*/subelement'), @xml.exist('//root/element[@Attr]')\r\n\r\n\r\n",
            "metadata": {},
            "outputs": [
                {
                    "output_type": "display_data",
                    "data": {
                        "text/html": "(1 row affected)"
                    },
                    "metadata": {}
                },
                {
                    "output_type": "display_data",
                    "data": {
                        "text/html": "Total execution time: 00:00:00.0047927"
                    },
                    "metadata": {}
                },
                {
                    "output_type": "execute_result",
                    "execution_count": 6,
                    "data": {
                        "application/vnd.dataresource+json": {
                            "schema": {
                                "fields": [
                                    {
                                        "name": "(No column name)"
                                    },
                                    {
                                        "name": "(No column name)"
                                    },
                                    {
                                        "name": "(No column name)"
                                    },
                                    {
                                        "name": "(No column name)"
                                    }
                                ]
                            },
                            "data": [
                                {
                                    "0": "<root><element Attr=\"Text1\" /><element Attr=\"Text2\"><subelement>\r\n\t\t\tText3\r\n\t\t</subelement></element></root>",
                                    "1": "0",
                                    "2": "1",
                                    "3": "1"
                                }
                            ]
                        },
                        "text/html": "<table><tr><th>(No column name)</th><th>(No column name)</th><th>(No column name)</th><th>(No column name)</th></tr><tr><td>&lt;root&gt;&lt;element Attr=&quot;Text1&quot; /&gt;&lt;element Attr=&quot;Text2&quot;&gt;&lt;subelement&gt;\r\n\t\t\tText3\r\n\t\t&lt;/subelement&gt;&lt;/element&gt;&lt;/root&gt;</td><td>0</td><td>1</td><td>1</td></tr></table>"
                    },
                    "metadata": {}
                }
            ],
            "execution_count": 6
        },
        {
            "cell_type": "markdown",
            "source": "<b>Загрузка данных из внешнего XML + метод value():</b>",
            "metadata": {}
        },
        {
            "cell_type": "code",
            "source": "declare @xml xml\r\n\r\nselect @xml = BulkColumn    \r\nfrom openrowset(bulk N'c:/temp/SwimmingCompetition.xml', single_blob) q\r\n\r\n--метод value для извлечения данных из XML \"наружу\":\r\nselect @xml.value(N'(//competitions/row/result/athlete_name)[1]','nvarchar(100)')\r\n\r\n--альтернативный подход:\r\nselect cast(@xml.query(N'(//competitions/row/result/athlete_name)[1]/text()') as nvarchar(100))\r\n\r\n",
            "metadata": {},
            "outputs": [
                {
                    "output_type": "display_data",
                    "data": {
                        "text/html": "(1 row affected)"
                    },
                    "metadata": {}
                },
                {
                    "output_type": "display_data",
                    "data": {
                        "text/html": "(1 row affected)"
                    },
                    "metadata": {}
                },
                {
                    "output_type": "display_data",
                    "data": {
                        "text/html": "Total execution time: 00:00:00.4215206"
                    },
                    "metadata": {}
                },
                {
                    "output_type": "execute_result",
                    "execution_count": 3,
                    "data": {
                        "application/vnd.dataresource+json": {
                            "schema": {
                                "fields": [
                                    {
                                        "name": "(No column name)"
                                    }
                                ]
                            },
                            "data": [
                                {
                                    "0": "САФОНОВА Анастасия"
                                }
                            ]
                        },
                        "text/html": "<table><tr><th>(No column name)</th></tr><tr><td>САФОНОВА Анастасия</td></tr></table>"
                    },
                    "metadata": {}
                },
                {
                    "output_type": "execute_result",
                    "execution_count": 3,
                    "data": {
                        "application/vnd.dataresource+json": {
                            "schema": {
                                "fields": [
                                    {
                                        "name": "(No column name)"
                                    }
                                ]
                            },
                            "data": [
                                {
                                    "0": "САФОНОВА Анастасия"
                                }
                            ]
                        },
                        "text/html": "<table><tr><th>(No column name)</th></tr><tr><td>САФОНОВА Анастасия</td></tr></table>"
                    },
                    "metadata": {}
                }
            ],
            "execution_count": 3
        },
        {
            "cell_type": "markdown",
            "source": "<b>Метод node():</b>",
            "metadata": {}
        },
        {
            "cell_type": "code",
            "source": "declare @xml xml\r\n\r\nselect @xml = BulkColumn    \r\nfrom openrowset(bulk N'c:/temp/SwimmingCompetition.xml', single_blob) q\r\n\r\n--имена, год рождения и клуб всех чемпионов + общее число золотых медалей\r\n;with cte_champions\r\nas\r\n(\r\n    select  \r\n        --xml_col.query('.') xml_col,\r\n        xml_col.value('./athlete_name[1]', 'nvarchar(30)') athlete_name,        \r\n        xml_col.value('./birth_year[1]', 'smallint') birth_year,\r\n        xml_col.value('./team[1]', 'nvarchar(255)') team\r\n    from @xml.nodes(N'//competitions/row[result[place=1]]/result') xml_query(xml_col)\r\n)\r\nselect athlete_name, birth_year, team, count(1) cnt\r\nfrom cte_champions\r\ngroup by athlete_name, birth_year, team\r\norder by 4 desc\r\n\r\n\r\n",
            "metadata": {},
            "outputs": [
                {
                    "output_type": "display_data",
                    "data": {
                        "text/html": "(38 rows affected)"
                    },
                    "metadata": {}
                },
                {
                    "output_type": "display_data",
                    "data": {
                        "text/html": "Total execution time: 00:00:01.5280444"
                    },
                    "metadata": {}
                },
                {
                    "output_type": "execute_result",
                    "execution_count": 17,
                    "data": {
                        "application/vnd.dataresource+json": {
                            "schema": {
                                "fields": [
                                    {
                                        "name": "athlete_name"
                                    },
                                    {
                                        "name": "birth_year"
                                    },
                                    {
                                        "name": "team"
                                    },
                                    {
                                        "name": "cnt"
                                    }
                                ]
                            },
                            "data": [
                                {
                                    "0": "ШКУРДАЙ Анастасия",
                                    "1": "2003",
                                    "2": "ЦОР-1, Брест",
                                    "3": "7"
                                },
                                {
                                    "0": "РЫЖКОВА Виктория",
                                    "1": "2006",
                                    "2": "СШОР №2, Сызрань",
                                    "3": "6"
                                },
                                {
                                    "0": "САВКИНА Виктория",
                                    "1": "2005",
                                    "2": "Тверская область, Тверь",
                                    "3": "5"
                                },
                                {
                                    "0": "САФОНОВА Анастасия",
                                    "1": "2005",
                                    "2": "ЦЕНТР, Сергиев Посад",
                                    "3": "5"
                                },
                                {
                                    "0": "КРЮК Федор",
                                    "1": "2004",
                                    "2": "Москва",
                                    "3": "4"
                                },
                                {
                                    "0": "ПАВЛОВСКИЙ Степан",
                                    "1": "2004",
                                    "2": "СШ № 4, Москва",
                                    "3": "4"
                                },
                                {
                                    "0": "АДАМЧУК Иван",
                                    "1": "2003",
                                    "2": "ЦОР-1, Брест",
                                    "3": "4"
                                },
                                {
                                    "0": "БЕСПАЛОВ Вадим",
                                    "1": "2005",
                                    "2": "СДЮСШОР ЮМ, Москва",
                                    "3": "4"
                                },
                                {
                                    "0": "ДАВЫДОВ Дмитрий",
                                    "1": "2004",
                                    "2": "ОЛИМП, Обнинск",
                                    "3": "3"
                                },
                                {
                                    "0": "ВАСИНА Евгения",
                                    "1": "2005",
                                    "2": "МАУ ДО 'ДЮСШ', Энгельс",
                                    "3": "3"
                                },
                                {
                                    "0": "ПЧЕЛИНА Елизавета",
                                    "1": "2004",
                                    "2": "АНО 'ЦСП', Москва",
                                    "3": "3"
                                },
                                {
                                    "0": "ЩЕГОЛЕВ Александр",
                                    "1": "2002",
                                    "2": "Санкт-Петербург",
                                    "3": "2"
                                },
                                {
                                    "0": "KOCHU Anton",
                                    "1": "2005",
                                    "2": "Dolphin, KIEV",
                                    "3": "2"
                                },
                                {
                                    "0": "БОРОДИН Илья",
                                    "1": "2003",
                                    "2": "Дельфин, Брянск",
                                    "3": "2"
                                },
                                {
                                    "0": "КОЛЕСНИКОВА Таисия",
                                    "1": "2005",
                                    "2": "СШОР по ВВС \"Экран\", СПб",
                                    "3": "2"
                                },
                                {
                                    "0": "ГРИЦУК Анастасия",
                                    "1": "2003",
                                    "2": "ЦОР-1, Брест",
                                    "3": "2"
                                },
                                {
                                    "0": "ПУШКИН Роман",
                                    "1": "2005",
                                    "2": "ВВС ЭКРАН, Санкт-Петербург",
                                    "3": "2"
                                },
                                {
                                    "0": "ЛЕНСКИЙ Егор",
                                    "1": "2002",
                                    "2": "МБУС СШ \"Сатурн\", Раменское",
                                    "3": "2"
                                },
                                {
                                    "0": "ЛЕТЯГИНА Диана",
                                    "1": "2003",
                                    "2": "АНО 'ЦСП', Москва",
                                    "3": "2"
                                },
                                {
                                    "0": "СНЕТКОВ Никита",
                                    "1": "2005",
                                    "2": "ОЛИМПИЯ, Великие Луки",
                                    "3": "2"
                                },
                                {
                                    "0": "СУШКО Тимур",
                                    "1": "2003",
                                    "2": "СК БНТУ, Минск",
                                    "3": "1"
                                },
                                {
                                    "0": "ЦЫДЫПОВ Владислав",
                                    "1": "2005",
                                    "2": "ОЛИМП, Обнинск",
                                    "3": "1"
                                },
                                {
                                    "0": "ЧУЛКОВ Андрей",
                                    "1": "2003",
                                    "2": "Москва",
                                    "3": "1"
                                },
                                {
                                    "0": "СКОРОМНОВ Антон",
                                    "1": "2005",
                                    "2": "Тверская область, Тверь",
                                    "3": "1"
                                },
                                {
                                    "0": "МАТВЕЕВА Светлана",
                                    "1": "2004",
                                    "2": "Нептун, Щелково",
                                    "3": "1"
                                },
                                {
                                    "0": "ПЕТРЕНКО София",
                                    "1": "2004",
                                    "2": "ГБУ СШОР №23, Москва",
                                    "3": "1"
                                },
                                {
                                    "0": "ПЕТРОЧУК Iлля",
                                    "1": "2003",
                                    "2": "СДЮСШОР, Луцк",
                                    "3": "1"
                                },
                                {
                                    "0": "КРЮК Борис",
                                    "1": "2004",
                                    "2": "Москва",
                                    "3": "1"
                                },
                                {
                                    "0": "БУТКО Иван",
                                    "1": "2002",
                                    "2": "ГБУ СШОР №23, Москва",
                                    "3": "1"
                                },
                                {
                                    "0": "ДЕДОВ Егор",
                                    "1": "2003",
                                    "2": "Энергостандарт, Москва",
                                    "3": "1"
                                },
                                {
                                    "0": "ЖДАНОВА Ульяна",
                                    "1": "2004",
                                    "2": "МССУОР №4, Москва",
                                    "3": "1"
                                },
                                {
                                    "0": "КАНЕВА Анастасия",
                                    "1": "2003",
                                    "2": "Молодость, Витебск",
                                    "3": "1"
                                },
                                {
                                    "0": "КИТАЕВ Павел",
                                    "1": "2005",
                                    "2": "ДЮСШ № 10 г., Иваново",
                                    "3": "1"
                                },
                                {
                                    "0": "АВЕТИСЯН Микаэль",
                                    "1": "2003",
                                    "2": "ЦЕНТР, Сергиев Посад",
                                    "3": "1"
                                },
                                {
                                    "0": "БЕРЕБНЁВА Варвара",
                                    "1": "2006",
                                    "2": "СШ \"Весна\", Подольск",
                                    "3": "1"
                                },
                                {
                                    "0": "ВОРОНИНА Ксения",
                                    "1": "2005",
                                    "2": "школа С.Комаровой, Москва",
                                    "3": "1"
                                },
                                {
                                    "0": "ГОФМАН Максим",
                                    "1": "2005",
                                    "2": "ФизКульт, Ростов-на-Дону",
                                    "3": "1"
                                },
                                {
                                    "0": "ГРИГОРОВИЧ Софья",
                                    "1": "2006",
                                    "2": "СШОР Петродворцового, СПб",
                                    "3": "1"
                                }
                            ]
                        },
                        "text/html": "<table><tr><th>athlete_name</th><th>birth_year</th><th>team</th><th>cnt</th></tr><tr><td>ШКУРДАЙ Анастасия</td><td>2003</td><td>ЦОР-1, Брест</td><td>7</td></tr><tr><td>РЫЖКОВА Виктория</td><td>2006</td><td>СШОР №2, Сызрань</td><td>6</td></tr><tr><td>САВКИНА Виктория</td><td>2005</td><td>Тверская область, Тверь</td><td>5</td></tr><tr><td>САФОНОВА Анастасия</td><td>2005</td><td>ЦЕНТР, Сергиев Посад</td><td>5</td></tr><tr><td>КРЮК Федор</td><td>2004</td><td>Москва</td><td>4</td></tr><tr><td>ПАВЛОВСКИЙ Степан</td><td>2004</td><td>СШ № 4, Москва</td><td>4</td></tr><tr><td>АДАМЧУК Иван</td><td>2003</td><td>ЦОР-1, Брест</td><td>4</td></tr><tr><td>БЕСПАЛОВ Вадим</td><td>2005</td><td>СДЮСШОР ЮМ, Москва</td><td>4</td></tr><tr><td>ДАВЫДОВ Дмитрий</td><td>2004</td><td>ОЛИМП, Обнинск</td><td>3</td></tr><tr><td>ВАСИНА Евгения</td><td>2005</td><td>МАУ ДО 'ДЮСШ', Энгельс</td><td>3</td></tr><tr><td>ПЧЕЛИНА Елизавета</td><td>2004</td><td>АНО 'ЦСП', Москва</td><td>3</td></tr><tr><td>ЩЕГОЛЕВ Александр</td><td>2002</td><td>Санкт-Петербург</td><td>2</td></tr><tr><td>KOCHU Anton</td><td>2005</td><td>Dolphin, KIEV</td><td>2</td></tr><tr><td>БОРОДИН Илья</td><td>2003</td><td>Дельфин, Брянск</td><td>2</td></tr><tr><td>КОЛЕСНИКОВА Таисия</td><td>2005</td><td>СШОР по ВВС &quot;Экран&quot;, СПб</td><td>2</td></tr><tr><td>ГРИЦУК Анастасия</td><td>2003</td><td>ЦОР-1, Брест</td><td>2</td></tr><tr><td>ПУШКИН Роман</td><td>2005</td><td>ВВС ЭКРАН, Санкт-Петербург</td><td>2</td></tr><tr><td>ЛЕНСКИЙ Егор</td><td>2002</td><td>МБУС СШ &quot;Сатурн&quot;, Раменское</td><td>2</td></tr><tr><td>ЛЕТЯГИНА Диана</td><td>2003</td><td>АНО 'ЦСП', Москва</td><td>2</td></tr><tr><td>СНЕТКОВ Никита</td><td>2005</td><td>ОЛИМПИЯ, Великие Луки</td><td>2</td></tr><tr><td>СУШКО Тимур</td><td>2003</td><td>СК БНТУ, Минск</td><td>1</td></tr><tr><td>ЦЫДЫПОВ Владислав</td><td>2005</td><td>ОЛИМП, Обнинск</td><td>1</td></tr><tr><td>ЧУЛКОВ Андрей</td><td>2003</td><td>Москва</td><td>1</td></tr><tr><td>СКОРОМНОВ Антон</td><td>2005</td><td>Тверская область, Тверь</td><td>1</td></tr><tr><td>МАТВЕЕВА Светлана</td><td>2004</td><td>Нептун, Щелково</td><td>1</td></tr><tr><td>ПЕТРЕНКО София</td><td>2004</td><td>ГБУ СШОР №23, Москва</td><td>1</td></tr><tr><td>ПЕТРОЧУК Iлля</td><td>2003</td><td>СДЮСШОР, Луцк</td><td>1</td></tr><tr><td>КРЮК Борис</td><td>2004</td><td>Москва</td><td>1</td></tr><tr><td>БУТКО Иван</td><td>2002</td><td>ГБУ СШОР №23, Москва</td><td>1</td></tr><tr><td>ДЕДОВ Егор</td><td>2003</td><td>Энергостандарт, Москва</td><td>1</td></tr><tr><td>ЖДАНОВА Ульяна</td><td>2004</td><td>МССУОР №4, Москва</td><td>1</td></tr><tr><td>КАНЕВА Анастасия</td><td>2003</td><td>Молодость, Витебск</td><td>1</td></tr><tr><td>КИТАЕВ Павел</td><td>2005</td><td>ДЮСШ № 10 г., Иваново</td><td>1</td></tr><tr><td>АВЕТИСЯН Микаэль</td><td>2003</td><td>ЦЕНТР, Сергиев Посад</td><td>1</td></tr><tr><td>БЕРЕБНЁВА Варвара</td><td>2006</td><td>СШ &quot;Весна&quot;, Подольск</td><td>1</td></tr><tr><td>ВОРОНИНА Ксения</td><td>2005</td><td>школа С.Комаровой, Москва</td><td>1</td></tr><tr><td>ГОФМАН Максим</td><td>2005</td><td>ФизКульт, Ростов-на-Дону</td><td>1</td></tr><tr><td>ГРИГОРОВИЧ Софья</td><td>2006</td><td>СШОР Петродворцового, СПб</td><td>1</td></tr></table>"
                    },
                    "metadata": {}
                }
            ],
            "execution_count": 17
        },
        {
            "cell_type": "markdown",
            "source": "<b>XPath - выборка:</b>",
            "metadata": {}
        },
        {
            "cell_type": "code",
            "source": "declare @xml    xml\r\n\r\nselect @xml = BulkColumn    \r\nfrom openrowset (bulk N'c:/temp/SwimmingCompetition.xml', single_blob)  q\r\n\r\n--Список всех призеров\r\nselect @xml.query(N'distinct-values(//competitions/row[result[place<=3]]/result/athlete_name)')\r\n\r\n--Сколько раз YERMISHYNA Yelizaveta была в призерах:\r\nselect @xml.query(N'count(//competitions/row[result[place<=3 and athlete_name=\"YERMISHYNA Yelizaveta\"]])')\r\n\r\n--В каких турнирах участвовала САФОНОВА Анастасия\r\nselect @xml.query(N'distinct-values(//competitions/row[result/athlete_name=\"САФОНОВА Анастасия\"]/tournament/name)')\r\n\r\n",
            "metadata": {},
            "outputs": [
                {
                    "output_type": "display_data",
                    "data": {
                        "text/html": "(1 row affected)"
                    },
                    "metadata": {}
                },
                {
                    "output_type": "display_data",
                    "data": {
                        "text/html": "(1 row affected)"
                    },
                    "metadata": {}
                },
                {
                    "output_type": "display_data",
                    "data": {
                        "text/html": "(1 row affected)"
                    },
                    "metadata": {}
                },
                {
                    "output_type": "display_data",
                    "data": {
                        "text/html": "Total execution time: 00:00:01.8924927"
                    },
                    "metadata": {}
                },
                {
                    "output_type": "execute_result",
                    "execution_count": 1,
                    "data": {
                        "application/vnd.dataresource+json": {
                            "schema": {
                                "fields": [
                                    {
                                        "name": "(No column name)"
                                    }
                                ]
                            },
                            "data": [
                                {
                                    "0": "ИЛЬИНСКАЯ Кристина ВОРОНИНА Ксения ГОРОДНЯ Мария ДМИТРИЕВА Мария ПОМЫСОВА Арина ВОРОНКОВА Екатерина ВАСИНА Евгения СЕДАЧЁВА Ульяна СУСОРОВА Софья ОСЬМИНКИНА Таисия YERMISHYNA Yelizaveta КАЙМОНОВА Дарья КОТЫЛЕВСКАЯ Диана САФОНОВА Анастасия ГРИЦУК Анастасия СУЛТАНОВА Анна ГОЛОЩАПОВА Алла ОЛЬШЕВСКАЯ Анастасия НАУМИК Елизавета ШКУРДАЙ Анастасия ЗАКИРОВА Азалия МЕЛЬНИКОВА Елизавета КАНЕВА Анастасия МАТВЕЕВА Светлана РЫБАКОВА Екатерина ЖДАНОВА Ульяна ЛЕТЯГИНА Диана СЕВЕРИН Анна ШОСТАК Анастасия ДЕМЬЯНЕНКО Дарья БЕЛОУСЕНКО Максим БЕСПАЛОВ Вадим ГОФМАН Максим РЫЖОВ Иван ТОКАРЧУК Кирилл СКОРОМНОВ Антон ДАНИЛЬЧЕНКО Лука СНЕТКОВ Никита КИТАЕВ Павел ФИЛИПОВИЧ Филипп ТУРЫШЕВ Егор ГОРНОСТАЕВ Алексей KOCHU Anton ПУШКИН Роман КИСЛОВ Александр ЦЫДЫПОВ Владислав ДЕДОВ Егор ПЕТРОЧУК Iлля НИКИТИН Иван АНДРУШКО Никита АВЕТИСЯН Микаэль АДАМЧУК Иван ТКАЧЁВ Алексей СУШКО Тимур ВОРОБЕЙЧУК Тимофей КУЛИКОВ Максим ДАВЫДОВ Дмитрий БЫКОВ Юрий КАЗАКОВ Никита САБИРОВ Илья ГОРБАЧ Юлия КУРИЛКИНА Александра ПЧЕЛИНА Елизавета ХАЙЛОВА Александра КОЛЕСНИКОВА Таисия ВОЛКОВА Юлия МАТВЕЙЧИК Диана САВКИНА Виктория РОЗОВА Алена ВЛАСОВА Дарья ПЕТРЕНКО София ТАРАСОВА Полина АРТЕМЬЕВА Вероника НЕКРАСОВ Александр ЧУЛКОВ Андрей ЛЕНСКИЙ Егор МАМОНОВ Никита ТКАЧЕВ Алексей ЖУКОВ Илья ЩЕГОЛЕВ Александр БУТКО Иван БОРОДИН Илья КОВАЛЕНКО Алексей БЫСТРОВ Никита КРИВЦОВА Софья ФАДЕЕВА Полина РЫЖКОВА Виктория КУЗНЕЦОВА Александра НАГОВИЦЫНА Мария БЕРЕБНЁВА Варвара ЦАПКИНА Екатерина КАЛАШНИКОВА Дарья ИЩИШЕНА Елизавета ГРИГОРОВИЧ Софья ШУКАЛОВИЧ Кристина ПАВЛОВСКИЙ Степан КРЮК Федор ВИНОГРАДОВ Дмитрий ДЕНЬЩИКОВ Павел ПИСАРЕНКО Артём ВАСИЛЬЕВ Дмитрий ЛИТВИНОВ Кирилл ЗЫРЯНОВ Федор ДЬЯКОВ Александр КОРНЕВ Егор ЗАГЛОДИН Артем КРЮК Борис"
                                }
                            ]
                        },
                        "text/html": "<table><tr><th>(No column name)</th></tr><tr><td>ИЛЬИНСКАЯ Кристина ВОРОНИНА Ксения ГОРОДНЯ Мария ДМИТРИЕВА Мария ПОМЫСОВА Арина ВОРОНКОВА Екатерина ВАСИНА Евгения СЕДАЧЁВА Ульяна СУСОРОВА Софья ОСЬМИНКИНА Таисия YERMISHYNA Yelizaveta КАЙМОНОВА Дарья КОТЫЛЕВСКАЯ Диана САФОНОВА Анастасия ГРИЦУК Анастасия СУЛТАНОВА Анна ГОЛОЩАПОВА Алла ОЛЬШЕВСКАЯ Анастасия НАУМИК Елизавета ШКУРДАЙ Анастасия ЗАКИРОВА Азалия МЕЛЬНИКОВА Елизавета КАНЕВА Анастасия МАТВЕЕВА Светлана РЫБАКОВА Екатерина ЖДАНОВА Ульяна ЛЕТЯГИНА Диана СЕВЕРИН Анна ШОСТАК Анастасия ДЕМЬЯНЕНКО Дарья БЕЛОУСЕНКО Максим БЕСПАЛОВ Вадим ГОФМАН Максим РЫЖОВ Иван ТОКАРЧУК Кирилл СКОРОМНОВ Антон ДАНИЛЬЧЕНКО Лука СНЕТКОВ Никита КИТАЕВ Павел ФИЛИПОВИЧ Филипп ТУРЫШЕВ Егор ГОРНОСТАЕВ Алексей KOCHU Anton ПУШКИН Роман КИСЛОВ Александр ЦЫДЫПОВ Владислав ДЕДОВ Егор ПЕТРОЧУК Iлля НИКИТИН Иван АНДРУШКО Никита АВЕТИСЯН Микаэль АДАМЧУК Иван ТКАЧЁВ Алексей СУШКО Тимур ВОРОБЕЙЧУК Тимофей КУЛИКОВ Максим ДАВЫДОВ Дмитрий БЫКОВ Юрий КАЗАКОВ Никита САБИРОВ Илья ГОРБАЧ Юлия КУРИЛКИНА Александра ПЧЕЛИНА Елизавета ХАЙЛОВА Александра КОЛЕСНИКОВА Таисия ВОЛКОВА Юлия МАТВЕЙЧИК Диана САВКИНА Виктория РОЗОВА Алена ВЛАСОВА Дарья ПЕТРЕНКО София ТАРАСОВА Полина АРТЕМЬЕВА Вероника НЕКРАСОВ Александр ЧУЛКОВ Андрей ЛЕНСКИЙ Егор МАМОНОВ Никита ТКАЧЕВ Алексей ЖУКОВ Илья ЩЕГОЛЕВ Александр БУТКО Иван БОРОДИН Илья КОВАЛЕНКО Алексей БЫСТРОВ Никита КРИВЦОВА Софья ФАДЕЕВА Полина РЫЖКОВА Виктория КУЗНЕЦОВА Александра НАГОВИЦЫНА Мария БЕРЕБНЁВА Варвара ЦАПКИНА Екатерина КАЛАШНИКОВА Дарья ИЩИШЕНА Елизавета ГРИГОРОВИЧ Софья ШУКАЛОВИЧ Кристина ПАВЛОВСКИЙ Степан КРЮК Федор ВИНОГРАДОВ Дмитрий ДЕНЬЩИКОВ Павел ПИСАРЕНКО Артём ВАСИЛЬЕВ Дмитрий ЛИТВИНОВ Кирилл ЗЫРЯНОВ Федор ДЬЯКОВ Александр КОРНЕВ Егор ЗАГЛОДИН Артем КРЮК Борис</td></tr></table>"
                    },
                    "metadata": {}
                },
                {
                    "output_type": "execute_result",
                    "execution_count": 1,
                    "data": {
                        "application/vnd.dataresource+json": {
                            "schema": {
                                "fields": [
                                    {
                                        "name": "(No column name)"
                                    }
                                ]
                            },
                            "data": [
                                {
                                    "0": "2"
                                }
                            ]
                        },
                        "text/html": "<table><tr><th>(No column name)</th></tr><tr><td>2</td></tr></table>"
                    },
                    "metadata": {}
                },
                {
                    "output_type": "execute_result",
                    "execution_count": 1,
                    "data": {
                        "application/vnd.dataresource+json": {
                            "schema": {
                                "fields": [
                                    {
                                        "name": "(No column name)"
                                    }
                                ]
                            },
                            "data": [
                                {
                                    "0": "Minsk Swimming Cup 2018"
                                }
                            ]
                        },
                        "text/html": "<table><tr><th>(No column name)</th></tr><tr><td>Minsk Swimming Cup 2018</td></tr></table>"
                    },
                    "metadata": {}
                }
            ],
            "execution_count": 1
        },
        {
            "cell_type": "markdown",
            "source": "<b>XPath - вставка:</b>",
            "metadata": {}
        },
        {
            "cell_type": "code",
            "source": "declare @xml    xml\r\n\r\nselect @xml = BulkColumn    \r\nfrom openrowset (bulk N'c:/temp/SwimmingCompetition.xml', single_blob)  q\r\n\r\nset @xml.modify(N'insert <gender hack=\"1\">female</gender> into (//competitions/row/group)[1]')\r\n\r\nselect @xml.query(N'(//competitions/row/group)[position()<3]')\r\n\r\n",
            "metadata": {},
            "outputs": [
                {
                    "output_type": "display_data",
                    "data": {
                        "text/html": "(1 row affected)"
                    },
                    "metadata": {}
                },
                {
                    "output_type": "display_data",
                    "data": {
                        "text/html": "Total execution time: 00:00:00.6521286"
                    },
                    "metadata": {}
                },
                {
                    "output_type": "execute_result",
                    "execution_count": 5,
                    "data": {
                        "application/vnd.dataresource+json": {
                            "schema": {
                                "fields": [
                                    {
                                        "name": "(No column name)"
                                    }
                                ]
                            },
                            "data": [
                                {
                                    "0": "<group><athlete_group>2005 и моложе</athlete_group><gender hack=\"1\">female</gender></group><group><athlete_group>2005 и моложе</athlete_group></group>"
                                }
                            ]
                        },
                        "text/html": "<table><tr><th>(No column name)</th></tr><tr><td>&lt;group&gt;&lt;athlete_group&gt;2005 и моложе&lt;/athlete_group&gt;&lt;gender hack=&quot;1&quot;&gt;female&lt;/gender&gt;&lt;/group&gt;&lt;group&gt;&lt;athlete_group&gt;2005 и моложе&lt;/athlete_group&gt;&lt;/group&gt;</td></tr></table>"
                    },
                    "metadata": {}
                }
            ],
            "execution_count": 5
        },
        {
            "cell_type": "markdown",
            "source": "<b>XPath - удаление:</b>",
            "metadata": {}
        },
        {
            "cell_type": "code",
            "source": "declare @xml    xml\r\n\r\nselect @xml = BulkColumn    \r\nfrom openrowset (bulk N'c:/temp/SwimmingCompetition.xml', single_blob)  q\r\n\r\nselect @xml.query(N'(//competitions/row)[1]')\r\n\r\nset @xml.modify( N'delete (//competitions/row/tournament/name)[1]')\r\n\r\nselect @xml.query(N'(//competitions/row)[1]')\r\n\r\n",
            "metadata": {},
            "outputs": [
                {
                    "output_type": "display_data",
                    "data": {
                        "text/html": "(1 row affected)"
                    },
                    "metadata": {}
                },
                {
                    "output_type": "display_data",
                    "data": {
                        "text/html": "(1 row affected)"
                    },
                    "metadata": {}
                },
                {
                    "output_type": "display_data",
                    "data": {
                        "text/html": "Total execution time: 00:00:00.7021526"
                    },
                    "metadata": {}
                },
                {
                    "output_type": "execute_result",
                    "execution_count": 7,
                    "data": {
                        "application/vnd.dataresource+json": {
                            "schema": {
                                "fields": [
                                    {
                                        "name": "(No column name)"
                                    }
                                ]
                            },
                            "data": [
                                {
                                    "0": "<row><tournament><name>Minsk Swimming Cup 2018</name><start_date>2018-07-20</start_date></tournament><pool><name>Dvorets Sporta Main Pool</name><city>Minsk</city><pool_size>50</pool_size></pool><discipline><distance>50</distance><style>Вольный стиль</style></discipline><group><athlete_group>2005 и моложе</athlete_group></group><result><place>1</place><athlete_name>САФОНОВА Анастасия</athlete_name><birth_year>2005</birth_year><team>ЦЕНТР, Сергиев Посад</team><result_time>00:00:30.09</result_time><athlete_rank>2</athlete_rank><points>100</points></result></row>"
                                }
                            ]
                        },
                        "text/html": "<table><tr><th>(No column name)</th></tr><tr><td>&lt;row&gt;&lt;tournament&gt;&lt;name&gt;Minsk Swimming Cup 2018&lt;/name&gt;&lt;start_date&gt;2018-07-20&lt;/start_date&gt;&lt;/tournament&gt;&lt;pool&gt;&lt;name&gt;Dvorets Sporta Main Pool&lt;/name&gt;&lt;city&gt;Minsk&lt;/city&gt;&lt;pool_size&gt;50&lt;/pool_size&gt;&lt;/pool&gt;&lt;discipline&gt;&lt;distance&gt;50&lt;/distance&gt;&lt;style&gt;Вольный стиль&lt;/style&gt;&lt;/discipline&gt;&lt;group&gt;&lt;athlete_group&gt;2005 и моложе&lt;/athlete_group&gt;&lt;/group&gt;&lt;result&gt;&lt;place&gt;1&lt;/place&gt;&lt;athlete_name&gt;САФОНОВА Анастасия&lt;/athlete_name&gt;&lt;birth_year&gt;2005&lt;/birth_year&gt;&lt;team&gt;ЦЕНТР, Сергиев Посад&lt;/team&gt;&lt;result_time&gt;00:00:30.09&lt;/result_time&gt;&lt;athlete_rank&gt;2&lt;/athlete_rank&gt;&lt;points&gt;100&lt;/points&gt;&lt;/result&gt;&lt;/row&gt;</td></tr></table>"
                    },
                    "metadata": {}
                },
                {
                    "output_type": "execute_result",
                    "execution_count": 7,
                    "data": {
                        "application/vnd.dataresource+json": {
                            "schema": {
                                "fields": [
                                    {
                                        "name": "(No column name)"
                                    }
                                ]
                            },
                            "data": [
                                {
                                    "0": "<row><tournament><start_date>2018-07-20</start_date></tournament><pool><name>Dvorets Sporta Main Pool</name><city>Minsk</city><pool_size>50</pool_size></pool><discipline><distance>50</distance><style>Вольный стиль</style></discipline><group><athlete_group>2005 и моложе</athlete_group></group><result><place>1</place><athlete_name>САФОНОВА Анастасия</athlete_name><birth_year>2005</birth_year><team>ЦЕНТР, Сергиев Посад</team><result_time>00:00:30.09</result_time><athlete_rank>2</athlete_rank><points>100</points></result></row>"
                                }
                            ]
                        },
                        "text/html": "<table><tr><th>(No column name)</th></tr><tr><td>&lt;row&gt;&lt;tournament&gt;&lt;start_date&gt;2018-07-20&lt;/start_date&gt;&lt;/tournament&gt;&lt;pool&gt;&lt;name&gt;Dvorets Sporta Main Pool&lt;/name&gt;&lt;city&gt;Minsk&lt;/city&gt;&lt;pool_size&gt;50&lt;/pool_size&gt;&lt;/pool&gt;&lt;discipline&gt;&lt;distance&gt;50&lt;/distance&gt;&lt;style&gt;Вольный стиль&lt;/style&gt;&lt;/discipline&gt;&lt;group&gt;&lt;athlete_group&gt;2005 и моложе&lt;/athlete_group&gt;&lt;/group&gt;&lt;result&gt;&lt;place&gt;1&lt;/place&gt;&lt;athlete_name&gt;САФОНОВА Анастасия&lt;/athlete_name&gt;&lt;birth_year&gt;2005&lt;/birth_year&gt;&lt;team&gt;ЦЕНТР, Сергиев Посад&lt;/team&gt;&lt;result_time&gt;00:00:30.09&lt;/result_time&gt;&lt;athlete_rank&gt;2&lt;/athlete_rank&gt;&lt;points&gt;100&lt;/points&gt;&lt;/result&gt;&lt;/row&gt;</td></tr></table>"
                    },
                    "metadata": {}
                }
            ],
            "execution_count": 7
        },
        {
            "cell_type": "markdown",
            "source": "<b>XPath - обновление:</b> (+sql:variable(\"@var\"))",
            "metadata": {}
        },
        {
            "cell_type": "code",
            "source": "drop table if exists #swimming_results\r\n\r\ncreate table #swimming_results (\r\n    id          int     not null identity, \r\n    xml_value   xml \r\n)\r\n\r\ninsert into #swimming_results(xml_value)\r\nselect BulkColumn    \r\nfrom openrowset (bulk N'c:/temp/SwimmingCompetition.xml', single_blob)  q\r\n\r\ndeclare @name_to_replace      nvarchar(100) = N'Dvorets Sporta Main Pool',\r\n        @name_to_replace_with nvarchar(100) = N'Дворец Спорта, основной бассейн'\r\n\r\nupdate #swimming_results \r\n  set xml_value.modify(\r\n     N'replace value of \r\n     (//competitions/row/pool/name[text()=sql:variable(\"@name_to_replace\")]/text())[1] \r\n     with \r\n     sql:variable(\"@name_to_replace_with\")'\r\n  )\r\n\r\nselect xml_value.query(N'(//competitions/row/pool)[position()<=2]')\r\nfrom #swimming_results\r\n\r\n\r\n",
            "metadata": {},
            "outputs": [
                {
                    "output_type": "display_data",
                    "data": {
                        "text/html": "(1 row affected)"
                    },
                    "metadata": {}
                },
                {
                    "output_type": "display_data",
                    "data": {
                        "text/html": "(1 row affected)"
                    },
                    "metadata": {}
                },
                {
                    "output_type": "display_data",
                    "data": {
                        "text/html": "(1 row affected)"
                    },
                    "metadata": {}
                },
                {
                    "output_type": "display_data",
                    "data": {
                        "text/html": "Total execution time: 00:00:01.0322090"
                    },
                    "metadata": {}
                },
                {
                    "output_type": "execute_result",
                    "execution_count": 8,
                    "data": {
                        "application/vnd.dataresource+json": {
                            "schema": {
                                "fields": [
                                    {
                                        "name": "(No column name)"
                                    }
                                ]
                            },
                            "data": [
                                {
                                    "0": "<pool><name>Дворец Спорта, основной бассейн</name><city>Minsk</city><pool_size>50</pool_size></pool><pool><name>Dvorets Sporta Main Pool</name><city>Minsk</city><pool_size>50</pool_size></pool><pool><name>Dvorets Sporta Main Pool</name><city>Minsk</city><pool_size>50</pool_size></pool>"
                                }
                            ]
                        },
                        "text/html": "<table><tr><th>(No column name)</th></tr><tr><td>&lt;pool&gt;&lt;name&gt;Дворец Спорта, основной бассейн&lt;/name&gt;&lt;city&gt;Minsk&lt;/city&gt;&lt;pool_size&gt;50&lt;/pool_size&gt;&lt;/pool&gt;&lt;pool&gt;&lt;name&gt;Dvorets Sporta Main Pool&lt;/name&gt;&lt;city&gt;Minsk&lt;/city&gt;&lt;pool_size&gt;50&lt;/pool_size&gt;&lt;/pool&gt;&lt;pool&gt;&lt;name&gt;Dvorets Sporta Main Pool&lt;/name&gt;&lt;city&gt;Minsk&lt;/city&gt;&lt;pool_size&gt;50&lt;/pool_size&gt;&lt;/pool&gt;</td></tr></table>"
                    },
                    "metadata": {}
                }
            ],
            "execution_count": 8
        },
        {
            "cell_type": "markdown",
            "source": "<b>Использование FLOWR для трансформации XML документа</b> (еще одно подмножество языка XQuery):",
            "metadata": {}
        },
        {
            "cell_type": "code",
            "source": "declare @xml xml,\r\n        @athlete_name varchar(50) = N'YERMISHYNA Yelizaveta'\r\n\r\nset @xml = (select * from openrowset (bulk N'c:/temp/SwimmingCompetition.xml', single_blob)  q)\r\n\r\nselect @xml.query(\r\nN'\r\n<doc>\r\n{\r\n    for $row in //competitions/row\r\n    where $row/result/athlete_name = sql:variable(\"@athlete_name\")\r\n    return\r\n      <record tournament_name=\"{$row/tournament/name}\" date=\"{$row/tournament/start_date}\" pool_size=\"{$row/pool/pool_size}\">\r\n          <person name=\"{$row/result/athlete_name}\" birth_year=\"{$row/result/birth_year}\" team=\"{$row/result/team}\" />\r\n          <competition style=\"{$row/discipline/style}\" distance=\"{$row/discipline/distance}\" group=\"{$row/group/athlete_group}\" />\r\n          <result time=\"{$row/result/result_time}\" rank=\"{$row/result/athlete_rank}\" points=\"{$row/result/points}\" />\r\n      </record>\r\n}\r\n</doc>\r\n'\r\n)\r\n\r\n",
            "metadata": {},
            "outputs": [
                {
                    "output_type": "display_data",
                    "data": {
                        "text/html": "(1 row affected)"
                    },
                    "metadata": {}
                },
                {
                    "output_type": "display_data",
                    "data": {
                        "text/html": "Total execution time: 00:00:00.8855445"
                    },
                    "metadata": {}
                },
                {
                    "output_type": "execute_result",
                    "execution_count": 3,
                    "data": {
                        "application/vnd.dataresource+json": {
                            "schema": {
                                "fields": [
                                    {
                                        "name": "(No column name)"
                                    }
                                ]
                            },
                            "data": [
                                {
                                    "0": "<doc><record tournament_name=\"Minsk Swimming Cup 2018\" date=\"2018-07-20\" pool_size=\"50\"><person name=\"YERMISHYNA Yelizaveta\" birth_year=\"2007\" team=\"Dolphin, KIEV\" /><competition style=\"Вольный стиль\" distance=\"50\" group=\"2005 и моложе\" /><result time=\"00:00:30.27\" rank=\"2\" points=\"80\" /></record><record tournament_name=\"Minsk Swimming Cup 2018\" date=\"2018-07-20\" pool_size=\"50\"><person name=\"YERMISHYNA Yelizaveta\" birth_year=\"2007\" team=\"Dolphin, KIEV\" /><competition style=\"Вольный стиль\" distance=\"100\" group=\"2005 и моложе\" /><result time=\"00:01:07.22\" rank=\"1\" points=\"60\" /></record><record tournament_name=\"Minsk Swimming Cup 2018\" date=\"2018-07-20\" pool_size=\"50\"><person name=\"YERMISHYNA Yelizaveta\" birth_year=\"2007\" team=\"Dolphin, KIEV\" /><competition style=\"Баттерфляй\" distance=\"50\" group=\"2005 и моложе\" /><result time=\"00:00:33.39\" rank=\"1\" points=\"90\" /></record><record tournament_name=\"Minsk Swimming Cup 2018\" date=\"2018-07-20\" pool_size=\"50\"><person name=\"YERMISHYNA Yelizaveta\" birth_year=\"2007\" team=\"Dolphin, KIEV\" /><competition style=\"Комплекс\" distance=\"100\" group=\"2005 и моложе\" /><result time=\"00:01:17.35\" rank=\"б/р\" points=\"40\" /></record></doc>"
                                }
                            ]
                        },
                        "text/html": "<table><tr><th>(No column name)</th></tr><tr><td>&lt;doc&gt;&lt;record tournament_name=&quot;Minsk Swimming Cup 2018&quot; date=&quot;2018-07-20&quot; pool_size=&quot;50&quot;&gt;&lt;person name=&quot;YERMISHYNA Yelizaveta&quot; birth_year=&quot;2007&quot; team=&quot;Dolphin, KIEV&quot; /&gt;&lt;competition style=&quot;Вольный стиль&quot; distance=&quot;50&quot; group=&quot;2005 и моложе&quot; /&gt;&lt;result time=&quot;00:00:30.27&quot; rank=&quot;2&quot; points=&quot;80&quot; /&gt;&lt;/record&gt;&lt;record tournament_name=&quot;Minsk Swimming Cup 2018&quot; date=&quot;2018-07-20&quot; pool_size=&quot;50&quot;&gt;&lt;person name=&quot;YERMISHYNA Yelizaveta&quot; birth_year=&quot;2007&quot; team=&quot;Dolphin, KIEV&quot; /&gt;&lt;competition style=&quot;Вольный стиль&quot; distance=&quot;100&quot; group=&quot;2005 и моложе&quot; /&gt;&lt;result time=&quot;00:01:07.22&quot; rank=&quot;1&quot; points=&quot;60&quot; /&gt;&lt;/record&gt;&lt;record tournament_name=&quot;Minsk Swimming Cup 2018&quot; date=&quot;2018-07-20&quot; pool_size=&quot;50&quot;&gt;&lt;person name=&quot;YERMISHYNA Yelizaveta&quot; birth_year=&quot;2007&quot; team=&quot;Dolphin, KIEV&quot; /&gt;&lt;competition style=&quot;Баттерфляй&quot; distance=&quot;50&quot; group=&quot;2005 и моложе&quot; /&gt;&lt;result time=&quot;00:00:33.39&quot; rank=&quot;1&quot; points=&quot;90&quot; /&gt;&lt;/record&gt;&lt;record tournament_name=&quot;Minsk Swimming Cup 2018&quot; date=&quot;2018-07-20&quot; pool_size=&quot;50&quot;&gt;&lt;person name=&quot;YERMISHYNA Yelizaveta&quot; birth_year=&quot;2007&quot; team=&quot;Dolphin, KIEV&quot; /&gt;&lt;competition style=&quot;Комплекс&quot; distance=&quot;100&quot; group=&quot;2005 и моложе&quot; /&gt;&lt;result time=&quot;00:01:17.35&quot; rank=&quot;б/р&quot; points=&quot;40&quot; /&gt;&lt;/record&gt;&lt;/doc&gt;</td></tr></table>"
                    },
                    "metadata": {}
                }
            ],
            "execution_count": 3
        }
    ]
}