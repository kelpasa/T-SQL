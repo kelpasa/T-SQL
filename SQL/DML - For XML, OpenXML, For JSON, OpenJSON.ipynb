{
    "metadata": {
        "kernelspec": {
            "name": "SQL",
            "display_name": "SQL",
            "language": "sql"
        },
        "language_info": {
            "name": "sql",
            "version": ""
        }
    },
    "nbformat_minor": 2,
    "nbformat": 4,
    "cells": [
        {
            "cell_type": "markdown",
            "source": "# For XML Extention\r\n\r\n",
            "metadata": {}
        },
        {
            "cell_type": "markdown",
            "source": "### Преобразование данных из реляционной модели в XML\r\n\r\nЗачастую необходимо делать выгрузку из реляционной БД в формате XML для передачи их некоторому приложению или сервису. \r\n\r\nВ SQL Server это можно выполнить с помощью инструкции FOR XML, добавляемой в конец оператора SELECT.",
            "metadata": {}
        },
        {
            "cell_type": "markdown",
            "source": "## Пример логической модели данных:\r\n\r\n<img src=\"https://github.com/timoti1/T-SQL/blob/master/SQL/img/SwimmersDB.png?raw=1\" />",
            "metadata": {}
        },
        {
            "cell_type": "markdown",
            "source": "### For XML Explicit\r\n\r\nПервая попытка Microsoft предоставить инструмент генерации XML заданной структуры из реляционных данных.\r\n\r\nИмеет ряд недостатков и сейчас практически не используется.",
            "metadata": {}
        },
        {
            "cell_type": "code",
            "source": "use tempdb\r\ngo\r\n\r\nselect  1             as Tag,\r\n\t\tNULL          as Parent,\r\n\t\ts.FirstName   as [Swimmer!1!FirstName],\r\n\t\ts.LastName    as [Swimmer!1!LastName],\r\n\t\ts.YearOfBirth as [Swimmer!1!YearOfBirth],\r\n\t\tNULL          as [Team!2!City], \r\n\t\tNULL          as [Team!2!Name],\r\n\t\tNULL          as [Coach!3!FirstName],\r\n\t\tNULL          as [Coach!3!LastName]\r\nfrom   dbo.Swimmer s\r\nunion ALL \r\nselect  2             as Tag,\r\n\t\t1             as Parent,\r\n\t\ts.FirstName,\r\n\t\ts.LastName,\r\n\t\ts.YearOfBirth,\r\n\t\tsc.City, \r\n\t\tsc.[Name],\r\n\t\tNULL,\r\n\t\tNULL\r\nfrom dbo.Swimmer s\r\nleft join dbo.SwimmingClub sc   on sc.SwimmingClubID = s.SwimmingClubID\r\nunion ALL \r\nselect  3             as Tag,\r\n\t\t1             as Parent,\r\n\t\ts.FirstName,\r\n\t\ts.LastName,\r\n\t\ts.YearOfBirth,\r\n\t\tNULL, \r\n\t\tNULL,\r\n\t\tc.FirstName,\r\n\t\tc.LastName\r\nfrom dbo.Swimmer s\r\nleft join dbo.SwimmerCoach xref on xref.SwimmerID = s.SwimmerID \r\ninner join dbo.Coach c          on c.CoachID = xref.CoachID\r\norder by 3, 4, 5, 6, 7, 8, 9\r\nfor xml explicit\r\n\r\n",
            "metadata": {},
            "outputs": [
                {
                    "output_type": "display_data",
                    "data": {
                        "text/html": "Commands completed successfully."
                    },
                    "metadata": {}
                },
                {
                    "output_type": "display_data",
                    "data": {
                        "text/html": "Total execution time: 00:00:00.0019871"
                    },
                    "metadata": {}
                },
                {
                    "output_type": "display_data",
                    "data": {
                        "text/html": "(21 rows affected)"
                    },
                    "metadata": {}
                },
                {
                    "output_type": "display_data",
                    "data": {
                        "text/html": "Total execution time: 00:00:00.0039637"
                    },
                    "metadata": {}
                },
                {
                    "output_type": "execute_result",
                    "execution_count": 8,
                    "data": {
                        "application/vnd.dataresource+json": {
                            "schema": {
                                "fields": [
                                    {
                                        "name": "XML_F52E2B61-18A1-11d1-B105-00805F49916B"
                                    }
                                ]
                            },
                            "data": [
                                {
                                    "0": "<Swimmer FirstName=\"Gleb\" LastName=\"Bondarec\" YearOfBirth=\"2007\"><Coach FirstName=\"Алла\" LastName=\"Усенок\"/><Coach FirstName=\"Виталий\" LastName=\"Барташевич\"/><Team City=\"Минск\" Name=\"ГЦОР Трактор\"/></Swimmer><Swimmer FirstName=\"Алексей\" LastName=\"Рылько\" YearOfBirth=\"2005\"><Team City=\"Minsk\" Name=\"ДЮСШ Янтарь\"/></Swimmer><Swimmer FirstName=\"Анна\" LastName=\"Высоцкая\" YearOfBirth=\"2007\"><Coach FirstName=\"Евгения\" LastName=\"Жукова\"/><Team City=\"Minsk\" Name=\"ДЮСШ Янтарь\"/></Swimmer><Swimmer FirstName=\"Илья\" LastName=\"Гавриленко\" YearOfBirth=\"2006\"><Coach FirstName=\"Алла\" LastName=\"Усенок\"/><Coach FirstName=\"Виталий\" LastName=\"Барташевич\"/><Team City=\"Минск\" Name=\"ГЦОР Трактор\"/></Swimmer><Swimmer FirstName=\"Максим\" LastName=\"Кликушин\" YearOfBirth=\"2007\"><Coach FirstName=\"Алла\" LastName=\"Усенок\"/><Coach FirstName=\"Виталий\" LastName=\"Барташевич\"/><Team City=\"Минск\" Name=\"ГЦОР Трактор\"/></Swimmer><Swimmer FirstName=\"Матвей\" LastName=\"Данкевич\" YearOfBirth=\"2006\"><Team City=\"Молодечно\" Name=\"СК Олимпик-2011\"/></Swimmer><Swimmer FirstName=\"Никита\" LastName=\"Клюй\" YearOfBirth=\"2005\"><Team City=\"Minsk\" Name=\"ДЮСШ Янтарь\"/></Swimmer>"
                                }
                            ]
                        },
                        "text/html": "<table><tr><th>XML_F52E2B61-18A1-11d1-B105-00805F49916B</th></tr><tr><td>&lt;Swimmer FirstName=&quot;Gleb&quot; LastName=&quot;Bondarec&quot; YearOfBirth=&quot;2007&quot;&gt;&lt;Coach FirstName=&quot;Алла&quot; LastName=&quot;Усенок&quot;/&gt;&lt;Coach FirstName=&quot;Виталий&quot; LastName=&quot;Барташевич&quot;/&gt;&lt;Team City=&quot;Минск&quot; Name=&quot;ГЦОР Трактор&quot;/&gt;&lt;/Swimmer&gt;&lt;Swimmer FirstName=&quot;Алексей&quot; LastName=&quot;Рылько&quot; YearOfBirth=&quot;2005&quot;&gt;&lt;Team City=&quot;Minsk&quot; Name=&quot;ДЮСШ Янтарь&quot;/&gt;&lt;/Swimmer&gt;&lt;Swimmer FirstName=&quot;Анна&quot; LastName=&quot;Высоцкая&quot; YearOfBirth=&quot;2007&quot;&gt;&lt;Coach FirstName=&quot;Евгения&quot; LastName=&quot;Жукова&quot;/&gt;&lt;Team City=&quot;Minsk&quot; Name=&quot;ДЮСШ Янтарь&quot;/&gt;&lt;/Swimmer&gt;&lt;Swimmer FirstName=&quot;Илья&quot; LastName=&quot;Гавриленко&quot; YearOfBirth=&quot;2006&quot;&gt;&lt;Coach FirstName=&quot;Алла&quot; LastName=&quot;Усенок&quot;/&gt;&lt;Coach FirstName=&quot;Виталий&quot; LastName=&quot;Барташевич&quot;/&gt;&lt;Team City=&quot;Минск&quot; Name=&quot;ГЦОР Трактор&quot;/&gt;&lt;/Swimmer&gt;&lt;Swimmer FirstName=&quot;Максим&quot; LastName=&quot;Кликушин&quot; YearOfBirth=&quot;2007&quot;&gt;&lt;Coach FirstName=&quot;Алла&quot; LastName=&quot;Усенок&quot;/&gt;&lt;Coach FirstName=&quot;Виталий&quot; LastName=&quot;Барташевич&quot;/&gt;&lt;Team City=&quot;Минск&quot; Name=&quot;ГЦОР Трактор&quot;/&gt;&lt;/Swimmer&gt;&lt;Swimmer FirstName=&quot;Матвей&quot; LastName=&quot;Данкевич&quot; YearOfBirth=&quot;2006&quot;&gt;&lt;Team City=&quot;Молодечно&quot; Name=&quot;СК Олимпик-2011&quot;/&gt;&lt;/Swimmer&gt;&lt;Swimmer FirstName=&quot;Никита&quot; LastName=&quot;Клюй&quot; YearOfBirth=&quot;2005&quot;&gt;&lt;Team City=&quot;Minsk&quot; Name=&quot;ДЮСШ Янтарь&quot;/&gt;&lt;/Swimmer&gt;</td></tr></table>"
                    },
                    "metadata": {}
                }
            ],
            "execution_count": 8
        },
        {
            "cell_type": "markdown",
            "source": "### For XML Raw\r\n\r\nCамый простой и быстрый способ генерации XML. \r\n\r\nИспользуется в случае если нет необходимости в нетривиальном формате создаваемого XML документа.\r\n",
            "metadata": {}
        },
        {
            "cell_type": "code",
            "source": "use tempdb\r\ngo\r\n\r\nselect  s.FirstName   swimmer_first_name,\r\n\t\ts.LastName    swimmer_last_name,\r\n\t\ts.YearOfBirth swimmer_year_of_birth,\r\n\t\tsc.City, \r\n\t\tsc.[Name],\r\n\t\tc.FirstName   coach_first_name,\r\n\t\tc.LastName    coach_last_name\r\nfrom dbo.Swimmer s\r\nleft join dbo.SwimmingClub sc   on sc.SwimmingClubID = s.SwimmingClubID\r\nleft join dbo.SwimmerCoach xref on xref.SwimmerID = s.SwimmerID \r\ninner join dbo.Coach c          on c.CoachID = xref.CoachID\r\norder by 1, 2, 3, 4, 5, 6, 7\r\nfor xml raw\r\n\r\n",
            "metadata": {},
            "outputs": [
                {
                    "output_type": "display_data",
                    "data": {
                        "text/html": "Commands completed successfully."
                    },
                    "metadata": {}
                },
                {
                    "output_type": "display_data",
                    "data": {
                        "text/html": "Total execution time: 00:00:00.0014396"
                    },
                    "metadata": {}
                },
                {
                    "output_type": "display_data",
                    "data": {
                        "text/html": "(7 rows affected)"
                    },
                    "metadata": {}
                },
                {
                    "output_type": "display_data",
                    "data": {
                        "text/html": "Total execution time: 00:00:00.0096049"
                    },
                    "metadata": {}
                },
                {
                    "output_type": "execute_result",
                    "execution_count": 7,
                    "data": {
                        "application/vnd.dataresource+json": {
                            "schema": {
                                "fields": [
                                    {
                                        "name": "XML_F52E2B61-18A1-11d1-B105-00805F49916B"
                                    }
                                ]
                            },
                            "data": [
                                {
                                    "0": "<row swimmer_first_name=\"Gleb\" swimmer_last_name=\"Bondarec\" swimmer_year_of_birth=\"2007\" City=\"Минск\" Name=\"ГЦОР Трактор\" coach_first_name=\"Алла\" coach_last_name=\"Усенок\"/><row swimmer_first_name=\"Gleb\" swimmer_last_name=\"Bondarec\" swimmer_year_of_birth=\"2007\" City=\"Минск\" Name=\"ГЦОР Трактор\" coach_first_name=\"Виталий\" coach_last_name=\"Барташевич\"/><row swimmer_first_name=\"Анна\" swimmer_last_name=\"Высоцкая\" swimmer_year_of_birth=\"2007\" City=\"Minsk\" Name=\"ДЮСШ Янтарь\" coach_first_name=\"Евгения\" coach_last_name=\"Жукова\"/><row swimmer_first_name=\"Илья\" swimmer_last_name=\"Гавриленко\" swimmer_year_of_birth=\"2006\" City=\"Минск\" Name=\"ГЦОР Трактор\" coach_first_name=\"Алла\" coach_last_name=\"Усенок\"/><row swimmer_first_name=\"Илья\" swimmer_last_name=\"Гавриленко\" swimmer_year_of_birth=\"2006\" City=\"Минск\" Name=\"ГЦОР Трактор\" coach_first_name=\"Виталий\" coach_last_name=\"Барташевич\"/><row swimmer_first_name=\"Максим\" swimmer_last_name=\"Кликушин\" swimmer_year_of_birth=\"2007\" City=\"Минск\" Name=\"ГЦОР Трактор\" coach_first_name=\"Алла\" coach_last_name=\"Усенок\"/><row swimmer_first_name=\"Максим\" swimmer_last_name=\"Кликушин\" swimmer_year_of_birth=\"2007\" City=\"Минск\" Name=\"ГЦОР Трактор\" coach_first_name=\"Виталий\" coach_last_name=\"Барташевич\"/>"
                                }
                            ]
                        },
                        "text/html": "<table><tr><th>XML_F52E2B61-18A1-11d1-B105-00805F49916B</th></tr><tr><td>&lt;row swimmer_first_name=&quot;Gleb&quot; swimmer_last_name=&quot;Bondarec&quot; swimmer_year_of_birth=&quot;2007&quot; City=&quot;Минск&quot; Name=&quot;ГЦОР Трактор&quot; coach_first_name=&quot;Алла&quot; coach_last_name=&quot;Усенок&quot;/&gt;&lt;row swimmer_first_name=&quot;Gleb&quot; swimmer_last_name=&quot;Bondarec&quot; swimmer_year_of_birth=&quot;2007&quot; City=&quot;Минск&quot; Name=&quot;ГЦОР Трактор&quot; coach_first_name=&quot;Виталий&quot; coach_last_name=&quot;Барташевич&quot;/&gt;&lt;row swimmer_first_name=&quot;Анна&quot; swimmer_last_name=&quot;Высоцкая&quot; swimmer_year_of_birth=&quot;2007&quot; City=&quot;Minsk&quot; Name=&quot;ДЮСШ Янтарь&quot; coach_first_name=&quot;Евгения&quot; coach_last_name=&quot;Жукова&quot;/&gt;&lt;row swimmer_first_name=&quot;Илья&quot; swimmer_last_name=&quot;Гавриленко&quot; swimmer_year_of_birth=&quot;2006&quot; City=&quot;Минск&quot; Name=&quot;ГЦОР Трактор&quot; coach_first_name=&quot;Алла&quot; coach_last_name=&quot;Усенок&quot;/&gt;&lt;row swimmer_first_name=&quot;Илья&quot; swimmer_last_name=&quot;Гавриленко&quot; swimmer_year_of_birth=&quot;2006&quot; City=&quot;Минск&quot; Name=&quot;ГЦОР Трактор&quot; coach_first_name=&quot;Виталий&quot; coach_last_name=&quot;Барташевич&quot;/&gt;&lt;row swimmer_first_name=&quot;Максим&quot; swimmer_last_name=&quot;Кликушин&quot; swimmer_year_of_birth=&quot;2007&quot; City=&quot;Минск&quot; Name=&quot;ГЦОР Трактор&quot; coach_first_name=&quot;Алла&quot; coach_last_name=&quot;Усенок&quot;/&gt;&lt;row swimmer_first_name=&quot;Максим&quot; swimmer_last_name=&quot;Кликушин&quot; swimmer_year_of_birth=&quot;2007&quot; City=&quot;Минск&quot; Name=&quot;ГЦОР Трактор&quot; coach_first_name=&quot;Виталий&quot; coach_last_name=&quot;Барташевич&quot;/&gt;</td></tr></table>"
                    },
                    "metadata": {}
                }
            ],
            "execution_count": 7
        },
        {
            "cell_type": "markdown",
            "source": "### For XML Auto\r\n\r\nЧуть более сложный и одновременно чуть более мощный способ генерации XML. \r\n\r\nПозволяет стандартным (шаблонным) способом организовывать нетривиальную иерархическую структуру XML.\r\n",
            "metadata": {}
        },
        {
            "cell_type": "code",
            "source": "use tempdb\r\ngo\r\n\r\nselect  s.FirstName   swimmer_first_name,\r\n\t\ts.LastName    swimmer_last_name,\r\n\t\ts.YearOfBirth swimmer_year_of_birth,\r\n\t\tsc.City, \r\n\t\tsc.[Name],\r\n\t\tc.FirstName   coach_first_name,\r\n\t\tc.LastName    coach_last_name\r\nfrom dbo.Swimmer s\r\nleft join dbo.SwimmingClub sc   on sc.SwimmingClubID = s.SwimmingClubID\r\nleft join dbo.SwimmerCoach xref on xref.SwimmerID = s.SwimmerID \r\ninner join dbo.Coach c          on c.CoachID = xref.CoachID\r\norder by 1, 2, 3, 4, 5, 6, 7\r\nfor xml auto\r\n\r\n",
            "metadata": {},
            "outputs": [
                {
                    "output_type": "display_data",
                    "data": {
                        "text/html": "Commands completed successfully."
                    },
                    "metadata": {}
                },
                {
                    "output_type": "display_data",
                    "data": {
                        "text/html": "Total execution time: 00:00:00.0015640"
                    },
                    "metadata": {}
                },
                {
                    "output_type": "display_data",
                    "data": {
                        "text/html": "(7 rows affected)"
                    },
                    "metadata": {}
                },
                {
                    "output_type": "display_data",
                    "data": {
                        "text/html": "Total execution time: 00:00:00.0094259"
                    },
                    "metadata": {}
                },
                {
                    "output_type": "execute_result",
                    "execution_count": 6,
                    "data": {
                        "application/vnd.dataresource+json": {
                            "schema": {
                                "fields": [
                                    {
                                        "name": "XML_F52E2B61-18A1-11d1-B105-00805F49916B"
                                    }
                                ]
                            },
                            "data": [
                                {
                                    "0": "<s swimmer_first_name=\"Gleb\" swimmer_last_name=\"Bondarec\" swimmer_year_of_birth=\"2007\"><sc City=\"Минск\" Name=\"ГЦОР Трактор\"><c coach_first_name=\"Алла\" coach_last_name=\"Усенок\"/><c coach_first_name=\"Виталий\" coach_last_name=\"Барташевич\"/></sc></s><s swimmer_first_name=\"Анна\" swimmer_last_name=\"Высоцкая\" swimmer_year_of_birth=\"2007\"><sc City=\"Minsk\" Name=\"ДЮСШ Янтарь\"><c coach_first_name=\"Евгения\" coach_last_name=\"Жукова\"/></sc></s><s swimmer_first_name=\"Илья\" swimmer_last_name=\"Гавриленко\" swimmer_year_of_birth=\"2006\"><sc City=\"Минск\" Name=\"ГЦОР Трактор\"><c coach_first_name=\"Алла\" coach_last_name=\"Усенок\"/><c coach_first_name=\"Виталий\" coach_last_name=\"Барташевич\"/></sc></s><s swimmer_first_name=\"Максим\" swimmer_last_name=\"Кликушин\" swimmer_year_of_birth=\"2007\"><sc City=\"Минск\" Name=\"ГЦОР Трактор\"><c coach_first_name=\"Алла\" coach_last_name=\"Усенок\"/><c coach_first_name=\"Виталий\" coach_last_name=\"Барташевич\"/></sc></s>"
                                }
                            ]
                        },
                        "text/html": "<table><tr><th>XML_F52E2B61-18A1-11d1-B105-00805F49916B</th></tr><tr><td>&lt;s swimmer_first_name=&quot;Gleb&quot; swimmer_last_name=&quot;Bondarec&quot; swimmer_year_of_birth=&quot;2007&quot;&gt;&lt;sc City=&quot;Минск&quot; Name=&quot;ГЦОР Трактор&quot;&gt;&lt;c coach_first_name=&quot;Алла&quot; coach_last_name=&quot;Усенок&quot;/&gt;&lt;c coach_first_name=&quot;Виталий&quot; coach_last_name=&quot;Барташевич&quot;/&gt;&lt;/sc&gt;&lt;/s&gt;&lt;s swimmer_first_name=&quot;Анна&quot; swimmer_last_name=&quot;Высоцкая&quot; swimmer_year_of_birth=&quot;2007&quot;&gt;&lt;sc City=&quot;Minsk&quot; Name=&quot;ДЮСШ Янтарь&quot;&gt;&lt;c coach_first_name=&quot;Евгения&quot; coach_last_name=&quot;Жукова&quot;/&gt;&lt;/sc&gt;&lt;/s&gt;&lt;s swimmer_first_name=&quot;Илья&quot; swimmer_last_name=&quot;Гавриленко&quot; swimmer_year_of_birth=&quot;2006&quot;&gt;&lt;sc City=&quot;Минск&quot; Name=&quot;ГЦОР Трактор&quot;&gt;&lt;c coach_first_name=&quot;Алла&quot; coach_last_name=&quot;Усенок&quot;/&gt;&lt;c coach_first_name=&quot;Виталий&quot; coach_last_name=&quot;Барташевич&quot;/&gt;&lt;/sc&gt;&lt;/s&gt;&lt;s swimmer_first_name=&quot;Максим&quot; swimmer_last_name=&quot;Кликушин&quot; swimmer_year_of_birth=&quot;2007&quot;&gt;&lt;sc City=&quot;Минск&quot; Name=&quot;ГЦОР Трактор&quot;&gt;&lt;c coach_first_name=&quot;Алла&quot; coach_last_name=&quot;Усенок&quot;/&gt;&lt;c coach_first_name=&quot;Виталий&quot; coach_last_name=&quot;Барташевич&quot;/&gt;&lt;/sc&gt;&lt;/s&gt;</td></tr></table>"
                    },
                    "metadata": {}
                }
            ],
            "execution_count": 6
        },
        {
            "cell_type": "markdown",
            "source": "### For XML Path\r\n\r\nСамый гибкий способ генерации XML практически любой структуры (вместе с тем, и самый медленный!)\r\n\r\nТот же XML что и в примере про xml explicit",
            "metadata": {}
        },
        {
            "cell_type": "code",
            "source": "use tempdb\r\ngo\r\n\r\nselect  s.FirstName   [Swimmer/@FirstName],\r\n\t\ts.LastName    [Swimmer/@LastName],\r\n\t\ts.YearOfBirth [Swimmer/@YearOfBirth],\r\n        sc.City       [Swimmer/Team/@City], \r\n        sc.[Name]     [Swimmer/Team/@Name],\r\n\t\t(\r\n\t\t   select\r\n               c.FirstName   [@FirstName],\r\n               c.LastName    [@LastName]\r\n           from dbo.SwimmerCoach xref \r\n           inner join dbo.Coach c on c.CoachID = xref.CoachID\r\n\t\t   where xref.SwimmerID = s.SwimmerID \r\n\t\t   for xml path('Coach'), type\r\n\t\t)             [Swimmer]\r\nfrom dbo.Swimmer s\r\nleft join dbo.SwimmingClub sc   on sc.SwimmingClubID = s.SwimmingClubID\r\norder by 1, 2, 3, 4, 5\r\nfor xml path('')\r\n\r\n",
            "metadata": {},
            "outputs": [
                {
                    "output_type": "display_data",
                    "data": {
                        "text/html": "Commands completed successfully."
                    },
                    "metadata": {}
                },
                {
                    "output_type": "display_data",
                    "data": {
                        "text/html": "Total execution time: 00:00:00.0013479"
                    },
                    "metadata": {}
                },
                {
                    "output_type": "display_data",
                    "data": {
                        "text/html": "(7 rows affected)"
                    },
                    "metadata": {}
                },
                {
                    "output_type": "display_data",
                    "data": {
                        "text/html": "Total execution time: 00:00:00.0098099"
                    },
                    "metadata": {}
                },
                {
                    "output_type": "execute_result",
                    "execution_count": 5,
                    "data": {
                        "application/vnd.dataresource+json": {
                            "schema": {
                                "fields": [
                                    {
                                        "name": "XML_F52E2B61-18A1-11d1-B105-00805F49916B"
                                    }
                                ]
                            },
                            "data": [
                                {
                                    "0": "<Swimmer FirstName=\"Gleb\" LastName=\"Bondarec\" YearOfBirth=\"2007\"><Team City=\"Минск\" Name=\"ГЦОР Трактор\"/><Coach FirstName=\"Алла\" LastName=\"Усенок\"/><Coach FirstName=\"Виталий\" LastName=\"Барташевич\"/></Swimmer><Swimmer FirstName=\"Алексей\" LastName=\"Рылько\" YearOfBirth=\"2005\"><Team City=\"Minsk\" Name=\"ДЮСШ Янтарь\"/></Swimmer><Swimmer FirstName=\"Анна\" LastName=\"Высоцкая\" YearOfBirth=\"2007\"><Team City=\"Minsk\" Name=\"ДЮСШ Янтарь\"/><Coach FirstName=\"Евгения\" LastName=\"Жукова\"/></Swimmer><Swimmer FirstName=\"Илья\" LastName=\"Гавриленко\" YearOfBirth=\"2006\"><Team City=\"Минск\" Name=\"ГЦОР Трактор\"/><Coach FirstName=\"Алла\" LastName=\"Усенок\"/><Coach FirstName=\"Виталий\" LastName=\"Барташевич\"/></Swimmer><Swimmer FirstName=\"Максим\" LastName=\"Кликушин\" YearOfBirth=\"2007\"><Team City=\"Минск\" Name=\"ГЦОР Трактор\"/><Coach FirstName=\"Алла\" LastName=\"Усенок\"/><Coach FirstName=\"Виталий\" LastName=\"Барташевич\"/></Swimmer><Swimmer FirstName=\"Матвей\" LastName=\"Данкевич\" YearOfBirth=\"2006\"><Team City=\"Молодечно\" Name=\"СК Олимпик-2011\"/></Swimmer><Swimmer FirstName=\"Никита\" LastName=\"Клюй\" YearOfBirth=\"2005\"><Team City=\"Minsk\" Name=\"ДЮСШ Янтарь\"/></Swimmer>"
                                }
                            ]
                        },
                        "text/html": "<table><tr><th>XML_F52E2B61-18A1-11d1-B105-00805F49916B</th></tr><tr><td>&lt;Swimmer FirstName=&quot;Gleb&quot; LastName=&quot;Bondarec&quot; YearOfBirth=&quot;2007&quot;&gt;&lt;Team City=&quot;Минск&quot; Name=&quot;ГЦОР Трактор&quot;/&gt;&lt;Coach FirstName=&quot;Алла&quot; LastName=&quot;Усенок&quot;/&gt;&lt;Coach FirstName=&quot;Виталий&quot; LastName=&quot;Барташевич&quot;/&gt;&lt;/Swimmer&gt;&lt;Swimmer FirstName=&quot;Алексей&quot; LastName=&quot;Рылько&quot; YearOfBirth=&quot;2005&quot;&gt;&lt;Team City=&quot;Minsk&quot; Name=&quot;ДЮСШ Янтарь&quot;/&gt;&lt;/Swimmer&gt;&lt;Swimmer FirstName=&quot;Анна&quot; LastName=&quot;Высоцкая&quot; YearOfBirth=&quot;2007&quot;&gt;&lt;Team City=&quot;Minsk&quot; Name=&quot;ДЮСШ Янтарь&quot;/&gt;&lt;Coach FirstName=&quot;Евгения&quot; LastName=&quot;Жукова&quot;/&gt;&lt;/Swimmer&gt;&lt;Swimmer FirstName=&quot;Илья&quot; LastName=&quot;Гавриленко&quot; YearOfBirth=&quot;2006&quot;&gt;&lt;Team City=&quot;Минск&quot; Name=&quot;ГЦОР Трактор&quot;/&gt;&lt;Coach FirstName=&quot;Алла&quot; LastName=&quot;Усенок&quot;/&gt;&lt;Coach FirstName=&quot;Виталий&quot; LastName=&quot;Барташевич&quot;/&gt;&lt;/Swimmer&gt;&lt;Swimmer FirstName=&quot;Максим&quot; LastName=&quot;Кликушин&quot; YearOfBirth=&quot;2007&quot;&gt;&lt;Team City=&quot;Минск&quot; Name=&quot;ГЦОР Трактор&quot;/&gt;&lt;Coach FirstName=&quot;Алла&quot; LastName=&quot;Усенок&quot;/&gt;&lt;Coach FirstName=&quot;Виталий&quot; LastName=&quot;Барташевич&quot;/&gt;&lt;/Swimmer&gt;&lt;Swimmer FirstName=&quot;Матвей&quot; LastName=&quot;Данкевич&quot; YearOfBirth=&quot;2006&quot;&gt;&lt;Team City=&quot;Молодечно&quot; Name=&quot;СК Олимпик-2011&quot;/&gt;&lt;/Swimmer&gt;&lt;Swimmer FirstName=&quot;Никита&quot; LastName=&quot;Клюй&quot; YearOfBirth=&quot;2005&quot;&gt;&lt;Team City=&quot;Minsk&quot; Name=&quot;ДЮСШ Янтарь&quot;/&gt;&lt;/Swimmer&gt;</td></tr></table>"
                    },
                    "metadata": {}
                }
            ],
            "execution_count": 5
        },
        {
            "cell_type": "markdown",
            "source": "### Опции elements и root:",
            "metadata": {}
        },
        {
            "cell_type": "code",
            "source": "use tempdb\r\ngo\r\n\r\nselect  s.FirstName   ,\r\n\t\ts.LastName    ,\r\n\t\ts.YearOfBirth ,\r\n        sc.City       Team_City, \r\n        sc.[Name]     Team_Name\r\nfrom dbo.Swimmer s\r\nleft join dbo.SwimmingClub sc   on sc.SwimmingClubID = s.SwimmingClubID\r\norder by 1, 2, 3, 4, 5\r\nfor xml raw('element'), root('persons'), elements\r\n\r\n\r\n",
            "metadata": {},
            "outputs": [
                {
                    "output_type": "display_data",
                    "data": {
                        "text/html": "Commands completed successfully."
                    },
                    "metadata": {}
                },
                {
                    "output_type": "display_data",
                    "data": {
                        "text/html": "Total execution time: 00:00:00.0019112"
                    },
                    "metadata": {}
                },
                {
                    "output_type": "display_data",
                    "data": {
                        "text/html": "(7 rows affected)"
                    },
                    "metadata": {}
                },
                {
                    "output_type": "display_data",
                    "data": {
                        "text/html": "Total execution time: 00:00:00.0079248"
                    },
                    "metadata": {}
                },
                {
                    "output_type": "execute_result",
                    "execution_count": 4,
                    "data": {
                        "application/vnd.dataresource+json": {
                            "schema": {
                                "fields": [
                                    {
                                        "name": "XML_F52E2B61-18A1-11d1-B105-00805F49916B"
                                    }
                                ]
                            },
                            "data": [
                                {
                                    "0": "<persons><element><FirstName>Gleb</FirstName><LastName>Bondarec</LastName><YearOfBirth>2007</YearOfBirth><Team_City>Минск</Team_City><Team_Name>ГЦОР Трактор</Team_Name></element><element><FirstName>Алексей</FirstName><LastName>Рылько</LastName><YearOfBirth>2005</YearOfBirth><Team_City>Minsk</Team_City><Team_Name>ДЮСШ Янтарь</Team_Name></element><element><FirstName>Анна</FirstName><LastName>Высоцкая</LastName><YearOfBirth>2007</YearOfBirth><Team_City>Minsk</Team_City><Team_Name>ДЮСШ Янтарь</Team_Name></element><element><FirstName>Илья</FirstName><LastName>Гавриленко</LastName><YearOfBirth>2006</YearOfBirth><Team_City>Минск</Team_City><Team_Name>ГЦОР Трактор</Team_Name></element><element><FirstName>Максим</FirstName><LastName>Кликушин</LastName><YearOfBirth>2007</YearOfBirth><Team_City>Минск</Team_City><Team_Name>ГЦОР Трактор</Team_Name></element><element><FirstName>Матвей</FirstName><LastName>Данкевич</LastName><YearOfBirth>2006</YearOfBirth><Team_City>Молодечно</Team_City><Team_Name>СК Олимпик-2011</Team_Name></element><element><FirstName>Никита</FirstName><LastName>Клюй</LastName><YearOfBirth>2005</YearOfBirth><Team_City>Minsk</Team_City><Team_Name>ДЮСШ Янтарь</Team_Name></element></persons>"
                                }
                            ]
                        },
                        "text/html": "<table><tr><th>XML_F52E2B61-18A1-11d1-B105-00805F49916B</th></tr><tr><td>&lt;persons&gt;&lt;element&gt;&lt;FirstName&gt;Gleb&lt;/FirstName&gt;&lt;LastName&gt;Bondarec&lt;/LastName&gt;&lt;YearOfBirth&gt;2007&lt;/YearOfBirth&gt;&lt;Team_City&gt;Минск&lt;/Team_City&gt;&lt;Team_Name&gt;ГЦОР Трактор&lt;/Team_Name&gt;&lt;/element&gt;&lt;element&gt;&lt;FirstName&gt;Алексей&lt;/FirstName&gt;&lt;LastName&gt;Рылько&lt;/LastName&gt;&lt;YearOfBirth&gt;2005&lt;/YearOfBirth&gt;&lt;Team_City&gt;Minsk&lt;/Team_City&gt;&lt;Team_Name&gt;ДЮСШ Янтарь&lt;/Team_Name&gt;&lt;/element&gt;&lt;element&gt;&lt;FirstName&gt;Анна&lt;/FirstName&gt;&lt;LastName&gt;Высоцкая&lt;/LastName&gt;&lt;YearOfBirth&gt;2007&lt;/YearOfBirth&gt;&lt;Team_City&gt;Minsk&lt;/Team_City&gt;&lt;Team_Name&gt;ДЮСШ Янтарь&lt;/Team_Name&gt;&lt;/element&gt;&lt;element&gt;&lt;FirstName&gt;Илья&lt;/FirstName&gt;&lt;LastName&gt;Гавриленко&lt;/LastName&gt;&lt;YearOfBirth&gt;2006&lt;/YearOfBirth&gt;&lt;Team_City&gt;Минск&lt;/Team_City&gt;&lt;Team_Name&gt;ГЦОР Трактор&lt;/Team_Name&gt;&lt;/element&gt;&lt;element&gt;&lt;FirstName&gt;Максим&lt;/FirstName&gt;&lt;LastName&gt;Кликушин&lt;/LastName&gt;&lt;YearOfBirth&gt;2007&lt;/YearOfBirth&gt;&lt;Team_City&gt;Минск&lt;/Team_City&gt;&lt;Team_Name&gt;ГЦОР Трактор&lt;/Team_Name&gt;&lt;/element&gt;&lt;element&gt;&lt;FirstName&gt;Матвей&lt;/FirstName&gt;&lt;LastName&gt;Данкевич&lt;/LastName&gt;&lt;YearOfBirth&gt;2006&lt;/YearOfBirth&gt;&lt;Team_City&gt;Молодечно&lt;/Team_City&gt;&lt;Team_Name&gt;СК Олимпик-2011&lt;/Team_Name&gt;&lt;/element&gt;&lt;element&gt;&lt;FirstName&gt;Никита&lt;/FirstName&gt;&lt;LastName&gt;Клюй&lt;/LastName&gt;&lt;YearOfBirth&gt;2005&lt;/YearOfBirth&gt;&lt;Team_City&gt;Minsk&lt;/Team_City&gt;&lt;Team_Name&gt;ДЮСШ Янтарь&lt;/Team_Name&gt;&lt;/element&gt;&lt;/persons&gt;</td></tr></table>"
                    },
                    "metadata": {}
                }
            ],
            "execution_count": 4
        },
        {
            "cell_type": "markdown",
            "source": "# OpenXML\r\n### Преобразование данных из XML в реляционный формат",
            "metadata": {}
        },
        {
            "cell_type": "code",
            "source": "declare @hdoc int,\r\n\t    \t@xml  varchar(1000)\r\n\r\nset @xml = '\r\n<root>\r\n  <Person City=\"Bothell\" Address=\"New address\">\r\n    <Name>\r\n      <FirstName>Syed</FirstName>\r\n      <LastName>Abbas</LastName>\r\n    </Name>\r\n  </Person>\r\n  <Person City=\"Carnation\" Address=\"9752 Jeanne Circle\">\r\n    <Name>\r\n      <FirstName>Kim</FirstName>\r\n      <LastName>Abercrombie</LastName>\r\n    </Name>\r\n  </Person>\r\n</root>  \r\n'\r\n\r\n--получаем дескриптор XML документа\r\nexec sp_xml_preparedocument @hdoc OUTPUT, @xml\r\n\r\nselect * \r\nfrom \r\nOpenXML(@hdoc,'/root/Person',2)\r\n\twith(\r\n\t\t\tFirstName varchar(20) 'Name/FirstName',\r\n\t\t\tLastName varchar(20)  'Name/LastName',\r\n\t\t\tCity varchar(100)     '@City'\r\n\t\t) X\r\n\r\n--освобождаем ресурсы\r\nexec sp_xml_removedocument @hdoc\r\n\r\n",
            "metadata": {},
            "outputs": [
                {
                    "output_type": "display_data",
                    "data": {
                        "text/html": "(2 rows affected)"
                    },
                    "metadata": {}
                },
                {
                    "output_type": "display_data",
                    "data": {
                        "text/html": "Total execution time: 00:00:00.0176054"
                    },
                    "metadata": {}
                },
                {
                    "output_type": "execute_result",
                    "execution_count": 9,
                    "data": {
                        "application/vnd.dataresource+json": {
                            "schema": {
                                "fields": [
                                    {
                                        "name": "FirstName"
                                    },
                                    {
                                        "name": "LastName"
                                    },
                                    {
                                        "name": "City"
                                    }
                                ]
                            },
                            "data": [
                                {
                                    "0": "Syed",
                                    "1": "Abbas",
                                    "2": "Bothell"
                                },
                                {
                                    "0": "Kim",
                                    "1": "Abercrombie",
                                    "2": "Carnation"
                                }
                            ]
                        },
                        "text/html": "<table><tr><th>FirstName</th><th>LastName</th><th>City</th></tr><tr><td>Syed</td><td>Abbas</td><td>Bothell</td></tr><tr><td>Kim</td><td>Abercrombie</td><td>Carnation</td></tr></table>"
                    },
                    "metadata": {}
                }
            ],
            "execution_count": 9
        },
        {
            "cell_type": "markdown",
            "source": "# For JSON Extention\r\n### Преобразование данных из реляционной модели в JSON\r\n\r\nАналогично тому как мы можем генерировать XML, мы можем и с JSON:",
            "metadata": {}
        },
        {
            "cell_type": "code",
            "source": "use tempdb\r\ngo\r\n\r\nselect  s.FirstName   [Swimmer.FirstName],\r\n\t\ts.LastName    [Swimmer.LastName],\r\n\t\ts.YearOfBirth [Swimmer.YearOfBirth],\r\n        sc.City       [Team.City], \r\n        sc.[Name]     [Team.Name],\r\n\t\t(\r\n\t\t   select\r\n               c.FirstName   [FirstName],\r\n               c.LastName    [LastName]\r\n           from dbo.SwimmerCoach xref \r\n           inner join dbo.Coach c on c.CoachID = xref.CoachID\r\n\t\t   where xref.SwimmerID = s.SwimmerID \r\n\t\t   for json path\r\n\t\t)             [Coach]\r\nfrom dbo.Swimmer s\r\nleft join dbo.SwimmingClub sc   on sc.SwimmingClubID = s.SwimmingClubID\r\norder by 1, 2, 3, 4, 5\r\nfor json path\r\n\r\n",
            "metadata": {},
            "outputs": [
                {
                    "output_type": "display_data",
                    "data": {
                        "text/html": "Commands completed successfully."
                    },
                    "metadata": {}
                },
                {
                    "output_type": "display_data",
                    "data": {
                        "text/html": "Total execution time: 00:00:00.0019346"
                    },
                    "metadata": {}
                },
                {
                    "output_type": "display_data",
                    "data": {
                        "text/html": "[{\"Swimmer\":{\"FirstName\":\"Gleb\",\"LastName\":\"Bondarec\",\"YearOfBirth\":2007},\"Team\":{\"City\":\"Минск\",\"Name\":\"ГЦОР Трактор\"},\"Coach\":[{\"FirstName\":\"Алла\",\"LastName\":\"Усенок\"},{\"FirstName\":\"Виталий\",\"LastName\":\"Барташевич\"}]},{\"Swimmer\":{\"FirstName\":\"Алексей\",\"LastName\":\"Рылько\",\"YearOfBirth\":2005},\"Team\":{\"City\":\"Minsk\",\"Name\":\"ДЮСШ Янтарь\"}},{\"Swimmer\":{\"FirstName\":\"Анна\",\"LastName\":\"Высоцкая\",\"YearOfBirth\":2007},\"Team\":{\"City\":\"Minsk\",\"Name\":\"ДЮСШ Янтарь\"},\"Coach\":[{\"FirstName\":\"Евгения\",\"LastName\":\"Жукова\"}]},{\"Swimmer\":{\"FirstName\":\"Илья\",\"LastName\":\"Гавриленко\",\"YearOfBirth\":2006},\"Team\":{\"City\":\"Минск\",\"Name\":\"ГЦОР Трактор\"},\"Coach\":[{\"FirstName\":\"Алла\",\"LastName\":\"Усенок\"},{\"FirstName\":\"Виталий\",\"LastName\":\"Барташевич\"}]},{\"Swimmer\":{\"FirstName\":\"Максим\",\"LastName\":\"Кликушин\",\"YearOfBirth\":2007},\"Team\":{\"City\":\"Минск\",\"Name\":\"ГЦОР Трактор\"},\"Coach\":[{\"FirstName\":\"Алла\",\"LastName\":\"Усенок\"},{\"FirstName\":\"Виталий\",\"LastName\":\"Барташевич\"}]},{\"Swimmer\":{\"FirstName\":\"Матвей\",\"LastName\":\"Данкевич\",\"YearOfBirth\":2006},\"Team\":{\"City\":\"Молодечно\",\"Name\":\"СК Олимпик-2011\"}},{\"Swimmer\":{\"FirstName\":\"Никита\",\"LastName\":\"Клюй\",\"YearOfBirth\":2005},\"Team\":{\"City\":\"Minsk\",\"Name\":\"ДЮСШ Янтарь\"}}]"
                    },
                    "metadata": {}
                },
                {
                    "output_type": "display_data",
                    "data": {
                        "text/html": "Total execution time: 00:00:00.0079642"
                    },
                    "metadata": {}
                }
            ],
            "execution_count": 17
        },
        {
            "cell_type": "markdown",
            "source": "# OpenJSON\r\n### Преобразование данных из JSON в реляционный формат\r\n\r\n\r\n<b>OPENJSON</b> — функция с табличным значением, которая выполняет синтаксический анализ текста JSON и возвращает объекты и свойства из входных данных JSON в виде строк и столбцов. \r\n\r\n<a href='https://docs.microsoft.com/ru-RU/sql/t-sql/functions/openjson-transact-sql?view=sql-server-2017'>Link</a>",
            "metadata": {}
        },
        {
            "cell_type": "code",
            "source": "declare @json nvarchar(4000) \r\nset @json =\tN'\r\n{\r\n    \"FirstName\": \"Илья\",\r\n    \"LastName\": \"Гавриленко\",\r\n    \"YearOfBirth\": 2006,\r\n    \"Gender\": \"м\",\r\n    \"Club\": {\r\n        \"Name\": \"ГЦОР Трактор\",\r\n        \"City\": \"Минск\"\r\n    },\r\n    \"Category\": \"II\",\r\n    \"Coach\": [\r\n        {\"FirstName\": \"Алла\", \"LastName\": \"Усенок\"},\r\n        {\"FirstName\": \"Виталий\", \"LastName\": \"Барташевич\"}\r\n    ]\r\n} \r\n'\r\n\r\nselect *\r\nfrom openjson(@json) \r\n\r\n--извлечь все атрибуты, в том числе, более чем 1 уровня вложенности\r\nselect *\r\nfrom openjson(@json) \r\n\twith \r\n\t\t(\r\n\t\t\tFirstName       nvarchar(20)    N'$.FirstName',\r\n\t\t\tLastName        nvarchar(30)    N'$.LastName',\r\n\t\t\tYearOfBirth     smallint        N'$.YearOfBirth',\r\n\t\t\tGender          nchar(1)        N'$.Gender',\r\n\t\t\tCategory        nvarchar(20)    N'$.Category',\r\n\t\t\tClubCity        nvarchar(50)    N'$.Club.City',\r\n\t\t\tClubName        nvarchar(100)   N'$.Club.Name',\r\n\t\t\tCoach           nvarchar(max)   N'$.Coach'        as json\r\n\t\t)  js \r\n\r\n\r\n",
            "metadata": {},
            "outputs": [
                {
                    "output_type": "display_data",
                    "data": {
                        "text/html": "(7 rows affected)"
                    },
                    "metadata": {}
                },
                {
                    "output_type": "display_data",
                    "data": {
                        "text/html": "(1 row affected)"
                    },
                    "metadata": {}
                },
                {
                    "output_type": "display_data",
                    "data": {
                        "text/html": "Total execution time: 00:00:00.0173023"
                    },
                    "metadata": {}
                },
                {
                    "output_type": "execute_result",
                    "execution_count": 15,
                    "data": {
                        "application/vnd.dataresource+json": {
                            "schema": {
                                "fields": [
                                    {
                                        "name": "key"
                                    },
                                    {
                                        "name": "value"
                                    },
                                    {
                                        "name": "type"
                                    }
                                ]
                            },
                            "data": [
                                {
                                    "0": "FirstName",
                                    "1": "Илья",
                                    "2": "1"
                                },
                                {
                                    "0": "LastName",
                                    "1": "Гавриленко",
                                    "2": "1"
                                },
                                {
                                    "0": "YearOfBirth",
                                    "1": "2006",
                                    "2": "2"
                                },
                                {
                                    "0": "Gender",
                                    "1": "м",
                                    "2": "1"
                                },
                                {
                                    "0": "Club",
                                    "1": "{\r\n        \"Name\": \"ГЦОР Трактор\",\r\n        \"City\": \"Минск\"\r\n    }",
                                    "2": "5"
                                },
                                {
                                    "0": "Category",
                                    "1": "II",
                                    "2": "1"
                                },
                                {
                                    "0": "Coach",
                                    "1": "[\r\n        {\"FirstName\": \"Алла\", \"LastName\": \"Усенок\"},\r\n        {\"FirstName\": \"Виталий\", \"LastName\": \"Барташевич\"}\r\n    ]",
                                    "2": "4"
                                }
                            ]
                        },
                        "text/html": "<table><tr><th>key</th><th>value</th><th>type</th></tr><tr><td>FirstName</td><td>Илья</td><td>1</td></tr><tr><td>LastName</td><td>Гавриленко</td><td>1</td></tr><tr><td>YearOfBirth</td><td>2006</td><td>2</td></tr><tr><td>Gender</td><td>м</td><td>1</td></tr><tr><td>Club</td><td>{\r\n        &quot;Name&quot;: &quot;ГЦОР Трактор&quot;,\r\n        &quot;City&quot;: &quot;Минск&quot;\r\n    }</td><td>5</td></tr><tr><td>Category</td><td>II</td><td>1</td></tr><tr><td>Coach</td><td>[\r\n        {&quot;FirstName&quot;: &quot;Алла&quot;, &quot;LastName&quot;: &quot;Усенок&quot;},\r\n        {&quot;FirstName&quot;: &quot;Виталий&quot;, &quot;LastName&quot;: &quot;Барташевич&quot;}\r\n    ]</td><td>4</td></tr></table>"
                    },
                    "metadata": {}
                },
                {
                    "output_type": "execute_result",
                    "execution_count": 15,
                    "data": {
                        "application/vnd.dataresource+json": {
                            "schema": {
                                "fields": [
                                    {
                                        "name": "FirstName"
                                    },
                                    {
                                        "name": "LastName"
                                    },
                                    {
                                        "name": "YearOfBirth"
                                    },
                                    {
                                        "name": "Gender"
                                    },
                                    {
                                        "name": "Category"
                                    },
                                    {
                                        "name": "ClubCity"
                                    },
                                    {
                                        "name": "ClubName"
                                    },
                                    {
                                        "name": "Coach"
                                    }
                                ]
                            },
                            "data": [
                                {
                                    "0": "Илья",
                                    "1": "Гавриленко",
                                    "2": "2006",
                                    "3": "м",
                                    "4": "II",
                                    "5": "Минск",
                                    "6": "ГЦОР Трактор",
                                    "7": "[\r\n        {\"FirstName\": \"Алла\", \"LastName\": \"Усенок\"},\r\n        {\"FirstName\": \"Виталий\", \"LastName\": \"Барташевич\"}\r\n    ]"
                                }
                            ]
                        },
                        "text/html": "<table><tr><th>FirstName</th><th>LastName</th><th>YearOfBirth</th><th>Gender</th><th>Category</th><th>ClubCity</th><th>ClubName</th><th>Coach</th></tr><tr><td>Илья</td><td>Гавриленко</td><td>2006</td><td>м</td><td>II</td><td>Минск</td><td>ГЦОР Трактор</td><td>[\r\n        {&quot;FirstName&quot;: &quot;Алла&quot;, &quot;LastName&quot;: &quot;Усенок&quot;},\r\n        {&quot;FirstName&quot;: &quot;Виталий&quot;, &quot;LastName&quot;: &quot;Барташевич&quot;}\r\n    ]</td></tr></table>"
                    },
                    "metadata": {}
                }
            ],
            "execution_count": 15
        },
        {
            "cell_type": "markdown",
            "source": "Если вы хотите получить данные из вложенного массива JSON, можно использовать корреляционный вызов openjson используя ```CROSS APPLY``` или ```OUTER APPLY```:",
            "metadata": {}
        },
        {
            "cell_type": "code",
            "source": "declare @json nvarchar(4000) \r\nset @json =\tN'\r\n{\r\n    \"FirstName\": \"Илья\",\r\n    \"LastName\": \"Гавриленко\",\r\n    \"YearOfBirth\": 2006,\r\n    \"Gender\": \"м\",\r\n    \"Club\": {\r\n        \"Name\": \"ГЦОР Трактор\",\r\n        \"City\": \"Минск\"\r\n    },\r\n    \"Category\": \"II\",\r\n    \"Coach\": [\r\n        {\"FirstName\": \"Алла\", \"LastName\": \"Усенок\"},\r\n        {\"FirstName\": \"Виталий\", \"LastName\": \"Барташевич\"}\r\n    ]\r\n} \r\n'\r\n\r\n--извлечь все атрибуты, в том числе, более чем 1 уровня вложенности\r\nselect \t\tjs.FirstName,\r\n\t\t\tjs.LastName,\r\n\t\t\tjs.YearOfBirth,\r\n\t\t\tjs.Gender,\r\n\t\t\tjs.Category,\r\n\t\t\tjs.ClubCity,\r\n\t\t\tjs.ClubName,\r\n\t\t\tjsc.CoachFirstName, \r\n\t\t\tjsc.CoachLastName\r\nfrom openjson(@json) \r\n\twith \r\n\t\t(\r\n\t\t\tFirstName       nvarchar(20)    N'$.FirstName',\r\n\t\t\tLastName        nvarchar(30)    N'$.LastName',\r\n\t\t\tYearOfBirth     smallint        N'$.YearOfBirth',\r\n\t\t\tGender          nchar(1)        N'$.Gender',\r\n\t\t\tCategory        nvarchar(20)    N'$.Category',\r\n\t\t\tClubCity        nvarchar(50)    N'$.Club.City',\r\n\t\t\tClubName        nvarchar(100)   N'$.Club.Name',\r\n\t\t\tCoach           nvarchar(max)   N'$.Coach'        as json\r\n\t\t)  js \r\nouter apply openjson(js.Coach)        \r\n\twith \r\n\t\t(\r\n\t\t\tCoachFirstName  nvarchar(20)    N'$.FirstName',\r\n\t\t\tCoachLastName   nvarchar(30)    N'$.LastName'\r\n\t\t)  jsc \r\n\r\n",
            "metadata": {},
            "outputs": [
                {
                    "output_type": "display_data",
                    "data": {
                        "text/html": "(2 rows affected)"
                    },
                    "metadata": {}
                },
                {
                    "output_type": "display_data",
                    "data": {
                        "text/html": "Total execution time: 00:00:00.0071696"
                    },
                    "metadata": {}
                },
                {
                    "output_type": "execute_result",
                    "execution_count": 19,
                    "data": {
                        "application/vnd.dataresource+json": {
                            "schema": {
                                "fields": [
                                    {
                                        "name": "FirstName"
                                    },
                                    {
                                        "name": "LastName"
                                    },
                                    {
                                        "name": "YearOfBirth"
                                    },
                                    {
                                        "name": "Gender"
                                    },
                                    {
                                        "name": "Category"
                                    },
                                    {
                                        "name": "ClubCity"
                                    },
                                    {
                                        "name": "ClubName"
                                    },
                                    {
                                        "name": "CoachFirstName"
                                    },
                                    {
                                        "name": "CoachLastName"
                                    }
                                ]
                            },
                            "data": [
                                {
                                    "0": "Илья",
                                    "1": "Гавриленко",
                                    "2": "2006",
                                    "3": "м",
                                    "4": "II",
                                    "5": "Минск",
                                    "6": "ГЦОР Трактор",
                                    "7": "Алла",
                                    "8": "Усенок"
                                },
                                {
                                    "0": "Илья",
                                    "1": "Гавриленко",
                                    "2": "2006",
                                    "3": "м",
                                    "4": "II",
                                    "5": "Минск",
                                    "6": "ГЦОР Трактор",
                                    "7": "Виталий",
                                    "8": "Барташевич"
                                }
                            ]
                        },
                        "text/html": "<table><tr><th>FirstName</th><th>LastName</th><th>YearOfBirth</th><th>Gender</th><th>Category</th><th>ClubCity</th><th>ClubName</th><th>CoachFirstName</th><th>CoachLastName</th></tr><tr><td>Илья</td><td>Гавриленко</td><td>2006</td><td>м</td><td>II</td><td>Минск</td><td>ГЦОР Трактор</td><td>Алла</td><td>Усенок</td></tr><tr><td>Илья</td><td>Гавриленко</td><td>2006</td><td>м</td><td>II</td><td>Минск</td><td>ГЦОР Трактор</td><td>Виталий</td><td>Барташевич</td></tr></table>"
                    },
                    "metadata": {}
                }
            ],
            "execution_count": 19
        },
        {
            "cell_type": "markdown",
            "source": "### JSON_Value, JSON_Query, JSON_Modify",
            "metadata": {}
        },
        {
            "cell_type": "code",
            "source": "declare @json nvarchar(4000) \r\nset @json =\tN'\r\n{\r\n    \"FirstName\": \"Илья\",\r\n    \"LastName\": \"Гавриленко\",\r\n    \"YearOfBirth\": 2006,\r\n    \"Gender\": \"м\",\r\n    \"Club\": {\r\n        \"Name\": \"ГЦОР Трактор\",\r\n        \"City\": \"Минск\"\r\n    },\r\n    \"Category\": \"II\",\r\n    \"Coach\": [\r\n        {\"FirstName\": \"Алла\", \"LastName\": \"Усенок\"},\r\n        {\"FirstName\": \"Виталий\", \"LastName\": \"Барташевич\"}\r\n    ]\r\n} \r\n'\r\n\r\nselect FirstName   = json_value(@json, '$.FirstName'),\r\n       LastName    = json_value(@json, '$.LastName'),\r\n       YearOfBirth = json_value(@json, '$.YearOfBirth'),\r\n       Team        = json_value(@json, '$.Club.City') + ' ' + json_value(@json, '$.Club.Name'),\r\n       YearOfBirth = json_query(@json, '$.Coach')   --json_value не подходит\r\n\r\n",
            "metadata": {},
            "outputs": [
                {
                    "output_type": "display_data",
                    "data": {
                        "text/html": "(1 row affected)"
                    },
                    "metadata": {}
                },
                {
                    "output_type": "display_data",
                    "data": {
                        "text/html": "Total execution time: 00:00:00.0046983"
                    },
                    "metadata": {}
                },
                {
                    "output_type": "execute_result",
                    "metadata": {},
                    "execution_count": 3,
                    "data": {
                        "application/vnd.dataresource+json": {
                            "schema": {
                                "fields": [
                                    {
                                        "name": "FirstName"
                                    },
                                    {
                                        "name": "LastName"
                                    },
                                    {
                                        "name": "YearOfBirth"
                                    },
                                    {
                                        "name": "Team"
                                    },
                                    {
                                        "name": "YearOfBirth"
                                    }
                                ]
                            },
                            "data": [
                                {
                                    "0": "Илья",
                                    "1": "Гавриленко",
                                    "2": "2006",
                                    "3": "Минск ГЦОР Трактор",
                                    "4": "[\r\n        {\"FirstName\": \"Алла\", \"LastName\": \"Усенок\"},\r\n        {\"FirstName\": \"Виталий\", \"LastName\": \"Барташевич\"}\r\n    ]"
                                }
                            ]
                        },
                        "text/html": "<table><tr><th>FirstName</th><th>LastName</th><th>YearOfBirth</th><th>Team</th><th>YearOfBirth</th></tr><tr><td>Илья</td><td>Гавриленко</td><td>2006</td><td>Минск ГЦОР Трактор</td><td>[\r\n        {&quot;FirstName&quot;: &quot;Алла&quot;, &quot;LastName&quot;: &quot;Усенок&quot;},\r\n        {&quot;FirstName&quot;: &quot;Виталий&quot;, &quot;LastName&quot;: &quot;Барташевич&quot;}\r\n    ]</td></tr></table>"
                    }
                }
            ],
            "execution_count": 3
        },
        {
            "cell_type": "code",
            "source": "declare @json nvarchar(4000) \r\nset @json =\tN'\r\n{\r\n    \"FirstName\": \"Илья\",\r\n    \"LastName\": \"Гавриленко\",\r\n    \"YearOfBirth\": 2006,\r\n    \"Gender\": \"м\",\r\n    \"Club\": {\r\n        \"Name\": \"ГЦОР Трактор\",\r\n        \"City\": \"Минск\"\r\n    },\r\n    \"Category\": \"II\",\r\n    \"Coach\": [\r\n        {\"FirstName\": \"Алла\", \"LastName\": \"Усенок\"},\r\n        {\"FirstName\": \"Виталий\", \"LastName\": \"Барашевич\"}\r\n    ]\r\n} \r\n'\r\n\r\n--корректируем ошибку в фамилии тренера\r\nset @json = json_modify(@json, '$.Coach[1].LastName', N'Барташевич')   \r\n\r\n--добавляем дополнительный атрибут\r\nset @json = json_modify(@json, '$.Club.Address', N'Долгобродская улица, 37. ст.м. Тракторный Завод')   \r\n\r\n--добавляем дополнительный элемент в массив\r\nset @json = json_modify(\r\n                @json, \r\n                'append $.Coach', \r\n                json_query(N'{\"FirstName\": \"Наталья\", \"LastName\": \"Бученкова\"}', '$')\r\n            )   \r\n\r\nselect @json\r\n",
            "metadata": {},
            "outputs": [
                {
                    "output_type": "display_data",
                    "data": {
                        "text/html": "(1 row affected)"
                    },
                    "metadata": {}
                },
                {
                    "output_type": "display_data",
                    "data": {
                        "text/html": "Total execution time: 00:00:00.0081801"
                    },
                    "metadata": {}
                },
                {
                    "output_type": "execute_result",
                    "metadata": {},
                    "execution_count": 18,
                    "data": {
                        "application/vnd.dataresource+json": {
                            "schema": {
                                "fields": [
                                    {
                                        "name": "(No column name)"
                                    }
                                ]
                            },
                            "data": [
                                {
                                    "0": "\r\n{\r\n    \"FirstName\": \"Илья\",\r\n    \"LastName\": \"Гавриленко\",\r\n    \"YearOfBirth\": 2006,\r\n    \"Gender\": \"м\",\r\n    \"Club\": {\r\n        \"Name\": \"ГЦОР Трактор\",\r\n        \"City\": \"Минск\"\r\n    ,\"Address\":\"Долгобродская улица, 37. ст.м. Тракторный Завод\"},\r\n    \"Category\": \"II\",\r\n    \"Coach\": [\r\n        {\"FirstName\": \"Алла\", \"LastName\": \"Усенок\"},\r\n        {\"FirstName\": \"Виталий\", \"LastName\": \"Барташевич\"}\r\n    ,{\"FirstName\": \"Наталья\", \"LastName\": \"Бученкова\"}]\r\n} \r\n"
                                }
                            ]
                        },
                        "text/html": "<table><tr><th>(No column name)</th></tr><tr><td>\r\n{\r\n    &quot;FirstName&quot;: &quot;Илья&quot;,\r\n    &quot;LastName&quot;: &quot;Гавриленко&quot;,\r\n    &quot;YearOfBirth&quot;: 2006,\r\n    &quot;Gender&quot;: &quot;м&quot;,\r\n    &quot;Club&quot;: {\r\n        &quot;Name&quot;: &quot;ГЦОР Трактор&quot;,\r\n        &quot;City&quot;: &quot;Минск&quot;\r\n    ,&quot;Address&quot;:&quot;Долгобродская улица, 37. ст.м. Тракторный Завод&quot;},\r\n    &quot;Category&quot;: &quot;II&quot;,\r\n    &quot;Coach&quot;: [\r\n        {&quot;FirstName&quot;: &quot;Алла&quot;, &quot;LastName&quot;: &quot;Усенок&quot;},\r\n        {&quot;FirstName&quot;: &quot;Виталий&quot;, &quot;LastName&quot;: &quot;Барташевич&quot;}\r\n    ,{&quot;FirstName&quot;: &quot;Наталья&quot;, &quot;LastName&quot;: &quot;Бученкова&quot;}]\r\n} \r\n</td></tr></table>"
                    }
                }
            ],
            "execution_count": 18
        }
    ]
}