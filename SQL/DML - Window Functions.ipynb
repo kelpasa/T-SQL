{
    "metadata": {
        "kernelspec": {
            "name": "SQL",
            "display_name": "SQL",
            "language": "sql"
        },
        "language_info": {
            "name": "sql",
            "version": ""
        }
    },
    "nbformat_minor": 2,
    "nbformat": 4,
    "cells": [
        {
            "cell_type": "markdown",
            "source": "# Window-функции\r\n\r\nИспользуются для реорганизации и упрощения DML-запросов. Представляют собой \"локальные\" представления в рамках одного запроса.\r\n\r\nПозволяют:\r\n- разбить сложный запрос на логические, именованные блоки\r\n- обращаться многократно к себе по имени из разных частей запроса\r\n- организовывать рекурсивную обработку \r\n\r\nСинтаксис:\r\n\r\n````\r\nWITH  CTE_name [( column_name [ ,...n ] )]\r\nAS\r\n( \r\n    CTE_query_definition \r\n)\r\nDML_Query\r\n````\r\n\r\nВ качестве DML_Query может выступать запрос на основе любого из DML-операторов (SELECT, INSERT, DELETE, UPDATE, MERGE)\r\n\r\nПример вставки:\r\n",
            "metadata": {}
        },
        {
            "cell_type": "code",
            "source": "use SwimmingCompetitionOLTP\r\ngo\r\n\r\ndrop table if exists #PersonData\r\ngo\r\n\r\ncreate table #PersonData\r\n(\r\n    id          int             not null identity primary key,\r\n    FirstName   nvarchar(30)    not null, \r\n    LastName    nvarchar(30)    not null, \r\n    Birth       int             not null, \r\n    TeamCity    nvarchar(255) \r\n)\r\ngo\r\n\r\n--вставляем данные в CTE!\r\nwith CTE_PersonData (FirstName, LastName, Birth, TeamCity) \r\nas\r\n(\r\n    select p.first_name, p.last_name, p.birth_year, t.name + ' ' + t.city\r\n    from dbo.Person p\r\n    left join dbo.Person_Team_xref xref on p.person_id = xref.person_id\r\n    inner join dbo.Team t on xref.team_id = t.team_id\r\n)\r\ninsert into #PersonData (FirstName, LastName, Birth, TeamCity) \r\nselect FirstName, LastName, Birth, TeamCity from CTE_PersonData\r\ngo\r\n\r\nselect top 10 * from  #PersonData",
            "metadata": {},
            "outputs": [
                {
                    "output_type": "display_data",
                    "data": {
                        "text/html": "Commands completed successfully."
                    },
                    "metadata": {}
                },
                {
                    "output_type": "display_data",
                    "data": {
                        "text/html": "Total execution time: 00:00:00.0780516"
                    },
                    "metadata": {}
                },
                {
                    "output_type": "display_data",
                    "data": {
                        "text/html": "Commands completed successfully."
                    },
                    "metadata": {}
                },
                {
                    "output_type": "display_data",
                    "data": {
                        "text/html": "Total execution time: 00:00:00.0046077"
                    },
                    "metadata": {}
                },
                {
                    "output_type": "display_data",
                    "data": {
                        "text/html": "Commands completed successfully."
                    },
                    "metadata": {}
                },
                {
                    "output_type": "display_data",
                    "data": {
                        "text/html": "Total execution time: 00:00:00.0035448"
                    },
                    "metadata": {}
                },
                {
                    "output_type": "display_data",
                    "data": {
                        "text/html": "(1301 rows affected)"
                    },
                    "metadata": {}
                },
                {
                    "output_type": "display_data",
                    "data": {
                        "text/html": "Total execution time: 00:00:00.0193887"
                    },
                    "metadata": {}
                },
                {
                    "output_type": "display_data",
                    "data": {
                        "text/html": "(10 rows affected)"
                    },
                    "metadata": {}
                },
                {
                    "output_type": "display_data",
                    "data": {
                        "text/html": "Total execution time: 00:00:00.0879478"
                    },
                    "metadata": {}
                },
                {
                    "output_type": "execute_result",
                    "execution_count": 1,
                    "data": {
                        "application/vnd.dataresource+json": {
                            "schema": {
                                "fields": [
                                    {
                                        "name": "id"
                                    },
                                    {
                                        "name": "FirstName"
                                    },
                                    {
                                        "name": "LastName"
                                    },
                                    {
                                        "name": "Birth"
                                    },
                                    {
                                        "name": "TeamCity"
                                    }
                                ]
                            },
                            "data": [
                                {
                                    "0": "1",
                                    "1": "Adomas",
                                    "2": "BEPIRŠTIS",
                                    "3": "2004",
                                    "4": "Impuls PA Vilnius"
                                },
                                {
                                    "0": "2",
                                    "1": "Anastasiya",
                                    "2": "YERMISHYNA",
                                    "3": "2006",
                                    "4": "Dolphin KIEV"
                                },
                                {
                                    "0": "3",
                                    "1": "Anton",
                                    "2": "KOCHU",
                                    "3": "2005",
                                    "4": "Dolphin KIEV"
                                },
                                {
                                    "0": "4",
                                    "1": "Anton",
                                    "2": "VORONA",
                                    "3": "2003",
                                    "4": "Dolphin KIEV"
                                },
                                {
                                    "0": "5",
                                    "1": "Daniil",
                                    "2": "TKACHENKO",
                                    "3": "2007",
                                    "4": "Dolphin KIEV"
                                },
                                {
                                    "0": "6",
                                    "1": "Daryana",
                                    "2": "ZHEREBINA",
                                    "3": "2006",
                                    "4": "Dolphin KIEV"
                                },
                                {
                                    "0": "7",
                                    "1": "Dominykas",
                                    "2": "ŠNAIDERIS",
                                    "3": "2007",
                                    "4": "Impuls PA Vilnius"
                                },
                                {
                                    "0": "8",
                                    "1": "Elita",
                                    "2": "VAŠKEVIČIŪTĖ",
                                    "3": "2005",
                                    "4": "Impuls PA Vilnius"
                                },
                                {
                                    "0": "9",
                                    "1": "Emilija",
                                    "2": "STEPONĖNAITĖ",
                                    "3": "2004",
                                    "4": "Impuls PA Vilnius"
                                },
                                {
                                    "0": "10",
                                    "1": "Enrika",
                                    "2": "KRAKELYTĖ",
                                    "3": "2008",
                                    "4": "Impuls PA Vilnius"
                                }
                            ]
                        },
                        "text/html": "<table><tr><th>id</th><th>FirstName</th><th>LastName</th><th>Birth</th><th>TeamCity</th></tr><tr><td>1</td><td>Adomas</td><td>BEPIRŠTIS</td><td>2004</td><td>Impuls PA Vilnius</td></tr><tr><td>2</td><td>Anastasiya</td><td>YERMISHYNA</td><td>2006</td><td>Dolphin KIEV</td></tr><tr><td>3</td><td>Anton</td><td>KOCHU</td><td>2005</td><td>Dolphin KIEV</td></tr><tr><td>4</td><td>Anton</td><td>VORONA</td><td>2003</td><td>Dolphin KIEV</td></tr><tr><td>5</td><td>Daniil</td><td>TKACHENKO</td><td>2007</td><td>Dolphin KIEV</td></tr><tr><td>6</td><td>Daryana</td><td>ZHEREBINA</td><td>2006</td><td>Dolphin KIEV</td></tr><tr><td>7</td><td>Dominykas</td><td>ŠNAIDERIS</td><td>2007</td><td>Impuls PA Vilnius</td></tr><tr><td>8</td><td>Elita</td><td>VAŠKEVIČIŪTĖ</td><td>2005</td><td>Impuls PA Vilnius</td></tr><tr><td>9</td><td>Emilija</td><td>STEPONĖNAITĖ</td><td>2004</td><td>Impuls PA Vilnius</td></tr><tr><td>10</td><td>Enrika</td><td>KRAKELYTĖ</td><td>2008</td><td>Impuls PA Vilnius</td></tr></table>"
                    },
                    "metadata": {}
                }
            ],
            "execution_count": 1
        },
        {
            "cell_type": "markdown",
            "source": "Удаление из CTE:",
            "metadata": {}
        },
        {
            "cell_type": "code",
            "source": "use SwimmingCompetitionOLTP\r\ngo\r\n\r\ndrop table if exists #PersonData\r\ngo\r\n\r\ncreate table #PersonData\r\n(\r\n    id          int             not null identity primary key,\r\n    FirstName   nvarchar(30)    not null, \r\n    LastName    nvarchar(30)    not null, \r\n    Birth       int             not null\r\n)\r\ngo\r\n\r\ninsert into #PersonData (FirstName, LastName, Birth)\r\nvalues (N'Тимофей', N'Гавриленко', 1980),\r\n        (N'Ольга', N'Гавриленко', 1980),\r\n        (N'Илья', N'Гавриленко', 2006),\r\n        (N'Тимофей', N'Гавриленко', 2007),\r\n        (N'Анна', N'Гавриленко', 2009)\r\ngo\r\n\r\n--удаляем данные из CTE!\r\nwith CTE_PersonData\r\nas\r\n(\r\n    select 1 as fake_column\r\n    from #PersonData\r\n    where Birth < 2000\r\n)\r\ndelete from CTE_PersonData\r\ngo\r\n\r\nselect * from  #PersonData",
            "metadata": {},
            "outputs": [
                {
                    "output_type": "display_data",
                    "data": {
                        "text/html": "Commands completed successfully."
                    },
                    "metadata": {}
                },
                {
                    "output_type": "display_data",
                    "data": {
                        "text/html": "Total execution time: 00:00:00.0012788"
                    },
                    "metadata": {}
                },
                {
                    "output_type": "display_data",
                    "data": {
                        "text/html": "Commands completed successfully."
                    },
                    "metadata": {}
                },
                {
                    "output_type": "display_data",
                    "data": {
                        "text/html": "Total execution time: 00:00:00.0029835"
                    },
                    "metadata": {}
                },
                {
                    "output_type": "display_data",
                    "data": {
                        "text/html": "Commands completed successfully."
                    },
                    "metadata": {}
                },
                {
                    "output_type": "display_data",
                    "data": {
                        "text/html": "Total execution time: 00:00:00.0026751"
                    },
                    "metadata": {}
                },
                {
                    "output_type": "display_data",
                    "data": {
                        "text/html": "(5 rows affected)"
                    },
                    "metadata": {}
                },
                {
                    "output_type": "display_data",
                    "data": {
                        "text/html": "Total execution time: 00:00:00.0035935"
                    },
                    "metadata": {}
                },
                {
                    "output_type": "display_data",
                    "data": {
                        "text/html": "(2 rows affected)"
                    },
                    "metadata": {}
                },
                {
                    "output_type": "display_data",
                    "data": {
                        "text/html": "Total execution time: 00:00:00.0134116"
                    },
                    "metadata": {}
                },
                {
                    "output_type": "display_data",
                    "data": {
                        "text/html": "(3 rows affected)"
                    },
                    "metadata": {}
                },
                {
                    "output_type": "display_data",
                    "data": {
                        "text/html": "Total execution time: 00:00:00.0099417"
                    },
                    "metadata": {}
                },
                {
                    "output_type": "execute_result",
                    "execution_count": 2,
                    "data": {
                        "application/vnd.dataresource+json": {
                            "schema": {
                                "fields": [
                                    {
                                        "name": "id"
                                    },
                                    {
                                        "name": "FirstName"
                                    },
                                    {
                                        "name": "LastName"
                                    },
                                    {
                                        "name": "Birth"
                                    }
                                ]
                            },
                            "data": [
                                {
                                    "0": "3",
                                    "1": "Илья",
                                    "2": "Гавриленко",
                                    "3": "2006"
                                },
                                {
                                    "0": "4",
                                    "1": "Тимофей",
                                    "2": "Гавриленко",
                                    "3": "2007"
                                },
                                {
                                    "0": "5",
                                    "1": "Анна",
                                    "2": "Гавриленко",
                                    "3": "2009"
                                }
                            ]
                        },
                        "text/html": "<table><tr><th>id</th><th>FirstName</th><th>LastName</th><th>Birth</th></tr><tr><td>3</td><td>Илья</td><td>Гавриленко</td><td>2006</td></tr><tr><td>4</td><td>Тимофей</td><td>Гавриленко</td><td>2007</td></tr><tr><td>5</td><td>Анна</td><td>Гавриленко</td><td>2009</td></tr></table>"
                    },
                    "metadata": {}
                }
            ],
            "execution_count": 2
        },
        {
            "cell_type": "markdown",
            "source": "<h1>Рекурсивные CTE</h1><br>\r\nCTE, вызывающие сами себя.<br>\r\nСостоят из двух или более <i>SELECT</i>-ов: анкорной части (блока инициализации) и рекурсивной части, объединенных с помощью <i>UNION ALL</i>.<br><br><i>Анкорная часть</i> выполняется один раз, <i>рекурсивная часть</i> повторяется многократно.<br><br>На каждой итерации к набору записей, уже имеющихся в CTE, добавляются новые записи. Итерации продолжаются до тех пор, пока приращение строк (дельта) не будет пустым множеством.<br><br>При обращении к CTE в рекурсивной части идет обращение не ко всем имеющимся записям, а только к последнему добавленному приращению.<br>Т.е., n-ый шаг зависит от (n-1)-ого шага.",
            "metadata": {}
        },
        {
            "cell_type": "code",
            "source": "with CTE_Recursive\r\nas\r\n(\r\n    --анкорная часть\r\n    select 1 as n\r\n    union all\r\n    --рекурсивная часть\r\n    select n + 1 from CTE_Recursive where n + 1 <= 10\r\n)\r\nselect * from CTE_Recursive",
            "metadata": {},
            "outputs": [
                {
                    "output_type": "display_data",
                    "data": {
                        "text/html": "(10 rows affected)"
                    },
                    "metadata": {}
                },
                {
                    "output_type": "display_data",
                    "data": {
                        "text/html": "Total execution time: 00:00:00.0039511"
                    },
                    "metadata": {}
                },
                {
                    "output_type": "execute_result",
                    "execution_count": 4,
                    "data": {
                        "application/vnd.dataresource+json": {
                            "schema": {
                                "fields": [
                                    {
                                        "name": "n"
                                    }
                                ]
                            },
                            "data": [
                                {
                                    "0": "1"
                                },
                                {
                                    "0": "2"
                                },
                                {
                                    "0": "3"
                                },
                                {
                                    "0": "4"
                                },
                                {
                                    "0": "5"
                                },
                                {
                                    "0": "6"
                                },
                                {
                                    "0": "7"
                                },
                                {
                                    "0": "8"
                                },
                                {
                                    "0": "9"
                                },
                                {
                                    "0": "10"
                                }
                            ]
                        },
                        "text/html": "<table><tr><th>n</th></tr><tr><td>1</td></tr><tr><td>2</td></tr><tr><td>3</td></tr><tr><td>4</td></tr><tr><td>5</td></tr><tr><td>6</td></tr><tr><td>7</td></tr><tr><td>8</td></tr><tr><td>9</td></tr><tr><td>10</td></tr></table>"
                    },
                    "metadata": {}
                }
            ],
            "execution_count": 4
        },
        {
            "cell_type": "markdown",
            "source": "Глубина рекурсии по умолчанию не превосходит 100. В противном случае возникает исключение.<br>",
            "metadata": {}
        },
        {
            "cell_type": "code",
            "source": "with CTE_Recursive\r\nas\r\n(\r\n    select 1 as n\r\n    union all\r\n    --нет условия остановки рекурсии\r\n    select n + 1 from CTE_Recursive \r\n)\r\nselect * from CTE_Recursive",
            "metadata": {},
            "outputs": [],
            "execution_count": 7
        },
        {
            "cell_type": "markdown",
            "source": "Обойти это ограничение можно с помощью опции запроса <i>(MAXRECURSION n)</i>. При n=0 ограничение снимается полностью, но нужно быть внимательным, т.к. возможно падение сервера из-за нехватки памяти.",
            "metadata": {}
        },
        {
            "cell_type": "code",
            "source": "with CTE_Recursive\r\nas\r\n(\r\n    select 1 as n\r\n    union all\r\n    --нет условия остановки рекурсии\r\n    select n + 1 from CTE_Recursive where n + 1 <= 1000\r\n)\r\nselect * from CTE_Recursive\r\noption(MAXRECURSION 1000)",
            "metadata": {},
            "outputs": [],
            "execution_count": 8
        },
        {
            "cell_type": "markdown",
            "source": "<b>Примеры рекурсивных CTE</b>\r\n\r\nСписок букв английского алфавита:",
            "metadata": {}
        },
        {
            "cell_type": "code",
            "source": ";with CTE_Letters \r\nas(\r\n    select ascii('a') code, char(ascii('a')) letter\r\n    union all\r\n    select code + 1, char(code + 1) \r\n\tfrom CTE_Letters\r\n    where code + 1 <= ascii('z')\r\n)\r\nselect /*code,*/ letter from CTE_Letters",
            "metadata": {},
            "outputs": [
                {
                    "output_type": "display_data",
                    "data": {
                        "text/html": "(26 rows affected)"
                    },
                    "metadata": {}
                },
                {
                    "output_type": "display_data",
                    "data": {
                        "text/html": "Total execution time: 00:00:00.0269300"
                    },
                    "metadata": {}
                },
                {
                    "output_type": "execute_result",
                    "execution_count": 3,
                    "data": {
                        "application/vnd.dataresource+json": {
                            "schema": {
                                "fields": [
                                    {
                                        "name": "letter"
                                    }
                                ]
                            },
                            "data": [
                                {
                                    "0": "a"
                                },
                                {
                                    "0": "b"
                                },
                                {
                                    "0": "c"
                                },
                                {
                                    "0": "d"
                                },
                                {
                                    "0": "e"
                                },
                                {
                                    "0": "f"
                                },
                                {
                                    "0": "g"
                                },
                                {
                                    "0": "h"
                                },
                                {
                                    "0": "i"
                                },
                                {
                                    "0": "j"
                                },
                                {
                                    "0": "k"
                                },
                                {
                                    "0": "l"
                                },
                                {
                                    "0": "m"
                                },
                                {
                                    "0": "n"
                                },
                                {
                                    "0": "o"
                                },
                                {
                                    "0": "p"
                                },
                                {
                                    "0": "q"
                                },
                                {
                                    "0": "r"
                                },
                                {
                                    "0": "s"
                                },
                                {
                                    "0": "t"
                                },
                                {
                                    "0": "u"
                                },
                                {
                                    "0": "v"
                                },
                                {
                                    "0": "w"
                                },
                                {
                                    "0": "x"
                                },
                                {
                                    "0": "y"
                                },
                                {
                                    "0": "z"
                                }
                            ]
                        },
                        "text/html": "<table><tr><th>letter</th></tr><tr><td>a</td></tr><tr><td>b</td></tr><tr><td>c</td></tr><tr><td>d</td></tr><tr><td>e</td></tr><tr><td>f</td></tr><tr><td>g</td></tr><tr><td>h</td></tr><tr><td>i</td></tr><tr><td>j</td></tr><tr><td>k</td></tr><tr><td>l</td></tr><tr><td>m</td></tr><tr><td>n</td></tr><tr><td>o</td></tr><tr><td>p</td></tr><tr><td>q</td></tr><tr><td>r</td></tr><tr><td>s</td></tr><tr><td>t</td></tr><tr><td>u</td></tr><tr><td>v</td></tr><tr><td>w</td></tr><tr><td>x</td></tr><tr><td>y</td></tr><tr><td>z</td></tr></table>"
                    },
                    "metadata": {}
                }
            ],
            "execution_count": 3
        },
        {
            "cell_type": "markdown",
            "source": "Числа Фибоначчи до 1000:",
            "metadata": {}
        },
        {
            "cell_type": "code",
            "source": ";with Fibonacci(iter,a,b,c) \r\nas\r\n(\r\n select iter=1, a=1, b=1, c=1+1\r\n union all\r\n select iter+1, a=b, b=c, c=b+c\r\n from Fibonacci \r\n where b < 1000\r\n)\r\nselect 'Fibonacci(' + cast(iter as varchar) + ') = ' + cast(a as varchar) as [output]\r\nfrom Fibonacci",
            "metadata": {},
            "outputs": [
                {
                    "output_type": "display_data",
                    "data": {
                        "text/html": "(16 rows affected)"
                    },
                    "metadata": {}
                },
                {
                    "output_type": "display_data",
                    "data": {
                        "text/html": "Total execution time: 00:00:00.1286446"
                    },
                    "metadata": {}
                },
                {
                    "output_type": "execute_result",
                    "execution_count": 1,
                    "data": {
                        "application/vnd.dataresource+json": {
                            "schema": {
                                "fields": [
                                    {
                                        "name": "output"
                                    }
                                ]
                            },
                            "data": [
                                {
                                    "0": "Fibonacci(1) = 1"
                                },
                                {
                                    "0": "Fibonacci(2) = 1"
                                },
                                {
                                    "0": "Fibonacci(3) = 2"
                                },
                                {
                                    "0": "Fibonacci(4) = 3"
                                },
                                {
                                    "0": "Fibonacci(5) = 5"
                                },
                                {
                                    "0": "Fibonacci(6) = 8"
                                },
                                {
                                    "0": "Fibonacci(7) = 13"
                                },
                                {
                                    "0": "Fibonacci(8) = 21"
                                },
                                {
                                    "0": "Fibonacci(9) = 34"
                                },
                                {
                                    "0": "Fibonacci(10) = 55"
                                },
                                {
                                    "0": "Fibonacci(11) = 89"
                                },
                                {
                                    "0": "Fibonacci(12) = 144"
                                },
                                {
                                    "0": "Fibonacci(13) = 233"
                                },
                                {
                                    "0": "Fibonacci(14) = 377"
                                },
                                {
                                    "0": "Fibonacci(15) = 610"
                                },
                                {
                                    "0": "Fibonacci(16) = 987"
                                }
                            ]
                        },
                        "text/html": "<table><tr><th>output</th></tr><tr><td>Fibonacci(1) = 1</td></tr><tr><td>Fibonacci(2) = 1</td></tr><tr><td>Fibonacci(3) = 2</td></tr><tr><td>Fibonacci(4) = 3</td></tr><tr><td>Fibonacci(5) = 5</td></tr><tr><td>Fibonacci(6) = 8</td></tr><tr><td>Fibonacci(7) = 13</td></tr><tr><td>Fibonacci(8) = 21</td></tr><tr><td>Fibonacci(9) = 34</td></tr><tr><td>Fibonacci(10) = 55</td></tr><tr><td>Fibonacci(11) = 89</td></tr><tr><td>Fibonacci(12) = 144</td></tr><tr><td>Fibonacci(13) = 233</td></tr><tr><td>Fibonacci(14) = 377</td></tr><tr><td>Fibonacci(15) = 610</td></tr><tr><td>Fibonacci(16) = 987</td></tr></table>"
                    },
                    "metadata": {}
                }
            ],
            "execution_count": 1
        },
        {
            "cell_type": "markdown",
            "source": "Обход конём всей шахматной доски, побывав в каждой клетке по 1 разу:",
            "metadata": {}
        },
        {
            "cell_type": "code",
            "source": "with cte\r\nas\r\n(\r\n    select 1 as x, 1 as y, 0 as it, cast('-11' as varchar(max)) path\r\n\tunion all\r\n\tselect x+1, y+2, it+1, concat(path, '-', cast(x+1 as varchar), cast(y+2 as varchar) ) from cte where (x+1 between 1 and 8) and (y+2 between 1 and 8) and (charindex(concat('-', cast(x+1 as varchar), cast(y+2 as varchar) ), path) = 0) --and (it < 64)\r\n\tunion all\r\n\tselect x+2, y+1, it+1, concat(path, '-', cast(x+2 as varchar), cast(y+1 as varchar) ) from cte where (x+2 between 1 and 8) and (y+1 between 1 and 8) and (charindex(concat('-', cast(x+2 as varchar), cast(y+1 as varchar) ), path) = 0) --and (it < 64)\r\n\tunion all\r\n\tselect x+2, y-1, it+1, concat(path, '-', cast(x+2 as varchar), cast(y-1 as varchar) ) from cte where (x+2 between 1 and 8) and (y-1 between 1 and 8) and (charindex(concat('-', cast(x+2 as varchar), cast(y-1 as varchar) ), path) = 0) --and (it < 64)\r\n\tunion all\r\n\tselect x+1, y-2, it+1, concat(path, '-', cast(x+1 as varchar), cast(y-2 as varchar) ) from cte where (x+1 between 1 and 8) and (y-2 between 1 and 8) and (charindex(concat('-', cast(x+1 as varchar), cast(y-2 as varchar) ), path) = 0) --and (it < 64)\r\n\tunion all\r\n\tselect x-1, y-2, it+1, concat(path, '-', cast(x-1 as varchar), cast(y-2 as varchar) ) from cte where (x-1 between 1 and 8) and (y-2 between 1 and 8) and (charindex(concat('-', cast(x-1 as varchar), cast(y-2 as varchar) ), path) = 0) --and (it < 64)\r\n\tunion all\r\n\tselect x-2, y-1, it+1, concat(path, '-', cast(x-2 as varchar), cast(y-1 as varchar) ) from cte where (x-2 between 1 and 8) and (y-1 between 1 and 8) and (charindex(concat('-', cast(x-2 as varchar), cast(y-1 as varchar) ), path) = 0) --and (it < 64)\r\n\tunion all\r\n\tselect x-2, y+1, it+1, concat(path, '-', cast(x-2 as varchar), cast(y+1 as varchar) ) from cte where (x-2 between 1 and 8) and (y+1 between 1 and 8) and (charindex(concat('-', cast(x-2 as varchar), cast(y+1 as varchar) ), path) = 0) --and (it < 64)\r\n\tunion all\r\n\tselect x-1, y+2, it+1, concat(path, '-', cast(x-1 as varchar), cast(y+2 as varchar) ) from cte where (x-1 between 1 and 8) and (y+2 between 1 and 8) and (charindex(concat('-', cast(x-1 as varchar), cast(y+2 as varchar) ), path) = 0) --and (it < 64)\r\n)\r\nselect top 1 * from cte\r\nwhere it = 63",
            "metadata": {},
            "outputs": [
                {
                    "output_type": "display_data",
                    "data": {
                        "text/html": "(1 row affected)"
                    },
                    "metadata": {}
                },
                {
                    "output_type": "display_data",
                    "data": {
                        "text/html": "Total execution time: 00:58:49.1435336"
                    },
                    "metadata": {}
                },
                {
                    "output_type": "execute_result",
                    "execution_count": 1,
                    "data": {
                        "application/vnd.dataresource+json": {
                            "schema": {
                                "fields": [
                                    {
                                        "name": "x"
                                    },
                                    {
                                        "name": "y"
                                    },
                                    {
                                        "name": "it"
                                    },
                                    {
                                        "name": "path"
                                    }
                                ]
                            },
                            "data": [
                                {
                                    "0": "1",
                                    "1": "4",
                                    "2": "63",
                                    "3": "-11-32-24-16-35-27-15-23-31-12-33-25-17-36-28-47-26-18-37-45-53-34-13-21-42-61-82-74-66-58-46-38-57-78-86-65-84-72-51-43-55-63-44-52-71-83-64-85-77-56-48-67-88-76-68-87-75-54-73-81-62-41-22-14"
                                }
                            ]
                        },
                        "text/html": "<table><tr><th>x</th><th>y</th><th>it</th><th>path</th></tr><tr><td>1</td><td>4</td><td>63</td><td>-11-32-24-16-35-27-15-23-31-12-33-25-17-36-28-47-26-18-37-45-53-34-13-21-42-61-82-74-66-58-46-38-57-78-86-65-84-72-51-43-55-63-44-52-71-83-64-85-77-56-48-67-88-76-68-87-75-54-73-81-62-41-22-14</td></tr></table>"
                    },
                    "metadata": {}
                }
            ],
            "execution_count": 1
        },
        {
            "cell_type": "markdown",
            "source": "Процедура для нахождения кратчайшего пути конем из точки (x0, y0) в точку (xn, yn):",
            "metadata": {}
        },
        {
            "cell_type": "code",
            "source": "create or alter procedure usp_getOptimalPath(@x0 tinyint, @y0 tinyint, @xn tinyint, @yn tinyint)\r\nas\r\nbegin\r\n\t;with cte\r\n\tas\r\n\t(\r\n\t\tselect @x0 as x, @y0 as y, cast(0 as tinyint) as it, cast(('-'+cast(@x0 as varchar)+cast(@y0 as varchar)) as varchar(max)) path\r\n\t\tunion all\r\n\t\tselect cast(x+1 as tinyint), cast(y+2 as tinyint), cast(it+1 as tinyint), cast(concat(path, '-', cast(x+1 as varchar), cast(y+2 as varchar)) as varchar(max)) from cte where (x+1 between 1 and 8) and (y+2 between 1 and 8) and (charindex(concat('-', cast(x+1 as varchar), cast(y+2 as varchar) ), path) = 0) and (it < 6)\r\n\t\tunion all\r\n\t\tselect cast(x+2 as tinyint), cast(y+1 as tinyint), cast(it+1 as tinyint), cast(concat(path, '-', cast(x+2 as varchar), cast(y+1 as varchar)) as varchar(max)) from cte where (x+2 between 1 and 8) and (y+1 between 1 and 8) and (charindex(concat('-', cast(x+2 as varchar), cast(y+1 as varchar) ), path) = 0) and (it < 6)\r\n\t\tunion all\r\n\t\tselect cast(x+2 as tinyint), cast(y-1 as tinyint), cast(it+1 as tinyint), cast(concat(path, '-', cast(x+2 as varchar), cast(y-1 as varchar)) as varchar(max)) from cte where (x+2 between 1 and 8) and (y-1 between 1 and 8) and (charindex(concat('-', cast(x+2 as varchar), cast(y-1 as varchar) ), path) = 0) and (it < 6)\r\n\t\tunion all\r\n\t\tselect cast(x+1 as tinyint), cast(y-2 as tinyint), cast(it+1 as tinyint), cast(concat(path, '-', cast(x+1 as varchar), cast(y-2 as varchar)) as varchar(max)) from cte where (x+1 between 1 and 8) and (y-2 between 1 and 8) and (charindex(concat('-', cast(x+1 as varchar), cast(y-2 as varchar) ), path) = 0) and (it < 6)\r\n\t\tunion all\r\n\t\tselect cast(x-1 as tinyint), cast(y-2 as tinyint), cast(it+1 as tinyint), cast(concat(path, '-', cast(x-1 as varchar), cast(y-2 as varchar)) as varchar(max)) from cte where (x-1 between 1 and 8) and (y-2 between 1 and 8) and (charindex(concat('-', cast(x-1 as varchar), cast(y-2 as varchar) ), path) = 0) and (it < 6)\r\n\t\tunion all\r\n\t\tselect cast(x-2 as tinyint), cast(y-1 as tinyint), cast(it+1 as tinyint), cast(concat(path, '-', cast(x-2 as varchar), cast(y-1 as varchar)) as varchar(max)) from cte where (x-2 between 1 and 8) and (y-1 between 1 and 8) and (charindex(concat('-', cast(x-2 as varchar), cast(y-1 as varchar) ), path) = 0) and (it < 6)\r\n\t\tunion all\r\n\t\tselect cast(x-2 as tinyint), cast(y+1 as tinyint), cast(it+1 as tinyint), cast(concat(path, '-', cast(x-2 as varchar), cast(y+1 as varchar)) as varchar(max)) from cte where (x-2 between 1 and 8) and (y+1 between 1 and 8) and (charindex(concat('-', cast(x-2 as varchar), cast(y+1 as varchar) ), path) = 0) and (it < 6)\r\n\t\tunion all\r\n\t\tselect cast(x-1 as tinyint), cast(y+2 as tinyint), cast(it+1 as tinyint), cast(concat(path, '-', cast(x-1 as varchar), cast(y+2 as varchar)) as varchar(max)) from cte where (x-1 between 1 and 8) and (y+2 between 1 and 8) and (charindex(concat('-', cast(x-1 as varchar), cast(y+2 as varchar) ), path) = 0) and (it < 6)\r\n\t),\r\n\tcte_with_rn\r\n\tas\r\n\t(\r\n\t\tselect *, row_number() over(order by len(path)) rn\r\n\t\tfrom cte\r\n\t\twhere x=@xn and y=@yn\r\n\t)\r\n\tselect * from cte_with_rn\r\n\twhere rn = 1\r\nend\r\ngo\r\n\r\nexec usp_getOptimalPath 4, 4, 5, 5",
            "metadata": {},
            "outputs": [
                {
                    "output_type": "display_data",
                    "data": {
                        "text/html": "Commands completed successfully."
                    },
                    "metadata": {}
                },
                {
                    "output_type": "display_data",
                    "data": {
                        "text/html": "Total execution time: 00:00:00.0059261"
                    },
                    "metadata": {}
                },
                {
                    "output_type": "display_data",
                    "data": {
                        "text/html": "(1 row affected)"
                    },
                    "metadata": {}
                },
                {
                    "output_type": "display_data",
                    "data": {
                        "text/html": "Total execution time: 00:00:01.2464618"
                    },
                    "metadata": {}
                },
                {
                    "output_type": "execute_result",
                    "execution_count": 1,
                    "data": {
                        "application/vnd.dataresource+json": {
                            "schema": {
                                "fields": [
                                    {
                                        "name": "x"
                                    },
                                    {
                                        "name": "y"
                                    },
                                    {
                                        "name": "it"
                                    },
                                    {
                                        "name": "path"
                                    },
                                    {
                                        "name": "rn"
                                    }
                                ]
                            },
                            "data": [
                                {
                                    "0": "5",
                                    "1": "5",
                                    "2": "2",
                                    "3": "-44-36-55",
                                    "4": "1"
                                }
                            ]
                        },
                        "text/html": "<table><tr><th>x</th><th>y</th><th>it</th><th>path</th><th>rn</th></tr><tr><td>5</td><td>5</td><td>2</td><td>-44-36-55</td><td>1</td></tr></table>"
                    },
                    "metadata": {}
                }
            ],
            "execution_count": 1
        }
    ]
}