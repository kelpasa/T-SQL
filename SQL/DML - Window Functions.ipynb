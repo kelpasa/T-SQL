{
    "metadata": {
        "kernelspec": {
            "name": "SQL",
            "display_name": "SQL",
            "language": "sql"
        },
        "language_info": {
            "name": "sql",
            "version": ""
        }
    },
    "nbformat_minor": 2,
    "nbformat": 4,
    "cells": [
        {
            "cell_type": "markdown",
            "source": "# Window-функции и инструкция OVER\r\n\r\n_Инструкция OVER_ определяет окно или набор строк внутри результирующего набора запроса. \r\n\r\n_Оконная функция_ вычисляет значение для каждой строки в окне.\r\n\r\n_OVER_ можно использовать вместе с оконными функциями для вычисления статистических значений (например, для вычисления скользящих средних, суммарных статистических выражений, промежуточных итогов или первых N результатов в группе).\r\n\r\nОконные функции можно разделить на следующие группы:\r\n\r\n - Ранжирующие функции\r\n\r\n - Агрегатные функции\r\n\r\n - Аналитические функции",
            "metadata": {}
        },
        {
            "cell_type": "markdown",
            "source": "**Синтаксис**:\r\n\r\nhttps://docs.microsoft.com/ru-RU/sql/t-sql/queries/select-over-clause-transact-sql?view=aps-pdw-2016\r\n",
            "metadata": {}
        },
        {
            "cell_type": "markdown",
            "source": "В одном запросе с одним предложением _FROM_ может использоваться несколько оконных функций. Предложение _OVER_ для каждой функции может отличаться в части секционирования и упорядочения.\r\n\r\nЕсли _PARTITION BY_ не указан, функция обрабатывает все строки результирующего набора запроса как одну группу.",
            "metadata": {}
        },
        {
            "cell_type": "markdown",
            "source": "**Ранжирующие функции**\r\n\r\n - ROW_NUMBER\r\n - RANK\r\n - DENSE_RANK\r\n - NTILE\r\n\r\n Пример:",
            "metadata": {}
        },
        {
            "cell_type": "code",
            "source": "-- насетапим данные\r\ndrop table if exists #table\r\n\r\ncreate table #table\r\n(\r\n\tfirstname varchar(20) not null,\r\n\tlastname varchar(20) not null,\r\n\tbirthdate date not null,\r\n\tloaddate datetime not null default (getdate())\r\n)\r\ngo\r\n\r\ninsert into #table (firstname, lastname, birthdate)\r\nvalues ('Timofey', 'Gavrilenko', '1980-04-12'),\r\n\t   ('Olga', 'Gavrilenko', '1980-02-08'),\r\n\t   ('Elena', 'Bykova', '1981-10-09')\r\n\r\ninsert into #table (firstname, lastname, birthdate)\r\nvalues ('Olga', 'Gavrilenko', '1980-02-08'),\r\n\t   ('Elena', 'Bykova', '1981-10-09'),\r\n       ('Vitaliy', 'Bykov', '1980-03-12')\r\n\r\ninsert into #table (firstname, lastname, birthdate)\r\nvalues ('Ilya', 'Gavrilenko', '2006-06-20'),\r\n\t   ('Timofey', 'Gavrilenko', '2007-10-20'),\r\n       ('Anna', 'Gavrilenko', '2009-11-11'),\r\n       ('Daria', 'Bykova', '2005-12-25'),\r\n       ('Ksenia', 'Bykova', '2010-01-07')\r\n\r\nselect * from #table      \r\n",
            "metadata": {},
            "outputs": [
                {
                    "output_type": "display_data",
                    "data": {
                        "text/html": "(3 rows affected)"
                    },
                    "metadata": {}
                },
                {
                    "output_type": "display_data",
                    "data": {
                        "text/html": "(3 rows affected)"
                    },
                    "metadata": {}
                },
                {
                    "output_type": "display_data",
                    "data": {
                        "text/html": "(5 rows affected)"
                    },
                    "metadata": {}
                },
                {
                    "output_type": "display_data",
                    "data": {
                        "text/html": "(11 rows affected)"
                    },
                    "metadata": {}
                },
                {
                    "output_type": "display_data",
                    "data": {
                        "text/html": "Total execution time: 00:00:00.0112343"
                    },
                    "metadata": {}
                },
                {
                    "output_type": "execute_result",
                    "metadata": {},
                    "execution_count": 1,
                    "data": {
                        "application/vnd.dataresource+json": {
                            "schema": {
                                "fields": [
                                    {
                                        "name": "firstname"
                                    },
                                    {
                                        "name": "lastname"
                                    },
                                    {
                                        "name": "birthdate"
                                    },
                                    {
                                        "name": "loaddate"
                                    }
                                ]
                            },
                            "data": [
                                {
                                    "0": "Timofey",
                                    "1": "Gavrilenko",
                                    "2": "1980-04-12",
                                    "3": "2019-06-06 13:12:39.353"
                                },
                                {
                                    "0": "Olga",
                                    "1": "Gavrilenko",
                                    "2": "1980-02-08",
                                    "3": "2019-06-06 13:12:39.353"
                                },
                                {
                                    "0": "Elena",
                                    "1": "Bykova",
                                    "2": "1981-10-09",
                                    "3": "2019-06-06 13:12:39.353"
                                },
                                {
                                    "0": "Olga",
                                    "1": "Gavrilenko",
                                    "2": "1980-02-08",
                                    "3": "2019-06-06 13:12:39.353"
                                },
                                {
                                    "0": "Elena",
                                    "1": "Bykova",
                                    "2": "1981-10-09",
                                    "3": "2019-06-06 13:12:39.353"
                                },
                                {
                                    "0": "Vitaliy",
                                    "1": "Bykov",
                                    "2": "1980-03-12",
                                    "3": "2019-06-06 13:12:39.353"
                                },
                                {
                                    "0": "Ilya",
                                    "1": "Gavrilenko",
                                    "2": "2006-06-20",
                                    "3": "2019-06-06 13:12:39.353"
                                },
                                {
                                    "0": "Timofey",
                                    "1": "Gavrilenko",
                                    "2": "2007-10-20",
                                    "3": "2019-06-06 13:12:39.353"
                                },
                                {
                                    "0": "Anna",
                                    "1": "Gavrilenko",
                                    "2": "2009-11-11",
                                    "3": "2019-06-06 13:12:39.353"
                                },
                                {
                                    "0": "Daria",
                                    "1": "Bykova",
                                    "2": "2005-12-25",
                                    "3": "2019-06-06 13:12:39.353"
                                },
                                {
                                    "0": "Ksenia",
                                    "1": "Bykova",
                                    "2": "2010-01-07",
                                    "3": "2019-06-06 13:12:39.353"
                                }
                            ]
                        },
                        "text/html": "<table><tr><th>firstname</th><th>lastname</th><th>birthdate</th><th>loaddate</th></tr><tr><td>Timofey</td><td>Gavrilenko</td><td>1980-04-12</td><td>2019-06-06 13:12:39.353</td></tr><tr><td>Olga</td><td>Gavrilenko</td><td>1980-02-08</td><td>2019-06-06 13:12:39.353</td></tr><tr><td>Elena</td><td>Bykova</td><td>1981-10-09</td><td>2019-06-06 13:12:39.353</td></tr><tr><td>Olga</td><td>Gavrilenko</td><td>1980-02-08</td><td>2019-06-06 13:12:39.353</td></tr><tr><td>Elena</td><td>Bykova</td><td>1981-10-09</td><td>2019-06-06 13:12:39.353</td></tr><tr><td>Vitaliy</td><td>Bykov</td><td>1980-03-12</td><td>2019-06-06 13:12:39.353</td></tr><tr><td>Ilya</td><td>Gavrilenko</td><td>2006-06-20</td><td>2019-06-06 13:12:39.353</td></tr><tr><td>Timofey</td><td>Gavrilenko</td><td>2007-10-20</td><td>2019-06-06 13:12:39.353</td></tr><tr><td>Anna</td><td>Gavrilenko</td><td>2009-11-11</td><td>2019-06-06 13:12:39.353</td></tr><tr><td>Daria</td><td>Bykova</td><td>2005-12-25</td><td>2019-06-06 13:12:39.353</td></tr><tr><td>Ksenia</td><td>Bykova</td><td>2010-01-07</td><td>2019-06-06 13:12:39.353</td></tr></table>"
                    }
                }
            ],
            "execution_count": 1
        },
        {
            "cell_type": "code",
            "source": "-- Расставим людей по их возрасту\r\nselect *,\r\n       DENSE_RANK() over(order by DATEDIFF(day, birthdate, GETDATE())) rn\r\nfrom #table\r\n",
            "metadata": {},
            "outputs": [
                {
                    "output_type": "display_data",
                    "data": {
                        "text/html": "(11 rows affected)"
                    },
                    "metadata": {}
                },
                {
                    "output_type": "display_data",
                    "data": {
                        "text/html": "Total execution time: 00:00:00.0067381"
                    },
                    "metadata": {}
                },
                {
                    "output_type": "execute_result",
                    "metadata": {},
                    "execution_count": 4,
                    "data": {
                        "application/vnd.dataresource+json": {
                            "schema": {
                                "fields": [
                                    {
                                        "name": "firstname"
                                    },
                                    {
                                        "name": "lastname"
                                    },
                                    {
                                        "name": "birthdate"
                                    },
                                    {
                                        "name": "loaddate"
                                    },
                                    {
                                        "name": "rn"
                                    }
                                ]
                            },
                            "data": [
                                {
                                    "0": "Ksenia",
                                    "1": "Bykova",
                                    "2": "2010-01-07",
                                    "3": "2019-06-06 13:12:39.353",
                                    "4": "1"
                                },
                                {
                                    "0": "Anna",
                                    "1": "Gavrilenko",
                                    "2": "2009-11-11",
                                    "3": "2019-06-06 13:12:39.353",
                                    "4": "2"
                                },
                                {
                                    "0": "Timofey",
                                    "1": "Gavrilenko",
                                    "2": "2007-10-20",
                                    "3": "2019-06-06 13:12:39.353",
                                    "4": "3"
                                },
                                {
                                    "0": "Ilya",
                                    "1": "Gavrilenko",
                                    "2": "2006-06-20",
                                    "3": "2019-06-06 13:12:39.353",
                                    "4": "4"
                                },
                                {
                                    "0": "Daria",
                                    "1": "Bykova",
                                    "2": "2005-12-25",
                                    "3": "2019-06-06 13:12:39.353",
                                    "4": "5"
                                },
                                {
                                    "0": "Elena",
                                    "1": "Bykova",
                                    "2": "1981-10-09",
                                    "3": "2019-06-06 13:12:39.353",
                                    "4": "6"
                                },
                                {
                                    "0": "Elena",
                                    "1": "Bykova",
                                    "2": "1981-10-09",
                                    "3": "2019-06-06 13:12:39.353",
                                    "4": "6"
                                },
                                {
                                    "0": "Timofey",
                                    "1": "Gavrilenko",
                                    "2": "1980-04-12",
                                    "3": "2019-06-06 13:12:39.353",
                                    "4": "7"
                                },
                                {
                                    "0": "Vitaliy",
                                    "1": "Bykov",
                                    "2": "1980-03-12",
                                    "3": "2019-06-06 13:12:39.353",
                                    "4": "8"
                                },
                                {
                                    "0": "Olga",
                                    "1": "Gavrilenko",
                                    "2": "1980-02-08",
                                    "3": "2019-06-06 13:12:39.353",
                                    "4": "9"
                                },
                                {
                                    "0": "Olga",
                                    "1": "Gavrilenko",
                                    "2": "1980-02-08",
                                    "3": "2019-06-06 13:12:39.353",
                                    "4": "9"
                                }
                            ]
                        },
                        "text/html": "<table><tr><th>firstname</th><th>lastname</th><th>birthdate</th><th>loaddate</th><th>rn</th></tr><tr><td>Ksenia</td><td>Bykova</td><td>2010-01-07</td><td>2019-06-06 13:12:39.353</td><td>1</td></tr><tr><td>Anna</td><td>Gavrilenko</td><td>2009-11-11</td><td>2019-06-06 13:12:39.353</td><td>2</td></tr><tr><td>Timofey</td><td>Gavrilenko</td><td>2007-10-20</td><td>2019-06-06 13:12:39.353</td><td>3</td></tr><tr><td>Ilya</td><td>Gavrilenko</td><td>2006-06-20</td><td>2019-06-06 13:12:39.353</td><td>4</td></tr><tr><td>Daria</td><td>Bykova</td><td>2005-12-25</td><td>2019-06-06 13:12:39.353</td><td>5</td></tr><tr><td>Elena</td><td>Bykova</td><td>1981-10-09</td><td>2019-06-06 13:12:39.353</td><td>6</td></tr><tr><td>Elena</td><td>Bykova</td><td>1981-10-09</td><td>2019-06-06 13:12:39.353</td><td>6</td></tr><tr><td>Timofey</td><td>Gavrilenko</td><td>1980-04-12</td><td>2019-06-06 13:12:39.353</td><td>7</td></tr><tr><td>Vitaliy</td><td>Bykov</td><td>1980-03-12</td><td>2019-06-06 13:12:39.353</td><td>8</td></tr><tr><td>Olga</td><td>Gavrilenko</td><td>1980-02-08</td><td>2019-06-06 13:12:39.353</td><td>9</td></tr><tr><td>Olga</td><td>Gavrilenko</td><td>1980-02-08</td><td>2019-06-06 13:12:39.353</td><td>9</td></tr></table>"
                    }
                }
            ],
            "execution_count": 4
        },
        {
            "cell_type": "markdown",
            "source": "В результате прошлого запроса есть дубли. Попробуем их исключить",
            "metadata": {}
        },
        {
            "cell_type": "code",
            "source": "-- Расставим людей по их возрасту\r\n;with cte_group_and_enumerate\r\nas\r\n(\r\n    select *,\r\n       ROW_NUMBER() over(\r\n                         partition by firstname, lastname, birthdate\r\n                         order by loaddate\r\n                        ) rn\r\n    from #table\r\n),\r\ncte_deduplicate_and_renumerate\r\nas\r\n(\r\n    select firstname, lastname, birthdate, loaddate\r\n    from cte_group_and_enumerate\r\n    where rn = 1\r\n)\r\nselect *,\r\n       ROW_NUMBER() over(\r\n                         order by DATEDIFF(day, birthdate, GETDATE())\r\n                        ) rn\r\nfrom cte_deduplicate_and_renumerate",
            "metadata": {},
            "outputs": [
                {
                    "output_type": "display_data",
                    "data": {
                        "text/html": "(9 rows affected)"
                    },
                    "metadata": {}
                },
                {
                    "output_type": "display_data",
                    "data": {
                        "text/html": "Total execution time: 00:00:00.0059847"
                    },
                    "metadata": {}
                },
                {
                    "output_type": "execute_result",
                    "execution_count": 27,
                    "data": {
                        "application/vnd.dataresource+json": {
                            "schema": {
                                "fields": [
                                    {
                                        "name": "firstname"
                                    },
                                    {
                                        "name": "lastname"
                                    },
                                    {
                                        "name": "birthdate"
                                    },
                                    {
                                        "name": "loaddate"
                                    },
                                    {
                                        "name": "rn"
                                    }
                                ]
                            },
                            "data": [
                                {
                                    "0": "Ksenia",
                                    "1": "Bykova",
                                    "2": "2010-01-07",
                                    "3": "2019-06-06 10:59:40.590",
                                    "4": "1"
                                },
                                {
                                    "0": "Anna",
                                    "1": "Gavrilenko",
                                    "2": "2009-11-11",
                                    "3": "2019-06-06 10:59:40.590",
                                    "4": "2"
                                },
                                {
                                    "0": "Timofey",
                                    "1": "Gavrilenko",
                                    "2": "2007-10-20",
                                    "3": "2019-06-06 10:59:40.590",
                                    "4": "3"
                                },
                                {
                                    "0": "Ilya",
                                    "1": "Gavrilenko",
                                    "2": "2006-06-20",
                                    "3": "2019-06-06 10:59:40.590",
                                    "4": "4"
                                },
                                {
                                    "0": "Daria",
                                    "1": "Bykova",
                                    "2": "2005-12-25",
                                    "3": "2019-06-06 10:59:40.590",
                                    "4": "5"
                                },
                                {
                                    "0": "Elena",
                                    "1": "Bykova",
                                    "2": "1981-10-09",
                                    "3": "2019-06-06 10:59:40.590",
                                    "4": "6"
                                },
                                {
                                    "0": "Timofey",
                                    "1": "Gavrilenko",
                                    "2": "1980-04-12",
                                    "3": "2019-06-06 10:59:40.590",
                                    "4": "7"
                                },
                                {
                                    "0": "Vitaliy",
                                    "1": "Bykov",
                                    "2": "1980-03-12",
                                    "3": "2019-06-06 10:59:40.590",
                                    "4": "8"
                                },
                                {
                                    "0": "Olga",
                                    "1": "Gavrilenko",
                                    "2": "1980-02-08",
                                    "3": "2019-06-06 10:59:40.590",
                                    "4": "9"
                                }
                            ]
                        },
                        "text/html": "<table><tr><th>firstname</th><th>lastname</th><th>birthdate</th><th>loaddate</th><th>rn</th></tr><tr><td>Ksenia</td><td>Bykova</td><td>2010-01-07</td><td>2019-06-06 10:59:40.590</td><td>1</td></tr><tr><td>Anna</td><td>Gavrilenko</td><td>2009-11-11</td><td>2019-06-06 10:59:40.590</td><td>2</td></tr><tr><td>Timofey</td><td>Gavrilenko</td><td>2007-10-20</td><td>2019-06-06 10:59:40.590</td><td>3</td></tr><tr><td>Ilya</td><td>Gavrilenko</td><td>2006-06-20</td><td>2019-06-06 10:59:40.590</td><td>4</td></tr><tr><td>Daria</td><td>Bykova</td><td>2005-12-25</td><td>2019-06-06 10:59:40.590</td><td>5</td></tr><tr><td>Elena</td><td>Bykova</td><td>1981-10-09</td><td>2019-06-06 10:59:40.590</td><td>6</td></tr><tr><td>Timofey</td><td>Gavrilenko</td><td>1980-04-12</td><td>2019-06-06 10:59:40.590</td><td>7</td></tr><tr><td>Vitaliy</td><td>Bykov</td><td>1980-03-12</td><td>2019-06-06 10:59:40.590</td><td>8</td></tr><tr><td>Olga</td><td>Gavrilenko</td><td>1980-02-08</td><td>2019-06-06 10:59:40.590</td><td>9</td></tr></table>"
                    },
                    "metadata": {}
                }
            ],
            "execution_count": 27
        },
        {
            "cell_type": "markdown",
            "source": "Члены двух семей перемешались. Пронумеруем записи в пределах семьи\r\n",
            "metadata": {}
        },
        {
            "cell_type": "code",
            "source": "-- Расставим людей по их возрасту в пределах семьи. Результат сохраним во временной таблице\r\ndrop table if exists #table1\r\n\r\n;with cte_group_and_enumerate\r\nas\r\n(\r\n    select *,\r\n       ROW_NUMBER() over(\r\n                         partition by firstname, lastname, birthdate\r\n                         order by loaddate\r\n                        ) rn\r\n    from #table\r\n),\r\ncte_deduplicate_and_renumerate\r\nas\r\n(\r\n    select firstname, lastname, birthdate, loaddate\r\n    from cte_group_and_enumerate\r\n    where rn = 1\r\n)\r\nselect *,\r\n       ROW_NUMBER() over(\r\n                         partition by LEFT(lastname, 5)              -- не самый лучший вариант разделения на группы\r\n                         order by DATEDIFF(day, birthdate, GETDATE())\r\n                        ) rn,\r\n\r\n       into #table1\r\nfrom cte_deduplicate_and_renumerate\r\n\r\nselect * from #table1",
            "metadata": {},
            "outputs": [
                {
                    "output_type": "display_data",
                    "data": {
                        "text/html": "(9 rows affected)"
                    },
                    "metadata": {}
                },
                {
                    "output_type": "display_data",
                    "data": {
                        "text/html": "(9 rows affected)"
                    },
                    "metadata": {}
                },
                {
                    "output_type": "display_data",
                    "data": {
                        "text/html": "Total execution time: 00:00:00.0136428"
                    },
                    "metadata": {}
                },
                {
                    "output_type": "execute_result",
                    "execution_count": 4,
                    "data": {
                        "application/vnd.dataresource+json": {
                            "schema": {
                                "fields": [
                                    {
                                        "name": "firstname"
                                    },
                                    {
                                        "name": "lastname"
                                    },
                                    {
                                        "name": "birthdate"
                                    },
                                    {
                                        "name": "loaddate"
                                    },
                                    {
                                        "name": "rn"
                                    }
                                ]
                            },
                            "data": [
                                {
                                    "0": "Ksenia",
                                    "1": "Bykova",
                                    "2": "2010-01-07",
                                    "3": "2019-06-06 12:22:39.463",
                                    "4": "1"
                                },
                                {
                                    "0": "Daria",
                                    "1": "Bykova",
                                    "2": "2005-12-25",
                                    "3": "2019-06-06 12:22:39.463",
                                    "4": "2"
                                },
                                {
                                    "0": "Elena",
                                    "1": "Bykova",
                                    "2": "1981-10-09",
                                    "3": "2019-06-06 12:22:39.463",
                                    "4": "3"
                                },
                                {
                                    "0": "Vitaliy",
                                    "1": "Bykov",
                                    "2": "1980-03-12",
                                    "3": "2019-06-06 12:22:39.463",
                                    "4": "4"
                                },
                                {
                                    "0": "Anna",
                                    "1": "Gavrilenko",
                                    "2": "2009-11-11",
                                    "3": "2019-06-06 12:22:39.463",
                                    "4": "1"
                                },
                                {
                                    "0": "Timofey",
                                    "1": "Gavrilenko",
                                    "2": "2007-10-20",
                                    "3": "2019-06-06 12:22:39.463",
                                    "4": "2"
                                },
                                {
                                    "0": "Ilya",
                                    "1": "Gavrilenko",
                                    "2": "2006-06-20",
                                    "3": "2019-06-06 12:22:39.463",
                                    "4": "3"
                                },
                                {
                                    "0": "Timofey",
                                    "1": "Gavrilenko",
                                    "2": "1980-04-12",
                                    "3": "2019-06-06 12:22:39.463",
                                    "4": "4"
                                },
                                {
                                    "0": "Olga",
                                    "1": "Gavrilenko",
                                    "2": "1980-02-08",
                                    "3": "2019-06-06 12:22:39.463",
                                    "4": "5"
                                }
                            ]
                        },
                        "text/html": "<table><tr><th>firstname</th><th>lastname</th><th>birthdate</th><th>loaddate</th><th>rn</th></tr><tr><td>Ksenia</td><td>Bykova</td><td>2010-01-07</td><td>2019-06-06 12:22:39.463</td><td>1</td></tr><tr><td>Daria</td><td>Bykova</td><td>2005-12-25</td><td>2019-06-06 12:22:39.463</td><td>2</td></tr><tr><td>Elena</td><td>Bykova</td><td>1981-10-09</td><td>2019-06-06 12:22:39.463</td><td>3</td></tr><tr><td>Vitaliy</td><td>Bykov</td><td>1980-03-12</td><td>2019-06-06 12:22:39.463</td><td>4</td></tr><tr><td>Anna</td><td>Gavrilenko</td><td>2009-11-11</td><td>2019-06-06 12:22:39.463</td><td>1</td></tr><tr><td>Timofey</td><td>Gavrilenko</td><td>2007-10-20</td><td>2019-06-06 12:22:39.463</td><td>2</td></tr><tr><td>Ilya</td><td>Gavrilenko</td><td>2006-06-20</td><td>2019-06-06 12:22:39.463</td><td>3</td></tr><tr><td>Timofey</td><td>Gavrilenko</td><td>1980-04-12</td><td>2019-06-06 12:22:39.463</td><td>4</td></tr><tr><td>Olga</td><td>Gavrilenko</td><td>1980-02-08</td><td>2019-06-06 12:22:39.463</td><td>5</td></tr></table>"
                    },
                    "metadata": {}
                }
            ],
            "execution_count": 4
        },
        {
            "cell_type": "markdown",
            "source": "Найдем статистику распределения дней рождения по месяцам. \r\n",
            "metadata": {}
        },
        {
            "cell_type": "code",
            "source": ";with cte_get_birthdate_month_and_day\r\nas\r\n(\r\n    select *,\r\n           DATEPART(month, birthdate) as month_number,\r\n           DENSE_RANK() over(partition by DATEPART(month, birthdate) order by DATEPART(day, birthdate)) as n\r\n    from #table1   \r\n),\r\ncte_month_numbers\r\nas\r\n(\r\n    select CAST([value] as int) as month_number\r\n    from OPENJSON('[1,2,3,4,5,6,7,8,9,10,11,12]') numbers\r\n),\r\ncte_stats\r\nas\r\n(\r\n    select mn.month_number, \r\n           bdm.lastname,\r\n           bdm.firstname,\r\n           bdm.n\r\n    from cte_month_numbers mn\r\n    left join cte_get_birthdate_month_and_day bdm on mn.month_number = bdm.month_number\r\n)\r\nselect * \r\nfrom cte_stats\r\norder by month_number\r\n",
            "metadata": {},
            "outputs": [
                {
                    "output_type": "display_data",
                    "data": {
                        "text/html": "(13 rows affected)"
                    },
                    "metadata": {}
                },
                {
                    "output_type": "display_data",
                    "data": {
                        "text/html": "Total execution time: 00:00:00.0095824"
                    },
                    "metadata": {}
                },
                {
                    "output_type": "execute_result",
                    "execution_count": 40,
                    "data": {
                        "application/vnd.dataresource+json": {
                            "schema": {
                                "fields": [
                                    {
                                        "name": "month_number"
                                    },
                                    {
                                        "name": "lastname"
                                    },
                                    {
                                        "name": "firstname"
                                    },
                                    {
                                        "name": "n"
                                    }
                                ]
                            },
                            "data": [
                                {
                                    "0": "1",
                                    "1": "Bykova",
                                    "2": "Ksenia",
                                    "3": "1"
                                },
                                {
                                    "0": "2",
                                    "1": "Gavrilenko",
                                    "2": "Olga",
                                    "3": "1"
                                },
                                {
                                    "0": "3",
                                    "1": "Bykov",
                                    "2": "Vitaliy",
                                    "3": "1"
                                },
                                {
                                    "0": "4",
                                    "1": "Gavrilenko",
                                    "2": "Timofey",
                                    "3": "1"
                                },
                                {
                                    "0": "5",
                                    "1": "NULL",
                                    "2": "NULL",
                                    "3": "NULL"
                                },
                                {
                                    "0": "6",
                                    "1": "Gavrilenko",
                                    "2": "Ilya",
                                    "3": "1"
                                },
                                {
                                    "0": "7",
                                    "1": "NULL",
                                    "2": "NULL",
                                    "3": "NULL"
                                },
                                {
                                    "0": "8",
                                    "1": "NULL",
                                    "2": "NULL",
                                    "3": "NULL"
                                },
                                {
                                    "0": "9",
                                    "1": "NULL",
                                    "2": "NULL",
                                    "3": "NULL"
                                },
                                {
                                    "0": "10",
                                    "1": "Bykova",
                                    "2": "Elena",
                                    "3": "1"
                                },
                                {
                                    "0": "10",
                                    "1": "Gavrilenko",
                                    "2": "Timofey",
                                    "3": "2"
                                },
                                {
                                    "0": "11",
                                    "1": "Gavrilenko",
                                    "2": "Anna",
                                    "3": "1"
                                },
                                {
                                    "0": "12",
                                    "1": "Bykova",
                                    "2": "Daria",
                                    "3": "1"
                                }
                            ]
                        },
                        "text/html": "<table><tr><th>month_number</th><th>lastname</th><th>firstname</th><th>n</th></tr><tr><td>1</td><td>Bykova</td><td>Ksenia</td><td>1</td></tr><tr><td>2</td><td>Gavrilenko</td><td>Olga</td><td>1</td></tr><tr><td>3</td><td>Bykov</td><td>Vitaliy</td><td>1</td></tr><tr><td>4</td><td>Gavrilenko</td><td>Timofey</td><td>1</td></tr><tr><td>5</td><td>NULL</td><td>NULL</td><td>NULL</td></tr><tr><td>6</td><td>Gavrilenko</td><td>Ilya</td><td>1</td></tr><tr><td>7</td><td>NULL</td><td>NULL</td><td>NULL</td></tr><tr><td>8</td><td>NULL</td><td>NULL</td><td>NULL</td></tr><tr><td>9</td><td>NULL</td><td>NULL</td><td>NULL</td></tr><tr><td>10</td><td>Bykova</td><td>Elena</td><td>1</td></tr><tr><td>10</td><td>Gavrilenko</td><td>Timofey</td><td>2</td></tr><tr><td>11</td><td>Gavrilenko</td><td>Anna</td><td>1</td></tr><tr><td>12</td><td>Bykova</td><td>Daria</td><td>1</td></tr></table>"
                    },
                    "metadata": {}
                }
            ],
            "execution_count": 40
        },
        {
            "cell_type": "markdown",
            "source": "Для каждого человека найдем два ближайших именниника (по одному в обе стороны)",
            "metadata": {}
        },
        {
            "cell_type": "code",
            "source": ";with cte\r\nas\r\n(\r\n    select lastname,\r\n           firstname,\r\n           birthdate,\r\n           LAG(lastname, 1) over(order by birthdate) as lastname_prev,\r\n           LAG(firstname, 1) over(order by birthdate) as firstname_prev,\r\n           LEAD(lastname, 1) over(order by birthdate) as lastname_next,\r\n           LEAD(firstname, 1) over(order by birthdate) as firstname_next\r\n    from #table1   \r\n)\r\nselect * \r\nfrom cte",
            "metadata": {},
            "outputs": [
                {
                    "output_type": "display_data",
                    "data": {
                        "text/html": "(9 rows affected)"
                    },
                    "metadata": {}
                },
                {
                    "output_type": "display_data",
                    "data": {
                        "text/html": "Total execution time: 00:00:00.0075371"
                    },
                    "metadata": {}
                },
                {
                    "output_type": "execute_result",
                    "execution_count": 47,
                    "data": {
                        "application/vnd.dataresource+json": {
                            "schema": {
                                "fields": [
                                    {
                                        "name": "lastname"
                                    },
                                    {
                                        "name": "firstname"
                                    },
                                    {
                                        "name": "birthdate"
                                    },
                                    {
                                        "name": "lastname_prev"
                                    },
                                    {
                                        "name": "firstname_prev"
                                    },
                                    {
                                        "name": "lastname_next"
                                    },
                                    {
                                        "name": "firstname_next"
                                    }
                                ]
                            },
                            "data": [
                                {
                                    "0": "Gavrilenko",
                                    "1": "Olga",
                                    "2": "1980-02-08",
                                    "3": "NULL",
                                    "4": "NULL",
                                    "5": "Bykov",
                                    "6": "Vitaliy"
                                },
                                {
                                    "0": "Bykov",
                                    "1": "Vitaliy",
                                    "2": "1980-03-12",
                                    "3": "Gavrilenko",
                                    "4": "Olga",
                                    "5": "Gavrilenko",
                                    "6": "Timofey"
                                },
                                {
                                    "0": "Gavrilenko",
                                    "1": "Timofey",
                                    "2": "1980-04-12",
                                    "3": "Bykov",
                                    "4": "Vitaliy",
                                    "5": "Bykova",
                                    "6": "Elena"
                                },
                                {
                                    "0": "Bykova",
                                    "1": "Elena",
                                    "2": "1981-10-09",
                                    "3": "Gavrilenko",
                                    "4": "Timofey",
                                    "5": "Bykova",
                                    "6": "Daria"
                                },
                                {
                                    "0": "Bykova",
                                    "1": "Daria",
                                    "2": "2005-12-25",
                                    "3": "Bykova",
                                    "4": "Elena",
                                    "5": "Gavrilenko",
                                    "6": "Ilya"
                                },
                                {
                                    "0": "Gavrilenko",
                                    "1": "Ilya",
                                    "2": "2006-06-20",
                                    "3": "Bykova",
                                    "4": "Daria",
                                    "5": "Gavrilenko",
                                    "6": "Timofey"
                                },
                                {
                                    "0": "Gavrilenko",
                                    "1": "Timofey",
                                    "2": "2007-10-20",
                                    "3": "Gavrilenko",
                                    "4": "Ilya",
                                    "5": "Gavrilenko",
                                    "6": "Anna"
                                },
                                {
                                    "0": "Gavrilenko",
                                    "1": "Anna",
                                    "2": "2009-11-11",
                                    "3": "Gavrilenko",
                                    "4": "Timofey",
                                    "5": "Bykova",
                                    "6": "Ksenia"
                                },
                                {
                                    "0": "Bykova",
                                    "1": "Ksenia",
                                    "2": "2010-01-07",
                                    "3": "Gavrilenko",
                                    "4": "Anna",
                                    "5": "NULL",
                                    "6": "NULL"
                                }
                            ]
                        },
                        "text/html": "<table><tr><th>lastname</th><th>firstname</th><th>birthdate</th><th>lastname_prev</th><th>firstname_prev</th><th>lastname_next</th><th>firstname_next</th></tr><tr><td>Gavrilenko</td><td>Olga</td><td>1980-02-08</td><td>NULL</td><td>NULL</td><td>Bykov</td><td>Vitaliy</td></tr><tr><td>Bykov</td><td>Vitaliy</td><td>1980-03-12</td><td>Gavrilenko</td><td>Olga</td><td>Gavrilenko</td><td>Timofey</td></tr><tr><td>Gavrilenko</td><td>Timofey</td><td>1980-04-12</td><td>Bykov</td><td>Vitaliy</td><td>Bykova</td><td>Elena</td></tr><tr><td>Bykova</td><td>Elena</td><td>1981-10-09</td><td>Gavrilenko</td><td>Timofey</td><td>Bykova</td><td>Daria</td></tr><tr><td>Bykova</td><td>Daria</td><td>2005-12-25</td><td>Bykova</td><td>Elena</td><td>Gavrilenko</td><td>Ilya</td></tr><tr><td>Gavrilenko</td><td>Ilya</td><td>2006-06-20</td><td>Bykova</td><td>Daria</td><td>Gavrilenko</td><td>Timofey</td></tr><tr><td>Gavrilenko</td><td>Timofey</td><td>2007-10-20</td><td>Gavrilenko</td><td>Ilya</td><td>Gavrilenko</td><td>Anna</td></tr><tr><td>Gavrilenko</td><td>Anna</td><td>2009-11-11</td><td>Gavrilenko</td><td>Timofey</td><td>Bykova</td><td>Ksenia</td></tr><tr><td>Bykova</td><td>Ksenia</td><td>2010-01-07</td><td>Gavrilenko</td><td>Anna</td><td>NULL</td><td>NULL</td></tr></table>"
                    },
                    "metadata": {}
                }
            ],
            "execution_count": 47
        },
        {
            "cell_type": "markdown",
            "source": "Разбить множество всех записей на 3 (относительно) равных подмножества",
            "metadata": {}
        },
        {
            "cell_type": "code",
            "source": ";with cte_split\r\nas\r\n(\r\n    select *,\r\n       ntile(3) over(order by birthdate) as num\r\n    from #table1\r\n)\r\nselect * \r\nfrom cte_split\r\n",
            "metadata": {},
            "outputs": [
                {
                    "output_type": "display_data",
                    "data": {
                        "text/html": "(9 rows affected)"
                    },
                    "metadata": {}
                },
                {
                    "output_type": "display_data",
                    "data": {
                        "text/html": "Total execution time: 00:00:00.0258515"
                    },
                    "metadata": {}
                },
                {
                    "output_type": "execute_result",
                    "execution_count": 14,
                    "data": {
                        "application/vnd.dataresource+json": {
                            "schema": {
                                "fields": [
                                    {
                                        "name": "firstname"
                                    },
                                    {
                                        "name": "lastname"
                                    },
                                    {
                                        "name": "birthdate"
                                    },
                                    {
                                        "name": "loaddate"
                                    },
                                    {
                                        "name": "rn"
                                    },
                                    {
                                        "name": "num"
                                    }
                                ]
                            },
                            "data": [
                                {
                                    "0": "Olga",
                                    "1": "Gavrilenko",
                                    "2": "1980-02-08",
                                    "3": "2019-06-06 12:22:39.463",
                                    "4": "5",
                                    "5": "1"
                                },
                                {
                                    "0": "Vitaliy",
                                    "1": "Bykov",
                                    "2": "1980-03-12",
                                    "3": "2019-06-06 12:22:39.463",
                                    "4": "4",
                                    "5": "1"
                                },
                                {
                                    "0": "Timofey",
                                    "1": "Gavrilenko",
                                    "2": "1980-04-12",
                                    "3": "2019-06-06 12:22:39.463",
                                    "4": "4",
                                    "5": "1"
                                },
                                {
                                    "0": "Elena",
                                    "1": "Bykova",
                                    "2": "1981-10-09",
                                    "3": "2019-06-06 12:22:39.463",
                                    "4": "3",
                                    "5": "2"
                                },
                                {
                                    "0": "Daria",
                                    "1": "Bykova",
                                    "2": "2005-12-25",
                                    "3": "2019-06-06 12:22:39.463",
                                    "4": "2",
                                    "5": "2"
                                },
                                {
                                    "0": "Ilya",
                                    "1": "Gavrilenko",
                                    "2": "2006-06-20",
                                    "3": "2019-06-06 12:22:39.463",
                                    "4": "3",
                                    "5": "2"
                                },
                                {
                                    "0": "Timofey",
                                    "1": "Gavrilenko",
                                    "2": "2007-10-20",
                                    "3": "2019-06-06 12:22:39.463",
                                    "4": "2",
                                    "5": "3"
                                },
                                {
                                    "0": "Anna",
                                    "1": "Gavrilenko",
                                    "2": "2009-11-11",
                                    "3": "2019-06-06 12:22:39.463",
                                    "4": "1",
                                    "5": "3"
                                },
                                {
                                    "0": "Ksenia",
                                    "1": "Bykova",
                                    "2": "2010-01-07",
                                    "3": "2019-06-06 12:22:39.463",
                                    "4": "1",
                                    "5": "3"
                                }
                            ]
                        },
                        "text/html": "<table><tr><th>firstname</th><th>lastname</th><th>birthdate</th><th>loaddate</th><th>rn</th><th>num</th></tr><tr><td>Olga</td><td>Gavrilenko</td><td>1980-02-08</td><td>2019-06-06 12:22:39.463</td><td>5</td><td>1</td></tr><tr><td>Vitaliy</td><td>Bykov</td><td>1980-03-12</td><td>2019-06-06 12:22:39.463</td><td>4</td><td>1</td></tr><tr><td>Timofey</td><td>Gavrilenko</td><td>1980-04-12</td><td>2019-06-06 12:22:39.463</td><td>4</td><td>1</td></tr><tr><td>Elena</td><td>Bykova</td><td>1981-10-09</td><td>2019-06-06 12:22:39.463</td><td>3</td><td>2</td></tr><tr><td>Daria</td><td>Bykova</td><td>2005-12-25</td><td>2019-06-06 12:22:39.463</td><td>2</td><td>2</td></tr><tr><td>Ilya</td><td>Gavrilenko</td><td>2006-06-20</td><td>2019-06-06 12:22:39.463</td><td>3</td><td>2</td></tr><tr><td>Timofey</td><td>Gavrilenko</td><td>2007-10-20</td><td>2019-06-06 12:22:39.463</td><td>2</td><td>3</td></tr><tr><td>Anna</td><td>Gavrilenko</td><td>2009-11-11</td><td>2019-06-06 12:22:39.463</td><td>1</td><td>3</td></tr><tr><td>Ksenia</td><td>Bykova</td><td>2010-01-07</td><td>2019-06-06 12:22:39.463</td><td>1</td><td>3</td></tr></table>"
                    },
                    "metadata": {}
                }
            ],
            "execution_count": 14
        }
    ]
}