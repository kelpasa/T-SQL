{
  "nbformat": 4,
  "nbformat_minor": 0,
  "metadata": {
    "colab": {
      "name": "CNN - count ships.ipynb",
      "version": "0.3.2",
      "provenance": [],
      "collapsed_sections": [],
      "include_colab_link": true
    },
    "kernelspec": {
      "name": "python3",
      "display_name": "Python 3"
    }
  },
  "cells": [
    {
      "cell_type": "markdown",
      "metadata": {
        "id": "view-in-github",
        "colab_type": "text"
      },
      "source": [
        "<a href=\"https://colab.research.google.com/github/timoti1/T-SQL/blob/master/Data%20Analysis/CNN_count_ships.ipynb\" target=\"_parent\"><img src=\"https://colab.research.google.com/assets/colab-badge.svg\" alt=\"Open In Colab\"/></a>"
      ]
    },
    {
      "cell_type": "code",
      "metadata": {
        "id": "B9_bFf7Ay1GI",
        "colab_type": "code",
        "colab": {}
      },
      "source": [
        "import matplotlib.pyplot as plt\n",
        "import pandas as pd\n",
        "from keras.preprocessing import image\n",
        "%matplotlib inline"
      ],
      "execution_count": 0,
      "outputs": []
    },
    {
      "cell_type": "markdown",
      "metadata": {
        "id": "ZsjJAA4GEHZJ",
        "colab_type": "text"
      },
      "source": [
        "**Seacombat Logic**\n",
        "\n",
        "Набор функций для генерации расстановок "
      ]
    },
    {
      "cell_type": "code",
      "metadata": {
        "id": "4x33A6uOD5Ru",
        "colab_type": "code",
        "colab": {}
      },
      "source": [
        "import random\n",
        "import numpy as np\n",
        "\n",
        "def are_ships_crossed(ship1, ship2):\n",
        "    ship1_set = get_ship_with_area_around(ship1)\n",
        "    ship2_set = get_ship_with_area_around(ship2)\n",
        "    common_set = ship1_set & ship2_set\n",
        "    if len(common_set) > 0:\n",
        "        if len(ship1 & common_set) > 0 or len(ship2 & common_set) > 0:\n",
        "            return True\n",
        "    return False\n",
        "\n",
        "\n",
        "def can_place_ship(row, column, direction, size, field):\n",
        "    list_of_ships = []\n",
        "    ship1 = get_ship(row, column, direction, size)\n",
        "\n",
        "    wrong_decks = [deck for deck in ship1 if\n",
        "                   deck[0] > 10 or deck[0] < 1 or deck[1] > 10 or deck[1] < 1]\n",
        "    if len(wrong_decks) > 0:\n",
        "        return False\n",
        "\n",
        "    for i in field:\n",
        "        list_of_ships.extend(field[i])\n",
        "\n",
        "    for ship2 in list_of_ships:\n",
        "        if are_ships_crossed(ship1, ship2):\n",
        "            return False\n",
        "\n",
        "    return True\n",
        "\n",
        "\n",
        "def get_arranged_ships(requirements=None):\n",
        "    if not requirements:\n",
        "        requirements = {4: 1, 3: 2, 2: 3, 1: 4}\n",
        "\n",
        "    field = {key: [] for key in requirements}\n",
        "    for size in requirements.keys():\n",
        "        quantity = requirements[size]\n",
        "        while quantity > 0:\n",
        "            row = random.randint(1, 10)\n",
        "            column = random.randint(1, 10)\n",
        "            direction = random.randint(0, 1)  # 0 - vertical, 1 - horizontal\n",
        "\n",
        "            if can_place_ship(row, column, direction, size, field):\n",
        "                place_ship(row, column, direction, size, field)\n",
        "                quantity = quantity - 1\n",
        "            elif can_place_ship(row, column, 1 - direction, size, field):\n",
        "                place_ship(row, column, 1 - direction, size, field)\n",
        "                quantity = quantity - 1\n",
        "            else:\n",
        "                continue\n",
        "        size = size - 1\n",
        "\n",
        "    return field\n",
        "\n",
        "\n",
        "def get_field_as_matrix(field):\n",
        "    matrix = np.zeros((10, 10)).astype(np.int)\n",
        "\n",
        "    for ship_size in field:\n",
        "        for ship in field[ship_size]:\n",
        "            for deck in ship:\n",
        "                matrix[deck[0]-1, deck[1]-1] = 1\n",
        "\n",
        "    return matrix\n",
        "\n",
        "\n",
        "def get_test_field():\n",
        "    field = {\n",
        "        1: [{(3, 6)}, {(5, 9)}, {(3, 4)}, {(1, 3)}],\n",
        "        2: [{(7, 10), (7, 9)}, {(7, 4), (7, 5)},\n",
        "            {(10, 7), (9, 7)}],\n",
        "        3: [{(1, 9), (3, 9), (2, 9)},\n",
        "            {(10, 4), (10, 3), (10, 2)}],\n",
        "        4: [{(5, 4), (5, 1), (5, 2), (5, 3)}]\n",
        "    }\n",
        "    return field\n",
        "\n",
        "\n",
        "def get_ship(row, column, direction, size):\n",
        "    coord_set = set()\n",
        "    if direction == 1:\n",
        "        for n in range(size):\n",
        "            deck = row, column + n\n",
        "            coord_set.add(deck)\n",
        "    elif direction == 0:\n",
        "        for n in range(size):\n",
        "            deck = row + n, column\n",
        "            coord_set.add(deck)\n",
        "    return coord_set\n",
        "\n",
        "\n",
        "def get_ship_with_area_around(ship):\n",
        "    surrounded_ship = set()\n",
        "    for deck in ship:\n",
        "        temp_set = set()\n",
        "        for r in range(deck[0] - 1, deck[0] + 2):\n",
        "            for c in range(deck[1] - 1, deck[1] + 2):\n",
        "                temp_set.add((r, c))\n",
        "        surrounded_ship = surrounded_ship | temp_set\n",
        "    return surrounded_ship\n",
        "\n",
        "\n",
        "def place_ship(row, column, direction, size, field):\n",
        "    ship = get_ship(row, column, direction, size)\n",
        "    field[size].append(ship)\n",
        "\n"
      ],
      "execution_count": 0,
      "outputs": []
    },
    {
      "cell_type": "markdown",
      "metadata": {
        "id": "Sp4Y6zCfEEAT",
        "colab_type": "text"
      },
      "source": [
        "**Основной код**"
      ]
    },
    {
      "cell_type": "code",
      "metadata": {
        "id": "oJMPAM0vPFdu",
        "colab_type": "code",
        "colab": {}
      },
      "source": [
        "# вспомогательная функция для разметки данных (прообраз того что делает слой свертки)\n",
        "def apply_filter(matrix, filter, treshold):\n",
        "  h, w = matrix.shape\n",
        "  metrics = np.zeros(h*w).astype(np.int)\n",
        "  \n",
        "  fh, fw = filter.shape\n",
        "  for i in range(h):\n",
        "    for j in range(w):\n",
        "      s = 0\n",
        "      for fi in range(fh):\n",
        "        for fj in range(fw):\n",
        "          s +=matrix[i+fi-1,j+fj-1]*filter[fi,fj] if 0<=i+fi-1<10 and 0<=j+fj-1<10 else 0\n",
        "      \n",
        "      metrics[i*w+j] = s if s>=treshold else 0 #relu со смещением в сторону на treshold\n",
        "  \n",
        "  return metrics"
      ],
      "execution_count": 0,
      "outputs": []
    },
    {
      "cell_type": "code",
      "metadata": {
        "id": "7AdTyv0KT-3C",
        "colab_type": "code",
        "colab": {}
      },
      "source": [
        "# функция для генерации наблюдений и их разметки (X и Y)\n",
        "\n",
        "def get_random_matrix_and_metrics(verbose=False):\n",
        "  def filter(n,m):\n",
        "    matrix = np.ones((n,m)).astype(np.int)\n",
        "    for i in range(n):\n",
        "      matrix[i,0] = -999\n",
        "      matrix[i,m-1] = -999\n",
        "    for i in range(m):\n",
        "      matrix[0,i] = -999\n",
        "      matrix[n-1,i] = -999\n",
        "\n",
        "    return matrix\n",
        "  \n",
        "  # бросаем монетку. корректная ли или не обязательно будет расстановка\n",
        "  rnd_num = random.randint(0, 1)\n",
        "\n",
        "  # генерируем 1..4 кораблей длиной 4..1\n",
        "  if rnd_num == 1:\n",
        "    # тут генерируется корректная расстановка\n",
        "    \n",
        "    sum_fields = get_arranged_ships({4:1, 3:2, 2:3, 1:4})\n",
        "  else:\n",
        "    # тут корабли могут пересекаться\n",
        "    \n",
        "    sum_fields = {}\n",
        "  \n",
        "    for i in range(1,5):\n",
        "      field = get_arranged_ships({i:5-i})       # <==== {size:cnt}\n",
        "\n",
        "      for key in field:\n",
        "        for ship in field[key]:\n",
        "          if key not in sum_fields:\n",
        "            sum_fields[key] = []\n",
        "          if ship not in sum_fields[key]:\n",
        "            sum_fields[key].append(ship)\n",
        "\n",
        "  #       if verbose:\n",
        "  #         print(f\"Корабль № {i+1}: {field}\")\n",
        "\n",
        "  matrix = get_field_as_matrix(sum_fields) #| get_default_matrix()\n",
        "  \n",
        "#   filter3x3 = np.array([[-999,-999,-999],[-999,1,-999],[-999,-999,-999]])\n",
        "  \n",
        "  metrics3x3 = apply_filter(matrix, filter(3, 3), 1)\n",
        "  metrics3x4 = -apply_filter(matrix, filter(3, 4), 2)\n",
        "  metrics4x3 = apply_filter(matrix, filter(4, 3), 2)\n",
        "  metrics3x5 = -apply_filter(matrix, filter(3, 5), 3)\n",
        "  metrics5x3 = apply_filter(matrix, filter(5, 3), 3)\n",
        "  metrics3x6 = -apply_filter(matrix, filter(3, 6), 4)\n",
        "  metrics6x3 = apply_filter(matrix, filter(6, 3), 4)\n",
        "  \n",
        "  metrics = metrics3x3 + \\\n",
        "            metrics3x4 + metrics4x3 + \\\n",
        "            metrics3x5 + metrics5x3 + \\\n",
        "            metrics3x6 + metrics6x3 \n",
        "\n",
        "  if verbose:\n",
        "    print(f\"\\nПоле: \\n{matrix}\\n\")\n",
        "    print(f\"Метрики: \\n{metrics.reshape(10,10)}\")\n",
        "  \n",
        "  return matrix, metrics"
      ],
      "execution_count": 0,
      "outputs": []
    },
    {
      "cell_type": "code",
      "metadata": {
        "id": "K43VG13df5X4",
        "colab_type": "code",
        "outputId": "99e9b684-cc70-49e7-f9ec-79d922396aa0",
        "colab": {
          "base_uri": "https://localhost:8080/",
          "height": 458
        }
      },
      "source": [
        "get_random_matrix_and_metrics(verbose=True);"
      ],
      "execution_count": 12,
      "outputs": [
        {
          "output_type": "stream",
          "text": [
            "\n",
            "Поле: \n",
            "[[0 0 0 0 0 0 1 1 1 0]\n",
            " [0 1 0 0 0 0 1 0 0 1]\n",
            " [0 0 0 1 0 0 1 0 0 1]\n",
            " [0 0 0 1 0 0 0 0 0 0]\n",
            " [0 0 0 0 0 0 0 0 0 0]\n",
            " [0 0 0 0 0 0 1 1 1 0]\n",
            " [0 0 0 0 0 0 0 0 0 0]\n",
            " [0 0 0 0 0 0 0 0 1 0]\n",
            " [0 0 0 0 0 0 0 0 0 0]\n",
            " [0 0 0 0 0 1 1 1 1 0]]\n",
            "\n",
            "Метрики: \n",
            "[[ 0  0  0  0  0  0  0  0  0  0]\n",
            " [ 0  1  0  0  0  0  0  0  0  0]\n",
            " [ 0  0  0  2  0  0  0  0  0  0]\n",
            " [ 0  0  0  0  0  0  0  0  0  0]\n",
            " [ 0  0  0  0  0  0  0  0  0  0]\n",
            " [ 0  0  0  0  0  0 -3  0  0  0]\n",
            " [ 0  0  0  0  0  0  0  0  0  0]\n",
            " [ 0  0  0  0  0  0  0  0  1  0]\n",
            " [ 0  0  0  0  0  0  0  0  0  0]\n",
            " [ 0  0  0  0  0 -4  0  0  0  0]]\n"
          ],
          "name": "stdout"
        }
      ]
    },
    {
      "cell_type": "code",
      "metadata": {
        "id": "TeCaN71jD5wm",
        "colab_type": "code",
        "outputId": "940a1a80-cca6-4f4f-e3cc-6ef36387775e",
        "colab": {
          "base_uri": "https://localhost:8080/",
          "height": 237
        }
      },
      "source": [
        "# генерация набора данных\n",
        "\n",
        "import numpy as np\n",
        "import random\n",
        "\n",
        "NUM_SAMPLES = 10000\n",
        "batch_size = NUM_SAMPLES // 10\n",
        "\n",
        "X = np.zeros((NUM_SAMPLES, 10, 10)).astype(np.int)\n",
        "Y = np.zeros((NUM_SAMPLES, 100)).astype(np.int)\n",
        "\n",
        "print('Генерация данных')\n",
        "\n",
        "for i in range(NUM_SAMPLES):\n",
        "  X[i], Y[i] = get_random_matrix_and_metrics()\n",
        "  if i%batch_size == 0:\n",
        "     print(f'\\t Прогресс: {i//batch_size*10}%')\n",
        "      \n",
        "print('Завершено!')"
      ],
      "execution_count": 13,
      "outputs": [
        {
          "output_type": "stream",
          "text": [
            "Генерация данных\n",
            "\t Прогресс: 0%\n",
            "\t Прогресс: 10%\n",
            "\t Прогресс: 20%\n",
            "\t Прогресс: 30%\n",
            "\t Прогресс: 40%\n",
            "\t Прогресс: 50%\n",
            "\t Прогресс: 60%\n",
            "\t Прогресс: 70%\n",
            "\t Прогресс: 80%\n",
            "\t Прогресс: 90%\n",
            "Завершено!\n"
          ],
          "name": "stdout"
        }
      ]
    },
    {
      "cell_type": "code",
      "metadata": {
        "id": "RN1Tb3_3g5U6",
        "colab_type": "code",
        "colab": {}
      },
      "source": [
        "# from keras.utils import np_utils\n",
        "# from sklearn.model_selection import train_test_split\n",
        "\n",
        "# X = np.expand_dims(X, axis=3)\n",
        "# X = X.reshape(NUM_SAMPLES, 100)\n",
        "\n",
        "# Количество классов целевой переменной\n",
        "# nb_classes = 100\n",
        "# Преобразуем метки в категории\n",
        "# np_utils.to_categorical\n",
        "\n",
        "Y1 = np.where(Y==1, 1, 0)\n",
        "Y2v = np.where(Y==2, 1, 0)\n",
        "Y3v = np.where(Y==3, 1, 0)\n",
        "Y4v = np.where(Y==4, 1, 0)\n",
        "Y2h = np.where(Y==-2, 1, 0)\n",
        "Y3h = np.where(Y==-3, 1, 0)\n",
        "Y4h = np.where(Y==-4, 1, 0)\n",
        "\n",
        "# # разделяем данные на тестовую и тренировочную выборки:\n",
        "# x_train, x_test, y_train, y_test = train_test_split(X, Y_counts, test_size=0.25, random_state=1)"
      ],
      "execution_count": 0,
      "outputs": []
    },
    {
      "cell_type": "markdown",
      "metadata": {
        "id": "CAlUj4L1utOH",
        "colab_type": "text"
      },
      "source": [
        "**Первая попытка создать CNN**"
      ]
    },
    {
      "cell_type": "code",
      "metadata": {
        "id": "fzQZXZAwgryz",
        "colab_type": "code",
        "colab": {}
      },
      "source": [
        "import numpy\n",
        "\n",
        "from keras.models import Model, Sequential\n",
        "from keras.layers import Input, Dense, Flatten, Activation, Concatenate, Add\n",
        "from keras.layers import Dropout\n",
        "from keras.layers.convolutional import Conv1D, Conv2D, MaxPooling2D, AveragePooling2D\n",
        "from keras.optimizers import SGD\n",
        "from keras import layers, initializers\n",
        "\n",
        "# Задаем seed для повторяемости результатов\n",
        "numpy.random.seed(33)\n",
        "\n",
        "layer_input = Input(shape=(10,10,1), name='input')\n",
        "\n",
        "# ветвь со слоем свертки 6х6\n",
        "layer_conv_4 = Conv2D(4, (6, 6), padding='same', activation='relu', name='conv_4')(layer_input)\n",
        "layer_flatten_4 = Flatten(name='flatten_4')(layer_conv_4)\n",
        "layer_dense_4 = Dense(1, activation='linear', name='dense_4')(layer_flatten_4)\n",
        "\n",
        "# ветвь со слоем свертки 5х5\n",
        "layer_conv_3 = Conv2D(4, (5, 5), padding='same', activation='relu', name='conv_3')(layer_input)\n",
        "layer_flatten_3 = Flatten(name='flatten_3')(layer_conv_3)\n",
        "layer_dense_3 = Dense(1, activation='linear', name='dense_3')(layer_flatten_3)\n",
        "\n",
        "# ветвь со слоем свертки 4х4\n",
        "layer_conv_2 = Conv2D(2, (4, 4), padding='same', activation='relu', name='conv_2')(layer_input)\n",
        "layer_flatten_2 = Flatten(name='flatten_2')(layer_conv_2)\n",
        "layer_dense_2 = Dense(1, activation='linear', name='dense_2')(layer_flatten_2)\n",
        "\n",
        "# ветвь со слоем свертки 3х3\n",
        "layer_conv_1 = Conv2D(1, (3, 3), padding='same', activation='relu', name='conv_1')(layer_input)\n",
        "layer_flatten_1 = Flatten(name='flatten_1')(layer_conv_1)\n",
        "layer_dense_1 = Dense(1, activation='linear', name='dense_1')(layer_flatten_1)\n",
        "\n",
        "# соединяем ветви со светочными слоями\n",
        "# layer_add = Add(name='add')([layer_dense_1, layer_dense_2, layer_dense_3, layer_dense_4])\n",
        "# layer_dropout = Dropout(0.75, name='final_dropout')(layer_concatenate)\n",
        "\n",
        "# out = keras.layers.Dense(4)(added)\n",
        "model_count_ships = Model(inputs=[layer_input], outputs=[layer_dense_1, layer_dense_2, layer_dense_3, layer_dense_4])"
      ],
      "execution_count": 0,
      "outputs": []
    },
    {
      "cell_type": "code",
      "metadata": {
        "id": "uL0A_9w1_vKK",
        "colab_type": "code",
        "outputId": "a16eab4e-4f1c-41a0-c94a-e02b437cceda",
        "colab": {
          "base_uri": "https://localhost:8080/",
          "height": 346
        }
      },
      "source": [
        "# сохранение графа модели в png-файл\n",
        "\n",
        "from keras.utils import plot_model\n",
        "plot_model(model_count_ships, show_shapes=True, to_file='model1.png')\n",
        "\n",
        "im = image.load_img('model1.png')\n",
        "plt.figure(figsize=(20,20))\n",
        "plt.axis('off')\n",
        "plt.imshow(im);\n",
        "\n",
        "# model_count_ships.summary()"
      ],
      "execution_count": 0,
      "outputs": [
        {
          "output_type": "display_data",
          "data": {
            "image/png": "[encoded data removed]",
            "text/plain": [
              "<Figure size 1440x1440 with 1 Axes>"
            ]
          },
          "metadata": {
            "tags": []
          }
        }
      ]
    },
    {
      "cell_type": "code",
      "metadata": {
        "id": "LhGbk2htReXD",
        "colab_type": "code",
        "colab": {}
      },
      "source": [
        "# класс для колбак-функции, вызываемой в процессе обучения модели\n",
        "import keras\n",
        "\n",
        "class PlotConvCallBack(keras.callbacks.Callback):\n",
        "    def on_train_begin(self, logs={}):\n",
        "        self.losses = []\n",
        "        \n",
        "#     def on_train_end(self, logs={}):\n",
        "#         return\n",
        "\n",
        "    def on_epoch_begin(self, epoch, logs={}):\n",
        "        if epoch%10 != 0:\n",
        "          return\n",
        "      \n",
        "        fig, ax = plt.subplots(4, 8)\n",
        "    \n",
        "        for i in range(4):\n",
        "          for j in range(8):\n",
        "            ax[i, j].axis('off') \n",
        "\n",
        "        for i, layer_name in enumerate(['conv_1', 'conv_2', 'conv_3', 'conv_4']):\n",
        "          conv_layer = self.model.get_layer(layer_name)\n",
        "          conv_layer_shape = conv_layer.get_config()['kernel_size']\n",
        "          num_filters = conv_layer.get_config()['filters']\n",
        "\n",
        "          for j in range(num_filters):\n",
        "            conv_weight_tensor = conv_layer.get_weights()[0][:,:,:,j]\n",
        "            ax[i, j].imshow(conv_weight_tensor.reshape(conv_layer_shape))\n",
        "        plt.show()\n",
        "            \n",
        "    def on_epoch_end(self, epoch, logs={}):\n",
        "        if epoch%10 != 0:\n",
        "            return\n",
        "\n",
        "        for k, v in logs.items():\n",
        "            if k.find('val_') == -1:\n",
        "                print(f'\\t{k}:\\t{v:9.5}')\n",
        "        \n",
        "#     def on_batch_begin(self, batch, logs={}):\n",
        "#       return\n",
        "\n",
        "#     def on_batch_end(self, batch, logs={}):\n",
        "#       return"
      ],
      "execution_count": 0,
      "outputs": []
    },
    {
      "cell_type": "code",
      "metadata": {
        "id": "j1u1BgUCj3r8",
        "colab_type": "code",
        "outputId": "a8be8bad-77d4-4f4d-acee-ae1a1c3ab0ba",
        "colab": {
          "base_uri": "https://localhost:8080/",
          "height": 5506
        }
      },
      "source": [
        "# Размер мини-выборки\n",
        "batch_size = 10\n",
        "# Количество эпох для обучения\n",
        "nb_epoch = 100\n",
        "\n",
        "# Задаем параметры оптимизации\n",
        "\n",
        "# sgd = SGD(lr=0.001, decay=0.001, momentum=0.9, nesterov=True)\n",
        "\n",
        "model_count_ships.compile(loss='mse',\n",
        "              optimizer='adam',\n",
        "              metrics=[])\n",
        "\n",
        "plot_conv_matrix = PlotConvCallBack()\n",
        "\n",
        "# подсчитываем число \"правильных\" кораблей (задача регрессии)\n",
        "\n",
        "# Обучаем модель\n",
        "history = model_count_ships.fit(\n",
        "              X.reshape(NUM_SAMPLES,10,10,1),                         \n",
        "              [\n",
        "                  [int(Y1[i].sum()) for i in range(NUM_SAMPLES)],\n",
        "                  [int(Y2h[i].sum())+int(Y2v.sum()) for i in range(NUM_SAMPLES)],\n",
        "                  [int(Y3h[i].sum())+int(Y3v.sum()) for i in range(NUM_SAMPLES)],\n",
        "                  [int(Y4h[i].sum())+int(Y4v.sum()) for i in range(NUM_SAMPLES)],\n",
        "              ],\n",
        "              batch_size=batch_size,\n",
        "              epochs=nb_epoch,\n",
        "              validation_split=0.1,\n",
        "              shuffle=True,\n",
        "              callbacks=[plot_conv_matrix],\n",
        "              verbose=2)"
      ],
      "execution_count": 0,
      "outputs": [
        {
          "output_type": "stream",
          "text": [
            "Train on 9000 samples, validate on 1000 samples\n",
            "Epoch 1/100\n"
          ],
          "name": "stdout"
        },
        {
          "output_type": "display_data",
          "data": {
            "image/png": "[encoded data removed]",
            "text/plain": [
              "<Figure size 432x288 with 32 Axes>"
            ]
          },
          "metadata": {
            "tags": []
          }
        },
        {
          "output_type": "stream",
          "text": [
            " - 13s - loss: 137645017.0933 - dense_1_loss: 1.7715 - dense_2_loss: 100592080.6133 - dense_3_loss: 32525816.9556 - dense_4_loss: 4527119.5176 - val_loss: 95625288.9600 - val_dense_1_loss: 1.4170 - val_dense_2_loss: 83001629.7600 - val_dense_3_loss: 12472325.9900 - val_dense_4_loss: 151332.9602\n",
            "\tloss:\t1.3765e+08\n",
            "\tdense_1_loss:\t   1.7715\n",
            "\tdense_2_loss:\t1.0059e+08\n",
            "\tdense_3_loss:\t3.2526e+07\n",
            "\tdense_4_loss:\t4.5271e+06\n",
            "Epoch 2/100\n",
            " - 4s - loss: 61770624.9222 - dense_1_loss: 1.2688 - dense_2_loss: 58386256.7800 - dense_3_loss: 3330911.4695 - dense_4_loss: 53456.5172 - val_loss: 34964856.8200 - val_dense_1_loss: 1.2032 - val_dense_2_loss: 34671310.3800 - val_dense_3_loss: 247296.0830 - val_dense_4_loss: 46250.0101\n",
            "Epoch 3/100\n",
            " - 4s - loss: 18373028.3478 - dense_1_loss: 1.1172 - dense_2_loss: 18147789.8033 - dense_3_loss: 182740.0183 - dense_4_loss: 42497.3942 - val_loss: 6680732.9000 - val_dense_1_loss: 1.0822 - val_dense_2_loss: 6451574.3550 - val_dense_3_loss: 185751.0838 - val_dense_4_loss: 43406.3636\n",
            "Epoch 4/100\n",
            " - 4s - loss: 2618845.1389 - dense_1_loss: 1.0090 - dense_2_loss: 2409170.5594 - dense_3_loss: 170300.2568 - dense_4_loss: 39373.3185 - val_loss: 811787.7370 - val_dense_1_loss: 0.9900 - val_dense_2_loss: 594256.0023 - val_dense_3_loss: 177926.8843 - val_dense_4_loss: 39603.8606\n",
            "Epoch 5/100\n",
            " - 4s - loss: 577890.0864 - dense_1_loss: 0.9322 - dense_2_loss: 380707.3917 - dense_3_loss: 161785.4841 - dense_4_loss: 35396.2775 - val_loss: 552080.1659 - val_dense_1_loss: 0.9252 - val_dense_2_loss: 349611.2836 - val_dense_3_loss: 167482.4247 - val_dense_4_loss: 34985.5322\n",
            "Epoch 6/100\n",
            " - 4s - loss: 507090.3124 - dense_1_loss: 0.8670 - dense_2_loss: 325403.4554 - dense_3_loss: 150769.1327 - dense_4_loss: 30916.8572 - val_loss: 525903.3091 - val_dense_1_loss: 0.8715 - val_dense_2_loss: 341305.7865 - val_dense_3_loss: 154473.6513 - val_dense_4_loss: 30123.0014\n",
            "Epoch 7/100\n",
            " - 4s - loss: 481403.8289 - dense_1_loss: 0.8068 - dense_2_loss: 317007.5271 - dense_3_loss: 137874.0487 - dense_4_loss: 26521.4458 - val_loss: 498124.3659 - val_dense_1_loss: 0.7827 - val_dense_2_loss: 331608.5062 - val_dense_3_loss: 140698.8870 - val_dense_4_loss: 25816.1922\n",
            "Epoch 8/100\n",
            " - 4s - loss: 453818.7555 - dense_1_loss: 0.7138 - dense_2_loss: 306055.2820 - dense_3_loss: 124899.1405 - dense_4_loss: 22863.6196 - val_loss: 467510.4145 - val_dense_1_loss: 0.7204 - val_dense_2_loss: 317860.4533 - val_dense_3_loss: 127143.8311 - val_dense_4_loss: 22505.4082\n",
            "Epoch 9/100\n",
            " - 4s - loss: 424987.6847 - dense_1_loss: 0.6700 - dense_2_loss: 291579.7870 - dense_3_loss: 113241.7750 - dense_4_loss: 20165.4524 - val_loss: 437053.9751 - val_dense_1_loss: 0.6961 - val_dense_2_loss: 301250.2559 - val_dense_3_loss: 115737.0448 - val_dense_4_loss: 20065.9812\n",
            "Epoch 10/100\n",
            " - 4s - loss: 397069.3022 - dense_1_loss: 0.6478 - dense_2_loss: 274935.3242 - dense_3_loss: 103845.9154 - dense_4_loss: 18287.4139 - val_loss: 408878.8834 - val_dense_1_loss: 0.6819 - val_dense_2_loss: 283015.2574 - val_dense_3_loss: 107243.5327 - val_dense_4_loss: 18619.4121\n",
            "Epoch 11/100\n"
          ],
          "name": "stdout"
        },
        {
          "output_type": "display_data",
          "data": {
            "image/png": "[encoded data removed]",
            "text/plain": [
              "<Figure size 432x288 with 32 Axes>"
            ]
          },
          "metadata": {
            "tags": []
          }
        },
        {
          "output_type": "stream",
          "text": [
            " - 5s - loss: 370894.2702 - dense_1_loss: 0.6327 - dense_2_loss: 257606.6701 - dense_3_loss: 96448.0849 - dense_4_loss: 16838.8822 - val_loss: 381829.8249 - val_dense_1_loss: 0.6691 - val_dense_2_loss: 265085.1332 - val_dense_3_loss: 99772.5214 - val_dense_4_loss: 16971.5040\n",
            "\tloss:\t3.7089e+05\n",
            "\tdense_1_loss:\t   0.6327\n",
            "\tdense_2_loss:\t2.5761e+05\n",
            "\tdense_3_loss:\t9.6448e+04\n",
            "\tdense_4_loss:\t1.6839e+04\n",
            "Epoch 12/100\n",
            " - 4s - loss: 347084.4406 - dense_1_loss: 0.6194 - dense_2_loss: 241193.9347 - dense_3_loss: 90319.0220 - dense_4_loss: 15570.8645 - val_loss: 357958.2288 - val_dense_1_loss: 0.6653 - val_dense_2_loss: 248565.4746 - val_dense_3_loss: 93745.3403 - val_dense_4_loss: 15646.7513\n",
            "Epoch 13/100\n",
            " - 4s - loss: 325202.1455 - dense_1_loss: 0.6101 - dense_2_loss: 226003.6666 - dense_3_loss: 84824.8609 - dense_4_loss: 14373.0079 - val_loss: 336435.7241 - val_dense_1_loss: 0.6581 - val_dense_2_loss: 233798.5039 - val_dense_3_loss: 88210.1350 - val_dense_4_loss: 14426.4305\n",
            "Epoch 14/100\n",
            " - 4s - loss: 305841.7707 - dense_1_loss: 0.6004 - dense_2_loss: 212740.6725 - dense_3_loss: 79854.3948 - dense_4_loss: 13246.1022 - val_loss: 316988.6538 - val_dense_1_loss: 0.6529 - val_dense_2_loss: 220694.3901 - val_dense_3_loss: 83026.6079 - val_dense_4_loss: 13267.0059\n",
            "Epoch 15/100\n",
            " - 4s - loss: 288060.8034 - dense_1_loss: 0.5960 - dense_2_loss: 200907.3727 - dense_3_loss: 75033.5058 - dense_4_loss: 12119.3291 - val_loss: 299243.5552 - val_dense_1_loss: 0.6504 - val_dense_2_loss: 208731.0698 - val_dense_3_loss: 78263.9402 - val_dense_4_loss: 12247.8967\n",
            "Epoch 16/100\n",
            " - 4s - loss: 271506.9754 - dense_1_loss: 0.5912 - dense_2_loss: 190102.0294 - dense_3_loss: 70360.7194 - dense_4_loss: 11043.6359 - val_loss: 281705.5961 - val_dense_1_loss: 0.6678 - val_dense_2_loss: 197716.4753 - val_dense_3_loss: 72985.3511 - val_dense_4_loss: 11003.1020\n",
            "Epoch 17/100\n",
            " - 4s - loss: 255915.0461 - dense_1_loss: 0.5887 - dense_2_loss: 180129.2588 - dense_3_loss: 65772.0860 - dense_4_loss: 10013.1124 - val_loss: 266875.8550 - val_dense_1_loss: 0.6520 - val_dense_2_loss: 187802.4963 - val_dense_3_loss: 68921.9146 - val_dense_4_loss: 10150.7909\n",
            "Epoch 18/100\n",
            " - 4s - loss: 241085.7160 - dense_1_loss: 0.5840 - dense_2_loss: 170907.0005 - dense_3_loss: 61190.3160 - dense_4_loss: 8987.8158 - val_loss: 249828.1535 - val_dense_1_loss: 0.6458 - val_dense_2_loss: 178018.9872 - val_dense_3_loss: 62995.1218 - val_dense_4_loss: 8813.4003\n",
            "Epoch 19/100\n",
            " - 4s - loss: 226882.2138 - dense_1_loss: 0.5814 - dense_2_loss: 162229.7174 - dense_3_loss: 56652.5389 - dense_4_loss: 7999.3760 - val_loss: 234993.6420 - val_dense_1_loss: 0.6446 - val_dense_2_loss: 169046.2892 - val_dense_3_loss: 58163.6121 - val_dense_4_loss: 7783.0959\n",
            "Epoch 20/100\n",
            " - 4s - loss: 213254.3534 - dense_1_loss: 0.5792 - dense_2_loss: 154090.1531 - dense_3_loss: 52132.1997 - dense_4_loss: 7031.4210 - val_loss: 220923.4476 - val_dense_1_loss: 0.6476 - val_dense_2_loss: 160690.9367 - val_dense_3_loss: 53435.7372 - val_dense_4_loss: 6796.1256\n",
            "Epoch 21/100\n"
          ],
          "name": "stdout"
        },
        {
          "output_type": "display_data",
          "data": {
            "image/png": "[encoded data removed]",
            "text/plain": [
              "<Figure size 432x288 with 32 Axes>"
            ]
          },
          "metadata": {
            "tags": []
          }
        },
        {
          "output_type": "stream",
          "text": [
            " - 5s - loss: 200224.9636 - dense_1_loss: 0.5786 - dense_2_loss: 146412.6739 - dense_3_loss: 47708.2753 - dense_4_loss: 6103.4353 - val_loss: 207048.0491 - val_dense_1_loss: 0.6581 - val_dense_2_loss: 152605.5898 - val_dense_3_loss: 48591.6218 - val_dense_4_loss: 5850.1792\n",
            "\tloss:\t2.0022e+05\n",
            "\tdense_1_loss:\t  0.57859\n",
            "\tdense_2_loss:\t1.4641e+05\n",
            "\tdense_3_loss:\t4.7708e+04\n",
            "\tdense_4_loss:\t   6103.4\n",
            "Epoch 22/100\n",
            " - 4s - loss: 187728.0919 - dense_1_loss: 0.5780 - dense_2_loss: 139096.7697 - dense_3_loss: 43401.5564 - dense_4_loss: 5229.1876 - val_loss: 193540.4278 - val_dense_1_loss: 0.6434 - val_dense_2_loss: 144693.2355 - val_dense_3_loss: 43894.7942 - val_dense_4_loss: 4951.7551\n",
            "Epoch 23/100\n",
            " - 4s - loss: 175551.8920 - dense_1_loss: 0.5744 - dense_2_loss: 132032.6260 - dense_3_loss: 39138.4037 - dense_4_loss: 4380.2883 - val_loss: 180880.8476 - val_dense_1_loss: 0.6390 - val_dense_2_loss: 137391.5429 - val_dense_3_loss: 39388.0132 - val_dense_4_loss: 4100.6522\n",
            "Epoch 24/100\n",
            " - 4s - loss: 163537.7478 - dense_1_loss: 0.5741 - dense_2_loss: 125034.4199 - dense_3_loss: 34923.8285 - dense_4_loss: 3578.9252 - val_loss: 168785.3765 - val_dense_1_loss: 0.6481 - val_dense_2_loss: 130435.1438 - val_dense_3_loss: 35040.5971 - val_dense_4_loss: 3308.9873\n",
            "Epoch 25/100\n",
            " - 4s - loss: 152784.3050 - dense_1_loss: 0.5711 - dense_2_loss: 118854.9784 - dense_3_loss: 31064.0330 - dense_4_loss: 2864.7227 - val_loss: 157328.7475 - val_dense_1_loss: 0.6446 - val_dense_2_loss: 123605.0866 - val_dense_3_loss: 31088.4032 - val_dense_4_loss: 2634.6136\n",
            "Epoch 26/100\n",
            " - 4s - loss: 142818.6642 - dense_1_loss: 0.5734 - dense_2_loss: 113119.1800 - dense_3_loss: 27479.0210 - dense_4_loss: 2219.8903 - val_loss: 147009.1611 - val_dense_1_loss: 0.6485 - val_dense_2_loss: 117850.4852 - val_dense_3_loss: 27165.4933 - val_dense_4_loss: 1992.5350\n",
            "Epoch 27/100\n",
            " - 4s - loss: 133029.7150 - dense_1_loss: 0.5713 - dense_2_loss: 107364.7653 - dense_3_loss: 24008.6202 - dense_4_loss: 1655.7585 - val_loss: 136335.1232 - val_dense_1_loss: 0.6461 - val_dense_2_loss: 111326.5996 - val_dense_3_loss: 23579.4121 - val_dense_4_loss: 1428.4667\n",
            "Epoch 28/100\n",
            " - 4s - loss: 124318.8561 - dense_1_loss: 0.5719 - dense_2_loss: 102135.7129 - dense_3_loss: 20986.9635 - dense_4_loss: 1195.6075 - val_loss: 127011.8073 - val_dense_1_loss: 0.6416 - val_dense_2_loss: 105642.1344 - val_dense_3_loss: 20370.2964 - val_dense_4_loss: 998.7359\n",
            "Epoch 29/100\n",
            " - 4s - loss: 115745.7352 - dense_1_loss: 0.5691 - dense_2_loss: 96830.8044 - dense_3_loss: 18090.6413 - dense_4_loss: 823.7211 - val_loss: 120233.1013 - val_dense_1_loss: 0.6364 - val_dense_2_loss: 101919.4664 - val_dense_3_loss: 17642.1933 - val_dense_4_loss: 670.8056\n",
            "Epoch 30/100\n",
            " - 4s - loss: 107941.8472 - dense_1_loss: 0.5693 - dense_2_loss: 91902.8477 - dense_3_loss: 15496.9172 - dense_4_loss: 541.5126 - val_loss: 109879.6206 - val_dense_1_loss: 0.6336 - val_dense_2_loss: 94670.7059 - val_dense_3_loss: 14777.2994 - val_dense_4_loss: 430.9808\n",
            "Epoch 31/100\n"
          ],
          "name": "stdout"
        },
        {
          "output_type": "display_data",
          "data": {
            "image/png": "[encoded data removed]",
            "text/plain": [
              "<Figure size 432x288 with 32 Axes>"
            ]
          },
          "metadata": {
            "tags": []
          }
        },
        {
          "output_type": "stream",
          "text": [
            " - 5s - loss: 100644.4641 - dense_1_loss: 0.5692 - dense_2_loss: 87159.7530 - dense_3_loss: 13146.7444 - dense_4_loss: 337.3974 - val_loss: 102266.5640 - val_dense_1_loss: 0.6384 - val_dense_2_loss: 89511.0333 - val_dense_3_loss: 12474.5874 - val_dense_4_loss: 280.3040\n",
            "\tloss:\t1.0064e+05\n",
            "\tdense_1_loss:\t  0.56923\n",
            "\tdense_2_loss:\t8.716e+04\n",
            "\tdense_3_loss:\t1.3147e+04\n",
            "\tdense_4_loss:\t    337.4\n",
            "Epoch 32/100\n",
            " - 4s - loss: 93634.4247 - dense_1_loss: 0.5689 - dense_2_loss: 82408.4870 - dense_3_loss: 11026.3094 - dense_4_loss: 199.0593 - val_loss: 94955.2186 - val_dense_1_loss: 0.6357 - val_dense_2_loss: 84427.8926 - val_dense_3_loss: 10370.5187 - val_dense_4_loss: 156.1715\n",
            "Epoch 33/100\n",
            " - 4s - loss: 87372.4491 - dense_1_loss: 0.5686 - dense_2_loss: 78076.1294 - dense_3_loss: 9185.5668 - dense_4_loss: 110.1842 - val_loss: 88289.8173 - val_dense_1_loss: 0.6342 - val_dense_2_loss: 79610.9296 - val_dense_3_loss: 8601.7569 - val_dense_4_loss: 76.4965\n",
            "Epoch 34/100\n",
            " - 4s - loss: 81270.3756 - dense_1_loss: 0.5664 - dense_2_loss: 73674.5566 - dense_3_loss: 7540.6425 - dense_4_loss: 54.6102 - val_loss: 82073.0115 - val_dense_1_loss: 0.6428 - val_dense_2_loss: 75140.8268 - val_dense_3_loss: 6893.4774 - val_dense_4_loss: 38.0644\n",
            "Epoch 35/100\n",
            " - 4s - loss: 75844.0191 - dense_1_loss: 0.5671 - dense_2_loss: 69682.4522 - dense_3_loss: 6137.4529 - dense_4_loss: 23.5471 - val_loss: 76304.4530 - val_dense_1_loss: 0.6353 - val_dense_2_loss: 70718.5853 - val_dense_3_loss: 5571.8876 - val_dense_4_loss: 13.3452\n",
            "Epoch 36/100\n",
            " - 4s - loss: 70832.3204 - dense_1_loss: 0.5666 - dense_2_loss: 65886.9524 - dense_3_loss: 4935.7177 - dense_4_loss: 9.0837 - val_loss: 71059.8526 - val_dense_1_loss: 0.6310 - val_dense_2_loss: 66659.5474 - val_dense_3_loss: 4394.7398 - val_dense_4_loss: 4.9343\n",
            "Epoch 37/100\n",
            " - 4s - loss: 66183.5650 - dense_1_loss: 0.5659 - dense_2_loss: 62266.3144 - dense_3_loss: 3913.4703 - dense_4_loss: 3.2145 - val_loss: 66580.3184 - val_dense_1_loss: 0.6338 - val_dense_2_loss: 62794.5110 - val_dense_3_loss: 3782.8503 - val_dense_4_loss: 2.3228\n",
            "Epoch 38/100\n",
            " - 4s - loss: 61584.5001 - dense_1_loss: 0.5656 - dense_2_loss: 58535.7195 - dense_3_loss: 3046.5589 - dense_4_loss: 1.6561 - val_loss: 61562.0234 - val_dense_1_loss: 0.6367 - val_dense_2_loss: 58907.4815 - val_dense_3_loss: 2652.5566 - val_dense_4_loss: 1.3488\n",
            "Epoch 39/100\n",
            " - 4s - loss: 57435.9750 - dense_1_loss: 0.5653 - dense_2_loss: 55091.2718 - dense_3_loss: 2342.9153 - dense_4_loss: 1.2225 - val_loss: 57306.7305 - val_dense_1_loss: 0.6346 - val_dense_2_loss: 55263.8842 - val_dense_3_loss: 2041.3491 - val_dense_4_loss: 0.8627\n",
            "Epoch 40/100\n",
            " - 4s - loss: 53534.0373 - dense_1_loss: 0.5654 - dense_2_loss: 51784.8491 - dense_3_loss: 1747.5203 - dense_4_loss: 1.1025 - val_loss: 53369.5571 - val_dense_1_loss: 0.6332 - val_dense_2_loss: 51915.9987 - val_dense_3_loss: 1452.2594 - val_dense_4_loss: 0.6662\n",
            "Epoch 41/100\n"
          ],
          "name": "stdout"
        },
        {
          "output_type": "display_data",
          "data": {
            "image/png": "[encoded data removed]",
            "text/plain": [
              "<Figure size 432x288 with 32 Axes>"
            ]
          },
          "metadata": {
            "tags": []
          }
        },
        {
          "output_type": "stream",
          "text": [
            " - 5s - loss: 49875.3201 - dense_1_loss: 0.5650 - dense_2_loss: 48601.0454 - dense_3_loss: 1272.8014 - dense_4_loss: 0.9082 - val_loss: 49852.1338 - val_dense_1_loss: 0.6346 - val_dense_2_loss: 48790.3584 - val_dense_3_loss: 1060.5932 - val_dense_4_loss: 0.5476\n",
            "\tloss:\t4.9875e+04\n",
            "\tdense_1_loss:\t  0.56499\n",
            "\tdense_2_loss:\t4.8601e+04\n",
            "\tdense_3_loss:\t   1272.8\n",
            "\tdense_4_loss:\t  0.90815\n",
            "Epoch 42/100\n",
            " - 4s - loss: 46393.1091 - dense_1_loss: 0.5650 - dense_2_loss: 45482.4430 - dense_3_loss: 909.3313 - dense_4_loss: 0.7697 - val_loss: 46404.9829 - val_dense_1_loss: 0.6385 - val_dense_2_loss: 45661.9345 - val_dense_3_loss: 741.8227 - val_dense_4_loss: 0.5872\n",
            "Epoch 43/100\n",
            " - 4s - loss: 43219.1804 - dense_1_loss: 0.5658 - dense_2_loss: 42596.9577 - dense_3_loss: 620.9975 - dense_4_loss: 0.6593 - val_loss: 42636.3582 - val_dense_1_loss: 0.6342 - val_dense_2_loss: 42145.4835 - val_dense_3_loss: 489.8562 - val_dense_4_loss: 0.3844\n",
            "Epoch 44/100\n",
            " - 4s - loss: 40052.2605 - dense_1_loss: 0.5654 - dense_2_loss: 39645.2957 - dense_3_loss: 405.7661 - dense_4_loss: 0.6334 - val_loss: 39429.4984 - val_dense_1_loss: 0.6489 - val_dense_2_loss: 39107.5052 - val_dense_3_loss: 321.0067 - val_dense_4_loss: 0.3376\n",
            "Epoch 45/100\n",
            " - 4s - loss: 37051.1913 - dense_1_loss: 0.5642 - dense_2_loss: 36800.0969 - dense_3_loss: 249.9548 - dense_4_loss: 0.5754 - val_loss: 36308.7482 - val_dense_1_loss: 0.6350 - val_dense_2_loss: 36118.1404 - val_dense_3_loss: 189.6449 - val_dense_4_loss: 0.3279\n",
            "Epoch 46/100\n",
            " - 4s - loss: 34201.8772 - dense_1_loss: 0.5639 - dense_2_loss: 34059.4159 - dense_3_loss: 141.3314 - dense_4_loss: 0.5659 - val_loss: 33512.4535 - val_dense_1_loss: 0.6318 - val_dense_2_loss: 33418.8427 - val_dense_3_loss: 92.5626 - val_dense_4_loss: 0.4166\n",
            "Epoch 47/100\n",
            " - 4s - loss: 31591.2393 - dense_1_loss: 0.5633 - dense_2_loss: 31517.0018 - dense_3_loss: 73.1585 - dense_4_loss: 0.5157 - val_loss: 30754.1888 - val_dense_1_loss: 0.6310 - val_dense_2_loss: 30706.1487 - val_dense_3_loss: 47.0298 - val_dense_4_loss: 0.3792\n",
            "Epoch 48/100\n",
            " - 4s - loss: 29098.0641 - dense_1_loss: 0.5646 - dense_2_loss: 29063.3840 - dense_3_loss: 33.6335 - dense_4_loss: 0.4821 - val_loss: 28486.9443 - val_dense_1_loss: 0.6280 - val_dense_2_loss: 28468.0480 - val_dense_3_loss: 17.8818 - val_dense_4_loss: 0.3866\n",
            "Epoch 49/100\n",
            " - 4s - loss: 26700.4849 - dense_1_loss: 0.5628 - dense_2_loss: 26686.0316 - dense_3_loss: 13.4093 - dense_4_loss: 0.4812 - val_loss: 25790.2447 - val_dense_1_loss: 0.6309 - val_dense_2_loss: 25781.5763 - val_dense_3_loss: 6.8447 - val_dense_4_loss: 1.1929\n",
            "Epoch 50/100\n",
            " - 4s - loss: 24396.0836 - dense_1_loss: 0.5621 - dense_2_loss: 24389.2843 - dense_3_loss: 5.7647 - dense_4_loss: 0.4725 - val_loss: 23459.4049 - val_dense_1_loss: 0.6359 - val_dense_2_loss: 23452.6087 - val_dense_3_loss: 5.8084 - val_dense_4_loss: 0.3518\n",
            "Epoch 51/100\n"
          ],
          "name": "stdout"
        },
        {
          "output_type": "display_data",
          "data": {
            "image/png": "[encoded data removed]",
            "text/plain": [
              "<Figure size 432x288 with 32 Axes>"
            ]
          },
          "metadata": {
            "tags": []
          }
        },
        {
          "output_type": "stream",
          "text": [
            " - 5s - loss: 22159.4045 - dense_1_loss: 0.5605 - dense_2_loss: 22154.8215 - dense_3_loss: 3.5768 - dense_4_loss: 0.4458 - val_loss: 21196.2012 - val_dense_1_loss: 0.6361 - val_dense_2_loss: 21192.8873 - val_dense_3_loss: 2.3370 - val_dense_4_loss: 0.3409\n",
            "\tloss:\t2.2159e+04\n",
            "\tdense_1_loss:\t  0.56053\n",
            "\tdense_2_loss:\t2.2155e+04\n",
            "\tdense_3_loss:\t   3.5768\n",
            "\tdense_4_loss:\t  0.44576\n",
            "Epoch 52/100\n",
            " - 4s - loss: 19999.5971 - dense_1_loss: 0.5627 - dense_2_loss: 19995.7277 - dense_3_loss: 2.8530 - dense_4_loss: 0.4536 - val_loss: 19449.9460 - val_dense_1_loss: 0.6299 - val_dense_2_loss: 19446.5329 - val_dense_3_loss: 2.3857 - val_dense_4_loss: 0.3975\n",
            "Epoch 53/100\n",
            " - 4s - loss: 17972.9070 - dense_1_loss: 0.5603 - dense_2_loss: 17969.4425 - dense_3_loss: 2.4784 - dense_4_loss: 0.4257 - val_loss: 16960.7432 - val_dense_1_loss: 0.6312 - val_dense_2_loss: 16956.8472 - val_dense_3_loss: 2.9564 - val_dense_4_loss: 0.3084\n",
            "Epoch 54/100\n",
            " - 4s - loss: 16047.4630 - dense_1_loss: 0.5614 - dense_2_loss: 16044.3045 - dense_3_loss: 2.1546 - dense_4_loss: 0.4425 - val_loss: 15041.9751 - val_dense_1_loss: 0.6358 - val_dense_2_loss: 15038.7997 - val_dense_3_loss: 1.8900 - val_dense_4_loss: 0.6496\n",
            "Epoch 55/100\n",
            " - 4s - loss: 14310.8875 - dense_1_loss: 0.5607 - dense_2_loss: 14307.9935 - dense_3_loss: 1.8784 - dense_4_loss: 0.4550 - val_loss: 13325.3053 - val_dense_1_loss: 0.6380 - val_dense_2_loss: 13323.2158 - val_dense_3_loss: 1.1710 - val_dense_4_loss: 0.2803\n",
            "Epoch 56/100\n",
            " - 4s - loss: 12616.2089 - dense_1_loss: 0.5611 - dense_2_loss: 12613.5661 - dense_3_loss: 1.6582 - dense_4_loss: 0.4235 - val_loss: 11687.8370 - val_dense_1_loss: 0.6283 - val_dense_2_loss: 11685.8110 - val_dense_3_loss: 1.0624 - val_dense_4_loss: 0.3353\n",
            "Epoch 57/100\n",
            " - 4s - loss: 11103.1911 - dense_1_loss: 0.5600 - dense_2_loss: 11100.7724 - dense_3_loss: 1.4150 - dense_4_loss: 0.4437 - val_loss: 10198.3508 - val_dense_1_loss: 0.6310 - val_dense_2_loss: 10196.4981 - val_dense_3_loss: 0.8966 - val_dense_4_loss: 0.3252\n",
            "Epoch 58/100\n",
            " - 4s - loss: 9678.6351 - dense_1_loss: 0.5610 - dense_2_loss: 9676.3050 - dense_3_loss: 1.3512 - dense_4_loss: 0.4179 - val_loss: 8813.0286 - val_dense_1_loss: 0.6445 - val_dense_2_loss: 8810.1673 - val_dense_3_loss: 0.8424 - val_dense_4_loss: 1.3744\n",
            "Epoch 59/100\n",
            " - 4s - loss: 8341.1749 - dense_1_loss: 0.5607 - dense_2_loss: 8338.8569 - dense_3_loss: 1.3401 - dense_4_loss: 0.4172 - val_loss: 7805.0118 - val_dense_1_loss: 0.6321 - val_dense_2_loss: 7803.3376 - val_dense_3_loss: 0.7661 - val_dense_4_loss: 0.2761\n",
            "Epoch 60/100\n",
            " - 4s - loss: 7143.7423 - dense_1_loss: 0.5608 - dense_2_loss: 7141.6318 - dense_3_loss: 1.0927 - dense_4_loss: 0.4570 - val_loss: 6485.4876 - val_dense_1_loss: 0.6289 - val_dense_2_loss: 6483.5263 - val_dense_3_loss: 1.0429 - val_dense_4_loss: 0.2896\n",
            "Epoch 61/100\n"
          ],
          "name": "stdout"
        },
        {
          "output_type": "display_data",
          "data": {
            "image/png": "[encoded data removed]",
            "text/plain": [
              "<Figure size 432x288 with 32 Axes>"
            ]
          },
          "metadata": {
            "tags": []
          }
        },
        {
          "output_type": "stream",
          "text": [
            " - 5s - loss: 6054.1427 - dense_1_loss: 0.5598 - dense_2_loss: 6051.9725 - dense_3_loss: 1.1889 - dense_4_loss: 0.4215 - val_loss: 5371.4783 - val_dense_1_loss: 0.6290 - val_dense_2_loss: 5369.8293 - val_dense_3_loss: 0.7860 - val_dense_4_loss: 0.2340\n",
            "\tloss:\t   6054.1\n",
            "\tdense_1_loss:\t  0.55982\n",
            "\tdense_2_loss:\t   6052.0\n",
            "\tdense_3_loss:\t   1.1889\n",
            "\tdense_4_loss:\t  0.42155\n",
            "Epoch 62/100\n",
            " - 4s - loss: 5053.2120 - dense_1_loss: 0.5586 - dense_2_loss: 5051.1384 - dense_3_loss: 1.0734 - dense_4_loss: 0.4416 - val_loss: 4439.2112 - val_dense_1_loss: 0.6376 - val_dense_2_loss: 4436.6872 - val_dense_3_loss: 1.1106 - val_dense_4_loss: 0.7758\n",
            "Epoch 63/100\n",
            " - 4s - loss: 4174.5543 - dense_1_loss: 0.5586 - dense_2_loss: 4172.6319 - dense_3_loss: 0.9421 - dense_4_loss: 0.4217 - val_loss: 3640.7425 - val_dense_1_loss: 0.6318 - val_dense_2_loss: 3639.2677 - val_dense_3_loss: 0.6184 - val_dense_4_loss: 0.2246\n",
            "Epoch 64/100\n",
            " - 4s - loss: 3379.0177 - dense_1_loss: 0.5594 - dense_2_loss: 3377.0483 - dense_3_loss: 0.9913 - dense_4_loss: 0.4187 - val_loss: 2899.3856 - val_dense_1_loss: 0.6358 - val_dense_2_loss: 2897.9176 - val_dense_3_loss: 0.6141 - val_dense_4_loss: 0.2181\n",
            "Epoch 65/100\n",
            " - 4s - loss: 2699.2265 - dense_1_loss: 0.5606 - dense_2_loss: 2697.1885 - dense_3_loss: 1.0460 - dense_4_loss: 0.4313 - val_loss: 2385.1165 - val_dense_1_loss: 0.6330 - val_dense_2_loss: 2382.8156 - val_dense_3_loss: 1.2746 - val_dense_4_loss: 0.3935\n",
            "Epoch 66/100\n",
            " - 4s - loss: 2121.8543 - dense_1_loss: 0.5586 - dense_2_loss: 2119.8887 - dense_3_loss: 1.0226 - dense_4_loss: 0.3844 - val_loss: 1893.2546 - val_dense_1_loss: 0.6338 - val_dense_2_loss: 1891.7250 - val_dense_3_loss: 0.5759 - val_dense_4_loss: 0.3199\n",
            "Epoch 67/100\n",
            " - 4s - loss: 1639.1640 - dense_1_loss: 0.5573 - dense_2_loss: 1637.2208 - dense_3_loss: 1.0024 - dense_4_loss: 0.3834 - val_loss: 1367.5274 - val_dense_1_loss: 0.6266 - val_dense_2_loss: 1365.6816 - val_dense_3_loss: 0.6677 - val_dense_4_loss: 0.5515\n",
            "Epoch 68/100\n",
            " - 4s - loss: 1237.1388 - dense_1_loss: 0.5602 - dense_2_loss: 1235.2975 - dense_3_loss: 0.8811 - dense_4_loss: 0.3999 - val_loss: 1035.9134 - val_dense_1_loss: 0.6214 - val_dense_2_loss: 1033.4886 - val_dense_3_loss: 0.5359 - val_dense_4_loss: 1.2676\n",
            "Epoch 69/100\n",
            " - 4s - loss: 912.8141 - dense_1_loss: 0.5581 - dense_2_loss: 910.8950 - dense_3_loss: 0.9468 - dense_4_loss: 0.4141 - val_loss: 724.9086 - val_dense_1_loss: 0.6247 - val_dense_2_loss: 722.0583 - val_dense_3_loss: 1.7059 - val_dense_4_loss: 0.5197\n",
            "Epoch 70/100\n",
            " - 4s - loss: 651.0141 - dense_1_loss: 0.5593 - dense_2_loss: 649.0866 - dense_3_loss: 0.9363 - dense_4_loss: 0.4320 - val_loss: 545.5407 - val_dense_1_loss: 0.6235 - val_dense_2_loss: 543.6700 - val_dense_3_loss: 1.0304 - val_dense_4_loss: 0.2168\n",
            "Epoch 71/100\n"
          ],
          "name": "stdout"
        },
        {
          "output_type": "display_data",
          "data": {
            "image/png": "[encoded data removed]",
            "text/plain": [
              "<Figure size 432x288 with 32 Axes>"
            ]
          },
          "metadata": {
            "tags": []
          }
        },
        {
          "output_type": "stream",
          "text": [
            " - 5s - loss: 449.9744 - dense_1_loss: 0.5572 - dense_2_loss: 448.0158 - dense_3_loss: 0.9428 - dense_4_loss: 0.4587 - val_loss: 365.1067 - val_dense_1_loss: 0.6318 - val_dense_2_loss: 362.6977 - val_dense_3_loss: 0.7219 - val_dense_4_loss: 1.0554\n",
            "\tloss:\t   449.97\n",
            "\tdense_1_loss:\t   0.5572\n",
            "\tdense_2_loss:\t   448.02\n",
            "\tdense_3_loss:\t  0.94279\n",
            "\tdense_4_loss:\t  0.45868\n",
            "Epoch 72/100\n",
            " - 4s - loss: 291.5121 - dense_1_loss: 0.5587 - dense_2_loss: 289.6423 - dense_3_loss: 0.8823 - dense_4_loss: 0.4288 - val_loss: 211.8553 - val_dense_1_loss: 0.6238 - val_dense_2_loss: 210.3605 - val_dense_3_loss: 0.6189 - val_dense_4_loss: 0.2521\n",
            "Epoch 73/100\n",
            " - 4s - loss: 177.2632 - dense_1_loss: 0.5594 - dense_2_loss: 175.3342 - dense_3_loss: 0.9615 - dense_4_loss: 0.4082 - val_loss: 132.7399 - val_dense_1_loss: 0.6228 - val_dense_2_loss: 131.3807 - val_dense_3_loss: 0.5252 - val_dense_4_loss: 0.2112\n",
            "Epoch 74/100\n"
          ],
          "name": "stdout"
        }
      ]
    },
    {
      "cell_type": "code",
      "metadata": {
        "id": "MBPIJLVk-2_Q",
        "colab_type": "code",
        "colab": {}
      },
      "source": [
        "# График функций точности и качества модели (потерь)\n",
        "\n",
        "plt.plot(history.history['acc'])\n",
        "plt.plot(history.history['val_acc'])\n",
        "plt.title('График точности модели')\n",
        "plt.ylabel('Точность')\n",
        "plt.xlabel('Эпоха')\n",
        "plt.legend(['train', 'test'], loc='upper left')\n",
        "plt.show()\n",
        "\n",
        "plt.plot(history.history['loss'])\n",
        "plt.plot(history.history['val_loss'])\n",
        "plt.title('График качества модели')\n",
        "plt.ylabel('Ошибка')\n",
        "plt.xlabel('Эпоха')\n",
        "plt.legend(['train', 'test'], loc='upper left')\n",
        "plt.show()"
      ],
      "execution_count": 0,
      "outputs": []
    },
    {
      "cell_type": "code",
      "metadata": {
        "id": "0Cmnb6_c0E-2",
        "colab_type": "code",
        "colab": {}
      },
      "source": [
        "# Оцениваем качество обучения модели на тестовых данных\n",
        "# y_counts = [int(y_test[i].sum()) for i in range(y_test.shape[0])]\n",
        "# scores = model.evaluate(x_test.reshape(x_test.shape[0],10,10,1), y_counts, verbose=0)\n",
        "# print(\"Точность работы на тестовых данных: %.2f%%\" % (scores[1]*100))"
      ],
      "execution_count": 0,
      "outputs": []
    },
    {
      "cell_type": "code",
      "metadata": {
        "id": "rz1HpSIEjusr",
        "colab_type": "code",
        "colab": {}
      },
      "source": [
        "# подключаем библтотеки\n",
        "\n",
        "import numpy\n",
        "\n",
        "from keras.models import Model, Sequential\n",
        "from keras.layers import Input, Dense, Flatten, Activation, Concatenate, Add\n",
        "from keras.layers import Dropout\n",
        "from keras.layers.convolutional import Conv1D, Conv2D, MaxPooling2D, AveragePooling2D\n",
        "from keras.optimizers import SGD\n",
        "from keras import layers, initializers"
      ],
      "execution_count": 0,
      "outputs": []
    },
    {
      "cell_type": "code",
      "metadata": {
        "id": "vhdrVjHQO8Fr",
        "colab_type": "code",
        "colab": {}
      },
      "source": [
        "# функция для создания модели с весами, инициализированными конкретным seed\n",
        "\n",
        "def create_model(seed=0):\n",
        "  # Задаем seed для повторяемости результатов\n",
        "  numpy.random.seed(seed)\n",
        "\n",
        "  layer_input = Input(shape=(10,10,1), name='input')\n",
        "\n",
        "  # ветвь со слоем свертки для 4-палубников\n",
        "  layer_conv_4h = Conv2D(1, (3, 6), padding='same', activation='relu', name='conv_4h')(layer_input)\n",
        "  layer_conv_4v = Conv2D(1, (6, 3), padding='same', activation='relu', name='conv_4v')(layer_input)\n",
        "\n",
        "  layer_flatten_4h = Flatten(name='flatten_4h')(layer_conv_4h)\n",
        "  layer_flatten_4v = Flatten(name='flatten_4v')(layer_conv_4v)\n",
        "\n",
        "  layer_dense_4h = Dense(1, activation='relu', name='dense_4h')(layer_flatten_4h)\n",
        "  layer_dense_4v = Dense(1, activation='relu', name='dense_4v')(layer_flatten_4v)\n",
        "\n",
        "  # ветвь со слоем свертки для 3-палубников\n",
        "  layer_conv_3h = Conv2D(1, (3, 5), padding='same', activation='relu', name='conv_3h')(layer_input)\n",
        "  layer_conv_3v = Conv2D(1, (5, 3), padding='same', activation='relu', name='conv_3v')(layer_input)\n",
        "\n",
        "  layer_flatten_3h = Flatten(name='flatten_3h')(layer_conv_3h)\n",
        "  layer_flatten_3v = Flatten(name='flatten_3v')(layer_conv_3v)\n",
        "\n",
        "  layer_dense_3h = Dense(1, activation='relu', name='dense_3h')(layer_flatten_3h)\n",
        "  layer_dense_3v = Dense(1, activation='relu', name='dense_3v')(layer_flatten_3v)\n",
        "\n",
        "  # ветвь со слоем свертки для 2-палубников\n",
        "  layer_conv_2h = Conv2D(1, (3, 4), padding='same', activation='relu', name='conv_2h')(layer_input)\n",
        "  layer_conv_2v = Conv2D(1, (4, 3), padding='same', activation='relu', name='conv_2v')(layer_input)\n",
        "\n",
        "  layer_flatten_2h = Flatten(name='flatten_2h')(layer_conv_2h)\n",
        "  layer_flatten_2v = Flatten(name='flatten_2v')(layer_conv_2v)\n",
        "\n",
        "  layer_dense_2h = Dense(1, activation='relu', name='dense_2h')(layer_flatten_2h)\n",
        "  layer_dense_2v = Dense(1, activation='relu', name='dense_2v')(layer_flatten_2v)\n",
        "\n",
        "  # ветвь со слоем свертки для 1-палубников\n",
        "  layer_conv_1 = Conv2D(1, (3, 3), padding='same', activation='relu', name='conv_1')(layer_input)\n",
        "  layer_flatten_1 = Flatten(name='flatten_1')(layer_conv_1)\n",
        "  layer_dense_1 = Dense(1, activation='relu', name='dense_1')(layer_flatten_1)\n",
        "\n",
        "  # соединяем ветви со светочными слоями\n",
        "  # layer_add = Add(name='add')([layer_dense_1, layer_dense_2, layer_dense_3, layer_dense_4])\n",
        "  # out = keras.layers.Dense(4)(added)\n",
        "\n",
        "  model_custom = Model(inputs=[layer_input], outputs=[layer_dense_1, \\\n",
        "                                                      layer_dense_2h, layer_dense_2v, \\\n",
        "                                                      layer_dense_3h, layer_dense_3v, \\\n",
        "                                                      layer_dense_4h, layer_dense_4v\n",
        "                                                     ])\n",
        "  \n",
        "  return model_custom"
      ],
      "execution_count": 0,
      "outputs": []
    },
    {
      "cell_type": "code",
      "metadata": {
        "id": "zX-gzWovS3P0",
        "colab_type": "code",
        "outputId": "bcf00d20-eef1-4394-cb31-31918f8ae575",
        "colab": {
          "base_uri": "https://localhost:8080/",
          "height": 378
        }
      },
      "source": [
        "# сохранение графа модели в png-файл\n",
        "\n",
        "from keras.utils import plot_model\n",
        "plot_model(create_model(0), show_shapes=True, to_file='model_custom.png')\n",
        "\n",
        "im = image.load_img('model_custom.png')\n",
        "plt.figure(figsize=(40,20))\n",
        "plt.axis('off')\n",
        "plt.imshow(im);\n",
        "\n",
        "# model_count_ships.summary()"
      ],
      "execution_count": 0,
      "outputs": [
        {
          "output_type": "display_data",
          "data": {
            "image/png": "[encoded data removed]",
            "text/plain": [
              "<Figure size 2880x1440 with 1 Axes>"
            ]
          },
          "metadata": {
            "tags": []
          }
        }
      ]
    },
    {
      "cell_type": "code",
      "metadata": {
        "id": "nPM7nfwLT8tf",
        "colab_type": "code",
        "colab": {}
      },
      "source": [
        "# класс для колбак-функции, вызываемой в процессе обучения модели\n",
        "\n",
        "import keras\n",
        "\n",
        "class PlotConvCallBack(keras.callbacks.Callback):\n",
        "    def on_train_begin(self, logs={}):\n",
        "        self.losses = []\n",
        "    \n",
        "    def on_train_end(self, logs={}):\n",
        "        fig, ax = plt.subplots(4, 2)\n",
        "    \n",
        "        for i in range(4):\n",
        "          for j in range(2):\n",
        "            ax[i, j].axis('off') \n",
        "\n",
        "        conv_layer_names = [['conv_1'], \n",
        "                            ['conv_2h', 'conv_2v'], \\\n",
        "                            ['conv_3h', 'conv_3v'], \\\n",
        "                            ['conv_4h', 'conv_4v']]\n",
        "        \n",
        "        for i, layer_names in enumerate(conv_layer_names):\n",
        "          for j, layer_name in enumerate(layer_names):\n",
        "            conv_layer = self.model.get_layer(layer_name)\n",
        "            conv_layer_shape = conv_layer.get_config()['kernel_size']\n",
        "\n",
        "            conv_weight_tensor = conv_layer.get_weights()[0]  #[:,:,:,1]\n",
        "            ax[i, j].imshow(conv_weight_tensor.reshape(conv_layer_shape))\n",
        "\n",
        "        plt.show()\n",
        "\n",
        "        \n",
        "#     def on_epoch_begin(self, epoch, logs={}):\n",
        "#         if epoch%10 != 0:\n",
        "#           return\n",
        "            \n",
        "#     def on_epoch_end(self, epoch, logs={}):\n",
        "#         if epoch%10 != 0:\n",
        "#             return\n",
        "\n",
        "#         for k, v in logs.items():\n",
        "#             if k.find('val_') == -1:\n",
        "#                 print(f'\\t{k}:\\t{v:9.5}')\n",
        "        \n",
        "#     def on_batch_begin(self, batch, logs={}):\n",
        "#       return\n",
        "\n",
        "#     def on_batch_end(self, batch, logs={}):\n",
        "#       return"
      ],
      "execution_count": 0,
      "outputs": []
    },
    {
      "cell_type": "code",
      "metadata": {
        "id": "G6p0s2AnSxe_",
        "colab_type": "code",
        "outputId": "82907b5d-3d99-46d8-a804-f923e94d7f9c",
        "colab": {
          "base_uri": "https://localhost:8080/",
          "height": 4204
        }
      },
      "source": [
        "# Размер мини-выборки\n",
        "batch_size = 1\n",
        "# Количество эпох для обучения\n",
        "nb_epoch = 20\n",
        "\n",
        "# Задаем параметры оптимизации\n",
        "# функция потерь mse\n",
        "\n",
        "# sgd = SGD(lr=0.001, decay=0.000001, momentum=0.9, nesterov=True)\n",
        "\n",
        "models = {}\n",
        "\n",
        "for seed in range(4):\n",
        "  print(f'\\nSeed = {seed}\\n')\n",
        "  \n",
        "  model_custom = create_model(seed)\n",
        "  \n",
        "  model_custom.compile(loss='mse',\n",
        "                optimizer='adam',\n",
        "                metrics=[])\n",
        "\n",
        "  plot_conv_matrix = PlotConvCallBack()\n",
        "\n",
        "  # подсчитываем число \"правильных\" кораблей (задача регрессии)\n",
        "\n",
        "  # Обучаем модель\n",
        "  history = model_custom.fit(\n",
        "              X.reshape(NUM_SAMPLES,10,10,1),         \n",
        "              [\n",
        "                  [int(Y1[i].sum()) for i in range(NUM_SAMPLES)],\n",
        "                  [int(Y2h[i].sum()) for i in range(NUM_SAMPLES)],\n",
        "                  [int(Y2v[i].sum()) for i in range(NUM_SAMPLES)],\n",
        "                  [int(Y3h[i].sum()) for i in range(NUM_SAMPLES)],\n",
        "                  [int(Y3v[i].sum()) for i in range(NUM_SAMPLES)],\n",
        "                  [int(Y4h[i].sum()) for i in range(NUM_SAMPLES)],\n",
        "                  [int(Y4v[i].sum()) for i in range(NUM_SAMPLES)]\n",
        "              ],\n",
        "              batch_size=batch_size,\n",
        "              epochs=nb_epoch,\n",
        "#               validation_split=0.1,\n",
        "              shuffle=True,\n",
        "              callbacks=[plot_conv_matrix],\n",
        "              verbose=1)\n",
        "  \n",
        "  models[seed] = (model_custom, history)  "
      ],
      "execution_count": 0,
      "outputs": [
        {
          "output_type": "stream",
          "text": [
            "\n",
            "Seed = 0\n",
            "\n",
            "Epoch 1/20\n",
            "10000/10000 [==============================] - 35s 3ms/step - loss: 3.5924 - dense_1_loss: 1.2299 - dense_2h_loss: 0.6222 - dense_2v_loss: 0.5947 - dense_3h_loss: 0.4376 - dense_3v_loss: 0.3689 - dense_4h_loss: 0.1726 - dense_4v_loss: 0.1665\n",
            "Epoch 2/20\n",
            "10000/10000 [==============================] - 32s 3ms/step - loss: 2.7507 - dense_1_loss: 0.9291 - dense_2h_loss: 0.4921 - dense_2v_loss: 0.4417 - dense_3h_loss: 0.3357 - dense_3v_loss: 0.2934 - dense_4h_loss: 0.1305 - dense_4v_loss: 0.1280\n",
            "Epoch 3/20\n",
            "10000/10000 [==============================] - 32s 3ms/step - loss: 2.5203 - dense_1_loss: 0.8471 - dense_2h_loss: 0.4356 - dense_2v_loss: 0.3686 - dense_3h_loss: 0.3258 - dense_3v_loss: 0.2875 - dense_4h_loss: 0.1288 - dense_4v_loss: 0.1268\n",
            "Epoch 4/20\n",
            "10000/10000 [==============================] - 32s 3ms/step - loss: 2.3456 - dense_1_loss: 0.7915 - dense_2h_loss: 0.3781 - dense_2v_loss: 0.3193 - dense_3h_loss: 0.3217 - dense_3v_loss: 0.2817 - dense_4h_loss: 0.1275 - dense_4v_loss: 0.1258\n",
            "Epoch 5/20\n",
            "10000/10000 [==============================] - 32s 3ms/step - loss: 2.1946 - dense_1_loss: 0.7533 - dense_2h_loss: 0.3193 - dense_2v_loss: 0.2723 - dense_3h_loss: 0.3187 - dense_3v_loss: 0.2783 - dense_4h_loss: 0.1265 - dense_4v_loss: 0.1262\n",
            "Epoch 6/20\n",
            "10000/10000 [==============================] - 33s 3ms/step - loss: 2.0425 - dense_1_loss: 0.7185 - dense_2h_loss: 0.2682 - dense_2v_loss: 0.2094 - dense_3h_loss: 0.3166 - dense_3v_loss: 0.2774 - dense_4h_loss: 0.1265 - dense_4v_loss: 0.1259\n",
            "Epoch 7/20\n",
            "10000/10000 [==============================] - 33s 3ms/step - loss: 1.7660 - dense_1_loss: 0.6923 - dense_2h_loss: 0.1521 - dense_2v_loss: 0.0813 - dense_3h_loss: 0.3146 - dense_3v_loss: 0.2732 - dense_4h_loss: 0.1265 - dense_4v_loss: 0.1261\n",
            "Epoch 8/20\n",
            "10000/10000 [==============================] - 32s 3ms/step - loss: 1.5519 - dense_1_loss: 0.6729 - dense_2h_loss: 0.0368 - dense_2v_loss: 0.0043 - dense_3h_loss: 0.3132 - dense_3v_loss: 0.2728 - dense_4h_loss: 0.1263 - dense_4v_loss: 0.1256\n",
            "Epoch 9/20\n",
            "10000/10000 [==============================] - 33s 3ms/step - loss: 1.4957 - dense_1_loss: 0.6587 - dense_2h_loss: 3.5130e-04 - dense_2v_loss: 8.3284e-05 - dense_3h_loss: 0.3120 - dense_3v_loss: 0.2723 - dense_4h_loss: 0.1269 - dense_4v_loss: 0.1253\n",
            "Epoch 10/20\n",
            "10000/10000 [==============================] - 32s 3ms/step - loss: 1.4782 - dense_1_loss: 0.6434 - dense_2h_loss: 7.6923e-05 - dense_2v_loss: 8.1275e-05 - dense_3h_loss: 0.3106 - dense_3v_loss: 0.2724 - dense_4h_loss: 0.1262 - dense_4v_loss: 0.1254\n",
            "Epoch 11/20\n",
            "10000/10000 [==============================] - 33s 3ms/step - loss: 1.4679 - dense_1_loss: 0.6358 - dense_2h_loss: 8.1476e-05 - dense_2v_loss: 8.0104e-05 - dense_3h_loss: 0.3097 - dense_3v_loss: 0.2706 - dense_4h_loss: 0.1256 - dense_4v_loss: 0.1260\n",
            "Epoch 12/20\n",
            "10000/10000 [==============================] - 33s 3ms/step - loss: 1.4611 - dense_1_loss: 0.6279 - dense_2h_loss: 7.2796e-05 - dense_2v_loss: 8.3092e-05 - dense_3h_loss: 0.3100 - dense_3v_loss: 0.2713 - dense_4h_loss: 0.1261 - dense_4v_loss: 0.1257\n",
            "Epoch 13/20\n",
            "10000/10000 [==============================] - 32s 3ms/step - loss: 1.4506 - dense_1_loss: 0.6199 - dense_2h_loss: 8.1399e-05 - dense_2v_loss: 8.2683e-05 - dense_3h_loss: 0.3097 - dense_3v_loss: 0.2702 - dense_4h_loss: 0.1255 - dense_4v_loss: 0.1251\n",
            "Epoch 14/20\n",
            "10000/10000 [==============================] - 32s 3ms/step - loss: 1.4438 - dense_1_loss: 0.6142 - dense_2h_loss: 7.6253e-05 - dense_2v_loss: 7.7559e-05 - dense_3h_loss: 0.3095 - dense_3v_loss: 0.2702 - dense_4h_loss: 0.1246 - dense_4v_loss: 0.1251\n",
            "Epoch 15/20\n",
            "10000/10000 [==============================] - 32s 3ms/step - loss: 1.4411 - dense_1_loss: 0.6119 - dense_2h_loss: 8.4043e-05 - dense_2v_loss: 7.9340e-05 - dense_3h_loss: 0.3098 - dense_3v_loss: 0.2687 - dense_4h_loss: 0.1245 - dense_4v_loss: 0.1260\n",
            "Epoch 16/20\n",
            "10000/10000 [==============================] - 33s 3ms/step - loss: 1.4343 - dense_1_loss: 0.6044 - dense_2h_loss: 7.4837e-05 - dense_2v_loss: 7.8991e-05 - dense_3h_loss: 0.3099 - dense_3v_loss: 0.2691 - dense_4h_loss: 0.1249 - dense_4v_loss: 0.1259\n",
            "Epoch 17/20\n",
            "10000/10000 [==============================] - 33s 3ms/step - loss: 1.4305 - dense_1_loss: 0.6040 - dense_2h_loss: 8.0921e-05 - dense_2v_loss: 8.5902e-05 - dense_3h_loss: 0.3093 - dense_3v_loss: 0.2684 - dense_4h_loss: 0.1239 - dense_4v_loss: 0.1247\n",
            "Epoch 18/20\n",
            "10000/10000 [==============================] - 33s 3ms/step - loss: 1.4300 - dense_1_loss: 0.6026 - dense_2h_loss: 7.8997e-05 - dense_2v_loss: 7.5783e-05 - dense_3h_loss: 0.3095 - dense_3v_loss: 0.2688 - dense_4h_loss: 0.1242 - dense_4v_loss: 0.1247\n",
            "Epoch 19/20\n",
            "10000/10000 [==============================] - 32s 3ms/step - loss: 1.4261 - dense_1_loss: 0.6004 - dense_2h_loss: 7.7576e-05 - dense_2v_loss: 8.2820e-05 - dense_3h_loss: 0.3093 - dense_3v_loss: 0.2690 - dense_4h_loss: 0.1237 - dense_4v_loss: 0.1236\n",
            "Epoch 20/20\n",
            "10000/10000 [==============================] - 33s 3ms/step - loss: 1.4228 - dense_1_loss: 0.5974 - dense_2h_loss: 8.2905e-05 - dense_2v_loss: 8.4048e-05 - dense_3h_loss: 0.3098 - dense_3v_loss: 0.2679 - dense_4h_loss: 0.1239 - dense_4v_loss: 0.1236\n"
          ],
          "name": "stdout"
        },
        {
          "output_type": "display_data",
          "data": {
            "image/png": "[encoded data removed]",
            "text/plain": [
              "<Figure size 432x288 with 8 Axes>"
            ]
          },
          "metadata": {
            "tags": []
          }
        },
        {
          "output_type": "stream",
          "text": [
            "\n",
            "Seed = 1\n",
            "\n",
            "Epoch 1/20\n",
            "10000/10000 [==============================] - 36s 4ms/step - loss: 3.8422 - dense_1_loss: 1.2558 - dense_2h_loss: 0.5487 - dense_2v_loss: 0.6644 - dense_3h_loss: 0.4473 - dense_3v_loss: 0.4367 - dense_4h_loss: 0.1742 - dense_4v_loss: 0.3152\n",
            "Epoch 2/20\n",
            "10000/10000 [==============================] - 33s 3ms/step - loss: 2.6234 - dense_1_loss: 0.7169 - dense_2h_loss: 0.3603 - dense_2v_loss: 0.4891 - dense_3h_loss: 0.3311 - dense_3v_loss: 0.2800 - dense_4h_loss: 0.1307 - dense_4v_loss: 0.3152\n",
            "Epoch 3/20\n",
            "10000/10000 [==============================] - 33s 3ms/step - loss: 2.2400 - dense_1_loss: 0.4338 - dense_2h_loss: 0.3068 - dense_2v_loss: 0.4756 - dense_3h_loss: 0.3148 - dense_3v_loss: 0.2652 - dense_4h_loss: 0.1287 - dense_4v_loss: 0.3152\n",
            "Epoch 4/20\n",
            "10000/10000 [==============================] - 33s 3ms/step - loss: 2.0273 - dense_1_loss: 0.3269 - dense_2h_loss: 0.2426 - dense_2v_loss: 0.4611 - dense_3h_loss: 0.3041 - dense_3v_loss: 0.2500 - dense_4h_loss: 0.1275 - dense_4v_loss: 0.3152\n",
            "Epoch 5/20\n",
            "10000/10000 [==============================] - 33s 3ms/step - loss: 1.7609 - dense_1_loss: 0.2777 - dense_2h_loss: 0.1096 - dense_2v_loss: 0.4130 - dense_3h_loss: 0.2896 - dense_3v_loss: 0.2288 - dense_4h_loss: 0.1270 - dense_4v_loss: 0.3152\n",
            "Epoch 6/20\n",
            "10000/10000 [==============================] - 33s 3ms/step - loss: 1.5081 - dense_1_loss: 0.2370 - dense_2h_loss: 0.0170 - dense_2v_loss: 0.3156 - dense_3h_loss: 0.2872 - dense_3v_loss: 0.2094 - dense_4h_loss: 0.1268 - dense_4v_loss: 0.3152\n",
            "Epoch 7/20\n",
            "10000/10000 [==============================] - 33s 3ms/step - loss: 1.2920 - dense_1_loss: 0.1279 - dense_2h_loss: 6.9156e-05 - dense_2v_loss: 0.2515 - dense_3h_loss: 0.2862 - dense_3v_loss: 0.1839 - dense_4h_loss: 0.1271 - dense_4v_loss: 0.3152\n",
            "Epoch 8/20\n",
            "10000/10000 [==============================] - 32s 3ms/step - loss: 1.0185 - dense_1_loss: 0.0059 - dense_2h_loss: 8.1988e-05 - dense_2v_loss: 0.1289 - dense_3h_loss: 0.2850 - dense_3v_loss: 0.1564 - dense_4h_loss: 0.1270 - dense_4v_loss: 0.3152\n",
            "Epoch 9/20\n",
            "10000/10000 [==============================] - 33s 3ms/step - loss: 0.8265 - dense_1_loss: 2.1168e-04 - dense_2h_loss: 8.2121e-05 - dense_2v_loss: 0.0228 - dense_3h_loss: 0.2839 - dense_3v_loss: 0.0784 - dense_4h_loss: 0.1260 - dense_4v_loss: 0.3152\n",
            "Epoch 10/20\n",
            "10000/10000 [==============================] - 33s 3ms/step - loss: 0.7445 - dense_1_loss: 2.0287e-04 - dense_2h_loss: 7.7576e-05 - dense_2v_loss: 6.1093e-05 - dense_3h_loss: 0.2825 - dense_3v_loss: 0.0199 - dense_4h_loss: 0.1266 - dense_4v_loss: 0.3152\n",
            "Epoch 11/20\n",
            "10000/10000 [==============================] - 33s 3ms/step - loss: 0.7243 - dense_1_loss: 1.9489e-04 - dense_2h_loss: 8.1214e-05 - dense_2v_loss: 7.9840e-05 - dense_3h_loss: 0.2818 - dense_3v_loss: 6.6571e-04 - dense_4h_loss: 0.1262 - dense_4v_loss: 0.3152\n",
            "Epoch 12/20\n",
            "10000/10000 [==============================] - 33s 3ms/step - loss: 0.7244 - dense_1_loss: 1.9847e-04 - dense_2h_loss: 8.3816e-05 - dense_2v_loss: 7.9703e-05 - dense_3h_loss: 0.2823 - dense_3v_loss: 5.3481e-05 - dense_4h_loss: 0.1265 - dense_4v_loss: 0.3152\n",
            "Epoch 13/20\n",
            "10000/10000 [==============================] - 33s 3ms/step - loss: 0.7229 - dense_1_loss: 1.9958e-04 - dense_2h_loss: 8.4744e-05 - dense_2v_loss: 7.7843e-05 - dense_3h_loss: 0.2817 - dense_3v_loss: 5.3172e-05 - dense_4h_loss: 0.1256 - dense_4v_loss: 0.3152\n",
            "Epoch 14/20\n",
            "10000/10000 [==============================] - 33s 3ms/step - loss: 0.7230 - dense_1_loss: 2.0310e-04 - dense_2h_loss: 7.6921e-05 - dense_2v_loss: 7.6139e-05 - dense_3h_loss: 0.2816 - dense_3v_loss: 5.5130e-05 - dense_4h_loss: 0.1258 - dense_4v_loss: 0.3152\n",
            "Epoch 15/20\n",
            "10000/10000 [==============================] - 33s 3ms/step - loss: 0.7212 - dense_1_loss: 1.9241e-04 - dense_2h_loss: 7.1550e-05 - dense_2v_loss: 7.7428e-05 - dense_3h_loss: 0.2801 - dense_3v_loss: 5.6157e-05 - dense_4h_loss: 0.1256 - dense_4v_loss: 0.3152\n",
            "Epoch 16/20\n",
            "10000/10000 [==============================] - 33s 3ms/step - loss: 0.7219 - dense_1_loss: 1.8859e-04 - dense_2h_loss: 8.1026e-05 - dense_2v_loss: 8.2053e-05 - dense_3h_loss: 0.2809 - dense_3v_loss: 6.5576e-05 - dense_4h_loss: 0.1254 - dense_4v_loss: 0.3152\n",
            "Epoch 17/20\n",
            "10000/10000 [==============================] - 33s 3ms/step - loss: 0.7213 - dense_1_loss: 1.9374e-04 - dense_2h_loss: 7.6827e-05 - dense_2v_loss: 8.4127e-05 - dense_3h_loss: 0.2805 - dense_3v_loss: 5.2808e-05 - dense_4h_loss: 0.1252 - dense_4v_loss: 0.3152\n",
            "Epoch 18/20\n",
            "10000/10000 [==============================] - 33s 3ms/step - loss: 0.7199 - dense_1_loss: 1.9683e-04 - dense_2h_loss: 8.2427e-05 - dense_2v_loss: 7.6679e-05 - dense_3h_loss: 0.2797 - dense_3v_loss: 5.8161e-05 - dense_4h_loss: 0.1247 - dense_4v_loss: 0.3152\n",
            "Epoch 19/20\n",
            "10000/10000 [==============================] - 33s 3ms/step - loss: 0.7211 - dense_1_loss: 1.9389e-04 - dense_2h_loss: 7.6519e-05 - dense_2v_loss: 8.6296e-05 - dense_3h_loss: 0.2805 - dense_3v_loss: 5.3107e-05 - dense_4h_loss: 0.1250 - dense_4v_loss: 0.3152\n",
            "Epoch 20/20\n",
            "10000/10000 [==============================] - 33s 3ms/step - loss: 0.7210 - dense_1_loss: 1.9146e-04 - dense_2h_loss: 8.7455e-05 - dense_2v_loss: 7.4833e-05 - dense_3h_loss: 0.2805 - dense_3v_loss: 5.7894e-05 - dense_4h_loss: 0.1249 - dense_4v_loss: 0.3152\n"
          ],
          "name": "stdout"
        },
        {
          "output_type": "display_data",
          "data": {
            "image/png": "[encoded data removed]",
            "text/plain": [
              "<Figure size 432x288 with 8 Axes>"
            ]
          },
          "metadata": {
            "tags": []
          }
        },
        {
          "output_type": "stream",
          "text": [
            "\n",
            "Seed = 2\n",
            "\n",
            "Epoch 1/20\n",
            "10000/10000 [==============================] - 37s 4ms/step - loss: 3.5517 - dense_1_loss: 1.2605 - dense_2h_loss: 0.6209 - dense_2v_loss: 0.6310 - dense_3h_loss: 0.3464 - dense_3v_loss: 0.3992 - dense_4h_loss: 0.1496 - dense_4v_loss: 0.1440\n",
            "Epoch 2/20\n",
            "10000/10000 [==============================] - 34s 3ms/step - loss: 2.4628 - dense_1_loss: 0.7551 - dense_2h_loss: 0.4363 - dense_2v_loss: 0.4967 - dense_3h_loss: 0.2657 - dense_3v_loss: 0.2778 - dense_4h_loss: 0.1145 - dense_4v_loss: 0.1167\n",
            "Epoch 3/20\n",
            "10000/10000 [==============================] - 33s 3ms/step - loss: 2.1689 - dense_1_loss: 0.6760 - dense_2h_loss: 0.3206 - dense_2v_loss: 0.4512 - dense_3h_loss: 0.2431 - dense_3v_loss: 0.2664 - dense_4h_loss: 0.1044 - dense_4v_loss: 0.1071\n",
            "Epoch 4/20\n",
            "10000/10000 [==============================] - 34s 3ms/step - loss: 2.0257 - dense_1_loss: 0.6322 - dense_2h_loss: 0.2712 - dense_2v_loss: 0.4347 - dense_3h_loss: 0.2247 - dense_3v_loss: 0.2636 - dense_4h_loss: 0.0987 - dense_4v_loss: 0.1006\n",
            "Epoch 5/20\n",
            "10000/10000 [==============================] - 33s 3ms/step - loss: 1.8742 - dense_1_loss: 0.6114 - dense_2h_loss: 0.1773 - dense_2v_loss: 0.4278 - dense_3h_loss: 0.2087 - dense_3v_loss: 0.2608 - dense_4h_loss: 0.0940 - dense_4v_loss: 0.0943\n",
            "Epoch 6/20\n",
            "10000/10000 [==============================] - 34s 3ms/step - loss: 1.7055 - dense_1_loss: 0.6019 - dense_2h_loss: 0.0527 - dense_2v_loss: 0.4105 - dense_3h_loss: 0.1980 - dense_3v_loss: 0.2605 - dense_4h_loss: 0.0910 - dense_4v_loss: 0.0909\n",
            "Epoch 7/20\n",
            "10000/10000 [==============================] - 34s 3ms/step - loss: 1.6236 - dense_1_loss: 0.5969 - dense_2h_loss: 0.0020 - dense_2v_loss: 0.4027 - dense_3h_loss: 0.1847 - dense_3v_loss: 0.2608 - dense_4h_loss: 0.0887 - dense_4v_loss: 0.0877\n",
            "Epoch 8/20\n",
            "10000/10000 [==============================] - 34s 3ms/step - loss: 1.5880 - dense_1_loss: 0.5958 - dense_2h_loss: 7.7132e-05 - dense_2v_loss: 0.4007 - dense_3h_loss: 0.1741 - dense_3v_loss: 0.2603 - dense_4h_loss: 0.0872 - dense_4v_loss: 0.0698\n",
            "Epoch 9/20\n",
            "10000/10000 [==============================] - 34s 3ms/step - loss: 1.5588 - dense_1_loss: 0.5928 - dense_2h_loss: 7.7421e-05 - dense_2v_loss: 0.4006 - dense_3h_loss: 0.1677 - dense_3v_loss: 0.2600 - dense_4h_loss: 0.0857 - dense_4v_loss: 0.0520\n",
            "Epoch 10/20\n",
            "10000/10000 [==============================] - 33s 3ms/step - loss: 1.5416 - dense_1_loss: 0.5914 - dense_2h_loss: 7.8813e-05 - dense_2v_loss: 0.3987 - dense_3h_loss: 0.1630 - dense_3v_loss: 0.2596 - dense_4h_loss: 0.0856 - dense_4v_loss: 0.0432\n",
            "Epoch 11/20\n",
            "10000/10000 [==============================] - 34s 3ms/step - loss: 1.5279 - dense_1_loss: 0.5915 - dense_2h_loss: 7.9057e-05 - dense_2v_loss: 0.3937 - dense_3h_loss: 0.1607 - dense_3v_loss: 0.2601 - dense_4h_loss: 0.0844 - dense_4v_loss: 0.0375\n",
            "Epoch 12/20\n",
            "10000/10000 [==============================] - 34s 3ms/step - loss: 1.5155 - dense_1_loss: 0.5909 - dense_2h_loss: 7.5720e-05 - dense_2v_loss: 0.3897 - dense_3h_loss: 0.1580 - dense_3v_loss: 0.2599 - dense_4h_loss: 0.0846 - dense_4v_loss: 0.0324\n",
            "Epoch 13/20\n",
            "10000/10000 [==============================] - 34s 3ms/step - loss: 1.4884 - dense_1_loss: 0.5897 - dense_2h_loss: 7.4771e-05 - dense_2v_loss: 0.3849 - dense_3h_loss: 0.1576 - dense_3v_loss: 0.2603 - dense_4h_loss: 0.0844 - dense_4v_loss: 0.0114\n",
            "Epoch 14/20\n",
            "10000/10000 [==============================] - 34s 3ms/step - loss: 1.4765 - dense_1_loss: 0.5901 - dense_2h_loss: 7.7502e-05 - dense_2v_loss: 0.3852 - dense_3h_loss: 0.1571 - dense_3v_loss: 0.2599 - dense_4h_loss: 0.0839 - dense_4v_loss: 2.9089e-04\n",
            "Epoch 15/20\n",
            "10000/10000 [==============================] - 34s 3ms/step - loss: 1.4739 - dense_1_loss: 0.5887 - dense_2h_loss: 7.5422e-05 - dense_2v_loss: 0.3846 - dense_3h_loss: 0.1568 - dense_3v_loss: 0.2596 - dense_4h_loss: 0.0841 - dense_4v_loss: 3.7392e-05\n",
            "Epoch 16/20\n",
            "10000/10000 [==============================] - 34s 3ms/step - loss: 1.4745 - dense_1_loss: 0.5884 - dense_2h_loss: 7.6193e-05 - dense_2v_loss: 0.3843 - dense_3h_loss: 0.1567 - dense_3v_loss: 0.2607 - dense_4h_loss: 0.0843 - dense_4v_loss: 3.6346e-05\n",
            "Epoch 17/20\n",
            "10000/10000 [==============================] - 34s 3ms/step - loss: 1.4718 - dense_1_loss: 0.5881 - dense_2h_loss: 7.8429e-05 - dense_2v_loss: 0.3831 - dense_3h_loss: 0.1563 - dense_3v_loss: 0.2602 - dense_4h_loss: 0.0840 - dense_4v_loss: 3.2357e-05\n",
            "Epoch 18/20\n",
            "10000/10000 [==============================] - 34s 3ms/step - loss: 1.4685 - dense_1_loss: 0.5862 - dense_2h_loss: 7.7289e-05 - dense_2v_loss: 0.3822 - dense_3h_loss: 0.1559 - dense_3v_loss: 0.2598 - dense_4h_loss: 0.0842 - dense_4v_loss: 3.9865e-05\n",
            "Epoch 19/20\n",
            "10000/10000 [==============================] - 34s 3ms/step - loss: 1.4717 - dense_1_loss: 0.5871 - dense_2h_loss: 7.5437e-05 - dense_2v_loss: 0.3849 - dense_3h_loss: 0.1558 - dense_3v_loss: 0.2599 - dense_4h_loss: 0.0838 - dense_4v_loss: 3.7680e-05\n",
            "Epoch 20/20\n",
            "10000/10000 [==============================] - 34s 3ms/step - loss: 1.4648 - dense_1_loss: 0.5892 - dense_2h_loss: 7.6116e-05 - dense_2v_loss: 0.3847 - dense_3h_loss: 0.1563 - dense_3v_loss: 0.2598 - dense_4h_loss: 0.0747 - dense_4v_loss: 3.4031e-05\n"
          ],
          "name": "stdout"
        },
        {
          "output_type": "display_data",
          "data": {
            "image/png": "[encoded data removed]",
            "text/plain": [
              "<Figure size 432x288 with 8 Axes>"
            ]
          },
          "metadata": {
            "tags": []
          }
        },
        {
          "output_type": "stream",
          "text": [
            "\n",
            "Seed = 3\n",
            "\n",
            "Epoch 1/20\n",
            "10000/10000 [==============================] - 38s 4ms/step - loss: 3.2980 - dense_1_loss: 0.9254 - dense_2h_loss: 0.6029 - dense_2v_loss: 0.7020 - dense_3h_loss: 0.3683 - dense_3v_loss: 0.3574 - dense_4h_loss: 0.1654 - dense_4v_loss: 0.1766\n",
            "Epoch 2/20\n",
            "10000/10000 [==============================] - 35s 4ms/step - loss: 2.0280 - dense_1_loss: 0.4812 - dense_2h_loss: 0.3475 - dense_2v_loss: 0.4862 - dense_3h_loss: 0.2444 - dense_3v_loss: 0.2394 - dense_4h_loss: 0.1150 - dense_4v_loss: 0.1142\n",
            "Epoch 3/20\n",
            "10000/10000 [==============================] - 35s 3ms/step - loss: 1.6856 - dense_1_loss: 0.3330 - dense_2h_loss: 0.2906 - dense_2v_loss: 0.4089 - dense_3h_loss: 0.2226 - dense_3v_loss: 0.2198 - dense_4h_loss: 0.1049 - dense_4v_loss: 0.1058\n",
            "Epoch 4/20\n",
            "10000/10000 [==============================] - 35s 3ms/step - loss: 1.3602 - dense_1_loss: 0.2183 - dense_2h_loss: 0.2095 - dense_2v_loss: 0.3369 - dense_3h_loss: 0.2007 - dense_3v_loss: 0.1961 - dense_4h_loss: 0.0982 - dense_4v_loss: 0.1004\n",
            "Epoch 5/20\n",
            "10000/10000 [==============================] - 35s 3ms/step - loss: 0.9301 - dense_1_loss: 0.0523 - dense_2h_loss: 0.0740 - dense_2v_loss: 0.2778 - dense_3h_loss: 0.1741 - dense_3v_loss: 0.1721 - dense_4h_loss: 0.0854 - dense_4v_loss: 0.0945\n",
            "Epoch 6/20\n",
            "10000/10000 [==============================] - 35s 4ms/step - loss: 0.6248 - dense_1_loss: 1.6641e-04 - dense_2h_loss: 0.0044 - dense_2v_loss: 0.2046 - dense_3h_loss: 0.1296 - dense_3v_loss: 0.1314 - dense_4h_loss: 0.0741 - dense_4v_loss: 0.0807\n",
            "Epoch 7/20\n",
            "10000/10000 [==============================] - 35s 3ms/step - loss: 0.3045 - dense_1_loss: 1.9179e-04 - dense_2h_loss: 8.0961e-05 - dense_2v_loss: 0.0796 - dense_3h_loss: 0.0484 - dense_3v_loss: 0.0492 - dense_4h_loss: 0.0607 - dense_4v_loss: 0.0663\n",
            "Epoch 8/20\n",
            "10000/10000 [==============================] - 35s 3ms/step - loss: 0.1278 - dense_1_loss: 1.9953e-04 - dense_2h_loss: 7.3914e-05 - dense_2v_loss: 0.0056 - dense_3h_loss: 0.0100 - dense_3v_loss: 0.0090 - dense_4h_loss: 0.0493 - dense_4v_loss: 0.0535\n",
            "Epoch 9/20\n",
            "10000/10000 [==============================] - 36s 4ms/step - loss: 0.0902 - dense_1_loss: 1.9948e-04 - dense_2h_loss: 8.2078e-05 - dense_2v_loss: 7.5718e-05 - dense_3h_loss: 6.9848e-05 - dense_3v_loss: 5.3652e-05 - dense_4h_loss: 0.0428 - dense_4v_loss: 0.0468\n",
            "Epoch 10/20\n",
            "10000/10000 [==============================] - 35s 4ms/step - loss: 0.0803 - dense_1_loss: 1.8522e-04 - dense_2h_loss: 8.0593e-05 - dense_2v_loss: 8.2824e-05 - dense_3h_loss: 5.4101e-05 - dense_3v_loss: 5.3051e-05 - dense_4h_loss: 0.0363 - dense_4v_loss: 0.0435\n",
            "Epoch 11/20\n",
            "10000/10000 [==============================] - 36s 4ms/step - loss: 0.0691 - dense_1_loss: 1.9284e-04 - dense_2h_loss: 8.4716e-05 - dense_2v_loss: 7.9367e-05 - dense_3h_loss: 6.0390e-05 - dense_3v_loss: 5.3985e-05 - dense_4h_loss: 0.0308 - dense_4v_loss: 0.0379\n",
            "Epoch 12/20\n",
            "10000/10000 [==============================] - 35s 4ms/step - loss: 0.0467 - dense_1_loss: 1.9211e-04 - dense_2h_loss: 7.9758e-05 - dense_2v_loss: 7.7370e-05 - dense_3h_loss: 5.4194e-05 - dense_3v_loss: 5.3270e-05 - dense_4h_loss: 0.0136 - dense_4v_loss: 0.0326\n",
            "Epoch 13/20\n",
            "10000/10000 [==============================] - 35s 4ms/step - loss: 0.0117 - dense_1_loss: 1.8189e-04 - dense_2h_loss: 8.2173e-05 - dense_2v_loss: 7.5761e-05 - dense_3h_loss: 6.4819e-05 - dense_3v_loss: 6.1163e-05 - dense_4h_loss: 5.0673e-04 - dense_4v_loss: 0.0108\n",
            "Epoch 14/20\n",
            "10000/10000 [==============================] - 35s 4ms/step - loss: 7.4203e-04 - dense_1_loss: 1.8610e-04 - dense_2h_loss: 7.9837e-05 - dense_2v_loss: 8.3239e-05 - dense_3h_loss: 5.5265e-05 - dense_3v_loss: 5.5170e-05 - dense_4h_loss: 3.8230e-05 - dense_4v_loss: 2.4418e-04\n",
            "Epoch 15/20\n",
            "10000/10000 [==============================] - 35s 4ms/step - loss: 5.3263e-04 - dense_1_loss: 1.8185e-04 - dense_2h_loss: 8.0712e-05 - dense_2v_loss: 7.7522e-05 - dense_3h_loss: 6.0803e-05 - dense_3v_loss: 5.5743e-05 - dense_4h_loss: 3.9889e-05 - dense_4v_loss: 3.6116e-05\n",
            "Epoch 16/20\n",
            "10000/10000 [==============================] - 35s 4ms/step - loss: 5.3077e-04 - dense_1_loss: 1.8443e-04 - dense_2h_loss: 8.2023e-05 - dense_2v_loss: 8.0849e-05 - dense_3h_loss: 5.6143e-05 - dense_3v_loss: 5.3153e-05 - dense_4h_loss: 3.8333e-05 - dense_4v_loss: 3.5837e-05\n",
            "Epoch 17/20\n",
            "10000/10000 [==============================] - 35s 4ms/step - loss: 5.2657e-04 - dense_1_loss: 1.8128e-04 - dense_2h_loss: 7.7497e-05 - dense_2v_loss: 7.7662e-05 - dense_3h_loss: 5.5140e-05 - dense_3v_loss: 5.8956e-05 - dense_4h_loss: 3.8058e-05 - dense_4v_loss: 3.7976e-05\n",
            "Epoch 18/20\n",
            "10000/10000 [==============================] - 35s 4ms/step - loss: 5.1447e-04 - dense_1_loss: 1.7491e-04 - dense_2h_loss: 7.5635e-05 - dense_2v_loss: 7.6134e-05 - dense_3h_loss: 5.9852e-05 - dense_3v_loss: 5.2242e-05 - dense_4h_loss: 3.9161e-05 - dense_4v_loss: 3.6540e-05\n",
            "Epoch 19/20\n",
            "10000/10000 [==============================] - 35s 4ms/step - loss: 5.1477e-04 - dense_1_loss: 1.8171e-04 - dense_2h_loss: 7.7731e-05 - dense_2v_loss: 7.2125e-05 - dense_3h_loss: 5.3796e-05 - dense_3v_loss: 5.7158e-05 - dense_4h_loss: 3.7154e-05 - dense_4v_loss: 3.5097e-05\n",
            "Epoch 20/20\n",
            "10000/10000 [==============================] - 36s 4ms/step - loss: 5.1188e-04 - dense_1_loss: 1.6913e-04 - dense_2h_loss: 8.1183e-05 - dense_2v_loss: 7.9045e-05 - dense_3h_loss: 5.7629e-05 - dense_3v_loss: 5.4202e-05 - dense_4h_loss: 3.5551e-05 - dense_4v_loss: 3.5141e-05\n"
          ],
          "name": "stdout"
        },
        {
          "output_type": "display_data",
          "data": {
            "image/png": "[encoded data removed]",
            "text/plain": [
              "<Figure size 432x288 with 8 Axes>"
            ]
          },
          "metadata": {
            "tags": []
          }
        }
      ]
    },
    {
      "cell_type": "code",
      "metadata": {
        "id": "Ao4y9rJt2aer",
        "colab_type": "code",
        "colab": {}
      },
      "source": [
        "# model[3] сошлась. сохраняем\n",
        "\n",
        "from keras.models import load_model\n",
        "\n",
        "models[3].save('/content/best_model.hd5')\n",
        "\n",
        "# загрузка модели\n",
        "# model_count_ships = load_model('/content/sample_data/seacombat_count_deck.h5')\n",
        "# model_custom.load_weights('/content/seacombat_count_ships_custom.h5')  "
      ],
      "execution_count": 0,
      "outputs": []
    },
    {
      "cell_type": "code",
      "metadata": {
        "id": "EYBD0BTz7TB4",
        "colab_type": "code",
        "outputId": "4d067a03-e5d4-4f5f-f143-d72a73f59169",
        "colab": {
          "base_uri": "https://localhost:8080/",
          "height": 558
        }
      },
      "source": [
        "# пример работы модели на случайно расставленном поле\n",
        "\n",
        "x = X[random.randint(0, NUM_SAMPLES-1)]\n",
        "\n",
        "plt.imshow(x);\n",
        "plt.show()\n",
        "\n",
        "pred = np.round(models[3].predict(x.reshape(1,10,10,1))).reshape(7,).astype(np.int)\n",
        "\n",
        "print('Подсчет числа кораблей на выходе нейронной сети:')\n",
        "print(pred)\n",
        "\n",
        "plt.bar(x=['1x', '2x-h', '2x-v', '3x-h', '3x-v', '4x-h', '4x-v'], height=pred)\n",
        "plt.show()\n"
      ],
      "execution_count": 0,
      "outputs": [
        {
          "output_type": "display_data",
          "data": {
            "image/png": "[encoded data removed]",
            "text/plain": [
              "<Figure size 432x288 with 1 Axes>"
            ]
          },
          "metadata": {
            "tags": []
          }
        },
        {
          "output_type": "stream",
          "text": [
            "Подсчет числа кораблей на выходе нейронной сети:\n",
            "[4 1 1 0 1 0 0]\n"
          ],
          "name": "stdout"
        },
        {
          "output_type": "display_data",
          "data": {
            "image/png": "[encoded data removed]",
            "text/plain": [
              "<Figure size 432x288 with 1 Axes>"
            ]
          },
          "metadata": {
            "tags": []
          }
        }
      ]
    }
  ]
}