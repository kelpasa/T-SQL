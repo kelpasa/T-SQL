{
  "nbformat": 4,
  "nbformat_minor": 0,
  "metadata": {
    "colab": {
      "name": "03_classification.ipynb",
      "version": "0.3.2",
      "provenance": [],
      "collapsed_sections": []
    },
    "language_info": {
      "codemirror_mode": {
        "name": "ipython",
        "version": 3
      },
      "file_extension": ".py",
      "mimetype": "text/x-python",
      "name": "python",
      "nbconvert_exporter": "python",
      "pygments_lexer": "ipython3",
      "version": "3.6.5"
    },
    "kernelspec": {
      "display_name": "Python 3",
      "language": "python",
      "name": "python3"
    }
  },
  "cells": [
    {
      "cell_type": "code",
      "metadata": {
        "id": "id-QYlZ-PYRy",
        "colab_type": "code",
        "colab": {}
      },
      "source": [
        "# Импорт библиотек\n",
        "import numpy\n",
        "import pandas as pd"
      ],
      "execution_count": 0,
      "outputs": []
    },
    {
      "cell_type": "code",
      "metadata": {
        "id": "ViAW0suLPYR_",
        "colab_type": "code",
        "colab": {}
      },
      "source": [
        "import matplotlib\n",
        "import matplotlib.pyplot as plt\n",
        "matplotlib.style.use('ggplot')\n",
        "%matplotlib inline"
      ],
      "execution_count": 0,
      "outputs": []
    },
    {
      "cell_type": "code",
      "metadata": {
        "id": "EywWqBk_PYSG",
        "colab_type": "code",
        "colab": {}
      },
      "source": [
        "# Задаем рабочую папку\n",
        "import os\n",
        "os.chdir(\"/content/sample_data\")"
      ],
      "execution_count": 0,
      "outputs": []
    },
    {
      "cell_type": "code",
      "metadata": {
        "id": "ldNtDif5PYSO",
        "colab_type": "code",
        "colab": {}
      },
      "source": [
        "# Импорт данных\n",
        "competitions_df = pd.read_csv('Competitions_results_cleaned.csv', sep=',', parse_dates=['date'])"
      ],
      "execution_count": 0,
      "outputs": []
    },
    {
      "cell_type": "code",
      "metadata": {
        "id": "x-PWF6LnPYSW",
        "colab_type": "code",
        "colab": {}
      },
      "source": [
        "#  Знакомимся с данными\n",
        "competitions_df.dtypes"
      ],
      "execution_count": 0,
      "outputs": []
    },
    {
      "cell_type": "code",
      "metadata": {
        "id": "X3nxIQ2jPYSe",
        "colab_type": "code",
        "outputId": "eace17d3-7c49-4a18-e20b-42f441b76c84",
        "colab": {
          "base_uri": "https://localhost:8080/",
          "height": 313
        }
      },
      "source": [
        "#  Знакомимся с данными\n",
        "competitions_df.head()\n",
        "#competitions_df.tail()\n",
        "#competitions_df.shape"
      ],
      "execution_count": 5,
      "outputs": [
        {
          "output_type": "execute_result",
          "data": {
            "text/html": [
              "<div>\n",
              "<style scoped>\n",
              "    .dataframe tbody tr th:only-of-type {\n",
              "        vertical-align: middle;\n",
              "    }\n",
              "\n",
              "    .dataframe tbody tr th {\n",
              "        vertical-align: top;\n",
              "    }\n",
              "\n",
              "    .dataframe thead th {\n",
              "        text-align: right;\n",
              "    }\n",
              "</style>\n",
              "<table border=\"1\" class=\"dataframe\">\n",
              "  <thead>\n",
              "    <tr style=\"text-align: right;\">\n",
              "      <th></th>\n",
              "      <th>place</th>\n",
              "      <th>last_name</th>\n",
              "      <th>first_name</th>\n",
              "      <th>birth_year</th>\n",
              "      <th>city</th>\n",
              "      <th>team</th>\n",
              "      <th>country</th>\n",
              "      <th>result</th>\n",
              "      <th>disc</th>\n",
              "      <th>points</th>\n",
              "      <th>athlete_group</th>\n",
              "      <th>distance</th>\n",
              "      <th>style</th>\n",
              "      <th>date</th>\n",
              "      <th>pool_city</th>\n",
              "      <th>pool_description</th>\n",
              "      <th>id</th>\n",
              "      <th>pool_size</th>\n",
              "      <th>result_s</th>\n",
              "      <th>gender</th>\n",
              "    </tr>\n",
              "  </thead>\n",
              "  <tbody>\n",
              "    <tr>\n",
              "      <th>0</th>\n",
              "      <td>1</td>\n",
              "      <td>Евмененко</td>\n",
              "      <td>София</td>\n",
              "      <td>2007</td>\n",
              "      <td>Долгопрудный</td>\n",
              "      <td>ДЮСШ</td>\n",
              "      <td>RUS</td>\n",
              "      <td>00:00:33.50</td>\n",
              "      <td>NaN</td>\n",
              "      <td>387.0</td>\n",
              "      <td>Девочки 2007г.р. и моложе</td>\n",
              "      <td>50</td>\n",
              "      <td>баттерфляй</td>\n",
              "      <td>2019-04-22</td>\n",
              "      <td>г.Жлобин</td>\n",
              "      <td>бассейн 50м.</td>\n",
              "      <td>8</td>\n",
              "      <td>50</td>\n",
              "      <td>33.50</td>\n",
              "      <td>Д</td>\n",
              "    </tr>\n",
              "    <tr>\n",
              "      <th>1</th>\n",
              "      <td>2</td>\n",
              "      <td>Редюк</td>\n",
              "      <td>Алина</td>\n",
              "      <td>2007</td>\n",
              "      <td>Гомель-1</td>\n",
              "      <td>ГОЦОР ввс</td>\n",
              "      <td>BLR</td>\n",
              "      <td>00:00:35.44</td>\n",
              "      <td>NaN</td>\n",
              "      <td>327.0</td>\n",
              "      <td>Девочки 2007г.р. и моложе</td>\n",
              "      <td>50</td>\n",
              "      <td>баттерфляй</td>\n",
              "      <td>2019-04-22</td>\n",
              "      <td>г.Жлобин</td>\n",
              "      <td>бассейн 50м.</td>\n",
              "      <td>9</td>\n",
              "      <td>50</td>\n",
              "      <td>35.44</td>\n",
              "      <td>Д</td>\n",
              "    </tr>\n",
              "    <tr>\n",
              "      <th>2</th>\n",
              "      <td>3</td>\n",
              "      <td>Козловская</td>\n",
              "      <td>Кристина</td>\n",
              "      <td>2007</td>\n",
              "      <td>Минск</td>\n",
              "      <td>Волна</td>\n",
              "      <td>BLR</td>\n",
              "      <td>00:00:36.10</td>\n",
              "      <td>NaN</td>\n",
              "      <td>309.0</td>\n",
              "      <td>Девочки 2007г.р. и моложе</td>\n",
              "      <td>50</td>\n",
              "      <td>баттерфляй</td>\n",
              "      <td>2019-04-22</td>\n",
              "      <td>г.Жлобин</td>\n",
              "      <td>бассейн 50м.</td>\n",
              "      <td>10</td>\n",
              "      <td>50</td>\n",
              "      <td>36.10</td>\n",
              "      <td>Д</td>\n",
              "    </tr>\n",
              "    <tr>\n",
              "      <th>3</th>\n",
              "      <td>4</td>\n",
              "      <td>Карпочева</td>\n",
              "      <td>Екатерина</td>\n",
              "      <td>2007</td>\n",
              "      <td>Речица</td>\n",
              "      <td>Олимп</td>\n",
              "      <td>BLR</td>\n",
              "      <td>00:00:36.62</td>\n",
              "      <td>NaN</td>\n",
              "      <td>296.0</td>\n",
              "      <td>Девочки 2007г.р. и моложе</td>\n",
              "      <td>50</td>\n",
              "      <td>баттерфляй</td>\n",
              "      <td>2019-04-22</td>\n",
              "      <td>г.Жлобин</td>\n",
              "      <td>бассейн 50м.</td>\n",
              "      <td>11</td>\n",
              "      <td>50</td>\n",
              "      <td>36.62</td>\n",
              "      <td>Д</td>\n",
              "    </tr>\n",
              "    <tr>\n",
              "      <th>4</th>\n",
              "      <td>5</td>\n",
              "      <td>Гисак</td>\n",
              "      <td>Анна</td>\n",
              "      <td>2007</td>\n",
              "      <td>Могилев</td>\n",
              "      <td>СДЮШОР</td>\n",
              "      <td>BLR</td>\n",
              "      <td>00:00:36.96</td>\n",
              "      <td>NaN</td>\n",
              "      <td>288.0</td>\n",
              "      <td>Девочки 2007г.р. и моложе</td>\n",
              "      <td>50</td>\n",
              "      <td>баттерфляй</td>\n",
              "      <td>2019-04-22</td>\n",
              "      <td>г.Жлобин</td>\n",
              "      <td>бассейн 50м.</td>\n",
              "      <td>12</td>\n",
              "      <td>50</td>\n",
              "      <td>36.96</td>\n",
              "      <td>Д</td>\n",
              "    </tr>\n",
              "  </tbody>\n",
              "</table>\n",
              "</div>"
            ],
            "text/plain": [
              "   place   last_name first_name  birth_year  ...  id pool_size result_s gender\n",
              "0      1   Евмененко      София        2007  ...   8        50    33.50      Д\n",
              "1      2       Редюк      Алина        2007  ...   9        50    35.44      Д\n",
              "2      3  Козловская   Кристина        2007  ...  10        50    36.10      Д\n",
              "3      4   Карпочева  Екатерина        2007  ...  11        50    36.62      Д\n",
              "4      5       Гисак       Анна        2007  ...  12        50    36.96      Д\n",
              "\n",
              "[5 rows x 20 columns]"
            ]
          },
          "metadata": {
            "tags": []
          },
          "execution_count": 5
        }
      ]
    },
    {
      "cell_type": "code",
      "metadata": {
        "id": "KJ1ABLejpL7J",
        "colab_type": "code",
        "colab": {
          "base_uri": "https://localhost:8080/",
          "height": 206
        },
        "outputId": "f477fe22-9c09-48a6-e407-1ecccc299370"
      },
      "source": [
        "group = 'Девушки 2004-2005 г.р.'\n",
        "style = 'вольный стиль'\n",
        "df = competitions_df[competitions_df['athlete_group'] == group][['last_name', 'first_name', 'gender', 'birth_year', 'distance', 'style', 'result_s', 'points']]\n",
        "df = df[df['style'] == style]\n",
        "\n",
        "df.head()\n",
        "# df.shape\n"
      ],
      "execution_count": 129,
      "outputs": [
        {
          "output_type": "execute_result",
          "data": {
            "text/html": [
              "<div>\n",
              "<style scoped>\n",
              "    .dataframe tbody tr th:only-of-type {\n",
              "        vertical-align: middle;\n",
              "    }\n",
              "\n",
              "    .dataframe tbody tr th {\n",
              "        vertical-align: top;\n",
              "    }\n",
              "\n",
              "    .dataframe thead th {\n",
              "        text-align: right;\n",
              "    }\n",
              "</style>\n",
              "<table border=\"1\" class=\"dataframe\">\n",
              "  <thead>\n",
              "    <tr style=\"text-align: right;\">\n",
              "      <th></th>\n",
              "      <th>last_name</th>\n",
              "      <th>first_name</th>\n",
              "      <th>gender</th>\n",
              "      <th>birth_year</th>\n",
              "      <th>distance</th>\n",
              "      <th>style</th>\n",
              "      <th>result_s</th>\n",
              "      <th>points</th>\n",
              "    </tr>\n",
              "  </thead>\n",
              "  <tbody>\n",
              "    <tr>\n",
              "      <th>236</th>\n",
              "      <td>Коршак</td>\n",
              "      <td>Елизавета</td>\n",
              "      <td>Д</td>\n",
              "      <td>2005</td>\n",
              "      <td>400</td>\n",
              "      <td>вольный стиль</td>\n",
              "      <td>303.59</td>\n",
              "      <td>472.0</td>\n",
              "    </tr>\n",
              "    <tr>\n",
              "      <th>237</th>\n",
              "      <td>Дурнева</td>\n",
              "      <td>Ольга</td>\n",
              "      <td>Д</td>\n",
              "      <td>2004</td>\n",
              "      <td>400</td>\n",
              "      <td>вольный стиль</td>\n",
              "      <td>308.93</td>\n",
              "      <td>448.0</td>\n",
              "    </tr>\n",
              "    <tr>\n",
              "      <th>238</th>\n",
              "      <td>Хлистунова</td>\n",
              "      <td>Кристина</td>\n",
              "      <td>Д</td>\n",
              "      <td>2005</td>\n",
              "      <td>400</td>\n",
              "      <td>вольный стиль</td>\n",
              "      <td>314.57</td>\n",
              "      <td>424.0</td>\n",
              "    </tr>\n",
              "    <tr>\n",
              "      <th>239</th>\n",
              "      <td>Горовая</td>\n",
              "      <td>Марина</td>\n",
              "      <td>Д</td>\n",
              "      <td>2004</td>\n",
              "      <td>400</td>\n",
              "      <td>вольный стиль</td>\n",
              "      <td>315.60</td>\n",
              "      <td>420.0</td>\n",
              "    </tr>\n",
              "    <tr>\n",
              "      <th>240</th>\n",
              "      <td>Катиленец</td>\n",
              "      <td>София</td>\n",
              "      <td>Д</td>\n",
              "      <td>2005</td>\n",
              "      <td>400</td>\n",
              "      <td>вольный стиль</td>\n",
              "      <td>317.30</td>\n",
              "      <td>413.0</td>\n",
              "    </tr>\n",
              "  </tbody>\n",
              "</table>\n",
              "</div>"
            ],
            "text/plain": [
              "      last_name first_name gender  ...          style  result_s points\n",
              "236      Коршак  Елизавета      Д  ...  вольный стиль    303.59  472.0\n",
              "237     Дурнева      Ольга      Д  ...  вольный стиль    308.93  448.0\n",
              "238  Хлистунова   Кристина      Д  ...  вольный стиль    314.57  424.0\n",
              "239     Горовая     Марина      Д  ...  вольный стиль    315.60  420.0\n",
              "240   Катиленец      София      Д  ...  вольный стиль    317.30  413.0\n",
              "\n",
              "[5 rows x 8 columns]"
            ]
          },
          "metadata": {
            "tags": []
          },
          "execution_count": 129
        }
      ]
    },
    {
      "cell_type": "code",
      "metadata": {
        "id": "LA_4G7QYrO5r",
        "colab_type": "code",
        "colab": {
          "base_uri": "https://localhost:8080/",
          "height": 165
        },
        "outputId": "ec0968b8-f705-4e85-91ef-2bca4a34d74c"
      },
      "source": [
        "# найдем список спортсменов, кто участвовал в нескольких дистанциях\n",
        "# эквивалент sql-запроса \n",
        "# select last_name, first_name from df group by last_name, first_name having count(1) > 1\n",
        "\n",
        "grouped_dict = df.groupby(['last_name', 'first_name']).groups \n",
        "athletes = [key for key, value in grouped_dict.items() if len(value)>1]\n",
        "athletes"
      ],
      "execution_count": 140,
      "outputs": [
        {
          "output_type": "execute_result",
          "data": {
            "text/plain": [
              "[('Андрусевич', 'Диана'),\n",
              " ('Болдырева', 'Инна'),\n",
              " ('Горовая', 'Марина'),\n",
              " ('Котягова', 'Ксения'),\n",
              " ('Наумова', 'Ксения'),\n",
              " ('Парванова', 'Дарья'),\n",
              " ('Подвязнова', 'Анастасия'),\n",
              " ('Хлистунова', 'Кристина')]"
            ]
          },
          "metadata": {
            "tags": []
          },
          "execution_count": 140
        }
      ]
    },
    {
      "cell_type": "code",
      "metadata": {
        "id": "jhz0VdQ9lDvd",
        "colab_type": "code",
        "colab": {
          "base_uri": "https://localhost:8080/",
          "height": 36
        },
        "outputId": "c11c0277-31aa-48c9-da71-c1b7d035c4b2"
      },
      "source": [
        "# соберем результаты этих спортсменов в одном дата-фрейме\n",
        "\n",
        "# Вариант 1\n",
        "df2 = df.groupby(['last_name', 'first_name']).filter(lambda g: len(g) > 1).sort_values(by=['last_name', 'first_name'])\n",
        "df2.shape"
      ],
      "execution_count": 136,
      "outputs": [
        {
          "output_type": "execute_result",
          "data": {
            "text/plain": [
              "(16, 8)"
            ]
          },
          "metadata": {
            "tags": []
          },
          "execution_count": 136
        }
      ]
    },
    {
      "cell_type": "code",
      "metadata": {
        "id": "eTehMJmswKHe",
        "colab_type": "code",
        "colab": {}
      },
      "source": [
        "# Вариант 2\n",
        "df2 = df[(df['last_name'] == athletes[0][0]) & (df['first_name'] == athletes[0][1])]\n",
        "for ln, fn in athletes[1:]:\n",
        "  df2 = pd.concat([df2, df[(df['last_name'] == ln) & (df['first_name'] == fn)]], axis=0) \n",
        "\n",
        "df2"
      ],
      "execution_count": 0,
      "outputs": []
    },
    {
      "cell_type": "code",
      "metadata": {
        "id": "kGNUjsI64YmN",
        "colab_type": "code",
        "colab": {}
      },
      "source": [
        "# Вариант 3\n",
        "# 1. Создать датафрейм athletes_df на базе списка атлетов athletes \n",
        "\n",
        "athletes_df = pd.DataFrame(athletes, columns=['last_name', 'first_name']) \n",
        "\n",
        "# 2. Выполнить операцию внутреннего соединения df и athletes_df\n",
        "\n",
        "df2 = pd.merge(df, athletes_df, on=['last_name', 'first_name'], how='inner')\n",
        "\n",
        "\n",
        "# недостаток этого метада - несогласованный порядок записей в двух датафреймах,\n",
        "# для построения графиков нужно сортировать датафреймы \n",
        "# в нашем случае один датафрейм (athlete_df) уже отсортирован)\n",
        "\n",
        "df2 = df2.sort_values(by=['last_name', 'first_name'])\n",
        "df2"
      ],
      "execution_count": 0,
      "outputs": []
    },
    {
      "cell_type": "markdown",
      "metadata": {
        "id": "YLqFVHWl75-c",
        "colab_type": "text"
      },
      "source": [
        "**На какой дистанции спортсмены показали себя лучше? Кто из них лучший спринтер, а кто лучший стайер?**\n",
        "\n",
        "Попробуем определить ответы на эти вопросы, построив 2 графика\n",
        "\n",
        "**1. Дистанция/Время**"
      ]
    },
    {
      "cell_type": "code",
      "metadata": {
        "id": "ETqfzKbqpSSM",
        "colab_type": "code",
        "colab": {
          "base_uri": "https://localhost:8080/",
          "height": 469
        },
        "outputId": "6f1a31f2-bdff-408f-8755-05a6e240fb01"
      },
      "source": [
        "X = [str(athletes) for athletes in athletes]\n",
        "Y1 = df2[df2['distance'] == 100]['result_s'] \n",
        "Y2 = df2[df2['distance'] == 400]['result_s'] \n",
        "\n",
        "plt.figure(figsize=(10,5))\n",
        "plt.scatter(X, Y1, label='100м, вольный стиль')\n",
        "plt.scatter(X, Y2, label='400м, вольный стиль')\n",
        "\n",
        "# plt.hlines(y=Y1.mean(), xmin=X[0], xmax=X[-1], linestyle='--', color='red')\n",
        "# plt.hlines(y=Y2.mean(), xmin=X[0], xmax=X[-1], linestyle='--', color='blue')\n",
        "\n",
        "plt.ylim(-200, max(Y2)+100)\n",
        "plt.xticks(rotation=90)\n",
        "plt.legend(loc='upper right')\n",
        "plt.title('Время (меньше-лучше)')\n",
        "\n",
        "plt.show()"
      ],
      "execution_count": 141,
      "outputs": [
        {
          "output_type": "display_data",
          "data": {
            "image/png": "[encoded data removed]",
            "text/plain": [
              "<Figure size 720x360 with 1 Axes>"
            ]
          },
          "metadata": {
            "tags": []
          }
        }
      ]
    },
    {
      "cell_type": "markdown",
      "metadata": {
        "id": "Q3CWxwPy7gYG",
        "colab_type": "text"
      },
      "source": [
        "График невыразительный\n",
        "\n",
        "**2. Дистанция/Очки**\n",
        "\n",
        "**Использование производной метрики (\"фичи\") points позволяет лучше видеть данные:**"
      ]
    },
    {
      "cell_type": "code",
      "metadata": {
        "id": "DLzrrVoWv01f",
        "colab_type": "code",
        "colab": {
          "base_uri": "https://localhost:8080/",
          "height": 469
        },
        "outputId": "b6515d59-6eab-4d11-dd8a-b1778d544fa5"
      },
      "source": [
        "X = [str(athletes) for athletes in athletes]\n",
        "Y1 = df2[df2['distance'] == 100]['points'] \n",
        "Y2 = df2[df2['distance'] == 400]['points'] \n",
        "Y3 = numpy.array([Y1.iloc[i] - Y2.iloc[i] for i in range(len(Y1))])\n",
        "\n",
        "colors = numpy.where(Y3 > 10, 'red', 'blue')\n",
        "plt.figure(figsize=(10,5))\n",
        "plt.scatter(X, Y1, s=5, label='100м, вольный стиль')\n",
        "plt.scatter(X, Y2, s=5, label='400м, вольный стиль')\n",
        "plt.scatter(X, Y3, color=colors, label='разница')\n",
        "\n",
        "# plt.hlines(y=Y1.mean(), xmin=X[0], xmax=X[-1], linestyle='--', color='red')\n",
        "# plt.hlines(y=Y2.mean(), xmin=X[0], xmax=X[-1], linestyle='--', color='blue')\n",
        "\n",
        "plt.ylim(-150, max(Y2)+150)\n",
        "plt.xticks(rotation=90)\n",
        "plt.legend(loc='upper right')\n",
        "plt.title('Специализация (спринтер/стайер)')\n",
        "\n",
        "plt.show()"
      ],
      "execution_count": 142,
      "outputs": [
        {
          "output_type": "display_data",
          "data": {
            "image/png": "[encoded data removed]",
            "text/plain": [
              "<Figure size 720x360 with 1 Axes>"
            ]
          },
          "metadata": {
            "tags": []
          }
        }
      ]
    },
    {
      "cell_type": "markdown",
      "metadata": {
        "id": "743038nvAAdE",
        "colab_type": "text"
      },
      "source": [
        "Выглядит неплохо.\n",
        "\n",
        "**Тот же график для юношей:**"
      ]
    },
    {
      "cell_type": "code",
      "metadata": {
        "id": "v7nb7ZPH0snV",
        "colab_type": "code",
        "colab": {
          "base_uri": "https://localhost:8080/",
          "height": 470
        },
        "outputId": "2eef2f2a-fb61-4f98-ae12-724786384efa"
      },
      "source": [
        "group = 'Юноши 2004-2005 г.р.'\n",
        "style = 'вольный стиль'\n",
        "\n",
        "df = competitions_df[competitions_df['athlete_group'] == group][['last_name', 'first_name', 'gender', 'birth_year', 'distance', 'style', 'result_s', 'points']]\n",
        "df = df[df['style'] == style]\n",
        "\n",
        "# Плохие для группировки строки: df[(df['first_name'].isnull()) | (df['last_name'].isnull())]\n",
        "df = df.dropna(axis='index', how='any', subset=['first_name'])\n",
        "\n",
        "grouped_dict = df.groupby(['last_name', 'first_name']).groups \n",
        "athletes = [key for key, value in grouped_dict.items() if len(value)>1]\n",
        "\n",
        "df2 = df.groupby(['last_name', 'first_name']).filter(lambda g: len(g)>1).sort_values(by=['last_name', 'first_name'])\n",
        "\n",
        "X = [str(athletes) for athletes in athletes]\n",
        "\n",
        "Y1 = df2[df2['distance'] == 100]['points'] \n",
        "Y2 = df2[df2['distance'] == 400]['points'] \n",
        "Y3 = numpy.array([Y1.iloc[i] - Y2.iloc[i] for i in range(len(Y1))])\n",
        "\n",
        "colors = numpy.where(Y3 > 10, 'red', 'blue')\n",
        "\n",
        "plt.figure(figsize=(10,5))\n",
        "plt.scatter(X, Y1, s=5, label='100м, вольный стиль')\n",
        "plt.scatter(X, Y2, s=5, label='400м, вольный стиль')\n",
        "plt.scatter(X, Y3, color=colors, label='разница')\n",
        "\n",
        "# plt.hlines(y=Y1.mean(), xmin=X[0], xmax=X[-1], linestyle='--', color='red')\n",
        "# plt.hlines(y=Y2.mean(), xmin=X[0], xmax=X[-1], linestyle='--', color='blue')\n",
        "\n",
        "plt.ylim(-200, max(Y2)+100)\n",
        "plt.xticks(rotation=90)\n",
        "plt.legend(loc='upper right')\n",
        "plt.title('Специализация (спринтер/стайер)')\n",
        "\n",
        "plt.show()"
      ],
      "execution_count": 143,
      "outputs": [
        {
          "output_type": "display_data",
          "data": {
            "image/png": "[encoded data removed]",
            "text/plain": [
              "<Figure size 720x360 with 1 Axes>"
            ]
          },
          "metadata": {
            "tags": []
          }
        }
      ]
    },
    {
      "cell_type": "markdown",
      "metadata": {
        "id": "g01NACPOCYvX",
        "colab_type": "text"
      },
      "source": [
        "Модель для определения склонности пловца к коротким или длинным дистанциям (спринтер/стайер) найдена:\n",
        "\n",
        "**if** (очки_короткая_дист - очки_длинная_дист > 10):\n",
        "\n",
        "   спринтер  # red\n",
        "    \n",
        "**else**\n",
        "\n",
        "   стайер  # blue"
      ]
    },
    {
      "cell_type": "markdown",
      "metadata": {
        "id": "onTluNhs8n7U",
        "colab_type": "text"
      },
      "source": [
        "**После некоторого знакомства с данными, попробуем решить более сложную задачу**\n",
        "\n",
        "Если известно что спортсмены могут плыть только одну дистанцию из двух и только 10 спортсменов может участвовать в каждой из них, отнести каждого спортсмена к одному из трех классов (плыть короткую, плыть длинную, не плыть ничего) так, чтобы максимизировать предполагаемое суммарное число полученных очков\n"
      ]
    },
    {
      "cell_type": "code",
      "metadata": {
        "id": "GUMy_aaFPYTe",
        "colab_type": "code",
        "colab": {}
      },
      "source": [
        "#  Вопрос - как разбить данные на тренировочную и тестовые группы??\n",
        "\n"
      ],
      "execution_count": 0,
      "outputs": []
    }
  ]
}