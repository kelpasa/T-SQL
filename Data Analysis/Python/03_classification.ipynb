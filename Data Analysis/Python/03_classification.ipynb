{
  "nbformat": 4,
  "nbformat_minor": 0,
  "metadata": {
    "colab": {
      "name": "03_classification.ipynb",
      "version": "0.3.2",
      "provenance": [],
      "collapsed_sections": []
    },
    "language_info": {
      "codemirror_mode": {
        "name": "ipython",
        "version": 3
      },
      "file_extension": ".py",
      "mimetype": "text/x-python",
      "name": "python",
      "nbconvert_exporter": "python",
      "pygments_lexer": "ipython3",
      "version": "3.6.5"
    },
    "kernelspec": {
      "display_name": "Python 3",
      "language": "python",
      "name": "python3"
    }
  },
  "cells": [
    {
      "cell_type": "code",
      "metadata": {
        "id": "65VhNkQYYcPm",
        "colab_type": "code",
        "colab": {}
      },
      "source": [
        "# !mv /content/Competitions_results_cleaned.csv /content/sample_data/"
      ],
      "execution_count": 0,
      "outputs": []
    },
    {
      "cell_type": "code",
      "metadata": {
        "id": "id-QYlZ-PYRy",
        "colab_type": "code",
        "colab": {}
      },
      "source": [
        "# Импорт библиотек\n",
        "import numpy\n",
        "import pandas as pd"
      ],
      "execution_count": 0,
      "outputs": []
    },
    {
      "cell_type": "code",
      "metadata": {
        "id": "ViAW0suLPYR_",
        "colab_type": "code",
        "colab": {}
      },
      "source": [
        "import matplotlib\n",
        "import matplotlib.pyplot as plt\n",
        "matplotlib.style.use('ggplot')\n",
        "%matplotlib inline"
      ],
      "execution_count": 0,
      "outputs": []
    },
    {
      "cell_type": "code",
      "metadata": {
        "id": "EywWqBk_PYSG",
        "colab_type": "code",
        "colab": {}
      },
      "source": [
        "# Задаем рабочую папку\n",
        "import os\n",
        "os.chdir(\"/content/sample_data\")"
      ],
      "execution_count": 0,
      "outputs": []
    },
    {
      "cell_type": "code",
      "metadata": {
        "id": "ldNtDif5PYSO",
        "colab_type": "code",
        "colab": {}
      },
      "source": [
        "# Импорт данных\n",
        "competitions_df = pd.read_csv('Competitions_results_cleaned.csv', sep=',', parse_dates=['date'])"
      ],
      "execution_count": 0,
      "outputs": []
    },
    {
      "cell_type": "code",
      "metadata": {
        "id": "x-PWF6LnPYSW",
        "colab_type": "code",
        "outputId": "64291515-0d7a-4eac-96e3-9d63ecbf1edc",
        "colab": {
          "base_uri": "https://localhost:8080/",
          "height": 410
        }
      },
      "source": [
        "#  Знакомимся с данными\n",
        "competitions_df.dtypes"
      ],
      "execution_count": 7,
      "outputs": [
        {
          "output_type": "execute_result",
          "data": {
            "text/plain": [
              "place                        int64\n",
              "last_name                   object\n",
              "first_name                  object\n",
              "birth_year                   int64\n",
              "city                        object\n",
              "team                        object\n",
              "country                     object\n",
              "result                      object\n",
              "disc                       float64\n",
              "points                     float64\n",
              "athlete_group               object\n",
              "distance                     int64\n",
              "style                       object\n",
              "date                datetime64[ns]\n",
              "pool_city                   object\n",
              "pool_description            object\n",
              "id                           int64\n",
              "pool_size                    int64\n",
              "result_s                   float64\n",
              "gender                      object\n",
              "dtype: object"
            ]
          },
          "metadata": {
            "tags": []
          },
          "execution_count": 7
        }
      ]
    },
    {
      "cell_type": "code",
      "metadata": {
        "id": "X3nxIQ2jPYSe",
        "colab_type": "code",
        "outputId": "e1f9213e-16f3-4a81-e3df-c1e70b03132e",
        "colab": {
          "base_uri": "https://localhost:8080/",
          "height": 313
        }
      },
      "source": [
        "#  Знакомимся с данными\n",
        "competitions_df.head()\n",
        "#competitions_df.tail()\n",
        "#competitions_df.shape"
      ],
      "execution_count": 8,
      "outputs": [
        {
          "output_type": "execute_result",
          "data": {
            "text/html": [
              "<div>\n",
              "<style scoped>\n",
              "    .dataframe tbody tr th:only-of-type {\n",
              "        vertical-align: middle;\n",
              "    }\n",
              "\n",
              "    .dataframe tbody tr th {\n",
              "        vertical-align: top;\n",
              "    }\n",
              "\n",
              "    .dataframe thead th {\n",
              "        text-align: right;\n",
              "    }\n",
              "</style>\n",
              "<table border=\"1\" class=\"dataframe\">\n",
              "  <thead>\n",
              "    <tr style=\"text-align: right;\">\n",
              "      <th></th>\n",
              "      <th>place</th>\n",
              "      <th>last_name</th>\n",
              "      <th>first_name</th>\n",
              "      <th>birth_year</th>\n",
              "      <th>city</th>\n",
              "      <th>team</th>\n",
              "      <th>country</th>\n",
              "      <th>result</th>\n",
              "      <th>disc</th>\n",
              "      <th>points</th>\n",
              "      <th>athlete_group</th>\n",
              "      <th>distance</th>\n",
              "      <th>style</th>\n",
              "      <th>date</th>\n",
              "      <th>pool_city</th>\n",
              "      <th>pool_description</th>\n",
              "      <th>id</th>\n",
              "      <th>pool_size</th>\n",
              "      <th>result_s</th>\n",
              "      <th>gender</th>\n",
              "    </tr>\n",
              "  </thead>\n",
              "  <tbody>\n",
              "    <tr>\n",
              "      <th>0</th>\n",
              "      <td>1</td>\n",
              "      <td>Евмененко</td>\n",
              "      <td>София</td>\n",
              "      <td>2007</td>\n",
              "      <td>Долгопрудный</td>\n",
              "      <td>ДЮСШ</td>\n",
              "      <td>RUS</td>\n",
              "      <td>00:00:33.50</td>\n",
              "      <td>NaN</td>\n",
              "      <td>387.0</td>\n",
              "      <td>Девочки 2007г.р. и моложе</td>\n",
              "      <td>50</td>\n",
              "      <td>баттерфляй</td>\n",
              "      <td>2019-04-22</td>\n",
              "      <td>г.Жлобин</td>\n",
              "      <td>бассейн 50м.</td>\n",
              "      <td>8</td>\n",
              "      <td>50</td>\n",
              "      <td>33.50</td>\n",
              "      <td>Д</td>\n",
              "    </tr>\n",
              "    <tr>\n",
              "      <th>1</th>\n",
              "      <td>2</td>\n",
              "      <td>Редюк</td>\n",
              "      <td>Алина</td>\n",
              "      <td>2007</td>\n",
              "      <td>Гомель-1</td>\n",
              "      <td>ГОЦОР ввс</td>\n",
              "      <td>BLR</td>\n",
              "      <td>00:00:35.44</td>\n",
              "      <td>NaN</td>\n",
              "      <td>327.0</td>\n",
              "      <td>Девочки 2007г.р. и моложе</td>\n",
              "      <td>50</td>\n",
              "      <td>баттерфляй</td>\n",
              "      <td>2019-04-22</td>\n",
              "      <td>г.Жлобин</td>\n",
              "      <td>бассейн 50м.</td>\n",
              "      <td>9</td>\n",
              "      <td>50</td>\n",
              "      <td>35.44</td>\n",
              "      <td>Д</td>\n",
              "    </tr>\n",
              "    <tr>\n",
              "      <th>2</th>\n",
              "      <td>3</td>\n",
              "      <td>Козловская</td>\n",
              "      <td>Кристина</td>\n",
              "      <td>2007</td>\n",
              "      <td>Минск</td>\n",
              "      <td>Волна</td>\n",
              "      <td>BLR</td>\n",
              "      <td>00:00:36.10</td>\n",
              "      <td>NaN</td>\n",
              "      <td>309.0</td>\n",
              "      <td>Девочки 2007г.р. и моложе</td>\n",
              "      <td>50</td>\n",
              "      <td>баттерфляй</td>\n",
              "      <td>2019-04-22</td>\n",
              "      <td>г.Жлобин</td>\n",
              "      <td>бассейн 50м.</td>\n",
              "      <td>10</td>\n",
              "      <td>50</td>\n",
              "      <td>36.10</td>\n",
              "      <td>Д</td>\n",
              "    </tr>\n",
              "    <tr>\n",
              "      <th>3</th>\n",
              "      <td>4</td>\n",
              "      <td>Карпочева</td>\n",
              "      <td>Екатерина</td>\n",
              "      <td>2007</td>\n",
              "      <td>Речица</td>\n",
              "      <td>Олимп</td>\n",
              "      <td>BLR</td>\n",
              "      <td>00:00:36.62</td>\n",
              "      <td>NaN</td>\n",
              "      <td>296.0</td>\n",
              "      <td>Девочки 2007г.р. и моложе</td>\n",
              "      <td>50</td>\n",
              "      <td>баттерфляй</td>\n",
              "      <td>2019-04-22</td>\n",
              "      <td>г.Жлобин</td>\n",
              "      <td>бассейн 50м.</td>\n",
              "      <td>11</td>\n",
              "      <td>50</td>\n",
              "      <td>36.62</td>\n",
              "      <td>Д</td>\n",
              "    </tr>\n",
              "    <tr>\n",
              "      <th>4</th>\n",
              "      <td>5</td>\n",
              "      <td>Гисак</td>\n",
              "      <td>Анна</td>\n",
              "      <td>2007</td>\n",
              "      <td>Могилев</td>\n",
              "      <td>СДЮШОР</td>\n",
              "      <td>BLR</td>\n",
              "      <td>00:00:36.96</td>\n",
              "      <td>NaN</td>\n",
              "      <td>288.0</td>\n",
              "      <td>Девочки 2007г.р. и моложе</td>\n",
              "      <td>50</td>\n",
              "      <td>баттерфляй</td>\n",
              "      <td>2019-04-22</td>\n",
              "      <td>г.Жлобин</td>\n",
              "      <td>бассейн 50м.</td>\n",
              "      <td>12</td>\n",
              "      <td>50</td>\n",
              "      <td>36.96</td>\n",
              "      <td>Д</td>\n",
              "    </tr>\n",
              "  </tbody>\n",
              "</table>\n",
              "</div>"
            ],
            "text/plain": [
              "   place   last_name first_name  birth_year  ...  id pool_size result_s gender\n",
              "0      1   Евмененко      София        2007  ...   8        50    33.50      Д\n",
              "1      2       Редюк      Алина        2007  ...   9        50    35.44      Д\n",
              "2      3  Козловская   Кристина        2007  ...  10        50    36.10      Д\n",
              "3      4   Карпочева  Екатерина        2007  ...  11        50    36.62      Д\n",
              "4      5       Гисак       Анна        2007  ...  12        50    36.96      Д\n",
              "\n",
              "[5 rows x 20 columns]"
            ]
          },
          "metadata": {
            "tags": []
          },
          "execution_count": 8
        }
      ]
    },
    {
      "cell_type": "code",
      "metadata": {
        "id": "KJ1ABLejpL7J",
        "colab_type": "code",
        "outputId": "73204975-ef91-4e9f-ddaa-52608da195a6",
        "colab": {
          "base_uri": "https://localhost:8080/",
          "height": 206
        }
      },
      "source": [
        "group = 'Девушки 2004-2005 г.р.'\n",
        "style = 'вольный стиль'\n",
        "df = competitions_df[competitions_df['athlete_group'] == group][['last_name', 'first_name', 'gender', 'birth_year', 'distance', 'style', 'result_s', 'points']]\n",
        "df = df[df['style'] == style]\n",
        "\n",
        "df.head()\n",
        "# df.shape\n"
      ],
      "execution_count": 9,
      "outputs": [
        {
          "output_type": "execute_result",
          "data": {
            "text/html": [
              "<div>\n",
              "<style scoped>\n",
              "    .dataframe tbody tr th:only-of-type {\n",
              "        vertical-align: middle;\n",
              "    }\n",
              "\n",
              "    .dataframe tbody tr th {\n",
              "        vertical-align: top;\n",
              "    }\n",
              "\n",
              "    .dataframe thead th {\n",
              "        text-align: right;\n",
              "    }\n",
              "</style>\n",
              "<table border=\"1\" class=\"dataframe\">\n",
              "  <thead>\n",
              "    <tr style=\"text-align: right;\">\n",
              "      <th></th>\n",
              "      <th>last_name</th>\n",
              "      <th>first_name</th>\n",
              "      <th>gender</th>\n",
              "      <th>birth_year</th>\n",
              "      <th>distance</th>\n",
              "      <th>style</th>\n",
              "      <th>result_s</th>\n",
              "      <th>points</th>\n",
              "    </tr>\n",
              "  </thead>\n",
              "  <tbody>\n",
              "    <tr>\n",
              "      <th>236</th>\n",
              "      <td>Коршак</td>\n",
              "      <td>Елизавета</td>\n",
              "      <td>Д</td>\n",
              "      <td>2005</td>\n",
              "      <td>400</td>\n",
              "      <td>вольный стиль</td>\n",
              "      <td>303.59</td>\n",
              "      <td>472.0</td>\n",
              "    </tr>\n",
              "    <tr>\n",
              "      <th>237</th>\n",
              "      <td>Дурнева</td>\n",
              "      <td>Ольга</td>\n",
              "      <td>Д</td>\n",
              "      <td>2004</td>\n",
              "      <td>400</td>\n",
              "      <td>вольный стиль</td>\n",
              "      <td>308.93</td>\n",
              "      <td>448.0</td>\n",
              "    </tr>\n",
              "    <tr>\n",
              "      <th>238</th>\n",
              "      <td>Хлистунова</td>\n",
              "      <td>Кристина</td>\n",
              "      <td>Д</td>\n",
              "      <td>2005</td>\n",
              "      <td>400</td>\n",
              "      <td>вольный стиль</td>\n",
              "      <td>314.57</td>\n",
              "      <td>424.0</td>\n",
              "    </tr>\n",
              "    <tr>\n",
              "      <th>239</th>\n",
              "      <td>Горовая</td>\n",
              "      <td>Марина</td>\n",
              "      <td>Д</td>\n",
              "      <td>2004</td>\n",
              "      <td>400</td>\n",
              "      <td>вольный стиль</td>\n",
              "      <td>315.60</td>\n",
              "      <td>420.0</td>\n",
              "    </tr>\n",
              "    <tr>\n",
              "      <th>240</th>\n",
              "      <td>Катиленец</td>\n",
              "      <td>София</td>\n",
              "      <td>Д</td>\n",
              "      <td>2005</td>\n",
              "      <td>400</td>\n",
              "      <td>вольный стиль</td>\n",
              "      <td>317.30</td>\n",
              "      <td>413.0</td>\n",
              "    </tr>\n",
              "  </tbody>\n",
              "</table>\n",
              "</div>"
            ],
            "text/plain": [
              "      last_name first_name gender  ...          style  result_s points\n",
              "236      Коршак  Елизавета      Д  ...  вольный стиль    303.59  472.0\n",
              "237     Дурнева      Ольга      Д  ...  вольный стиль    308.93  448.0\n",
              "238  Хлистунова   Кристина      Д  ...  вольный стиль    314.57  424.0\n",
              "239     Горовая     Марина      Д  ...  вольный стиль    315.60  420.0\n",
              "240   Катиленец      София      Д  ...  вольный стиль    317.30  413.0\n",
              "\n",
              "[5 rows x 8 columns]"
            ]
          },
          "metadata": {
            "tags": []
          },
          "execution_count": 9
        }
      ]
    },
    {
      "cell_type": "code",
      "metadata": {
        "id": "LA_4G7QYrO5r",
        "colab_type": "code",
        "outputId": "67bd5310-1ddf-4949-dd24-7233dc45bc79",
        "colab": {
          "base_uri": "https://localhost:8080/",
          "height": 167
        }
      },
      "source": [
        "# найдем список спортсменов, кто участвовал в нескольких дистанциях\n",
        "# эквивалент sql-запроса \n",
        "# select last_name, first_name from df group by last_name, first_name having count(1) > 1\n",
        "\n",
        "grouped_dict = df.groupby(['last_name', 'first_name']).groups \n",
        "athletes = [key for key, value in grouped_dict.items() if len(value)>1]\n",
        "athletes"
      ],
      "execution_count": 10,
      "outputs": [
        {
          "output_type": "execute_result",
          "data": {
            "text/plain": [
              "[('Андрусевич', 'Диана'),\n",
              " ('Болдырева', 'Инна'),\n",
              " ('Горовая', 'Марина'),\n",
              " ('Котягова', 'Ксения'),\n",
              " ('Наумова', 'Ксения'),\n",
              " ('Парванова', 'Дарья'),\n",
              " ('Подвязнова', 'Анастасия'),\n",
              " ('Хлистунова', 'Кристина')]"
            ]
          },
          "metadata": {
            "tags": []
          },
          "execution_count": 10
        }
      ]
    },
    {
      "cell_type": "code",
      "metadata": {
        "id": "jhz0VdQ9lDvd",
        "colab_type": "code",
        "outputId": "0458cc69-01b3-4996-9090-84b5767d23c1",
        "colab": {
          "base_uri": "https://localhost:8080/",
          "height": 36
        }
      },
      "source": [
        "# соберем результаты этих спортсменов в одном дата-фрейме\n",
        "\n",
        "# Вариант 1\n",
        "df2 = df.groupby(['last_name', 'first_name']).filter(lambda g: len(g) > 1).sort_values(by=['last_name', 'first_name'])\n",
        "df2.shape"
      ],
      "execution_count": 11,
      "outputs": [
        {
          "output_type": "execute_result",
          "data": {
            "text/plain": [
              "(16, 8)"
            ]
          },
          "metadata": {
            "tags": []
          },
          "execution_count": 11
        }
      ]
    },
    {
      "cell_type": "code",
      "metadata": {
        "id": "eTehMJmswKHe",
        "colab_type": "code",
        "outputId": "79a23a4c-3baa-4890-8a4c-16cb412a7efc",
        "colab": {
          "base_uri": "https://localhost:8080/",
          "height": 551
        }
      },
      "source": [
        "# Вариант 2\n",
        "df2 = df[(df['last_name'] == athletes[0][0]) & (df['first_name'] == athletes[0][1])]\n",
        "for ln, fn in athletes[1:]:\n",
        "  df2 = pd.concat([df2, df[(df['last_name'] == ln) & (df['first_name'] == fn)]], axis=0) \n",
        "\n",
        "df2"
      ],
      "execution_count": 12,
      "outputs": [
        {
          "output_type": "execute_result",
          "data": {
            "text/html": [
              "<div>\n",
              "<style scoped>\n",
              "    .dataframe tbody tr th:only-of-type {\n",
              "        vertical-align: middle;\n",
              "    }\n",
              "\n",
              "    .dataframe tbody tr th {\n",
              "        vertical-align: top;\n",
              "    }\n",
              "\n",
              "    .dataframe thead th {\n",
              "        text-align: right;\n",
              "    }\n",
              "</style>\n",
              "<table border=\"1\" class=\"dataframe\">\n",
              "  <thead>\n",
              "    <tr style=\"text-align: right;\">\n",
              "      <th></th>\n",
              "      <th>last_name</th>\n",
              "      <th>first_name</th>\n",
              "      <th>gender</th>\n",
              "      <th>birth_year</th>\n",
              "      <th>distance</th>\n",
              "      <th>style</th>\n",
              "      <th>result_s</th>\n",
              "      <th>points</th>\n",
              "    </tr>\n",
              "  </thead>\n",
              "  <tbody>\n",
              "    <tr>\n",
              "      <th>250</th>\n",
              "      <td>Андрусевич</td>\n",
              "      <td>Диана</td>\n",
              "      <td>Д</td>\n",
              "      <td>2005</td>\n",
              "      <td>400</td>\n",
              "      <td>вольный стиль</td>\n",
              "      <td>344.36</td>\n",
              "      <td>323.0</td>\n",
              "    </tr>\n",
              "    <tr>\n",
              "      <th>854</th>\n",
              "      <td>Андрусевич</td>\n",
              "      <td>Диана</td>\n",
              "      <td>Д</td>\n",
              "      <td>2005</td>\n",
              "      <td>100</td>\n",
              "      <td>вольный стиль</td>\n",
              "      <td>74.01</td>\n",
              "      <td>341.0</td>\n",
              "    </tr>\n",
              "    <tr>\n",
              "      <th>246</th>\n",
              "      <td>Болдырева</td>\n",
              "      <td>Инна</td>\n",
              "      <td>Д</td>\n",
              "      <td>2005</td>\n",
              "      <td>400</td>\n",
              "      <td>вольный стиль</td>\n",
              "      <td>330.80</td>\n",
              "      <td>365.0</td>\n",
              "    </tr>\n",
              "    <tr>\n",
              "      <th>853</th>\n",
              "      <td>Болдырева</td>\n",
              "      <td>Инна</td>\n",
              "      <td>Д</td>\n",
              "      <td>2005</td>\n",
              "      <td>100</td>\n",
              "      <td>вольный стиль</td>\n",
              "      <td>72.31</td>\n",
              "      <td>365.0</td>\n",
              "    </tr>\n",
              "    <tr>\n",
              "      <th>239</th>\n",
              "      <td>Горовая</td>\n",
              "      <td>Марина</td>\n",
              "      <td>Д</td>\n",
              "      <td>2004</td>\n",
              "      <td>400</td>\n",
              "      <td>вольный стиль</td>\n",
              "      <td>315.60</td>\n",
              "      <td>420.0</td>\n",
              "    </tr>\n",
              "    <tr>\n",
              "      <th>849</th>\n",
              "      <td>Горовая</td>\n",
              "      <td>Марина</td>\n",
              "      <td>Д</td>\n",
              "      <td>2004</td>\n",
              "      <td>100</td>\n",
              "      <td>вольный стиль</td>\n",
              "      <td>66.25</td>\n",
              "      <td>475.0</td>\n",
              "    </tr>\n",
              "    <tr>\n",
              "      <th>243</th>\n",
              "      <td>Котягова</td>\n",
              "      <td>Ксения</td>\n",
              "      <td>Д</td>\n",
              "      <td>2005</td>\n",
              "      <td>400</td>\n",
              "      <td>вольный стиль</td>\n",
              "      <td>327.59</td>\n",
              "      <td>376.0</td>\n",
              "    </tr>\n",
              "    <tr>\n",
              "      <th>851</th>\n",
              "      <td>Котягова</td>\n",
              "      <td>Ксения</td>\n",
              "      <td>Д</td>\n",
              "      <td>2005</td>\n",
              "      <td>100</td>\n",
              "      <td>вольный стиль</td>\n",
              "      <td>68.82</td>\n",
              "      <td>424.0</td>\n",
              "    </tr>\n",
              "    <tr>\n",
              "      <th>247</th>\n",
              "      <td>Наумова</td>\n",
              "      <td>Ксения</td>\n",
              "      <td>Д</td>\n",
              "      <td>2005</td>\n",
              "      <td>400</td>\n",
              "      <td>вольный стиль</td>\n",
              "      <td>332.56</td>\n",
              "      <td>359.0</td>\n",
              "    </tr>\n",
              "    <tr>\n",
              "      <th>848</th>\n",
              "      <td>Наумова</td>\n",
              "      <td>Ксения</td>\n",
              "      <td>Д</td>\n",
              "      <td>2005</td>\n",
              "      <td>100</td>\n",
              "      <td>вольный стиль</td>\n",
              "      <td>65.38</td>\n",
              "      <td>494.0</td>\n",
              "    </tr>\n",
              "    <tr>\n",
              "      <th>242</th>\n",
              "      <td>Парванова</td>\n",
              "      <td>Дарья</td>\n",
              "      <td>Д</td>\n",
              "      <td>2004</td>\n",
              "      <td>400</td>\n",
              "      <td>вольный стиль</td>\n",
              "      <td>322.51</td>\n",
              "      <td>394.0</td>\n",
              "    </tr>\n",
              "    <tr>\n",
              "      <th>850</th>\n",
              "      <td>Парванова</td>\n",
              "      <td>Дарья</td>\n",
              "      <td>Д</td>\n",
              "      <td>2004</td>\n",
              "      <td>100</td>\n",
              "      <td>вольный стиль</td>\n",
              "      <td>67.25</td>\n",
              "      <td>454.0</td>\n",
              "    </tr>\n",
              "    <tr>\n",
              "      <th>255</th>\n",
              "      <td>Подвязнова</td>\n",
              "      <td>Анастасия</td>\n",
              "      <td>Д</td>\n",
              "      <td>2005</td>\n",
              "      <td>400</td>\n",
              "      <td>вольный стиль</td>\n",
              "      <td>356.28</td>\n",
              "      <td>292.0</td>\n",
              "    </tr>\n",
              "    <tr>\n",
              "      <th>855</th>\n",
              "      <td>Подвязнова</td>\n",
              "      <td>Анастасия</td>\n",
              "      <td>Д</td>\n",
              "      <td>2005</td>\n",
              "      <td>100</td>\n",
              "      <td>вольный стиль</td>\n",
              "      <td>75.92</td>\n",
              "      <td>315.0</td>\n",
              "    </tr>\n",
              "    <tr>\n",
              "      <th>238</th>\n",
              "      <td>Хлистунова</td>\n",
              "      <td>Кристина</td>\n",
              "      <td>Д</td>\n",
              "      <td>2005</td>\n",
              "      <td>400</td>\n",
              "      <td>вольный стиль</td>\n",
              "      <td>314.57</td>\n",
              "      <td>424.0</td>\n",
              "    </tr>\n",
              "    <tr>\n",
              "      <th>852</th>\n",
              "      <td>Хлистунова</td>\n",
              "      <td>Кристина</td>\n",
              "      <td>Д</td>\n",
              "      <td>2005</td>\n",
              "      <td>100</td>\n",
              "      <td>вольный стиль</td>\n",
              "      <td>69.59</td>\n",
              "      <td>410.0</td>\n",
              "    </tr>\n",
              "  </tbody>\n",
              "</table>\n",
              "</div>"
            ],
            "text/plain": [
              "      last_name first_name gender  ...          style  result_s points\n",
              "250  Андрусевич      Диана      Д  ...  вольный стиль    344.36  323.0\n",
              "854  Андрусевич      Диана      Д  ...  вольный стиль     74.01  341.0\n",
              "246   Болдырева       Инна      Д  ...  вольный стиль    330.80  365.0\n",
              "853   Болдырева       Инна      Д  ...  вольный стиль     72.31  365.0\n",
              "239     Горовая     Марина      Д  ...  вольный стиль    315.60  420.0\n",
              "849     Горовая     Марина      Д  ...  вольный стиль     66.25  475.0\n",
              "243    Котягова     Ксения      Д  ...  вольный стиль    327.59  376.0\n",
              "851    Котягова     Ксения      Д  ...  вольный стиль     68.82  424.0\n",
              "247     Наумова     Ксения      Д  ...  вольный стиль    332.56  359.0\n",
              "848     Наумова     Ксения      Д  ...  вольный стиль     65.38  494.0\n",
              "242   Парванова      Дарья      Д  ...  вольный стиль    322.51  394.0\n",
              "850   Парванова      Дарья      Д  ...  вольный стиль     67.25  454.0\n",
              "255  Подвязнова  Анастасия      Д  ...  вольный стиль    356.28  292.0\n",
              "855  Подвязнова  Анастасия      Д  ...  вольный стиль     75.92  315.0\n",
              "238  Хлистунова   Кристина      Д  ...  вольный стиль    314.57  424.0\n",
              "852  Хлистунова   Кристина      Д  ...  вольный стиль     69.59  410.0\n",
              "\n",
              "[16 rows x 8 columns]"
            ]
          },
          "metadata": {
            "tags": []
          },
          "execution_count": 12
        }
      ]
    },
    {
      "cell_type": "code",
      "metadata": {
        "id": "kGNUjsI64YmN",
        "colab_type": "code",
        "outputId": "e5a3d746-e461-409d-c697-f69ef60781c0",
        "colab": {
          "base_uri": "https://localhost:8080/",
          "height": 551
        }
      },
      "source": [
        "# Вариант 3\n",
        "# 1. Создать датафрейм athletes_df на базе списка атлетов athletes \n",
        "\n",
        "athletes_df = pd.DataFrame(athletes, columns=['last_name', 'first_name']) \n",
        "\n",
        "# 2. Выполнить операцию внутреннего соединения df и athletes_df\n",
        "\n",
        "df2 = pd.merge(df, athletes_df, on=['last_name', 'first_name'], how='inner')\n",
        "\n",
        "\n",
        "# недостаток этого метада - несогласованный порядок записей в двух датафреймах,\n",
        "# для построения графиков нужно сортировать датафреймы \n",
        "# в нашем случае один датафрейм (athlete_df) уже отсортирован)\n",
        "\n",
        "df2 = df2.sort_values(by=['last_name', 'first_name'])\n",
        "df2"
      ],
      "execution_count": 13,
      "outputs": [
        {
          "output_type": "execute_result",
          "data": {
            "text/html": [
              "<div>\n",
              "<style scoped>\n",
              "    .dataframe tbody tr th:only-of-type {\n",
              "        vertical-align: middle;\n",
              "    }\n",
              "\n",
              "    .dataframe tbody tr th {\n",
              "        vertical-align: top;\n",
              "    }\n",
              "\n",
              "    .dataframe thead th {\n",
              "        text-align: right;\n",
              "    }\n",
              "</style>\n",
              "<table border=\"1\" class=\"dataframe\">\n",
              "  <thead>\n",
              "    <tr style=\"text-align: right;\">\n",
              "      <th></th>\n",
              "      <th>last_name</th>\n",
              "      <th>first_name</th>\n",
              "      <th>gender</th>\n",
              "      <th>birth_year</th>\n",
              "      <th>distance</th>\n",
              "      <th>style</th>\n",
              "      <th>result_s</th>\n",
              "      <th>points</th>\n",
              "    </tr>\n",
              "  </thead>\n",
              "  <tbody>\n",
              "    <tr>\n",
              "      <th>12</th>\n",
              "      <td>Андрусевич</td>\n",
              "      <td>Диана</td>\n",
              "      <td>Д</td>\n",
              "      <td>2005</td>\n",
              "      <td>400</td>\n",
              "      <td>вольный стиль</td>\n",
              "      <td>344.36</td>\n",
              "      <td>323.0</td>\n",
              "    </tr>\n",
              "    <tr>\n",
              "      <th>13</th>\n",
              "      <td>Андрусевич</td>\n",
              "      <td>Диана</td>\n",
              "      <td>Д</td>\n",
              "      <td>2005</td>\n",
              "      <td>100</td>\n",
              "      <td>вольный стиль</td>\n",
              "      <td>74.01</td>\n",
              "      <td>341.0</td>\n",
              "    </tr>\n",
              "    <tr>\n",
              "      <th>8</th>\n",
              "      <td>Болдырева</td>\n",
              "      <td>Инна</td>\n",
              "      <td>Д</td>\n",
              "      <td>2005</td>\n",
              "      <td>400</td>\n",
              "      <td>вольный стиль</td>\n",
              "      <td>330.80</td>\n",
              "      <td>365.0</td>\n",
              "    </tr>\n",
              "    <tr>\n",
              "      <th>9</th>\n",
              "      <td>Болдырева</td>\n",
              "      <td>Инна</td>\n",
              "      <td>Д</td>\n",
              "      <td>2005</td>\n",
              "      <td>100</td>\n",
              "      <td>вольный стиль</td>\n",
              "      <td>72.31</td>\n",
              "      <td>365.0</td>\n",
              "    </tr>\n",
              "    <tr>\n",
              "      <th>2</th>\n",
              "      <td>Горовая</td>\n",
              "      <td>Марина</td>\n",
              "      <td>Д</td>\n",
              "      <td>2004</td>\n",
              "      <td>400</td>\n",
              "      <td>вольный стиль</td>\n",
              "      <td>315.60</td>\n",
              "      <td>420.0</td>\n",
              "    </tr>\n",
              "    <tr>\n",
              "      <th>3</th>\n",
              "      <td>Горовая</td>\n",
              "      <td>Марина</td>\n",
              "      <td>Д</td>\n",
              "      <td>2004</td>\n",
              "      <td>100</td>\n",
              "      <td>вольный стиль</td>\n",
              "      <td>66.25</td>\n",
              "      <td>475.0</td>\n",
              "    </tr>\n",
              "    <tr>\n",
              "      <th>6</th>\n",
              "      <td>Котягова</td>\n",
              "      <td>Ксения</td>\n",
              "      <td>Д</td>\n",
              "      <td>2005</td>\n",
              "      <td>400</td>\n",
              "      <td>вольный стиль</td>\n",
              "      <td>327.59</td>\n",
              "      <td>376.0</td>\n",
              "    </tr>\n",
              "    <tr>\n",
              "      <th>7</th>\n",
              "      <td>Котягова</td>\n",
              "      <td>Ксения</td>\n",
              "      <td>Д</td>\n",
              "      <td>2005</td>\n",
              "      <td>100</td>\n",
              "      <td>вольный стиль</td>\n",
              "      <td>68.82</td>\n",
              "      <td>424.0</td>\n",
              "    </tr>\n",
              "    <tr>\n",
              "      <th>10</th>\n",
              "      <td>Наумова</td>\n",
              "      <td>Ксения</td>\n",
              "      <td>Д</td>\n",
              "      <td>2005</td>\n",
              "      <td>400</td>\n",
              "      <td>вольный стиль</td>\n",
              "      <td>332.56</td>\n",
              "      <td>359.0</td>\n",
              "    </tr>\n",
              "    <tr>\n",
              "      <th>11</th>\n",
              "      <td>Наумова</td>\n",
              "      <td>Ксения</td>\n",
              "      <td>Д</td>\n",
              "      <td>2005</td>\n",
              "      <td>100</td>\n",
              "      <td>вольный стиль</td>\n",
              "      <td>65.38</td>\n",
              "      <td>494.0</td>\n",
              "    </tr>\n",
              "    <tr>\n",
              "      <th>4</th>\n",
              "      <td>Парванова</td>\n",
              "      <td>Дарья</td>\n",
              "      <td>Д</td>\n",
              "      <td>2004</td>\n",
              "      <td>400</td>\n",
              "      <td>вольный стиль</td>\n",
              "      <td>322.51</td>\n",
              "      <td>394.0</td>\n",
              "    </tr>\n",
              "    <tr>\n",
              "      <th>5</th>\n",
              "      <td>Парванова</td>\n",
              "      <td>Дарья</td>\n",
              "      <td>Д</td>\n",
              "      <td>2004</td>\n",
              "      <td>100</td>\n",
              "      <td>вольный стиль</td>\n",
              "      <td>67.25</td>\n",
              "      <td>454.0</td>\n",
              "    </tr>\n",
              "    <tr>\n",
              "      <th>14</th>\n",
              "      <td>Подвязнова</td>\n",
              "      <td>Анастасия</td>\n",
              "      <td>Д</td>\n",
              "      <td>2005</td>\n",
              "      <td>400</td>\n",
              "      <td>вольный стиль</td>\n",
              "      <td>356.28</td>\n",
              "      <td>292.0</td>\n",
              "    </tr>\n",
              "    <tr>\n",
              "      <th>15</th>\n",
              "      <td>Подвязнова</td>\n",
              "      <td>Анастасия</td>\n",
              "      <td>Д</td>\n",
              "      <td>2005</td>\n",
              "      <td>100</td>\n",
              "      <td>вольный стиль</td>\n",
              "      <td>75.92</td>\n",
              "      <td>315.0</td>\n",
              "    </tr>\n",
              "    <tr>\n",
              "      <th>0</th>\n",
              "      <td>Хлистунова</td>\n",
              "      <td>Кристина</td>\n",
              "      <td>Д</td>\n",
              "      <td>2005</td>\n",
              "      <td>400</td>\n",
              "      <td>вольный стиль</td>\n",
              "      <td>314.57</td>\n",
              "      <td>424.0</td>\n",
              "    </tr>\n",
              "    <tr>\n",
              "      <th>1</th>\n",
              "      <td>Хлистунова</td>\n",
              "      <td>Кристина</td>\n",
              "      <td>Д</td>\n",
              "      <td>2005</td>\n",
              "      <td>100</td>\n",
              "      <td>вольный стиль</td>\n",
              "      <td>69.59</td>\n",
              "      <td>410.0</td>\n",
              "    </tr>\n",
              "  </tbody>\n",
              "</table>\n",
              "</div>"
            ],
            "text/plain": [
              "     last_name first_name gender  ...          style  result_s points\n",
              "12  Андрусевич      Диана      Д  ...  вольный стиль    344.36  323.0\n",
              "13  Андрусевич      Диана      Д  ...  вольный стиль     74.01  341.0\n",
              "8    Болдырева       Инна      Д  ...  вольный стиль    330.80  365.0\n",
              "9    Болдырева       Инна      Д  ...  вольный стиль     72.31  365.0\n",
              "2      Горовая     Марина      Д  ...  вольный стиль    315.60  420.0\n",
              "3      Горовая     Марина      Д  ...  вольный стиль     66.25  475.0\n",
              "6     Котягова     Ксения      Д  ...  вольный стиль    327.59  376.0\n",
              "7     Котягова     Ксения      Д  ...  вольный стиль     68.82  424.0\n",
              "10     Наумова     Ксения      Д  ...  вольный стиль    332.56  359.0\n",
              "11     Наумова     Ксения      Д  ...  вольный стиль     65.38  494.0\n",
              "4    Парванова      Дарья      Д  ...  вольный стиль    322.51  394.0\n",
              "5    Парванова      Дарья      Д  ...  вольный стиль     67.25  454.0\n",
              "14  Подвязнова  Анастасия      Д  ...  вольный стиль    356.28  292.0\n",
              "15  Подвязнова  Анастасия      Д  ...  вольный стиль     75.92  315.0\n",
              "0   Хлистунова   Кристина      Д  ...  вольный стиль    314.57  424.0\n",
              "1   Хлистунова   Кристина      Д  ...  вольный стиль     69.59  410.0\n",
              "\n",
              "[16 rows x 8 columns]"
            ]
          },
          "metadata": {
            "tags": []
          },
          "execution_count": 13
        }
      ]
    },
    {
      "cell_type": "markdown",
      "metadata": {
        "id": "YLqFVHWl75-c",
        "colab_type": "text"
      },
      "source": [
        "**Задача1.**\n",
        "\n",
        "На какой дистанции спортсмены показали себя лучше? Кто из них лучший спринтер, а кто лучший стайер?\n",
        "\n",
        "Попробуем определить ответы на эти вопросы, построив 2 графика\n",
        "\n",
        "*1. Дистанция/Время*"
      ]
    },
    {
      "cell_type": "code",
      "metadata": {
        "id": "ETqfzKbqpSSM",
        "colab_type": "code",
        "outputId": "f4f88f99-db87-42e0-ec5b-61e96d70fb25",
        "colab": {
          "base_uri": "https://localhost:8080/",
          "height": 469
        }
      },
      "source": [
        "X = [str(athletes) for athletes in athletes]\n",
        "Y1 = df2[df2['distance'] == 100]['result_s'] \n",
        "Y2 = df2[df2['distance'] == 400]['result_s'] \n",
        "\n",
        "plt.figure(figsize=(10,5))\n",
        "plt.scatter(X, Y1, label='100м, вольный стиль')\n",
        "plt.scatter(X, Y2, label='400м, вольный стиль')\n",
        "\n",
        "# plt.hlines(y=Y1.mean(), xmin=X[0], xmax=X[-1], linestyle='--', color='red')\n",
        "# plt.hlines(y=Y2.mean(), xmin=X[0], xmax=X[-1], linestyle='--', color='blue')\n",
        "\n",
        "plt.ylim(-200, max(Y2)+100)\n",
        "plt.xticks(rotation=90)\n",
        "plt.legend(loc='upper right')\n",
        "plt.title('Время (меньше-лучше)')\n",
        "\n",
        "plt.show()"
      ],
      "execution_count": 14,
      "outputs": [
        {
          "output_type": "display_data",
          "data": {
            "image/png": "[encoded data removed]",
            "text/plain": [
              "<Figure size 720x360 with 1 Axes>"
            ]
          },
          "metadata": {
            "tags": []
          }
        }
      ]
    },
    {
      "cell_type": "markdown",
      "metadata": {
        "id": "Q3CWxwPy7gYG",
        "colab_type": "text"
      },
      "source": [
        "График невыразительный\n",
        "\n",
        "*2. Дистанция/Очки*\n",
        "\n",
        "Использование производной метрики (\"фичи\") points позволяет лучше видеть данные:"
      ]
    },
    {
      "cell_type": "code",
      "metadata": {
        "id": "DLzrrVoWv01f",
        "colab_type": "code",
        "outputId": "40d9aa0a-4a14-4c56-e0e9-dcae26dd9d1c",
        "colab": {
          "base_uri": "https://localhost:8080/",
          "height": 469
        }
      },
      "source": [
        "X = [str(athletes) for athletes in athletes]\n",
        "Y1 = df2[df2['distance'] == 100]['points'] \n",
        "Y2 = df2[df2['distance'] == 400]['points'] \n",
        "Y3 = numpy.array([Y1.iloc[i] - Y2.iloc[i] for i in range(len(Y1))])\n",
        "\n",
        "colors = numpy.where(Y3 > 10, 'red', 'blue')\n",
        "plt.figure(figsize=(10,5))\n",
        "plt.scatter(X, Y1, s=5, label='100м, вольный стиль')\n",
        "plt.scatter(X, Y2, s=5, label='400м, вольный стиль')\n",
        "plt.scatter(X, Y3, color=colors, label='разница')\n",
        "\n",
        "# plt.hlines(y=Y1.mean(), xmin=X[0], xmax=X[-1], linestyle='--', color='red')\n",
        "# plt.hlines(y=Y2.mean(), xmin=X[0], xmax=X[-1], linestyle='--', color='blue')\n",
        "\n",
        "plt.ylim(-150, max(Y2)+150)\n",
        "plt.xticks(rotation=90)\n",
        "plt.legend(loc='upper right')\n",
        "plt.title('Специализация (спринтер/стайер)')\n",
        "\n",
        "plt.show()"
      ],
      "execution_count": 15,
      "outputs": [
        {
          "output_type": "display_data",
          "data": {
            "image/png": "[encoded data removed]",
            "text/plain": [
              "<Figure size 720x360 with 1 Axes>"
            ]
          },
          "metadata": {
            "tags": []
          }
        }
      ]
    },
    {
      "cell_type": "markdown",
      "metadata": {
        "id": "743038nvAAdE",
        "colab_type": "text"
      },
      "source": [
        "Выглядит неплохо.\n",
        "\n",
        "*Тот же график для юношей:*"
      ]
    },
    {
      "cell_type": "code",
      "metadata": {
        "id": "v7nb7ZPH0snV",
        "colab_type": "code",
        "outputId": "f96181dd-a98f-400d-d4ea-b9c3535c8057",
        "colab": {
          "base_uri": "https://localhost:8080/",
          "height": 237
        }
      },
      "source": [
        "# подготавливаем данные\n",
        "\n",
        "group = 'Юноши 2004-2005 г.р.'\n",
        "style = 'вольный стиль'\n",
        "\n",
        "df = competitions_df[competitions_df['athlete_group'] == group][['last_name', 'first_name', 'gender', 'birth_year', 'distance', 'style', 'result_s', 'points']]\n",
        "df = df[df['style'] == style]\n",
        "\n",
        "# Плохие для группировки строки: df[(df['first_name'].isnull()) | (df['last_name'].isnull())]\n",
        "df = df.dropna(axis='index', how='any', subset=['first_name'])\n",
        "\n",
        "grouped_dict = df.groupby(['last_name', 'first_name']).groups \n",
        "athletes = [key for key, value in grouped_dict.items() if len(value)>1]\n",
        "\n",
        "df2 = df.groupby(['last_name', 'first_name']).filter(lambda g: len(g)>1).sort_values(by=['last_name', 'first_name'])\n",
        "df2.head(6)"
      ],
      "execution_count": 16,
      "outputs": [
        {
          "output_type": "execute_result",
          "data": {
            "text/html": [
              "<div>\n",
              "<style scoped>\n",
              "    .dataframe tbody tr th:only-of-type {\n",
              "        vertical-align: middle;\n",
              "    }\n",
              "\n",
              "    .dataframe tbody tr th {\n",
              "        vertical-align: top;\n",
              "    }\n",
              "\n",
              "    .dataframe thead th {\n",
              "        text-align: right;\n",
              "    }\n",
              "</style>\n",
              "<table border=\"1\" class=\"dataframe\">\n",
              "  <thead>\n",
              "    <tr style=\"text-align: right;\">\n",
              "      <th></th>\n",
              "      <th>last_name</th>\n",
              "      <th>first_name</th>\n",
              "      <th>gender</th>\n",
              "      <th>birth_year</th>\n",
              "      <th>distance</th>\n",
              "      <th>style</th>\n",
              "      <th>result_s</th>\n",
              "      <th>points</th>\n",
              "    </tr>\n",
              "  </thead>\n",
              "  <tbody>\n",
              "    <tr>\n",
              "      <th>281</th>\n",
              "      <td>Акульков</td>\n",
              "      <td>Данила</td>\n",
              "      <td>М</td>\n",
              "      <td>2004</td>\n",
              "      <td>400</td>\n",
              "      <td>вольный стиль</td>\n",
              "      <td>306.95</td>\n",
              "      <td>368.0</td>\n",
              "    </tr>\n",
              "    <tr>\n",
              "      <th>861</th>\n",
              "      <td>Акульков</td>\n",
              "      <td>Данила</td>\n",
              "      <td>М</td>\n",
              "      <td>2004</td>\n",
              "      <td>100</td>\n",
              "      <td>вольный стиль</td>\n",
              "      <td>60.45</td>\n",
              "      <td>467.0</td>\n",
              "    </tr>\n",
              "    <tr>\n",
              "      <th>266</th>\n",
              "      <td>Бабенко</td>\n",
              "      <td>Степан</td>\n",
              "      <td>М</td>\n",
              "      <td>2005</td>\n",
              "      <td>400</td>\n",
              "      <td>вольный стиль</td>\n",
              "      <td>289.01</td>\n",
              "      <td>441.0</td>\n",
              "    </tr>\n",
              "    <tr>\n",
              "      <th>866</th>\n",
              "      <td>Бабенко</td>\n",
              "      <td>Степан</td>\n",
              "      <td>М</td>\n",
              "      <td>2005</td>\n",
              "      <td>100</td>\n",
              "      <td>вольный стиль</td>\n",
              "      <td>62.53</td>\n",
              "      <td>422.0</td>\n",
              "    </tr>\n",
              "    <tr>\n",
              "      <th>262</th>\n",
              "      <td>Байкачев</td>\n",
              "      <td>Евгений</td>\n",
              "      <td>М</td>\n",
              "      <td>2004</td>\n",
              "      <td>400</td>\n",
              "      <td>вольный стиль</td>\n",
              "      <td>278.44</td>\n",
              "      <td>493.0</td>\n",
              "    </tr>\n",
              "    <tr>\n",
              "      <th>859</th>\n",
              "      <td>Байкачев</td>\n",
              "      <td>Евгений</td>\n",
              "      <td>М</td>\n",
              "      <td>2004</td>\n",
              "      <td>100</td>\n",
              "      <td>вольный стиль</td>\n",
              "      <td>58.24</td>\n",
              "      <td>522.0</td>\n",
              "    </tr>\n",
              "  </tbody>\n",
              "</table>\n",
              "</div>"
            ],
            "text/plain": [
              "    last_name first_name gender  ...          style  result_s points\n",
              "281  Акульков     Данила      М  ...  вольный стиль    306.95  368.0\n",
              "861  Акульков     Данила      М  ...  вольный стиль     60.45  467.0\n",
              "266   Бабенко     Степан      М  ...  вольный стиль    289.01  441.0\n",
              "866   Бабенко     Степан      М  ...  вольный стиль     62.53  422.0\n",
              "262  Байкачев    Евгений      М  ...  вольный стиль    278.44  493.0\n",
              "859  Байкачев    Евгений      М  ...  вольный стиль     58.24  522.0\n",
              "\n",
              "[6 rows x 8 columns]"
            ]
          },
          "metadata": {
            "tags": []
          },
          "execution_count": 16
        }
      ]
    },
    {
      "cell_type": "code",
      "metadata": {
        "id": "UCl5uhybAbML",
        "colab_type": "code",
        "outputId": "fd948197-c5e3-48b9-b89e-205380f44120",
        "colab": {
          "base_uri": "https://localhost:8080/",
          "height": 489
        }
      },
      "source": [
        "# рисуем график для юношей\n",
        "\n",
        "X = [str(athletes) for athletes in athletes]\n",
        "\n",
        "Y1 = df2[df2['distance'] == 100]['points'] \n",
        "Y2 = df2[df2['distance'] == 400]['points'] \n",
        "Y3 = numpy.array([Y1.iloc[i] - Y2.iloc[i] for i in range(len(Y1))])\n",
        "\n",
        "plt.figure(figsize=(10,5))\n",
        "\n",
        "plt.scatter(X, Y1, s=5, label='100м, вольный стиль')\n",
        "plt.scatter(X, Y2, s=5, label='400м, вольный стиль')\n",
        "\n",
        "colors = numpy.where(Y3 > 10, 'red', 'blue')\n",
        "plt.scatter(X, Y3, color=colors, label='разница')\n",
        "\n",
        "plt.ylim(-200, max(Y2)+100)\n",
        "plt.xticks(rotation=90)\n",
        "plt.legend(loc='lower right')\n",
        "plt.title('Специализация (спринтер/стайер)')"
      ],
      "execution_count": 17,
      "outputs": [
        {
          "output_type": "execute_result",
          "data": {
            "text/plain": [
              "Text(0.5, 1.0, 'Специализация (спринтер/стайер)')"
            ]
          },
          "metadata": {
            "tags": []
          },
          "execution_count": 17
        },
        {
          "output_type": "display_data",
          "data": {
            "image/png": "[encoded data removed]",
            "text/plain": [
              "<Figure size 720x360 with 1 Axes>"
            ]
          },
          "metadata": {
            "tags": []
          }
        }
      ]
    },
    {
      "cell_type": "code",
      "metadata": {
        "id": "XkRdgc_BMgeb",
        "colab_type": "code",
        "outputId": "158d3335-9110-4104-c89b-d95138aa7abd",
        "colab": {
          "base_uri": "https://localhost:8080/",
          "height": 634
        }
      },
      "source": [
        "# Специализация (спринтер/стайер):\n",
        "\n",
        "specializations1 = {(athlete[1], 'спринтер' if athlete[0] == 'red' else 'стайер') for athlete in zip(colors, athletes)}\n",
        "specializations1"
      ],
      "execution_count": 18,
      "outputs": [
        {
          "output_type": "execute_result",
          "data": {
            "text/plain": [
              "{(('Акульков', 'Данила'), 'спринтер'),\n",
              " (('Бабенко', 'Степан'), 'стайер'),\n",
              " (('Байкачев', 'Евгений'), 'спринтер'),\n",
              " (('Балахонов', 'Вячеслав'), 'стайер'),\n",
              " (('Бахметов', 'Иван'), 'спринтер'),\n",
              " (('Безбородько', 'Вадим'), 'спринтер'),\n",
              " (('Быхавцов', 'Данила'), 'стайер'),\n",
              " (('Воронович', 'Кирилл'), 'спринтер'),\n",
              " (('Грачёв', 'Стас'), 'спринтер'),\n",
              " (('Гущин', 'Егор'), 'стайер'),\n",
              " (('Данильченко', 'Павел'), 'стайер'),\n",
              " (('Дедушкевич', 'Никита'), 'спринтер'),\n",
              " (('Круковский', 'Владислав'), 'стайер'),\n",
              " (('Лаппо', 'Дмитрий'), 'спринтер'),\n",
              " (('Лебенков', 'Денис'), 'стайер'),\n",
              " (('Мамонтов', 'Илья'), 'спринтер'),\n",
              " (('Машедо', 'Дмитрий'), 'спринтер'),\n",
              " (('Медведев', 'Вячеслав'), 'стайер'),\n",
              " (('Мохорев', 'Денис'), 'стайер'),\n",
              " (('Мудриченко', 'Денис'), 'спринтер'),\n",
              " (('Назаренко', 'Родион'), 'спринтер'),\n",
              " (('Орловский', 'Богдан'), 'стайер'),\n",
              " (('Паньков', 'Сергей'), 'стайер'),\n",
              " (('Пехота', 'Дмитрий'), 'спринтер'),\n",
              " (('Пятницкий', 'Егор'), 'спринтер'),\n",
              " (('Ракомский', 'Александр'), 'спринтер'),\n",
              " (('Савкин', 'Евгений'), 'стайер'),\n",
              " (('Терешкин', 'Егор'), 'стайер'),\n",
              " (('Фрошин', 'Влад'), 'спринтер'),\n",
              " (('Чварков', 'Никита'), 'спринтер'),\n",
              " (('Чугуй', 'Яков'), 'стайер'),\n",
              " (('Шлег', 'Егор'), 'спринтер'),\n",
              " (('Янков', 'Антон'), 'стайер')}"
            ]
          },
          "metadata": {
            "tags": []
          },
          "execution_count": 18
        }
      ]
    },
    {
      "cell_type": "markdown",
      "metadata": {
        "id": "HAK998AfHq2s",
        "colab_type": "text"
      },
      "source": [
        "Модель для определения склонности пловца к коротким или длинным дистанциям (спринтер/стайер) найдена:\n",
        "\n",
        "**if** (очки_короткая_дист - очки_длинная_дист > 10):\n",
        "\n",
        "   спринтер  # red\n",
        "    \n",
        "**else**\n",
        "\n",
        "   стайер  # blue\n",
        "\n",
        "\n",
        "---\n",
        "\n",
        "\n",
        " Здесь 10 - это некоторое \"разумно\" подобранное под имеющиеся данные и ситуацию число (гиперпараметр). Оно может быть другим.\n"
      ]
    },
    {
      "cell_type": "markdown",
      "metadata": {
        "id": "lszSGh1BH38L",
        "colab_type": "text"
      },
      "source": [
        "**Задача 2.**\n",
        "\n",
        "Разбить лучших спортсменов на 2 группы по 10 пловцов, так чтоб самые сильные были в первой группе и следующие по силе во второй.\n",
        "Обе группы будут плыть короткую и длинную дистанцию"
      ]
    },
    {
      "cell_type": "code",
      "metadata": {
        "id": "H9cSjPsowKCz",
        "colab_type": "code",
        "outputId": "caf4efce-6a2e-4aaa-cea0-44d2ea955466",
        "colab": {
          "base_uri": "https://localhost:8080/",
          "height": 544
        }
      },
      "source": [
        "# Добавим новую переменную \"среднее число очков\"\n",
        "\n",
        "Y4 = numpy.array([(Y1.iloc[i] + Y2.iloc[i])/2 for i in range(len(Y1))])\n",
        "\n",
        "plt.figure(figsize=(13,6))\n",
        "plt.scatter(X, Y1, s=5, label='100м, вольный стиль')\n",
        "plt.scatter(X, Y2, s=5, label='400м, вольный стиль')\n",
        "plt.plot(X, Y4, color='green', linestyle='--', linewidth=1, label='Среднее')\n",
        "plt.errorbar(X, Y4, yerr=Y4-Y1, linewidth=1, color=\"black\")\n",
        "\n",
        "df3 = pd.DataFrame(zip(X,Y4), columns=['athlete', 'avg_points']) \n",
        "df3 = df3.sort_values(by=['avg_points'], ascending=False)\n",
        "\n",
        "best10 = df3['avg_points'].nlargest(10).iloc[-1]\n",
        "best20 = df3['avg_points'].nlargest(20).iloc[-1]\n",
        "\n",
        "plt.hlines(y=best10, xmin=X[0], xmax=X[-1], linewidth=1, linestyles='--', color='black')\n",
        "plt.hlines(y=best20, xmin=X[0], xmax=X[-1], linewidth=1, linestyles='--', color='black')\n",
        "\n",
        "plt.fill_between(X, best10, Y4, where=(Y4 >= best10), interpolate=True, color='lightgreen')\n",
        "plt.fill_between(X, best10, Y4, where=(Y4 < best10), interpolate=True, color='lightgray')\n",
        "plt.fill_between(X, best20, Y4, where=(Y4 < best20), interpolate=True, color='red')\n",
        "\n",
        "\n",
        "plt.ylim(0, max(Y2)+100)\n",
        "plt.xticks(rotation=90)\n",
        "plt.legend(loc='lower right')\n",
        "plt.title('Разбиение спортсменов на группы')\n",
        "# plt.tight_layout()"
      ],
      "execution_count": 19,
      "outputs": [
        {
          "output_type": "execute_result",
          "data": {
            "text/plain": [
              "Text(0.5, 1.0, 'Разбиение спортсменов на группы')"
            ]
          },
          "metadata": {
            "tags": []
          },
          "execution_count": 19
        },
        {
          "output_type": "display_data",
          "data": {
            "image/png": "[encoded data removed]",
            "text/plain": [
              "<Figure size 936x432 with 1 Axes>"
            ]
          },
          "metadata": {
            "tags": []
          }
        }
      ]
    },
    {
      "cell_type": "code",
      "metadata": {
        "id": "6ef0me4rFa3y",
        "colab_type": "code",
        "outputId": "facd45b6-4bc0-460a-ffe1-1c0f37d09098",
        "colab": {
          "base_uri": "https://localhost:8080/",
          "height": 485
        }
      },
      "source": [
        "print('Состав группы #1:')\n",
        "print(df3.loc[df3['avg_points'].nlargest(10).index, 'athlete'])\n",
        "\n",
        "print('\\nСостав группы #2:')\n",
        "print(df3.loc[df3['avg_points'].nlargest(20).index[10:], 'athlete'])"
      ],
      "execution_count": 20,
      "outputs": [
        {
          "output_type": "stream",
          "text": [
            "Состав группы #1:\n",
            "11    ('Дедушкевич', 'Никита')\n",
            "15        ('Мамонтов', 'Илья')\n",
            "2      ('Байкачев', 'Евгений')\n",
            "4         ('Бахметов', 'Иван')\n",
            "5     ('Безбородько', 'Вадим')\n",
            "32          ('Янков', 'Антон')\n",
            "9            ('Гущин', 'Егор')\n",
            "1        ('Бабенко', 'Степан')\n",
            "8           ('Грачёв', 'Стас')\n",
            "0       ('Акульков', 'Данила')\n",
            "Name: athlete, dtype: object\n",
            "\n",
            "Состав группы #2:\n",
            "17    ('Медведев', 'Вячеслав')\n",
            "29       ('Чварков', 'Никита')\n",
            "16       ('Машедо', 'Дмитрий')\n",
            "6       ('Быхавцов', 'Данила')\n",
            "28          ('Фрошин', 'Влад')\n",
            "19     ('Мудриченко', 'Денис')\n",
            "14       ('Лебенков', 'Денис')\n",
            "30           ('Чугуй', 'Яков')\n",
            "13        ('Лаппо', 'Дмитрий')\n",
            "20     ('Назаренко', 'Родион')\n",
            "Name: athlete, dtype: object\n"
          ],
          "name": "stdout"
        }
      ]
    },
    {
      "cell_type": "markdown",
      "metadata": {
        "id": "KSGhe6VHLXJp",
        "colab_type": "text"
      },
      "source": [
        " ***Фактически, задачи 1 и 2 - это чистая аналитика а не ML***\n",
        " \n",
        "\n",
        "---\n",
        "\n"
      ]
    },
    {
      "cell_type": "markdown",
      "metadata": {
        "id": "onTluNhs8n7U",
        "colab_type": "text"
      },
      "source": [
        "**После некоторого знакомства с данными, попробуем решить более сложную задачу:**\n",
        "\n",
        "Определить время спортсмена, зная как он выступил на дистанции другой длины\n"
      ]
    },
    {
      "cell_type": "markdown",
      "metadata": {
        "id": "-u6Xmc4COEu0",
        "colab_type": "text"
      },
      "source": [
        "*Текущая задача - задача регрессии.* "
      ]
    },
    {
      "cell_type": "code",
      "metadata": {
        "id": "GUMy_aaFPYTe",
        "colab_type": "code",
        "colab": {}
      },
      "source": [
        "#  Вопросы:\n",
        "#  - какой алгоритм регрессии использовать? как подбирать гиперпараметры?\n",
        "#  - какие переменные (факторы) взять в рассмотрение?\n",
        "#  - как разбить данные на тренировочную и тестовые группы?"
      ],
      "execution_count": 0,
      "outputs": []
    },
    {
      "cell_type": "code",
      "metadata": {
        "id": "3o1R8v3HVlXq",
        "colab_type": "code",
        "outputId": "892069fd-a6f1-4ae6-e97e-f5c7bd43ecf0",
        "colab": {
          "base_uri": "https://localhost:8080/",
          "height": 1366
        }
      },
      "source": [
        "# Сперва найдем роезультаты спортсменов одинакового стиля но разных дистанций\n",
        "\n",
        "key = ['last_name', 'first_name', 'birth_year', 'style', 'gender']\n",
        "# delta_distance = lambda x: (x[1,'result_s'] - x[0,'result_s'])\n",
        "\n",
        "df = competitions_df.groupby(key) \\\n",
        "    .filter(lambda g: len(g)>=2) \\\n",
        "    .sort_values(by=['last_name', 'first_name', 'birth_year', 'style', 'distance']) \\\n",
        "    [['last_name', 'first_name', 'birth_year', 'style', 'distance', 'result_s', 'gender']]\n",
        "\n",
        "df = df.pivot_table(index=key, columns='distance', values='result_s').reset_index()\n",
        "\n",
        "df"
      ],
      "execution_count": 22,
      "outputs": [
        {
          "output_type": "execute_result",
          "data": {
            "text/html": [
              "<div>\n",
              "<style scoped>\n",
              "    .dataframe tbody tr th:only-of-type {\n",
              "        vertical-align: middle;\n",
              "    }\n",
              "\n",
              "    .dataframe tbody tr th {\n",
              "        vertical-align: top;\n",
              "    }\n",
              "\n",
              "    .dataframe thead th {\n",
              "        text-align: right;\n",
              "    }\n",
              "</style>\n",
              "<table border=\"1\" class=\"dataframe\">\n",
              "  <thead>\n",
              "    <tr style=\"text-align: right;\">\n",
              "      <th>distance</th>\n",
              "      <th>last_name</th>\n",
              "      <th>first_name</th>\n",
              "      <th>birth_year</th>\n",
              "      <th>style</th>\n",
              "      <th>gender</th>\n",
              "      <th>50</th>\n",
              "      <th>100</th>\n",
              "      <th>400</th>\n",
              "    </tr>\n",
              "  </thead>\n",
              "  <tbody>\n",
              "    <tr>\n",
              "      <th>0</th>\n",
              "      <td>Акульков</td>\n",
              "      <td>Данила</td>\n",
              "      <td>2004</td>\n",
              "      <td>вольный стиль</td>\n",
              "      <td>М</td>\n",
              "      <td>NaN</td>\n",
              "      <td>60.45</td>\n",
              "      <td>306.95</td>\n",
              "    </tr>\n",
              "    <tr>\n",
              "      <th>1</th>\n",
              "      <td>Андрусевич</td>\n",
              "      <td>Диана</td>\n",
              "      <td>2005</td>\n",
              "      <td>вольный стиль</td>\n",
              "      <td>Д</td>\n",
              "      <td>NaN</td>\n",
              "      <td>74.01</td>\n",
              "      <td>344.36</td>\n",
              "    </tr>\n",
              "    <tr>\n",
              "      <th>2</th>\n",
              "      <td>Бабенко</td>\n",
              "      <td>Степан</td>\n",
              "      <td>2005</td>\n",
              "      <td>вольный стиль</td>\n",
              "      <td>М</td>\n",
              "      <td>NaN</td>\n",
              "      <td>62.53</td>\n",
              "      <td>289.01</td>\n",
              "    </tr>\n",
              "    <tr>\n",
              "      <th>3</th>\n",
              "      <td>Байкачев</td>\n",
              "      <td>Евгений</td>\n",
              "      <td>2004</td>\n",
              "      <td>вольный стиль</td>\n",
              "      <td>М</td>\n",
              "      <td>NaN</td>\n",
              "      <td>58.24</td>\n",
              "      <td>278.44</td>\n",
              "    </tr>\n",
              "    <tr>\n",
              "      <th>4</th>\n",
              "      <td>Балахонов</td>\n",
              "      <td>Вячеслав</td>\n",
              "      <td>2004</td>\n",
              "      <td>вольный стиль</td>\n",
              "      <td>М</td>\n",
              "      <td>NaN</td>\n",
              "      <td>70.24</td>\n",
              "      <td>326.62</td>\n",
              "    </tr>\n",
              "    <tr>\n",
              "      <th>5</th>\n",
              "      <td>Бахметов</td>\n",
              "      <td>Иван</td>\n",
              "      <td>2004</td>\n",
              "      <td>вольный стиль</td>\n",
              "      <td>М</td>\n",
              "      <td>NaN</td>\n",
              "      <td>57.97</td>\n",
              "      <td>291.06</td>\n",
              "    </tr>\n",
              "    <tr>\n",
              "      <th>6</th>\n",
              "      <td>Безбородько</td>\n",
              "      <td>Вадим</td>\n",
              "      <td>2005</td>\n",
              "      <td>вольный стиль</td>\n",
              "      <td>М</td>\n",
              "      <td>NaN</td>\n",
              "      <td>59.59</td>\n",
              "      <td>288.32</td>\n",
              "    </tr>\n",
              "    <tr>\n",
              "      <th>7</th>\n",
              "      <td>Болдырева</td>\n",
              "      <td>Инна</td>\n",
              "      <td>2005</td>\n",
              "      <td>вольный стиль</td>\n",
              "      <td>Д</td>\n",
              "      <td>NaN</td>\n",
              "      <td>72.31</td>\n",
              "      <td>330.80</td>\n",
              "    </tr>\n",
              "    <tr>\n",
              "      <th>8</th>\n",
              "      <td>Быхавцов</td>\n",
              "      <td>Данила</td>\n",
              "      <td>2004</td>\n",
              "      <td>вольный стиль</td>\n",
              "      <td>М</td>\n",
              "      <td>NaN</td>\n",
              "      <td>64.50</td>\n",
              "      <td>304.18</td>\n",
              "    </tr>\n",
              "    <tr>\n",
              "      <th>9</th>\n",
              "      <td>Воронович</td>\n",
              "      <td>Кирилл</td>\n",
              "      <td>2004</td>\n",
              "      <td>вольный стиль</td>\n",
              "      <td>М</td>\n",
              "      <td>NaN</td>\n",
              "      <td>67.02</td>\n",
              "      <td>328.25</td>\n",
              "    </tr>\n",
              "    <tr>\n",
              "      <th>10</th>\n",
              "      <td>Горовая</td>\n",
              "      <td>Марина</td>\n",
              "      <td>2004</td>\n",
              "      <td>вольный стиль</td>\n",
              "      <td>Д</td>\n",
              "      <td>NaN</td>\n",
              "      <td>66.25</td>\n",
              "      <td>315.60</td>\n",
              "    </tr>\n",
              "    <tr>\n",
              "      <th>11</th>\n",
              "      <td>Грачёв</td>\n",
              "      <td>Стас</td>\n",
              "      <td>2004</td>\n",
              "      <td>вольный стиль</td>\n",
              "      <td>М</td>\n",
              "      <td>NaN</td>\n",
              "      <td>61.67</td>\n",
              "      <td>295.12</td>\n",
              "    </tr>\n",
              "    <tr>\n",
              "      <th>12</th>\n",
              "      <td>Гринцевич</td>\n",
              "      <td>Иван</td>\n",
              "      <td>2007</td>\n",
              "      <td>брасс</td>\n",
              "      <td>М</td>\n",
              "      <td>41.09</td>\n",
              "      <td>89.69</td>\n",
              "      <td>NaN</td>\n",
              "    </tr>\n",
              "    <tr>\n",
              "      <th>13</th>\n",
              "      <td>Гущин</td>\n",
              "      <td>Егор</td>\n",
              "      <td>2004</td>\n",
              "      <td>вольный стиль</td>\n",
              "      <td>М</td>\n",
              "      <td>NaN</td>\n",
              "      <td>62.63</td>\n",
              "      <td>286.90</td>\n",
              "    </tr>\n",
              "    <tr>\n",
              "      <th>14</th>\n",
              "      <td>Данильченко</td>\n",
              "      <td>Павел</td>\n",
              "      <td>2005</td>\n",
              "      <td>вольный стиль</td>\n",
              "      <td>М</td>\n",
              "      <td>NaN</td>\n",
              "      <td>71.70</td>\n",
              "      <td>324.28</td>\n",
              "    </tr>\n",
              "    <tr>\n",
              "      <th>15</th>\n",
              "      <td>Дедушкевич</td>\n",
              "      <td>Никита</td>\n",
              "      <td>2004</td>\n",
              "      <td>вольный стиль</td>\n",
              "      <td>М</td>\n",
              "      <td>NaN</td>\n",
              "      <td>56.04</td>\n",
              "      <td>275.28</td>\n",
              "    </tr>\n",
              "    <tr>\n",
              "      <th>16</th>\n",
              "      <td>Котягова</td>\n",
              "      <td>Ксения</td>\n",
              "      <td>2005</td>\n",
              "      <td>вольный стиль</td>\n",
              "      <td>Д</td>\n",
              "      <td>NaN</td>\n",
              "      <td>68.82</td>\n",
              "      <td>327.59</td>\n",
              "    </tr>\n",
              "    <tr>\n",
              "      <th>17</th>\n",
              "      <td>Круковский</td>\n",
              "      <td>Владислав</td>\n",
              "      <td>2005</td>\n",
              "      <td>вольный стиль</td>\n",
              "      <td>М</td>\n",
              "      <td>NaN</td>\n",
              "      <td>71.39</td>\n",
              "      <td>333.66</td>\n",
              "    </tr>\n",
              "    <tr>\n",
              "      <th>18</th>\n",
              "      <td>Лаппо</td>\n",
              "      <td>Дмитрий</td>\n",
              "      <td>2005</td>\n",
              "      <td>вольный стиль</td>\n",
              "      <td>М</td>\n",
              "      <td>NaN</td>\n",
              "      <td>64.12</td>\n",
              "      <td>319.15</td>\n",
              "    </tr>\n",
              "    <tr>\n",
              "      <th>19</th>\n",
              "      <td>Лебенков</td>\n",
              "      <td>Денис</td>\n",
              "      <td>2005</td>\n",
              "      <td>вольный стиль</td>\n",
              "      <td>М</td>\n",
              "      <td>NaN</td>\n",
              "      <td>65.18</td>\n",
              "      <td>308.59</td>\n",
              "    </tr>\n",
              "    <tr>\n",
              "      <th>20</th>\n",
              "      <td>Мамонтов</td>\n",
              "      <td>Илья</td>\n",
              "      <td>2004</td>\n",
              "      <td>вольный стиль</td>\n",
              "      <td>М</td>\n",
              "      <td>NaN</td>\n",
              "      <td>57.23</td>\n",
              "      <td>278.28</td>\n",
              "    </tr>\n",
              "    <tr>\n",
              "      <th>21</th>\n",
              "      <td>Машедо</td>\n",
              "      <td>Дмитрий</td>\n",
              "      <td>2004</td>\n",
              "      <td>вольный стиль</td>\n",
              "      <td>М</td>\n",
              "      <td>NaN</td>\n",
              "      <td>62.25</td>\n",
              "      <td>310.89</td>\n",
              "    </tr>\n",
              "    <tr>\n",
              "      <th>22</th>\n",
              "      <td>Медведев</td>\n",
              "      <td>Вячеслав</td>\n",
              "      <td>2005</td>\n",
              "      <td>вольный стиль</td>\n",
              "      <td>М</td>\n",
              "      <td>NaN</td>\n",
              "      <td>62.78</td>\n",
              "      <td>296.72</td>\n",
              "    </tr>\n",
              "    <tr>\n",
              "      <th>23</th>\n",
              "      <td>Мохорев</td>\n",
              "      <td>Денис</td>\n",
              "      <td>2004</td>\n",
              "      <td>вольный стиль</td>\n",
              "      <td>М</td>\n",
              "      <td>NaN</td>\n",
              "      <td>66.79</td>\n",
              "      <td>311.22</td>\n",
              "    </tr>\n",
              "    <tr>\n",
              "      <th>24</th>\n",
              "      <td>Мудриченко</td>\n",
              "      <td>Денис</td>\n",
              "      <td>2005</td>\n",
              "      <td>вольный стиль</td>\n",
              "      <td>М</td>\n",
              "      <td>NaN</td>\n",
              "      <td>64.35</td>\n",
              "      <td>311.39</td>\n",
              "    </tr>\n",
              "    <tr>\n",
              "      <th>25</th>\n",
              "      <td>Назаренко</td>\n",
              "      <td>Родион</td>\n",
              "      <td>2005</td>\n",
              "      <td>вольный стиль</td>\n",
              "      <td>М</td>\n",
              "      <td>NaN</td>\n",
              "      <td>65.45</td>\n",
              "      <td>317.06</td>\n",
              "    </tr>\n",
              "    <tr>\n",
              "      <th>26</th>\n",
              "      <td>Наумова</td>\n",
              "      <td>Ксения</td>\n",
              "      <td>2005</td>\n",
              "      <td>вольный стиль</td>\n",
              "      <td>Д</td>\n",
              "      <td>NaN</td>\n",
              "      <td>65.38</td>\n",
              "      <td>332.56</td>\n",
              "    </tr>\n",
              "    <tr>\n",
              "      <th>27</th>\n",
              "      <td>Орловский</td>\n",
              "      <td>Богдан</td>\n",
              "      <td>2005</td>\n",
              "      <td>вольный стиль</td>\n",
              "      <td>М</td>\n",
              "      <td>NaN</td>\n",
              "      <td>69.60</td>\n",
              "      <td>325.26</td>\n",
              "    </tr>\n",
              "    <tr>\n",
              "      <th>28</th>\n",
              "      <td>Паньков</td>\n",
              "      <td>Сергей</td>\n",
              "      <td>2005</td>\n",
              "      <td>вольный стиль</td>\n",
              "      <td>М</td>\n",
              "      <td>NaN</td>\n",
              "      <td>77.75</td>\n",
              "      <td>350.98</td>\n",
              "    </tr>\n",
              "    <tr>\n",
              "      <th>29</th>\n",
              "      <td>Парванова</td>\n",
              "      <td>Дарья</td>\n",
              "      <td>2004</td>\n",
              "      <td>вольный стиль</td>\n",
              "      <td>Д</td>\n",
              "      <td>NaN</td>\n",
              "      <td>67.25</td>\n",
              "      <td>322.51</td>\n",
              "    </tr>\n",
              "    <tr>\n",
              "      <th>30</th>\n",
              "      <td>Пехота</td>\n",
              "      <td>Дмитрий</td>\n",
              "      <td>2005</td>\n",
              "      <td>вольный стиль</td>\n",
              "      <td>М</td>\n",
              "      <td>NaN</td>\n",
              "      <td>66.76</td>\n",
              "      <td>317.83</td>\n",
              "    </tr>\n",
              "    <tr>\n",
              "      <th>31</th>\n",
              "      <td>Подвязнова</td>\n",
              "      <td>Анастасия</td>\n",
              "      <td>2005</td>\n",
              "      <td>вольный стиль</td>\n",
              "      <td>Д</td>\n",
              "      <td>NaN</td>\n",
              "      <td>75.92</td>\n",
              "      <td>356.28</td>\n",
              "    </tr>\n",
              "    <tr>\n",
              "      <th>32</th>\n",
              "      <td>Пятницкий</td>\n",
              "      <td>Егор</td>\n",
              "      <td>2004</td>\n",
              "      <td>вольный стиль</td>\n",
              "      <td>М</td>\n",
              "      <td>NaN</td>\n",
              "      <td>66.93</td>\n",
              "      <td>325.28</td>\n",
              "    </tr>\n",
              "    <tr>\n",
              "      <th>33</th>\n",
              "      <td>Ракомский</td>\n",
              "      <td>Александр</td>\n",
              "      <td>2005</td>\n",
              "      <td>вольный стиль</td>\n",
              "      <td>М</td>\n",
              "      <td>NaN</td>\n",
              "      <td>66.26</td>\n",
              "      <td>317.83</td>\n",
              "    </tr>\n",
              "    <tr>\n",
              "      <th>34</th>\n",
              "      <td>Савкин</td>\n",
              "      <td>Евгений</td>\n",
              "      <td>2004</td>\n",
              "      <td>вольный стиль</td>\n",
              "      <td>М</td>\n",
              "      <td>NaN</td>\n",
              "      <td>67.95</td>\n",
              "      <td>321.48</td>\n",
              "    </tr>\n",
              "    <tr>\n",
              "      <th>35</th>\n",
              "      <td>Терешкин</td>\n",
              "      <td>Егор</td>\n",
              "      <td>2005</td>\n",
              "      <td>вольный стиль</td>\n",
              "      <td>М</td>\n",
              "      <td>NaN</td>\n",
              "      <td>79.50</td>\n",
              "      <td>347.92</td>\n",
              "    </tr>\n",
              "    <tr>\n",
              "      <th>36</th>\n",
              "      <td>Фрошин</td>\n",
              "      <td>Влад</td>\n",
              "      <td>2004</td>\n",
              "      <td>вольный стиль</td>\n",
              "      <td>М</td>\n",
              "      <td>NaN</td>\n",
              "      <td>64.31</td>\n",
              "      <td>309.44</td>\n",
              "    </tr>\n",
              "    <tr>\n",
              "      <th>37</th>\n",
              "      <td>Хлистунова</td>\n",
              "      <td>Кристина</td>\n",
              "      <td>2005</td>\n",
              "      <td>вольный стиль</td>\n",
              "      <td>Д</td>\n",
              "      <td>NaN</td>\n",
              "      <td>69.59</td>\n",
              "      <td>314.57</td>\n",
              "    </tr>\n",
              "    <tr>\n",
              "      <th>38</th>\n",
              "      <td>Чварков</td>\n",
              "      <td>Никита</td>\n",
              "      <td>2005</td>\n",
              "      <td>вольный стиль</td>\n",
              "      <td>М</td>\n",
              "      <td>NaN</td>\n",
              "      <td>62.45</td>\n",
              "      <td>306.11</td>\n",
              "    </tr>\n",
              "    <tr>\n",
              "      <th>39</th>\n",
              "      <td>Чугуй</td>\n",
              "      <td>Яков</td>\n",
              "      <td>2004</td>\n",
              "      <td>вольный стиль</td>\n",
              "      <td>М</td>\n",
              "      <td>NaN</td>\n",
              "      <td>66.74</td>\n",
              "      <td>305.37</td>\n",
              "    </tr>\n",
              "    <tr>\n",
              "      <th>40</th>\n",
              "      <td>Шлег</td>\n",
              "      <td>Егор</td>\n",
              "      <td>2004</td>\n",
              "      <td>вольный стиль</td>\n",
              "      <td>М</td>\n",
              "      <td>NaN</td>\n",
              "      <td>67.59</td>\n",
              "      <td>322.13</td>\n",
              "    </tr>\n",
              "    <tr>\n",
              "      <th>41</th>\n",
              "      <td>Янков</td>\n",
              "      <td>Антон</td>\n",
              "      <td>2005</td>\n",
              "      <td>вольный стиль</td>\n",
              "      <td>М</td>\n",
              "      <td>NaN</td>\n",
              "      <td>60.62</td>\n",
              "      <td>284.85</td>\n",
              "    </tr>\n",
              "  </tbody>\n",
              "</table>\n",
              "</div>"
            ],
            "text/plain": [
              "distance    last_name first_name  birth_year  ...     50    100     400\n",
              "0            Акульков     Данила        2004  ...    NaN  60.45  306.95\n",
              "1          Андрусевич      Диана        2005  ...    NaN  74.01  344.36\n",
              "2             Бабенко     Степан        2005  ...    NaN  62.53  289.01\n",
              "3            Байкачев    Евгений        2004  ...    NaN  58.24  278.44\n",
              "4           Балахонов   Вячеслав        2004  ...    NaN  70.24  326.62\n",
              "5            Бахметов       Иван        2004  ...    NaN  57.97  291.06\n",
              "6         Безбородько      Вадим        2005  ...    NaN  59.59  288.32\n",
              "7           Болдырева       Инна        2005  ...    NaN  72.31  330.80\n",
              "8            Быхавцов     Данила        2004  ...    NaN  64.50  304.18\n",
              "9           Воронович     Кирилл        2004  ...    NaN  67.02  328.25\n",
              "10            Горовая     Марина        2004  ...    NaN  66.25  315.60\n",
              "11             Грачёв       Стас        2004  ...    NaN  61.67  295.12\n",
              "12          Гринцевич       Иван        2007  ...  41.09  89.69     NaN\n",
              "13              Гущин       Егор        2004  ...    NaN  62.63  286.90\n",
              "14        Данильченко      Павел        2005  ...    NaN  71.70  324.28\n",
              "15         Дедушкевич     Никита        2004  ...    NaN  56.04  275.28\n",
              "16           Котягова     Ксения        2005  ...    NaN  68.82  327.59\n",
              "17         Круковский  Владислав        2005  ...    NaN  71.39  333.66\n",
              "18              Лаппо    Дмитрий        2005  ...    NaN  64.12  319.15\n",
              "19           Лебенков      Денис        2005  ...    NaN  65.18  308.59\n",
              "20           Мамонтов       Илья        2004  ...    NaN  57.23  278.28\n",
              "21             Машедо    Дмитрий        2004  ...    NaN  62.25  310.89\n",
              "22           Медведев   Вячеслав        2005  ...    NaN  62.78  296.72\n",
              "23            Мохорев      Денис        2004  ...    NaN  66.79  311.22\n",
              "24         Мудриченко      Денис        2005  ...    NaN  64.35  311.39\n",
              "25          Назаренко     Родион        2005  ...    NaN  65.45  317.06\n",
              "26            Наумова     Ксения        2005  ...    NaN  65.38  332.56\n",
              "27          Орловский     Богдан        2005  ...    NaN  69.60  325.26\n",
              "28            Паньков     Сергей        2005  ...    NaN  77.75  350.98\n",
              "29          Парванова      Дарья        2004  ...    NaN  67.25  322.51\n",
              "30             Пехота    Дмитрий        2005  ...    NaN  66.76  317.83\n",
              "31         Подвязнова  Анастасия        2005  ...    NaN  75.92  356.28\n",
              "32          Пятницкий       Егор        2004  ...    NaN  66.93  325.28\n",
              "33          Ракомский  Александр        2005  ...    NaN  66.26  317.83\n",
              "34             Савкин    Евгений        2004  ...    NaN  67.95  321.48\n",
              "35           Терешкин       Егор        2005  ...    NaN  79.50  347.92\n",
              "36             Фрошин       Влад        2004  ...    NaN  64.31  309.44\n",
              "37         Хлистунова   Кристина        2005  ...    NaN  69.59  314.57\n",
              "38            Чварков     Никита        2005  ...    NaN  62.45  306.11\n",
              "39              Чугуй       Яков        2004  ...    NaN  66.74  305.37\n",
              "40               Шлег       Егор        2004  ...    NaN  67.59  322.13\n",
              "41              Янков      Антон        2005  ...    NaN  60.62  284.85\n",
              "\n",
              "[42 rows x 8 columns]"
            ]
          },
          "metadata": {
            "tags": []
          },
          "execution_count": 22
        }
      ]
    },
    {
      "cell_type": "code",
      "metadata": {
        "id": "H9DKLMGclymc",
        "colab_type": "code",
        "outputId": "baf80202-ef0d-406e-b7d0-66f2231b7f31",
        "colab": {
          "base_uri": "https://localhost:8080/",
          "height": 540
        }
      },
      "source": [
        "# график времени спортсмена в зависимости от занятого места\n",
        "# после 30 места виден излом - кривая резко меняет свой тренд\n",
        "# это выбросы, их можно удалить\n",
        "male100_df = df[df['gender'] == 'М'][100].sort_values()\n",
        "plt.plot(range(len(male100_df)), male100_df)\n",
        "plt.show()\n",
        "\n",
        "# эти же вибросы видны и на гистограмме\n",
        "df[df['gender'] == 'М'][100].hist()"
      ],
      "execution_count": 23,
      "outputs": [
        {
          "output_type": "display_data",
          "data": {
            "image/png": "[encoded data removed]",
            "text/plain": [
              "<Figure size 432x288 with 1 Axes>"
            ]
          },
          "metadata": {
            "tags": []
          }
        },
        {
          "output_type": "execute_result",
          "data": {
            "text/plain": [
              "<matplotlib.axes._subplots.AxesSubplot at 0x7f1464787f98>"
            ]
          },
          "metadata": {
            "tags": []
          },
          "execution_count": 23
        },
        {
          "output_type": "display_data",
          "data": {
            "image/png": "[encoded data removed]",
            "text/plain": [
              "<Figure size 432x288 with 1 Axes>"
            ]
          },
          "metadata": {
            "tags": []
          }
        }
      ]
    },
    {
      "cell_type": "code",
      "metadata": {
        "id": "a_dbrchYs2_0",
        "colab_type": "code",
        "outputId": "71cc6f82-a16d-405b-cf76-87dc6322f500",
        "colab": {
          "base_uri": "https://localhost:8080/",
          "height": 143
        }
      },
      "source": [
        "df.iloc[male100_df.index[-3:]]"
      ],
      "execution_count": 24,
      "outputs": [
        {
          "output_type": "execute_result",
          "data": {
            "text/html": [
              "<div>\n",
              "<style scoped>\n",
              "    .dataframe tbody tr th:only-of-type {\n",
              "        vertical-align: middle;\n",
              "    }\n",
              "\n",
              "    .dataframe tbody tr th {\n",
              "        vertical-align: top;\n",
              "    }\n",
              "\n",
              "    .dataframe thead th {\n",
              "        text-align: right;\n",
              "    }\n",
              "</style>\n",
              "<table border=\"1\" class=\"dataframe\">\n",
              "  <thead>\n",
              "    <tr style=\"text-align: right;\">\n",
              "      <th>distance</th>\n",
              "      <th>last_name</th>\n",
              "      <th>first_name</th>\n",
              "      <th>birth_year</th>\n",
              "      <th>style</th>\n",
              "      <th>gender</th>\n",
              "      <th>50</th>\n",
              "      <th>100</th>\n",
              "      <th>400</th>\n",
              "    </tr>\n",
              "  </thead>\n",
              "  <tbody>\n",
              "    <tr>\n",
              "      <th>28</th>\n",
              "      <td>Паньков</td>\n",
              "      <td>Сергей</td>\n",
              "      <td>2005</td>\n",
              "      <td>вольный стиль</td>\n",
              "      <td>М</td>\n",
              "      <td>NaN</td>\n",
              "      <td>77.75</td>\n",
              "      <td>350.98</td>\n",
              "    </tr>\n",
              "    <tr>\n",
              "      <th>35</th>\n",
              "      <td>Терешкин</td>\n",
              "      <td>Егор</td>\n",
              "      <td>2005</td>\n",
              "      <td>вольный стиль</td>\n",
              "      <td>М</td>\n",
              "      <td>NaN</td>\n",
              "      <td>79.50</td>\n",
              "      <td>347.92</td>\n",
              "    </tr>\n",
              "    <tr>\n",
              "      <th>12</th>\n",
              "      <td>Гринцевич</td>\n",
              "      <td>Иван</td>\n",
              "      <td>2007</td>\n",
              "      <td>брасс</td>\n",
              "      <td>М</td>\n",
              "      <td>41.09</td>\n",
              "      <td>89.69</td>\n",
              "      <td>NaN</td>\n",
              "    </tr>\n",
              "  </tbody>\n",
              "</table>\n",
              "</div>"
            ],
            "text/plain": [
              "distance  last_name first_name  birth_year  ...     50    100     400\n",
              "28          Паньков     Сергей        2005  ...    NaN  77.75  350.98\n",
              "35         Терешкин       Егор        2005  ...    NaN  79.50  347.92\n",
              "12        Гринцевич       Иван        2007  ...  41.09  89.69     NaN\n",
              "\n",
              "[3 rows x 8 columns]"
            ]
          },
          "metadata": {
            "tags": []
          },
          "execution_count": 24
        }
      ]
    },
    {
      "cell_type": "code",
      "metadata": {
        "id": "nGFU2MZmp2Rj",
        "colab_type": "code",
        "colab": {}
      },
      "source": [
        "# удалим выбросы (в том числе лишний замер по брассу)\n",
        "df = df.drop(male100_df.index[-3:])"
      ],
      "execution_count": 0,
      "outputs": []
    },
    {
      "cell_type": "code",
      "metadata": {
        "id": "rbObfRIbnrdH",
        "colab_type": "code",
        "colab": {}
      },
      "source": [
        "# получам список дистанций при прочих равных\n",
        "distances = list(set(df.columns) - {'last_name', 'first_name', 'birth_year', 'style', 'distance', 'gender'})\n",
        "\n",
        "# расчет коэффициентов времени на разных дистанциях\n",
        "# for i, d1 in enumerate(distances):\n",
        "#   for d2 in distances[0:i]:\n",
        "#     df['k_' + str(d1*1.0/d2)] = (df[d1]*d2)/(df[d2]*d1)\n",
        "\n",
        "# df    \n",
        "\n",
        "# df[df['gender'] == 'Д']['k_4.0'].describe()\n",
        "# df[df['gender'] == 'М']['k_4.0'].describe()"
      ],
      "execution_count": 0,
      "outputs": []
    },
    {
      "cell_type": "code",
      "metadata": {
        "id": "AO92USuGDurj",
        "colab_type": "code",
        "outputId": "beee8a97-0f70-407b-d02f-4eb01267aa94",
        "colab": {
          "base_uri": "https://localhost:8080/",
          "height": 500
        }
      },
      "source": [
        "Y = numpy.array([(Y1.iloc[i] + Y2.iloc[i])/2 for i in range(len(Y1))])\n",
        "\n",
        "plt.figure(figsize=(13,8))\n",
        "\n",
        "df_female = df[df['gender'] == 'Д']\n",
        "df_male = df[df['gender'] == 'М']\n",
        "\n",
        "for d in distances:\n",
        "  plt.scatter([d for _ in range(len(df_female))], df_female[d], s=5, color='red', alpha=0.8)\n",
        "  plt.scatter([d for _ in range(len(df_male))], df_male[d], s=5, color='blue', alpha=0.3)\n",
        "\n",
        "for i in range(len(df_male)):\n",
        "  plt.plot([100, 400], [df_male.iloc[i][100], df_male.iloc[i][400]], color='blue', alpha=0.2)\n",
        "\n",
        "for i in range(len(df_female)):\n",
        "  plt.plot([100, 400], [df_female.iloc[i][100], df_female.iloc[i][400]], color='red', alpha=0.2)\n",
        "\n",
        "plt.plot([100, 400], [df_male[100].mean(), df_male[400].mean()], color='blue')\n",
        "plt.plot([100, 400], [df_female[100].mean(), df_female[400].mean()], color='red')\n",
        "\n",
        "    \n",
        "plt.title('Зависимость дистанция/время для мальчиков и девочек')\n",
        "plt.show()\n",
        "# plt.tight_layout()"
      ],
      "execution_count": 27,
      "outputs": [
        {
          "output_type": "display_data",
          "data": {
            "image/png": "[encoded data removed]",
            "text/plain": [
              "<Figure size 936x576 with 1 Axes>"
            ]
          },
          "metadata": {
            "tags": []
          }
        }
      ]
    },
    {
      "cell_type": "code",
      "metadata": {
        "id": "o_fmeZU1tjhT",
        "colab_type": "code",
        "colab": {}
      },
      "source": [
        "# число наблюдений (спортсмены, плавающие одним стилем несколько дистанций) невелико. \n",
        "# две проблемы: \n",
        "# 1. тренировочный набор данных мал, поэтому качество модели будет страдать\n",
        "# 2. в отношении многих имеющихся наблюдений (спортсмены,не входящие в выборку атлетов выше) \n",
        "#    нет возможности воспользоваться моделью\n",
        "# может помочь аугументация данных и изобретение нофых фич \n"
      ],
      "execution_count": 0,
      "outputs": []
    },
    {
      "cell_type": "markdown",
      "metadata": {
        "id": "YTtWd1oNx14k",
        "colab_type": "text"
      },
      "source": [
        "**Вернемся к задаче прогнозирования (регрессии)**\n",
        "\n",
        "Попробуем несколько разных алгоритмов (типов модели обучения):\n",
        "- линейную регрессию\n",
        "- полиномиальную регресию\n",
        "- нейронную сеть"
      ]
    },
    {
      "cell_type": "code",
      "metadata": {
        "id": "MT2TaMtbe7g7",
        "colab_type": "code",
        "colab": {}
      },
      "source": [
        "from sklearn.preprocessing import PolynomialFeatures\n",
        "from sklearn.linear_model import LinearRegression #, LogisticRegression\n",
        "from sklearn.model_selection import train_test_split\n",
        "from sklearn.pipeline import Pipeline\n",
        "\n",
        "x_train, x_test, y_train, y_test = train_test_split(df[100], df[400], test_size=0.25, random_state=0)\n"
      ],
      "execution_count": 0,
      "outputs": []
    },
    {
      "cell_type": "code",
      "metadata": {
        "id": "tZDwF_HICs_j",
        "colab_type": "code",
        "colab": {
          "base_uri": "https://localhost:8080/",
          "height": 36
        },
        "outputId": "e9958282-2c61-4468-e46a-f48adfd7bc6a"
      },
      "source": [
        "# тренируем модель линейной регрессии\n",
        "\n",
        "lr = LinearRegression()\n",
        "lr.fit(pd.DataFrame(x_train), pd.DataFrame(y_train))\n",
        "print('Коэффициенты линейной регрессии b0 = {}, b1 = {}'.format(float(lr.intercept_), float(lr.coef_)))\n",
        "\n",
        "y_test_predict = lr.predict(pd.DataFrame(x_test))\n",
        "# y_test_predict = float(lr.intercept_) + float(lr.coef_) * x_test"
      ],
      "execution_count": 29,
      "outputs": [
        {
          "output_type": "stream",
          "text": [
            "Коэффициенты линейной регрессии b0 = 73.00066906195121, b1 = 3.6460012773503583\n"
          ],
          "name": "stdout"
        }
      ]
    },
    {
      "cell_type": "code",
      "metadata": {
        "id": "MJLCvhEeExe-",
        "colab_type": "code",
        "colab": {
          "base_uri": "https://localhost:8080/",
          "height": 36
        },
        "outputId": "a625182a-3610-4253-dfea-2864631f49e2"
      },
      "source": [
        "# коэффициент детерминации линейной регрессии R^2 (чем ближе к 1, тем модель адекватнее)\n",
        "\n",
        "lr.score(pd.DataFrame(df[100]), pd.DataFrame(df[400]))"
      ],
      "execution_count": 30,
      "outputs": [
        {
          "output_type": "execute_result",
          "data": {
            "text/plain": [
              "0.824363535939814"
            ]
          },
          "metadata": {
            "tags": []
          },
          "execution_count": 30
        }
      ]
    },
    {
      "cell_type": "code",
      "metadata": {
        "id": "0FbMzOP-ivDi",
        "colab_type": "code",
        "outputId": "15b5a928-9119-4e81-ab83-a8b3287ea68b",
        "colab": {
          "base_uri": "https://localhost:8080/",
          "height": 36
        }
      },
      "source": [
        "# тренируем модель полиномиальной регрессии\n",
        "\n",
        "model = Pipeline([\n",
        "                  ('poly', PolynomialFeatures(degree=2)),\n",
        "                  ('linear', LinearRegression(fit_intercept=False))\n",
        "                 ])\n",
        "model.fit(pd.DataFrame(x_train), pd.DataFrame(y_train))\n",
        "coef = model.named_steps['linear'].coef_[0]\n",
        "\n",
        "print('Коэффициенты полиномиальной регрессии {}'.format(coef))\n",
        "\n",
        "y_test_predict2 = pd.DataFrame(coef[0] + coef[1]*x_test + coef[2]*x_test**2)"
      ],
      "execution_count": 31,
      "outputs": [
        {
          "output_type": "stream",
          "text": [
            "Коэффициенты полиномиальной регрессии [-1.45590742e+02  1.04212661e+01 -5.22334122e-02]\n"
          ],
          "name": "stdout"
        }
      ]
    },
    {
      "cell_type": "code",
      "metadata": {
        "id": "-lWky1vmDHsp",
        "colab_type": "code",
        "colab": {
          "base_uri": "https://localhost:8080/",
          "height": 54
        },
        "outputId": "47365a3b-d6d0-471e-c41e-281b875b66f2"
      },
      "source": [
        "# сравним линейную и квадратичную модели на тестовых данных\n",
        "\n",
        "df_compare = pd.DataFrame()\n",
        "\n",
        "df_compare['x_test'] = x_test\n",
        "df_compare['400_real_test'] = y_test\n",
        "df_compare['400_predict_test'] = y_test_predict\n",
        "df_compare['400_predict_test2'] = y_test_predict2\n",
        "\n",
        "df_compare = df_compare.sort_values(by=['x_test'])\n",
        "\n",
        "df_compare['err1'] = (df_compare['400_predict_test']-df_compare['400_real_test']).abs()\n",
        "df_compare['err2'] = (df_compare['400_predict_test2']-df_compare['400_real_test']).abs()\n",
        "\n",
        "print('Сумма абсолютных ошибок линейной модели ', df_compare['err1'].sum())\n",
        "print('Сумма абсолютных ошибок квадратичной модели ', df_compare['err2'].sum())"
      ],
      "execution_count": 32,
      "outputs": [
        {
          "output_type": "stream",
          "text": [
            "Сумма абсолютных ошибок линейной модели  59.07180613823533\n",
            "Сумма абсолютных ошибок квадратичной модели  60.44449537684915\n"
          ],
          "name": "stdout"
        }
      ]
    },
    {
      "cell_type": "code",
      "metadata": {
        "id": "cdZHrUdLo13j",
        "colab_type": "code",
        "outputId": "2f6728fe-418d-4ef3-c49d-64da1f752b6f",
        "colab": {
          "base_uri": "https://localhost:8080/",
          "height": 486
        }
      },
      "source": [
        "plt.figure(figsize=(13,8))\n",
        "\n",
        "plt.scatter(df_compare['x_test'], df_compare['400_real_test'], s=25, marker='x', color='blue')\n",
        "plt.scatter(df_compare['x_test'], df_compare['400_predict_test'], s=25, color='red')\n",
        "plt.scatter(df_compare['x_test'], df_compare['400_predict_test2'], s=25, color='green')\n",
        "plt.plot(df_compare['x_test'], df_compare['400_predict_test'], color='red')\n",
        "plt.plot(df_compare['x_test'], df_compare['400_predict_test2'], color='green')\n",
        "\n",
        "plt.xlabel = 'Время на короткой дистанции, с'\n",
        "plt.ylabel = 'Время на длинной дистанции, с'\n",
        "plt.show()"
      ],
      "execution_count": 33,
      "outputs": [
        {
          "output_type": "display_data",
          "data": {
            "image/png": "[encoded data removed]",
            "text/plain": [
              "<Figure size 936x576 with 1 Axes>"
            ]
          },
          "metadata": {
            "tags": []
          }
        }
      ]
    },
    {
      "cell_type": "markdown",
      "metadata": {
        "id": "yLGFie3KyusP",
        "colab_type": "text"
      },
      "source": [
        "**Вернемся к задаче классификации спортсменов на множестве классов {\"спринтер\", \"стайер\"}**"
      ]
    },
    {
      "cell_type": "code",
      "metadata": {
        "id": "Trp-ckYh_l14",
        "colab_type": "code",
        "outputId": "7c7b61ab-2826-449c-efdd-816c916aad17",
        "colab": {
          "base_uri": "https://localhost:8080/",
          "height": 36
        }
      },
      "source": [
        "# обучим модель линейной регрессии на всем множесте замеров\n",
        "\n",
        "lr = LinearRegression()\n",
        "lr.fit(pd.DataFrame(df[100]), pd.DataFrame(df[400]))\n",
        "\n",
        "print('Коэффициенты линейной регрессии b0 = {}, b1 = {}'.format(float(lr.intercept_), float(lr.coef_)))"
      ],
      "execution_count": 34,
      "outputs": [
        {
          "output_type": "stream",
          "text": [
            "Коэффициенты линейной регрессии b0 = 72.04283789331308, b1 = 3.6660378547473376\n"
          ],
          "name": "stdout"
        }
      ]
    },
    {
      "cell_type": "code",
      "metadata": {
        "id": "GJcI6iln8_Lu",
        "colab_type": "code",
        "outputId": "1dcfcf1c-ed3e-4a83-f455-386a66efb35f",
        "colab": {
          "base_uri": "https://localhost:8080/",
          "height": 486
        }
      },
      "source": [
        "# График линейной регрессии. Под ним - стайеры, над ним - спринтеры\n",
        "\n",
        "lineY = lr.predict(pd.DataFrame(df[100])).flatten()\n",
        "\n",
        "plt.figure(figsize=(13,8))\n",
        "\n",
        "line = plt.plot(df[100], lineY, color='red')\n",
        "\n",
        "colors = numpy.where(df[400] > lineY, 'red', 'blue')\n",
        "plt.scatter(df[100], df[400], color=colors)\n",
        "\n",
        "plt.xlabel = 'Время на короткой дистанции, с'\n",
        "plt.ylabel = 'Время на длинной дистанции, с'\n",
        "\n",
        "plt.show()"
      ],
      "execution_count": 35,
      "outputs": [
        {
          "output_type": "display_data",
          "data": {
            "image/png": "[encoded data removed]",
            "text/plain": [
              "<Figure size 936x576 with 1 Axes>"
            ]
          },
          "metadata": {
            "tags": []
          }
        }
      ]
    },
    {
      "cell_type": "code",
      "metadata": {
        "id": "WBqZ3HHZLPqu",
        "colab_type": "code",
        "outputId": "38c19e0e-eeb7-4b80-e1f5-4a1d6370bbfc",
        "colab": {
          "base_uri": "https://localhost:8080/",
          "height": 597
        }
      },
      "source": [
        "# Специализация (спринтер/стайер)\n",
        "\n",
        "athletes = [(ln, fn) for fn, ln in df[(df.gender == 'М')][['first_name', 'last_name']].values]\n",
        "\n",
        "specializations2 = {(athlete[1], 'спринтер' if athlete[0] == 'red' else 'стайер') for athlete in zip(colors, athletes)}\n",
        "specializations2"
      ],
      "execution_count": 36,
      "outputs": [
        {
          "output_type": "execute_result",
          "data": {
            "text/plain": [
              "{(('Акульков', 'Данила'), 'спринтер'),\n",
              " (('Бабенко', 'Степан'), 'спринтер'),\n",
              " (('Байкачев', 'Евгений'), 'стайер'),\n",
              " (('Балахонов', 'Вячеслав'), 'стайер'),\n",
              " (('Бахметов', 'Иван'), 'стайер'),\n",
              " (('Безбородько', 'Вадим'), 'спринтер'),\n",
              " (('Быхавцов', 'Данила'), 'стайер'),\n",
              " (('Воронович', 'Кирилл'), 'стайер'),\n",
              " (('Грачёв', 'Стас'), 'стайер'),\n",
              " (('Гущин', 'Егор'), 'спринтер'),\n",
              " (('Данильченко', 'Павел'), 'спринтер'),\n",
              " (('Дедушкевич', 'Никита'), 'стайер'),\n",
              " (('Круковский', 'Владислав'), 'стайер'),\n",
              " (('Лаппо', 'Дмитрий'), 'стайер'),\n",
              " (('Лебенков', 'Денис'), 'стайер'),\n",
              " (('Мамонтов', 'Илья'), 'спринтер'),\n",
              " (('Машедо', 'Дмитрий'), 'стайер'),\n",
              " (('Медведев', 'Вячеслав'), 'спринтер'),\n",
              " (('Мохорев', 'Денис'), 'стайер'),\n",
              " (('Мудриченко', 'Денис'), 'стайер'),\n",
              " (('Назаренко', 'Родион'), 'спринтер'),\n",
              " (('Орловский', 'Богдан'), 'стайер'),\n",
              " (('Пехота', 'Дмитрий'), 'стайер'),\n",
              " (('Пятницкий', 'Егор'), 'спринтер'),\n",
              " (('Ракомский', 'Александр'), 'спринтер'),\n",
              " (('Савкин', 'Евгений'), 'спринтер'),\n",
              " (('Фрошин', 'Влад'), 'стайер'),\n",
              " (('Чварков', 'Никита'), 'спринтер'),\n",
              " (('Чугуй', 'Яков'), 'спринтер'),\n",
              " (('Шлег', 'Егор'), 'спринтер'),\n",
              " (('Янков', 'Антон'), 'спринтер')}"
            ]
          },
          "metadata": {
            "tags": []
          },
          "execution_count": 36
        }
      ]
    },
    {
      "cell_type": "code",
      "metadata": {
        "id": "E4sZ92rwfiEm",
        "colab_type": "code",
        "outputId": "64c04220-4eec-4781-d319-0df2203a1479",
        "colab": {
          "base_uri": "https://localhost:8080/",
          "height": 279
        }
      },
      "source": [
        "# Классификация \"на основании общих соображений и сравнения личных результатов\" и \n",
        "# классификация на основании линейной регрессии и сравнения результатов разных спортсменов\n",
        "# в ряде случаев не совпадают\n",
        "\n",
        "# результаты ранее проведенной класификации скорее выявляют \"потенциал\" спортсмена (т.к. сделаны без оглядки на результаты других)\n",
        "# результаты текущей класификации скорее выявляют \"текущую картину\" т.к. основаны дополнительно на сравнении результата спортсмена с другими\n",
        "\n",
        "# Одинаково классифицированы, а, значит, наиболее достоверны:\n",
        "\n",
        "set(specializations2) & set(specializations1)"
      ],
      "execution_count": 37,
      "outputs": [
        {
          "output_type": "execute_result",
          "data": {
            "text/plain": [
              "{(('Акульков', 'Данила'), 'спринтер'),\n",
              " (('Балахонов', 'Вячеслав'), 'стайер'),\n",
              " (('Безбородько', 'Вадим'), 'спринтер'),\n",
              " (('Быхавцов', 'Данила'), 'стайер'),\n",
              " (('Круковский', 'Владислав'), 'стайер'),\n",
              " (('Лебенков', 'Денис'), 'стайер'),\n",
              " (('Мамонтов', 'Илья'), 'спринтер'),\n",
              " (('Мохорев', 'Денис'), 'стайер'),\n",
              " (('Назаренко', 'Родион'), 'спринтер'),\n",
              " (('Орловский', 'Богдан'), 'стайер'),\n",
              " (('Пятницкий', 'Егор'), 'спринтер'),\n",
              " (('Ракомский', 'Александр'), 'спринтер'),\n",
              " (('Чварков', 'Никита'), 'спринтер'),\n",
              " (('Шлег', 'Егор'), 'спринтер')}"
            ]
          },
          "metadata": {
            "tags": []
          },
          "execution_count": 37
        }
      ]
    },
    {
      "cell_type": "code",
      "metadata": {
        "id": "otxlMZoPkj7_",
        "colab_type": "code",
        "outputId": "b224c7bf-ef84-4197-cb9a-09b7439c153d",
        "colab": {
          "base_uri": "https://localhost:8080/",
          "height": 335
        }
      },
      "source": [
        "# \"Под вопросом\":\n",
        "\n",
        "set(specializations2) - set(specializations1)"
      ],
      "execution_count": 38,
      "outputs": [
        {
          "output_type": "execute_result",
          "data": {
            "text/plain": [
              "{(('Бабенко', 'Степан'), 'спринтер'),\n",
              " (('Байкачев', 'Евгений'), 'стайер'),\n",
              " (('Бахметов', 'Иван'), 'стайер'),\n",
              " (('Воронович', 'Кирилл'), 'стайер'),\n",
              " (('Грачёв', 'Стас'), 'стайер'),\n",
              " (('Гущин', 'Егор'), 'спринтер'),\n",
              " (('Данильченко', 'Павел'), 'спринтер'),\n",
              " (('Дедушкевич', 'Никита'), 'стайер'),\n",
              " (('Лаппо', 'Дмитрий'), 'стайер'),\n",
              " (('Машедо', 'Дмитрий'), 'стайер'),\n",
              " (('Медведев', 'Вячеслав'), 'спринтер'),\n",
              " (('Мудриченко', 'Денис'), 'стайер'),\n",
              " (('Пехота', 'Дмитрий'), 'стайер'),\n",
              " (('Савкин', 'Евгений'), 'спринтер'),\n",
              " (('Фрошин', 'Влад'), 'стайер'),\n",
              " (('Чугуй', 'Яков'), 'спринтер'),\n",
              " (('Янков', 'Антон'), 'спринтер')}"
            ]
          },
          "metadata": {
            "tags": []
          },
          "execution_count": 38
        }
      ]
    },
    {
      "cell_type": "markdown",
      "metadata": {
        "id": "gsPwwxeqwTte",
        "colab_type": "text"
      },
      "source": [
        "**Посмотрим как создать модель линейной регрессии при нескольких переменных-факторах**"
      ]
    },
    {
      "cell_type": "code",
      "metadata": {
        "id": "DQADf4eDv-uD",
        "colab_type": "code",
        "colab": {
          "base_uri": "https://localhost:8080/",
          "height": 226
        },
        "outputId": "a161c82b-d73b-4ff7-8d5f-25d8e0847d83"
      },
      "source": [
        "dolphin50 = competitions_df[(competitions_df['distance'] == 50) & (competitions_df['style'] == 'баттерфляй')][['last_name', 'first_name', 'birth_year', 'result_s']]\n",
        "free50 = competitions_df[(competitions_df['distance'] == 50) & (competitions_df['style'] == 'вольный стиль')][['last_name', 'first_name', 'birth_year', 'result_s']]\n",
        "breast50 = competitions_df[(competitions_df['distance'] == 50) & (competitions_df['style'] == 'брасс')][['last_name', 'first_name', 'birth_year', 'result_s']]\n",
        "back50 = competitions_df[(competitions_df['distance'] == 50) & (competitions_df['style'] == 'на спине')][['last_name', 'first_name', 'birth_year', 'result_s']]\n",
        "medley100 = competitions_df[(competitions_df['distance'] == 100) & (competitions_df['style'] == 'комплексное плавание')][['last_name', 'first_name', 'birth_year', 'result_s']]\n",
        "\n",
        "athletes_df = medley100[['last_name', 'first_name', 'birth_year']]\n",
        "\n",
        "df_merged = pd.merge(athletes_df, dolphin50, on=['last_name', 'first_name', 'birth_year'], suffixes=('_','_50_d'), how='inner')\n",
        "df_merged = pd.merge(df_merged, free50, on=['last_name', 'first_name', 'birth_year'], suffixes=('_50_d','_50_f'), how='inner')\n",
        "df_merged = pd.merge(df_merged, breast50, on=['last_name', 'first_name', 'birth_year'], suffixes=('_50_f','_50_br'), how='inner')\n",
        "df_merged = pd.merge(df_merged, back50, on=['last_name', 'first_name', 'birth_year'], suffixes=('_50_br','_50_bk'), how='inner')\n",
        "df_merged = pd.merge(df_merged, medley100, on=['last_name', 'first_name', 'birth_year'], suffixes=('_50_bk','_100_m'), how='inner')\n",
        "\n",
        "df_merged.head()\n",
        "\n",
        "# df_merged['result_100_est'] = (df_merged['result_s_50_d'] + df_merged['result_s_50_f'] + df_merged['result_s_50_br'] + df_merged['result_s_50_bk'])/2\n",
        "# df_merged['k_zamedl'] = df_merged['result_s_100_m'] / df_merged['result_100_est'] \n",
        "\n",
        "# df_merged = df_merged.dropna(how='all')\n",
        "\n",
        "# print(df_merged['k_zamedl'].mean())\n",
        "# (df[400]/4/df[100]).mean()"
      ],
      "execution_count": 83,
      "outputs": [
        {
          "output_type": "execute_result",
          "data": {
            "text/html": [
              "<div>\n",
              "<style scoped>\n",
              "    .dataframe tbody tr th:only-of-type {\n",
              "        vertical-align: middle;\n",
              "    }\n",
              "\n",
              "    .dataframe tbody tr th {\n",
              "        vertical-align: top;\n",
              "    }\n",
              "\n",
              "    .dataframe thead th {\n",
              "        text-align: right;\n",
              "    }\n",
              "</style>\n",
              "<table border=\"1\" class=\"dataframe\">\n",
              "  <thead>\n",
              "    <tr style=\"text-align: right;\">\n",
              "      <th></th>\n",
              "      <th>last_name</th>\n",
              "      <th>first_name</th>\n",
              "      <th>birth_year</th>\n",
              "      <th>result_s_50_d</th>\n",
              "      <th>result_s_50_f</th>\n",
              "      <th>result_s_50_br</th>\n",
              "      <th>result_s_50_bk</th>\n",
              "      <th>result_s</th>\n",
              "    </tr>\n",
              "  </thead>\n",
              "  <tbody>\n",
              "    <tr>\n",
              "      <th>0</th>\n",
              "      <td>Евмененко</td>\n",
              "      <td>София</td>\n",
              "      <td>2007</td>\n",
              "      <td>33.50</td>\n",
              "      <td>30.83</td>\n",
              "      <td>41.93</td>\n",
              "      <td>37.20</td>\n",
              "      <td>76.26</td>\n",
              "    </tr>\n",
              "    <tr>\n",
              "      <th>1</th>\n",
              "      <td>Редюк</td>\n",
              "      <td>Алина</td>\n",
              "      <td>2007</td>\n",
              "      <td>35.44</td>\n",
              "      <td>32.70</td>\n",
              "      <td>42.24</td>\n",
              "      <td>40.10</td>\n",
              "      <td>79.31</td>\n",
              "    </tr>\n",
              "    <tr>\n",
              "      <th>2</th>\n",
              "      <td>Гисак</td>\n",
              "      <td>Анна</td>\n",
              "      <td>2007</td>\n",
              "      <td>36.96</td>\n",
              "      <td>33.04</td>\n",
              "      <td>45.01</td>\n",
              "      <td>38.13</td>\n",
              "      <td>81.90</td>\n",
              "    </tr>\n",
              "    <tr>\n",
              "      <th>3</th>\n",
              "      <td>Серикова</td>\n",
              "      <td>Валерия</td>\n",
              "      <td>2007</td>\n",
              "      <td>39.66</td>\n",
              "      <td>32.39</td>\n",
              "      <td>45.68</td>\n",
              "      <td>39.72</td>\n",
              "      <td>83.30</td>\n",
              "    </tr>\n",
              "    <tr>\n",
              "      <th>4</th>\n",
              "      <td>Карпочева</td>\n",
              "      <td>Екатерина</td>\n",
              "      <td>2007</td>\n",
              "      <td>36.62</td>\n",
              "      <td>33.38</td>\n",
              "      <td>47.50</td>\n",
              "      <td>38.16</td>\n",
              "      <td>83.54</td>\n",
              "    </tr>\n",
              "  </tbody>\n",
              "</table>\n",
              "</div>"
            ],
            "text/plain": [
              "   last_name first_name  birth_year  ...  result_s_50_br  result_s_50_bk  result_s\n",
              "0  Евмененко      София        2007  ...           41.93           37.20     76.26\n",
              "1      Редюк      Алина        2007  ...           42.24           40.10     79.31\n",
              "2      Гисак       Анна        2007  ...           45.01           38.13     81.90\n",
              "3   Серикова    Валерия        2007  ...           45.68           39.72     83.30\n",
              "4  Карпочева  Екатерина        2007  ...           47.50           38.16     83.54\n",
              "\n",
              "[5 rows x 8 columns]"
            ]
          },
          "metadata": {
            "tags": []
          },
          "execution_count": 83
        }
      ]
    },
    {
      "cell_type": "code",
      "metadata": {
        "id": "M0IcDUkxxTD8",
        "colab_type": "code",
        "colab": {
          "base_uri": "https://localhost:8080/",
          "height": 148
        },
        "outputId": "a5a4a32f-528c-485b-ff87-f4baf2759453"
      },
      "source": [
        "lr = LinearRegression()\n",
        "\n",
        "X = df_merged[['result_s_50_d', 'result_s_50_f', 'result_s_50_br', 'result_s_50_bk']]\n",
        "Y = df_merged['result_s']\n",
        "\n",
        "x_train, x_test, y_train, y_test = train_test_split(X, Y, test_size=0.25, random_state=0)\n",
        "\n",
        "lr.fit(x_train, y_train)\n",
        "\n",
        "# print('Коэффициенты линейной регрессии b0 = {}, b1 = {}'.format(lr.intercept_, lr.coef_))\n",
        "print(pd.DataFrame(lr.coef_, X.columns, columns=['Coefficients']))\n",
        "\n",
        "print('\\nКоэффициент детерминации: {}'.format(lr.score(X, Y)))"
      ],
      "execution_count": 171,
      "outputs": [
        {
          "output_type": "stream",
          "text": [
            "                Coefficients\n",
            "result_s_50_d       0.256587\n",
            "result_s_50_f       0.785913\n",
            "result_s_50_br      0.671470\n",
            "result_s_50_bk      0.611057\n",
            "\n",
            "Коэффициент детерминации: 0.9512717896475233\n"
          ],
          "name": "stdout"
        }
      ]
    },
    {
      "cell_type": "code",
      "metadata": {
        "id": "EwUID56YwRlg",
        "colab_type": "code",
        "colab": {
          "base_uri": "https://localhost:8080/",
          "height": 1134
        },
        "outputId": "d32c938f-94b4-42b6-9330-b8b2a541f521"
      },
      "source": [
        "# Таблица с переменными-факторами и откликом\n",
        "\n",
        "plt.figure(figsize=(13,8))\n",
        "\n",
        "lr_df = x_test.copy()\n",
        "lr_df['y_predict'] = lr.predict(x_test)\n",
        "lr_df['result_s'] = y_test\n",
        "    \n",
        "lr_df\n",
        "\n",
        "# интересно сравнить строки с индексами 26 и 27"
      ],
      "execution_count": 131,
      "outputs": [
        {
          "output_type": "execute_result",
          "data": {
            "text/html": [
              "<div>\n",
              "<style scoped>\n",
              "    .dataframe tbody tr th:only-of-type {\n",
              "        vertical-align: middle;\n",
              "    }\n",
              "\n",
              "    .dataframe tbody tr th {\n",
              "        vertical-align: top;\n",
              "    }\n",
              "\n",
              "    .dataframe thead th {\n",
              "        text-align: right;\n",
              "    }\n",
              "</style>\n",
              "<table border=\"1\" class=\"dataframe\">\n",
              "  <thead>\n",
              "    <tr style=\"text-align: right;\">\n",
              "      <th></th>\n",
              "      <th>result_s_50_d</th>\n",
              "      <th>result_s_50_f</th>\n",
              "      <th>result_s_50_br</th>\n",
              "      <th>result_s_50_bk</th>\n",
              "      <th>y_predict</th>\n",
              "      <th>result_s</th>\n",
              "    </tr>\n",
              "  </thead>\n",
              "  <tbody>\n",
              "    <tr>\n",
              "      <th>26</th>\n",
              "      <td>41.77</td>\n",
              "      <td>36.47</td>\n",
              "      <td>43.99</td>\n",
              "      <td>41.06</td>\n",
              "      <td>86.834933</td>\n",
              "      <td>93.40</td>\n",
              "    </tr>\n",
              "    <tr>\n",
              "      <th>8</th>\n",
              "      <td>39.90</td>\n",
              "      <td>34.08</td>\n",
              "      <td>55.29</td>\n",
              "      <td>41.25</td>\n",
              "      <td>92.180491</td>\n",
              "      <td>86.34</td>\n",
              "    </tr>\n",
              "    <tr>\n",
              "      <th>54</th>\n",
              "      <td>32.34</td>\n",
              "      <td>32.09</td>\n",
              "      <td>42.56</td>\n",
              "      <td>34.96</td>\n",
              "      <td>76.285368</td>\n",
              "      <td>77.57</td>\n",
              "    </tr>\n",
              "    <tr>\n",
              "      <th>113</th>\n",
              "      <td>49.64</td>\n",
              "      <td>34.55</td>\n",
              "      <td>47.59</td>\n",
              "      <td>43.28</td>\n",
              "      <td>91.119156</td>\n",
              "      <td>93.71</td>\n",
              "    </tr>\n",
              "    <tr>\n",
              "      <th>43</th>\n",
              "      <td>53.77</td>\n",
              "      <td>45.63</td>\n",
              "      <td>65.46</td>\n",
              "      <td>52.52</td>\n",
              "      <td>118.532111</td>\n",
              "      <td>114.79</td>\n",
              "    </tr>\n",
              "    <tr>\n",
              "      <th>84</th>\n",
              "      <td>39.41</td>\n",
              "      <td>34.38</td>\n",
              "      <td>49.41</td>\n",
              "      <td>40.60</td>\n",
              "      <td>87.945108</td>\n",
              "      <td>87.38</td>\n",
              "    </tr>\n",
              "    <tr>\n",
              "      <th>22</th>\n",
              "      <td>43.06</td>\n",
              "      <td>35.71</td>\n",
              "      <td>50.93</td>\n",
              "      <td>43.87</td>\n",
              "      <td>92.945706</td>\n",
              "      <td>92.06</td>\n",
              "    </tr>\n",
              "    <tr>\n",
              "      <th>50</th>\n",
              "      <td>30.77</td>\n",
              "      <td>28.46</td>\n",
              "      <td>39.00</td>\n",
              "      <td>35.27</td>\n",
              "      <td>70.828656</td>\n",
              "      <td>73.97</td>\n",
              "    </tr>\n",
              "    <tr>\n",
              "      <th>45</th>\n",
              "      <td>54.25</td>\n",
              "      <td>43.43</td>\n",
              "      <td>61.44</td>\n",
              "      <td>50.41</td>\n",
              "      <td>112.937625</td>\n",
              "      <td>115.84</td>\n",
              "    </tr>\n",
              "    <tr>\n",
              "      <th>24</th>\n",
              "      <td>43.77</td>\n",
              "      <td>35.05</td>\n",
              "      <td>49.62</td>\n",
              "      <td>41.00</td>\n",
              "      <td>89.975821</td>\n",
              "      <td>92.42</td>\n",
              "    </tr>\n",
              "    <tr>\n",
              "      <th>73</th>\n",
              "      <td>37.84</td>\n",
              "      <td>32.80</td>\n",
              "      <td>47.34</td>\n",
              "      <td>41.38</td>\n",
              "      <td>85.387206</td>\n",
              "      <td>83.82</td>\n",
              "    </tr>\n",
              "    <tr>\n",
              "      <th>71</th>\n",
              "      <td>39.67</td>\n",
              "      <td>33.72</td>\n",
              "      <td>43.59</td>\n",
              "      <td>40.71</td>\n",
              "      <td>83.652380</td>\n",
              "      <td>83.38</td>\n",
              "    </tr>\n",
              "    <tr>\n",
              "      <th>61</th>\n",
              "      <td>35.47</td>\n",
              "      <td>32.86</td>\n",
              "      <td>46.97</td>\n",
              "      <td>37.98</td>\n",
              "      <td>82.500212</td>\n",
              "      <td>80.38</td>\n",
              "    </tr>\n",
              "    <tr>\n",
              "      <th>27</th>\n",
              "      <td>46.52</td>\n",
              "      <td>37.01</td>\n",
              "      <td>49.53</td>\n",
              "      <td>41.90</td>\n",
              "      <td>92.711344</td>\n",
              "      <td>93.56</td>\n",
              "    </tr>\n",
              "    <tr>\n",
              "      <th>52</th>\n",
              "      <td>33.07</td>\n",
              "      <td>30.62</td>\n",
              "      <td>41.94</td>\n",
              "      <td>36.34</td>\n",
              "      <td>75.744331</td>\n",
              "      <td>76.94</td>\n",
              "    </tr>\n",
              "    <tr>\n",
              "      <th>114</th>\n",
              "      <td>43.48</td>\n",
              "      <td>38.38</td>\n",
              "      <td>52.69</td>\n",
              "      <td>43.46</td>\n",
              "      <td>96.083115</td>\n",
              "      <td>93.75</td>\n",
              "    </tr>\n",
              "    <tr>\n",
              "      <th>76</th>\n",
              "      <td>39.46</td>\n",
              "      <td>33.52</td>\n",
              "      <td>44.74</td>\n",
              "      <td>40.08</td>\n",
              "      <td>83.828539</td>\n",
              "      <td>84.39</td>\n",
              "    </tr>\n",
              "    <tr>\n",
              "      <th>101</th>\n",
              "      <td>43.97</td>\n",
              "      <td>36.87</td>\n",
              "      <td>45.91</td>\n",
              "      <td>44.70</td>\n",
              "      <td>91.227259</td>\n",
              "      <td>91.58</td>\n",
              "    </tr>\n",
              "    <tr>\n",
              "      <th>98</th>\n",
              "      <td>45.24</td>\n",
              "      <td>35.53</td>\n",
              "      <td>42.65</td>\n",
              "      <td>44.90</td>\n",
              "      <td>88.433220</td>\n",
              "      <td>90.19</td>\n",
              "    </tr>\n",
              "    <tr>\n",
              "      <th>83</th>\n",
              "      <td>39.56</td>\n",
              "      <td>36.63</td>\n",
              "      <td>45.01</td>\n",
              "      <td>42.14</td>\n",
              "      <td>87.738462</td>\n",
              "      <td>86.63</td>\n",
              "    </tr>\n",
              "    <tr>\n",
              "      <th>56</th>\n",
              "      <td>35.64</td>\n",
              "      <td>31.67</td>\n",
              "      <td>42.25</td>\n",
              "      <td>37.05</td>\n",
              "      <td>77.870975</td>\n",
              "      <td>78.37</td>\n",
              "    </tr>\n",
              "    <tr>\n",
              "      <th>18</th>\n",
              "      <td>40.00</td>\n",
              "      <td>34.12</td>\n",
              "      <td>47.20</td>\n",
              "      <td>41.09</td>\n",
              "      <td>86.707627</td>\n",
              "      <td>89.29</td>\n",
              "    </tr>\n",
              "    <tr>\n",
              "      <th>91</th>\n",
              "      <td>44.14</td>\n",
              "      <td>36.66</td>\n",
              "      <td>46.91</td>\n",
              "      <td>45.70</td>\n",
              "      <td>92.388363</td>\n",
              "      <td>88.84</td>\n",
              "    </tr>\n",
              "    <tr>\n",
              "      <th>33</th>\n",
              "      <td>46.23</td>\n",
              "      <td>41.41</td>\n",
              "      <td>49.09</td>\n",
              "      <td>43.56</td>\n",
              "      <td>96.813861</td>\n",
              "      <td>95.72</td>\n",
              "    </tr>\n",
              "    <tr>\n",
              "      <th>93</th>\n",
              "      <td>40.37</td>\n",
              "      <td>35.56</td>\n",
              "      <td>45.31</td>\n",
              "      <td>42.17</td>\n",
              "      <td>87.325143</td>\n",
              "      <td>89.20</td>\n",
              "    </tr>\n",
              "    <tr>\n",
              "      <th>48</th>\n",
              "      <td>51.09</td>\n",
              "      <td>55.26</td>\n",
              "      <td>67.94</td>\n",
              "      <td>60.60</td>\n",
              "      <td>132.015389</td>\n",
              "      <td>128.02</td>\n",
              "    </tr>\n",
              "    <tr>\n",
              "      <th>7</th>\n",
              "      <td>38.25</td>\n",
              "      <td>34.72</td>\n",
              "      <td>47.09</td>\n",
              "      <td>39.61</td>\n",
              "      <td>85.751922</td>\n",
              "      <td>85.76</td>\n",
              "    </tr>\n",
              "    <tr>\n",
              "      <th>16</th>\n",
              "      <td>41.29</td>\n",
              "      <td>32.97</td>\n",
              "      <td>45.31</td>\n",
              "      <td>40.80</td>\n",
              "      <td>84.688539</td>\n",
              "      <td>87.78</td>\n",
              "    </tr>\n",
              "    <tr>\n",
              "      <th>108</th>\n",
              "      <td>41.69</td>\n",
              "      <td>38.68</td>\n",
              "      <td>52.52</td>\n",
              "      <td>43.09</td>\n",
              "      <td>95.519357</td>\n",
              "      <td>92.52</td>\n",
              "    </tr>\n",
              "    <tr>\n",
              "      <th>10</th>\n",
              "      <td>41.74</td>\n",
              "      <td>34.87</td>\n",
              "      <td>45.04</td>\n",
              "      <td>40.60</td>\n",
              "      <td>85.993731</td>\n",
              "      <td>87.18</td>\n",
              "    </tr>\n",
              "    <tr>\n",
              "      <th>2</th>\n",
              "      <td>36.96</td>\n",
              "      <td>33.04</td>\n",
              "      <td>45.01</td>\n",
              "      <td>38.13</td>\n",
              "      <td>81.799569</td>\n",
              "      <td>81.90</td>\n",
              "    </tr>\n",
              "    <tr>\n",
              "      <th>51</th>\n",
              "      <td>32.89</td>\n",
              "      <td>29.08</td>\n",
              "      <td>39.09</td>\n",
              "      <td>35.87</td>\n",
              "      <td>72.286953</td>\n",
              "      <td>75.19</td>\n",
              "    </tr>\n",
              "    <tr>\n",
              "      <th>100</th>\n",
              "      <td>42.13</td>\n",
              "      <td>36.05</td>\n",
              "      <td>46.85</td>\n",
              "      <td>42.01</td>\n",
              "      <td>89.098128</td>\n",
              "      <td>90.44</td>\n",
              "    </tr>\n",
              "    <tr>\n",
              "      <th>115</th>\n",
              "      <td>42.81</td>\n",
              "      <td>39.29</td>\n",
              "      <td>48.69</td>\n",
              "      <td>46.97</td>\n",
              "      <td>96.085313</td>\n",
              "      <td>94.06</td>\n",
              "    </tr>\n",
              "  </tbody>\n",
              "</table>\n",
              "</div>"
            ],
            "text/plain": [
              "     result_s_50_d  result_s_50_f  ...   y_predict  result_s\n",
              "26           41.77          36.47  ...   86.834933     93.40\n",
              "8            39.90          34.08  ...   92.180491     86.34\n",
              "54           32.34          32.09  ...   76.285368     77.57\n",
              "113          49.64          34.55  ...   91.119156     93.71\n",
              "43           53.77          45.63  ...  118.532111    114.79\n",
              "84           39.41          34.38  ...   87.945108     87.38\n",
              "22           43.06          35.71  ...   92.945706     92.06\n",
              "50           30.77          28.46  ...   70.828656     73.97\n",
              "45           54.25          43.43  ...  112.937625    115.84\n",
              "24           43.77          35.05  ...   89.975821     92.42\n",
              "73           37.84          32.80  ...   85.387206     83.82\n",
              "71           39.67          33.72  ...   83.652380     83.38\n",
              "61           35.47          32.86  ...   82.500212     80.38\n",
              "27           46.52          37.01  ...   92.711344     93.56\n",
              "52           33.07          30.62  ...   75.744331     76.94\n",
              "114          43.48          38.38  ...   96.083115     93.75\n",
              "76           39.46          33.52  ...   83.828539     84.39\n",
              "101          43.97          36.87  ...   91.227259     91.58\n",
              "98           45.24          35.53  ...   88.433220     90.19\n",
              "83           39.56          36.63  ...   87.738462     86.63\n",
              "56           35.64          31.67  ...   77.870975     78.37\n",
              "18           40.00          34.12  ...   86.707627     89.29\n",
              "91           44.14          36.66  ...   92.388363     88.84\n",
              "33           46.23          41.41  ...   96.813861     95.72\n",
              "93           40.37          35.56  ...   87.325143     89.20\n",
              "48           51.09          55.26  ...  132.015389    128.02\n",
              "7            38.25          34.72  ...   85.751922     85.76\n",
              "16           41.29          32.97  ...   84.688539     87.78\n",
              "108          41.69          38.68  ...   95.519357     92.52\n",
              "10           41.74          34.87  ...   85.993731     87.18\n",
              "2            36.96          33.04  ...   81.799569     81.90\n",
              "51           32.89          29.08  ...   72.286953     75.19\n",
              "100          42.13          36.05  ...   89.098128     90.44\n",
              "115          42.81          39.29  ...   96.085313     94.06\n",
              "\n",
              "[34 rows x 6 columns]"
            ]
          },
          "metadata": {
            "tags": []
          },
          "execution_count": 131
        },
        {
          "output_type": "display_data",
          "data": {
            "text/plain": [
              "<Figure size 936x576 with 0 Axes>"
            ]
          },
          "metadata": {
            "tags": []
          }
        }
      ]
    },
    {
      "cell_type": "markdown",
      "metadata": {
        "id": "EvVR4jD9QKPO",
        "colab_type": "text"
      },
      "source": [
        "**Задача кластеризации**\n",
        "\n",
        "K-Means"
      ]
    },
    {
      "cell_type": "code",
      "metadata": {
        "id": "gQ3vOYr8N52e",
        "colab_type": "code",
        "colab": {
          "base_uri": "https://localhost:8080/",
          "height": 282
        },
        "outputId": "8019be08-d820-4ddb-ed67-220f0580ec90"
      },
      "source": [
        "from sklearn.cluster import KMeans\n",
        "\n",
        "inertia = []\n",
        "for k in range(1, 8):\n",
        "    kmeans = KMeans(n_clusters=k, random_state=1).fit(X)\n",
        "    inertia.append(numpy.sqrt(kmeans.inertia_))\n",
        "\n",
        "plt.plot(range(1, 8), inertia, marker='s');\n",
        "plt.title('Определение количества кластеров')\n",
        "plt.show()\n"
      ],
      "execution_count": 139,
      "outputs": [
        {
          "output_type": "display_data",
          "data": {
            "image/png": "[encoded data removed]",
            "text/plain": [
              "<Figure size 432x288 with 1 Axes>"
            ]
          },
          "metadata": {
            "tags": []
          }
        }
      ]
    },
    {
      "cell_type": "markdown",
      "metadata": {
        "id": "l-Xl5q2lOjT6",
        "colab_type": "text"
      },
      "source": [
        "**Излом кривой в точке k=3**\n",
        "\n",
        "Будем ориетироваться на такое число кластеров (распространенное эвристическое правило)\n",
        "\n",
        "На графике выше - функция J(С) суммы квадратов расстояний от точек до центроидов кластеров, к которым они относятся."
      ]
    },
    {
      "cell_type": "code",
      "metadata": {
        "id": "IGC-HlL2KZfb",
        "colab_type": "code",
        "colab": {
          "base_uri": "https://localhost:8080/",
          "height": 129
        },
        "outputId": "eef0ac80-21a8-4d01-cdd9-0719e6587c98"
      },
      "source": [
        "kmeans = KMeans(n_clusters=3, random_state=1).fit(X)\n",
        "\n",
        "print(\n",
        "      'Центроиды кластеров: \\n\\n', \n",
        "      pd.DataFrame(kmeans.cluster_centers_, columns=['дельфин', 'в/с', 'брасс', 'спина'])\n",
        "     )"
      ],
      "execution_count": 176,
      "outputs": [
        {
          "output_type": "stream",
          "text": [
            "Центроиды кластеров: \n",
            "\n",
            "      дельфин        в/с      брасс      спина\n",
            "0  44.902000  37.123077  50.838000  43.570615\n",
            "1  38.132542  33.368305  45.048814  39.594407\n",
            "2  55.580833  46.049167  61.462500  52.890833\n"
          ],
          "name": "stdout"
        }
      ]
    },
    {
      "cell_type": "code",
      "metadata": {
        "id": "zecFW28wUggM",
        "colab_type": "code",
        "colab": {
          "base_uri": "https://localhost:8080/",
          "height": 226
        },
        "outputId": "6956df63-d871-4b91-a1a0-cc96036034bc"
      },
      "source": [
        "# Первый кластер:\n",
        "\n",
        "df_merged[kmeans.labels_ == 0].head()"
      ],
      "execution_count": 179,
      "outputs": [
        {
          "output_type": "execute_result",
          "data": {
            "text/html": [
              "<div>\n",
              "<style scoped>\n",
              "    .dataframe tbody tr th:only-of-type {\n",
              "        vertical-align: middle;\n",
              "    }\n",
              "\n",
              "    .dataframe tbody tr th {\n",
              "        vertical-align: top;\n",
              "    }\n",
              "\n",
              "    .dataframe thead th {\n",
              "        text-align: right;\n",
              "    }\n",
              "</style>\n",
              "<table border=\"1\" class=\"dataframe\">\n",
              "  <thead>\n",
              "    <tr style=\"text-align: right;\">\n",
              "      <th></th>\n",
              "      <th>last_name</th>\n",
              "      <th>first_name</th>\n",
              "      <th>birth_year</th>\n",
              "      <th>result_s_50_d</th>\n",
              "      <th>result_s_50_f</th>\n",
              "      <th>result_s_50_br</th>\n",
              "      <th>result_s_50_bk</th>\n",
              "      <th>result_s</th>\n",
              "    </tr>\n",
              "  </thead>\n",
              "  <tbody>\n",
              "    <tr>\n",
              "      <th>8</th>\n",
              "      <td>Яцук</td>\n",
              "      <td>Александра</td>\n",
              "      <td>2007</td>\n",
              "      <td>39.90</td>\n",
              "      <td>34.08</td>\n",
              "      <td>55.29</td>\n",
              "      <td>41.25</td>\n",
              "      <td>86.34</td>\n",
              "    </tr>\n",
              "    <tr>\n",
              "      <th>15</th>\n",
              "      <td>Хурошвили</td>\n",
              "      <td>Мария</td>\n",
              "      <td>2007</td>\n",
              "      <td>54.97</td>\n",
              "      <td>34.19</td>\n",
              "      <td>43.78</td>\n",
              "      <td>42.03</td>\n",
              "      <td>87.44</td>\n",
              "    </tr>\n",
              "    <tr>\n",
              "      <th>17</th>\n",
              "      <td>Марьевская</td>\n",
              "      <td>Виктория</td>\n",
              "      <td>2007</td>\n",
              "      <td>43.72</td>\n",
              "      <td>38.11</td>\n",
              "      <td>44.92</td>\n",
              "      <td>42.02</td>\n",
              "      <td>88.05</td>\n",
              "    </tr>\n",
              "    <tr>\n",
              "      <th>19</th>\n",
              "      <td>Горшунова</td>\n",
              "      <td>Амина</td>\n",
              "      <td>2008</td>\n",
              "      <td>39.70</td>\n",
              "      <td>35.78</td>\n",
              "      <td>49.41</td>\n",
              "      <td>43.73</td>\n",
              "      <td>90.18</td>\n",
              "    </tr>\n",
              "    <tr>\n",
              "      <th>20</th>\n",
              "      <td>Суслова</td>\n",
              "      <td>Валерия</td>\n",
              "      <td>2008</td>\n",
              "      <td>40.41</td>\n",
              "      <td>36.11</td>\n",
              "      <td>49.85</td>\n",
              "      <td>41.81</td>\n",
              "      <td>91.11</td>\n",
              "    </tr>\n",
              "  </tbody>\n",
              "</table>\n",
              "</div>"
            ],
            "text/plain": [
              "     last_name  first_name  ...  result_s_50_bk  result_s\n",
              "8         Яцук  Александра  ...           41.25     86.34\n",
              "15   Хурошвили       Мария  ...           42.03     87.44\n",
              "17  Марьевская    Виктория  ...           42.02     88.05\n",
              "19   Горшунова       Амина  ...           43.73     90.18\n",
              "20     Суслова     Валерия  ...           41.81     91.11\n",
              "\n",
              "[5 rows x 8 columns]"
            ]
          },
          "metadata": {
            "tags": []
          },
          "execution_count": 179
        }
      ]
    },
    {
      "cell_type": "code",
      "metadata": {
        "id": "XW26gRGdV7Ce",
        "colab_type": "code",
        "colab": {
          "base_uri": "https://localhost:8080/",
          "height": 226
        },
        "outputId": "533b20b3-9e06-4078-fc74-c0b88f9d1bd2"
      },
      "source": [
        "# Второй кластер:\n",
        "\n",
        "df_merged[kmeans.labels_ == 1].head()"
      ],
      "execution_count": 180,
      "outputs": [
        {
          "output_type": "execute_result",
          "data": {
            "text/html": [
              "<div>\n",
              "<style scoped>\n",
              "    .dataframe tbody tr th:only-of-type {\n",
              "        vertical-align: middle;\n",
              "    }\n",
              "\n",
              "    .dataframe tbody tr th {\n",
              "        vertical-align: top;\n",
              "    }\n",
              "\n",
              "    .dataframe thead th {\n",
              "        text-align: right;\n",
              "    }\n",
              "</style>\n",
              "<table border=\"1\" class=\"dataframe\">\n",
              "  <thead>\n",
              "    <tr style=\"text-align: right;\">\n",
              "      <th></th>\n",
              "      <th>last_name</th>\n",
              "      <th>first_name</th>\n",
              "      <th>birth_year</th>\n",
              "      <th>result_s_50_d</th>\n",
              "      <th>result_s_50_f</th>\n",
              "      <th>result_s_50_br</th>\n",
              "      <th>result_s_50_bk</th>\n",
              "      <th>result_s</th>\n",
              "    </tr>\n",
              "  </thead>\n",
              "  <tbody>\n",
              "    <tr>\n",
              "      <th>0</th>\n",
              "      <td>Евмененко</td>\n",
              "      <td>София</td>\n",
              "      <td>2007</td>\n",
              "      <td>33.50</td>\n",
              "      <td>30.83</td>\n",
              "      <td>41.93</td>\n",
              "      <td>37.20</td>\n",
              "      <td>76.26</td>\n",
              "    </tr>\n",
              "    <tr>\n",
              "      <th>1</th>\n",
              "      <td>Редюк</td>\n",
              "      <td>Алина</td>\n",
              "      <td>2007</td>\n",
              "      <td>35.44</td>\n",
              "      <td>32.70</td>\n",
              "      <td>42.24</td>\n",
              "      <td>40.10</td>\n",
              "      <td>79.31</td>\n",
              "    </tr>\n",
              "    <tr>\n",
              "      <th>2</th>\n",
              "      <td>Гисак</td>\n",
              "      <td>Анна</td>\n",
              "      <td>2007</td>\n",
              "      <td>36.96</td>\n",
              "      <td>33.04</td>\n",
              "      <td>45.01</td>\n",
              "      <td>38.13</td>\n",
              "      <td>81.90</td>\n",
              "    </tr>\n",
              "    <tr>\n",
              "      <th>3</th>\n",
              "      <td>Серикова</td>\n",
              "      <td>Валерия</td>\n",
              "      <td>2007</td>\n",
              "      <td>39.66</td>\n",
              "      <td>32.39</td>\n",
              "      <td>45.68</td>\n",
              "      <td>39.72</td>\n",
              "      <td>83.30</td>\n",
              "    </tr>\n",
              "    <tr>\n",
              "      <th>4</th>\n",
              "      <td>Карпочева</td>\n",
              "      <td>Екатерина</td>\n",
              "      <td>2007</td>\n",
              "      <td>36.62</td>\n",
              "      <td>33.38</td>\n",
              "      <td>47.50</td>\n",
              "      <td>38.16</td>\n",
              "      <td>83.54</td>\n",
              "    </tr>\n",
              "  </tbody>\n",
              "</table>\n",
              "</div>"
            ],
            "text/plain": [
              "   last_name first_name  birth_year  ...  result_s_50_br  result_s_50_bk  result_s\n",
              "0  Евмененко      София        2007  ...           41.93           37.20     76.26\n",
              "1      Редюк      Алина        2007  ...           42.24           40.10     79.31\n",
              "2      Гисак       Анна        2007  ...           45.01           38.13     81.90\n",
              "3   Серикова    Валерия        2007  ...           45.68           39.72     83.30\n",
              "4  Карпочева  Екатерина        2007  ...           47.50           38.16     83.54\n",
              "\n",
              "[5 rows x 8 columns]"
            ]
          },
          "metadata": {
            "tags": []
          },
          "execution_count": 180
        }
      ]
    },
    {
      "cell_type": "code",
      "metadata": {
        "id": "gPeOQGBRV8A1",
        "colab_type": "code",
        "colab": {
          "base_uri": "https://localhost:8080/",
          "height": 226
        },
        "outputId": "d509ac44-e71b-44ae-8f65-bbcb6360f25e"
      },
      "source": [
        "# Третий кластер:\n",
        "df_merged[kmeans.labels_ == 2].head()"
      ],
      "execution_count": 181,
      "outputs": [
        {
          "output_type": "execute_result",
          "data": {
            "text/html": [
              "<div>\n",
              "<style scoped>\n",
              "    .dataframe tbody tr th:only-of-type {\n",
              "        vertical-align: middle;\n",
              "    }\n",
              "\n",
              "    .dataframe tbody tr th {\n",
              "        vertical-align: top;\n",
              "    }\n",
              "\n",
              "    .dataframe thead th {\n",
              "        text-align: right;\n",
              "    }\n",
              "</style>\n",
              "<table border=\"1\" class=\"dataframe\">\n",
              "  <thead>\n",
              "    <tr style=\"text-align: right;\">\n",
              "      <th></th>\n",
              "      <th>last_name</th>\n",
              "      <th>first_name</th>\n",
              "      <th>birth_year</th>\n",
              "      <th>result_s_50_d</th>\n",
              "      <th>result_s_50_f</th>\n",
              "      <th>result_s_50_br</th>\n",
              "      <th>result_s_50_bk</th>\n",
              "      <th>result_s</th>\n",
              "    </tr>\n",
              "  </thead>\n",
              "  <tbody>\n",
              "    <tr>\n",
              "      <th>39</th>\n",
              "      <td>Шода</td>\n",
              "      <td>Мария</td>\n",
              "      <td>2008</td>\n",
              "      <td>51.43</td>\n",
              "      <td>41.00</td>\n",
              "      <td>59.61</td>\n",
              "      <td>50.93</td>\n",
              "      <td>107.23</td>\n",
              "    </tr>\n",
              "    <tr>\n",
              "      <th>40</th>\n",
              "      <td>Корниенко</td>\n",
              "      <td>Елизавета</td>\n",
              "      <td>2008</td>\n",
              "      <td>55.38</td>\n",
              "      <td>47.14</td>\n",
              "      <td>53.52</td>\n",
              "      <td>51.13</td>\n",
              "      <td>110.31</td>\n",
              "    </tr>\n",
              "    <tr>\n",
              "      <th>41</th>\n",
              "      <td>Кашина</td>\n",
              "      <td>Кира</td>\n",
              "      <td>2007</td>\n",
              "      <td>61.93</td>\n",
              "      <td>47.86</td>\n",
              "      <td>61.69</td>\n",
              "      <td>48.17</td>\n",
              "      <td>112.32</td>\n",
              "    </tr>\n",
              "    <tr>\n",
              "      <th>42</th>\n",
              "      <td>Близнец</td>\n",
              "      <td>Анастасия</td>\n",
              "      <td>2008</td>\n",
              "      <td>50.93</td>\n",
              "      <td>46.78</td>\n",
              "      <td>61.24</td>\n",
              "      <td>53.63</td>\n",
              "      <td>114.85</td>\n",
              "    </tr>\n",
              "    <tr>\n",
              "      <th>43</th>\n",
              "      <td>Тартынская</td>\n",
              "      <td>Ксения</td>\n",
              "      <td>2007</td>\n",
              "      <td>53.77</td>\n",
              "      <td>45.63</td>\n",
              "      <td>65.46</td>\n",
              "      <td>52.52</td>\n",
              "      <td>114.79</td>\n",
              "    </tr>\n",
              "  </tbody>\n",
              "</table>\n",
              "</div>"
            ],
            "text/plain": [
              "     last_name first_name  birth_year  ...  result_s_50_br  result_s_50_bk  result_s\n",
              "39        Шода      Мария        2008  ...           59.61           50.93    107.23\n",
              "40   Корниенко  Елизавета        2008  ...           53.52           51.13    110.31\n",
              "41      Кашина       Кира        2007  ...           61.69           48.17    112.32\n",
              "42     Близнец  Анастасия        2008  ...           61.24           53.63    114.85\n",
              "43  Тартынская     Ксения        2007  ...           65.46           52.52    114.79\n",
              "\n",
              "[5 rows x 8 columns]"
            ]
          },
          "metadata": {
            "tags": []
          },
          "execution_count": 181
        }
      ]
    },
    {
      "cell_type": "code",
      "metadata": {
        "id": "FEMZ_DPfJXZo",
        "colab_type": "code",
        "colab": {
          "base_uri": "https://localhost:8080/",
          "height": 36
        },
        "outputId": "c45b2b5b-4774-4711-ba02-22c5f22dd639"
      },
      "source": [
        "# предсказание к какому кластеру отнести наблюдение\n",
        "\n",
        "kmeans.predict([[50.93, 46.78, 61.24, 53.63]])"
      ],
      "execution_count": 182,
      "outputs": [
        {
          "output_type": "execute_result",
          "data": {
            "text/plain": [
              "array([2], dtype=int32)"
            ]
          },
          "metadata": {
            "tags": []
          },
          "execution_count": 182
        }
      ]
    }
  ]
}